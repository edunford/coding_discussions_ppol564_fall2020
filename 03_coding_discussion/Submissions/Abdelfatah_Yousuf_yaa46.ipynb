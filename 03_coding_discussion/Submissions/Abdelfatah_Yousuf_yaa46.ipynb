{
 "metadata": {
  "language_info": {
   "codemirror_mode": {
    "name": "ipython",
    "version": 3
   },
   "file_extension": ".py",
   "mimetype": "text/x-python",
   "name": "python",
   "nbconvert_exporter": "python",
   "pygments_lexer": "ipython3",
   "version": "3.8.2-final"
  },
  "orig_nbformat": 2,
  "kernelspec": {
   "name": "Python 3.8.2 64-bit ('base': conda)",
   "display_name": "Python 3.8.2 64-bit ('base': conda)",
   "metadata": {
    "interpreter": {
     "hash": "398dc28c06ad810e77de546bbdfa897a6ee0b83e59a5207339dda01a7843e01d"
    }
   }
  }
 },
 "nbformat": 4,
 "nbformat_minor": 2,
 "cells": [
  {
   "source": [
    "# Coding Discussion 3\n",
    "Yousuf Abdelfatah"
   ],
   "cell_type": "markdown",
   "metadata": {}
  },
  {
   "source": [
    "## Task\n",
    "Please read in the Chicago Summer 2018 Crimes Dataset located in the repository folder.\n",
    "\n",
    "Using the data wrangling methods covered in class this week, create a new data frame where:\n",
    "\n",
    "- the **_unit of observation_** is the crime type (i.e. `primary_type`),\n",
    "- the **_column variables_** corresponds with the **_day of the month_**, and\n",
    "- **_each cell_** is populated by the **_proportion of times that crime type was committed over all days of the month_**\n",
    "    + For example, assume there were just two days in a month and 2 thefts were committed on the first day, and 1 on the second day, then the _proportion_ of thefts committed on the first day would be .66 and .33 on the second day).\n",
    "\n",
    "Make sure that:\n",
    "\n",
    "- all missing values are filled with zeros. Zeros in this case means no crimes were committed that day;\n",
    "- the data is rounded to the second decimal place; and\n",
    "- the data frame is printed at the end of the notebook."
   ],
   "cell_type": "markdown",
   "metadata": {}
  },
  {
   "source": [
    "## Import packages"
   ],
   "cell_type": "markdown",
   "metadata": {}
  },
  {
   "cell_type": "code",
   "execution_count": 150,
   "metadata": {},
   "outputs": [],
   "source": [
    "import pandas as pd\n",
    "import numpy as np"
   ]
  },
  {
   "source": [
    "## Load and Explore the Data"
   ],
   "cell_type": "markdown",
   "metadata": {}
  },
  {
   "cell_type": "code",
   "execution_count": 151,
   "metadata": {},
   "outputs": [
    {
     "output_type": "execute_result",
     "data": {
      "text/plain": "   month  day  year day_of_week     description location_description  \\\n0      8    4  2018    Saturday   FROM BUILDING            APARTMENT   \n1      7   26  2018    Thursday  POCKET-PICKING           RESTAURANT   \n2      6   24  2018      Sunday     BOGUS CHECK   GROCERY FOOD STORE   \n3      6   13  2018   Wednesday          SIMPLE            RESIDENCE   \n4      6   14  2018    Thursday      TO VEHICLE               STREET   \n\n                     block        primary_type  district  ward  arrest  \\\n0  039XX W WASHINGTON BLVD               THEFT        11  28.0   False   \n1       005XX W MADISON ST               THEFT         1  42.0   False   \n2          004XX E 34TH ST  DECEPTIVE PRACTICE         2   4.0   False   \n3     098XX S EXCHANGE AVE             ASSAULT         4  10.0   False   \n4       001XX S WALLER AVE     CRIMINAL DAMAGE        15  29.0   False   \n\n   domestic  latitude  longitude  \n0     False       NaN        NaN  \n1     False       NaN        NaN  \n2     False       NaN        NaN  \n3      True       NaN        NaN  \n4     False       NaN        NaN  ",
      "text/html": "<div>\n<style scoped>\n    .dataframe tbody tr th:only-of-type {\n        vertical-align: middle;\n    }\n\n    .dataframe tbody tr th {\n        vertical-align: top;\n    }\n\n    .dataframe thead th {\n        text-align: right;\n    }\n</style>\n<table border=\"1\" class=\"dataframe\">\n  <thead>\n    <tr style=\"text-align: right;\">\n      <th></th>\n      <th>month</th>\n      <th>day</th>\n      <th>year</th>\n      <th>day_of_week</th>\n      <th>description</th>\n      <th>location_description</th>\n      <th>block</th>\n      <th>primary_type</th>\n      <th>district</th>\n      <th>ward</th>\n      <th>arrest</th>\n      <th>domestic</th>\n      <th>latitude</th>\n      <th>longitude</th>\n    </tr>\n  </thead>\n  <tbody>\n    <tr>\n      <th>0</th>\n      <td>8</td>\n      <td>4</td>\n      <td>2018</td>\n      <td>Saturday</td>\n      <td>FROM BUILDING</td>\n      <td>APARTMENT</td>\n      <td>039XX W WASHINGTON BLVD</td>\n      <td>THEFT</td>\n      <td>11</td>\n      <td>28.0</td>\n      <td>False</td>\n      <td>False</td>\n      <td>NaN</td>\n      <td>NaN</td>\n    </tr>\n    <tr>\n      <th>1</th>\n      <td>7</td>\n      <td>26</td>\n      <td>2018</td>\n      <td>Thursday</td>\n      <td>POCKET-PICKING</td>\n      <td>RESTAURANT</td>\n      <td>005XX W MADISON ST</td>\n      <td>THEFT</td>\n      <td>1</td>\n      <td>42.0</td>\n      <td>False</td>\n      <td>False</td>\n      <td>NaN</td>\n      <td>NaN</td>\n    </tr>\n    <tr>\n      <th>2</th>\n      <td>6</td>\n      <td>24</td>\n      <td>2018</td>\n      <td>Sunday</td>\n      <td>BOGUS CHECK</td>\n      <td>GROCERY FOOD STORE</td>\n      <td>004XX E 34TH ST</td>\n      <td>DECEPTIVE PRACTICE</td>\n      <td>2</td>\n      <td>4.0</td>\n      <td>False</td>\n      <td>False</td>\n      <td>NaN</td>\n      <td>NaN</td>\n    </tr>\n    <tr>\n      <th>3</th>\n      <td>6</td>\n      <td>13</td>\n      <td>2018</td>\n      <td>Wednesday</td>\n      <td>SIMPLE</td>\n      <td>RESIDENCE</td>\n      <td>098XX S EXCHANGE AVE</td>\n      <td>ASSAULT</td>\n      <td>4</td>\n      <td>10.0</td>\n      <td>False</td>\n      <td>True</td>\n      <td>NaN</td>\n      <td>NaN</td>\n    </tr>\n    <tr>\n      <th>4</th>\n      <td>6</td>\n      <td>14</td>\n      <td>2018</td>\n      <td>Thursday</td>\n      <td>TO VEHICLE</td>\n      <td>STREET</td>\n      <td>001XX S WALLER AVE</td>\n      <td>CRIMINAL DAMAGE</td>\n      <td>15</td>\n      <td>29.0</td>\n      <td>False</td>\n      <td>False</td>\n      <td>NaN</td>\n      <td>NaN</td>\n    </tr>\n  </tbody>\n</table>\n</div>"
     },
     "metadata": {},
     "execution_count": 151
    }
   ],
   "source": [
    "# read in the data as a pandas dataframe\n",
    "dat= pd.read_csv(\"chicago_summer_2018_crime_data.csv\")\n",
    "\n",
    "# look at dataframe\n",
    "dat.head(5)"
   ]
  },
  {
   "cell_type": "code",
   "execution_count": 152,
   "metadata": {
    "tags": []
   },
   "outputs": [
    {
     "output_type": "execute_result",
     "data": {
      "text/plain": "Index([&#39;month&#39;, &#39;day&#39;, &#39;year&#39;, &#39;day_of_week&#39;, &#39;description&#39;,\n       &#39;location_description&#39;, &#39;block&#39;, &#39;primary_type&#39;, &#39;district&#39;, &#39;ward&#39;,\n       &#39;arrest&#39;, &#39;domestic&#39;, &#39;latitude&#39;, &#39;longitude&#39;],\n      dtype=&#39;object&#39;)"
     },
     "metadata": {},
     "execution_count": 152
    }
   ],
   "source": [
    "# see what the columns are\n",
    "dat.columns"
   ]
  },
  {
   "cell_type": "code",
   "execution_count": 153,
   "metadata": {
    "tags": []
   },
   "outputs": [
    {
     "output_type": "stream",
     "name": "stdout",
     "text": "&lt;class &#39;pandas.core.frame.DataFrame&#39;&gt;\nRangeIndex: 73373 entries, 0 to 73372\nData columns (total 14 columns):\n #   Column                Non-Null Count  Dtype  \n---  ------                --------------  -----  \n 0   month                 73373 non-null  int64  \n 1   day                   73373 non-null  int64  \n 2   year                  73373 non-null  int64  \n 3   day_of_week           73373 non-null  object \n 4   description           73373 non-null  object \n 5   location_description  73214 non-null  object \n 6   block                 73373 non-null  object \n 7   primary_type          73373 non-null  object \n 8   district              73373 non-null  int64  \n 9   ward                  73372 non-null  float64\n 10  arrest                73373 non-null  bool   \n 11  domestic              73373 non-null  bool   \n 12  latitude              72973 non-null  float64\n 13  longitude             72973 non-null  float64\ndtypes: bool(2), float64(3), int64(4), object(5)\nmemory usage: 6.9+ MB\n"
    },
    {
     "output_type": "execute_result",
     "data": {
      "text/plain": "(73373, 14)"
     },
     "metadata": {},
     "execution_count": 153
    }
   ],
   "source": [
    "# get data info\n",
    "dat.info()\n",
    "\n",
    "# get data shape\n",
    "dat.shape"
   ]
  },
  {
   "source": [
    "## Manipulate The Data"
   ],
   "cell_type": "markdown",
   "metadata": {}
  },
  {
   "cell_type": "code",
   "execution_count": 154,
   "metadata": {},
   "outputs": [
    {
     "output_type": "execute_result",
     "data": {
      "text/plain": "                        month  year day_of_week     description  \\\nprimary_type       day                                            \nTHEFT              4        8  2018    Saturday   FROM BUILDING   \n                   26       7  2018    Thursday  POCKET-PICKING   \nDECEPTIVE PRACTICE 24       6  2018      Sunday     BOGUS CHECK   \nASSAULT            13       6  2018   Wednesday          SIMPLE   \nCRIMINAL DAMAGE    14       6  2018    Thursday      TO VEHICLE   \n\n                       location_description                    block  \\\nprimary_type       day                                                 \nTHEFT              4              APARTMENT  039XX W WASHINGTON BLVD   \n                   26            RESTAURANT       005XX W MADISON ST   \nDECEPTIVE PRACTICE 24    GROCERY FOOD STORE          004XX E 34TH ST   \nASSAULT            13             RESIDENCE     098XX S EXCHANGE AVE   \nCRIMINAL DAMAGE    14                STREET       001XX S WALLER AVE   \n\n                        district  ward  arrest  domestic  latitude  longitude  \nprimary_type       day                                                         \nTHEFT              4          11  28.0   False     False       NaN        NaN  \n                   26          1  42.0   False     False       NaN        NaN  \nDECEPTIVE PRACTICE 24          2   4.0   False     False       NaN        NaN  \nASSAULT            13          4  10.0   False      True       NaN        NaN  \nCRIMINAL DAMAGE    14         15  29.0   False     False       NaN        NaN  ",
      "text/html": "<div>\n<style scoped>\n    .dataframe tbody tr th:only-of-type {\n        vertical-align: middle;\n    }\n\n    .dataframe tbody tr th {\n        vertical-align: top;\n    }\n\n    .dataframe thead th {\n        text-align: right;\n    }\n</style>\n<table border=\"1\" class=\"dataframe\">\n  <thead>\n    <tr style=\"text-align: right;\">\n      <th></th>\n      <th></th>\n      <th>month</th>\n      <th>year</th>\n      <th>day_of_week</th>\n      <th>description</th>\n      <th>location_description</th>\n      <th>block</th>\n      <th>district</th>\n      <th>ward</th>\n      <th>arrest</th>\n      <th>domestic</th>\n      <th>latitude</th>\n      <th>longitude</th>\n    </tr>\n    <tr>\n      <th>primary_type</th>\n      <th>day</th>\n      <th></th>\n      <th></th>\n      <th></th>\n      <th></th>\n      <th></th>\n      <th></th>\n      <th></th>\n      <th></th>\n      <th></th>\n      <th></th>\n      <th></th>\n      <th></th>\n    </tr>\n  </thead>\n  <tbody>\n    <tr>\n      <th rowspan=\"2\" valign=\"top\">THEFT</th>\n      <th>4</th>\n      <td>8</td>\n      <td>2018</td>\n      <td>Saturday</td>\n      <td>FROM BUILDING</td>\n      <td>APARTMENT</td>\n      <td>039XX W WASHINGTON BLVD</td>\n      <td>11</td>\n      <td>28.0</td>\n      <td>False</td>\n      <td>False</td>\n      <td>NaN</td>\n      <td>NaN</td>\n    </tr>\n    <tr>\n      <th>26</th>\n      <td>7</td>\n      <td>2018</td>\n      <td>Thursday</td>\n      <td>POCKET-PICKING</td>\n      <td>RESTAURANT</td>\n      <td>005XX W MADISON ST</td>\n      <td>1</td>\n      <td>42.0</td>\n      <td>False</td>\n      <td>False</td>\n      <td>NaN</td>\n      <td>NaN</td>\n    </tr>\n    <tr>\n      <th>DECEPTIVE PRACTICE</th>\n      <th>24</th>\n      <td>6</td>\n      <td>2018</td>\n      <td>Sunday</td>\n      <td>BOGUS CHECK</td>\n      <td>GROCERY FOOD STORE</td>\n      <td>004XX E 34TH ST</td>\n      <td>2</td>\n      <td>4.0</td>\n      <td>False</td>\n      <td>False</td>\n      <td>NaN</td>\n      <td>NaN</td>\n    </tr>\n    <tr>\n      <th>ASSAULT</th>\n      <th>13</th>\n      <td>6</td>\n      <td>2018</td>\n      <td>Wednesday</td>\n      <td>SIMPLE</td>\n      <td>RESIDENCE</td>\n      <td>098XX S EXCHANGE AVE</td>\n      <td>4</td>\n      <td>10.0</td>\n      <td>False</td>\n      <td>True</td>\n      <td>NaN</td>\n      <td>NaN</td>\n    </tr>\n    <tr>\n      <th>CRIMINAL DAMAGE</th>\n      <th>14</th>\n      <td>6</td>\n      <td>2018</td>\n      <td>Thursday</td>\n      <td>TO VEHICLE</td>\n      <td>STREET</td>\n      <td>001XX S WALLER AVE</td>\n      <td>15</td>\n      <td>29.0</td>\n      <td>False</td>\n      <td>False</td>\n      <td>NaN</td>\n      <td>NaN</td>\n    </tr>\n  </tbody>\n</table>\n</div>"
     },
     "metadata": {},
     "execution_count": 154
    }
   ],
   "source": [
    "# We want the unit of observation to be crime type, and we're measuring the number of each type of crime per day, so set those two as the index. This will allow us to use group by to create a new variable based on these two variables and attach it to the data frame\n",
    "dat= dat.set_index([\"primary_type\",\"day\"])\n",
    "\n",
    "# See what the data looks like\n",
    "dat.head(5) "
   ]
  },
  {
   "cell_type": "code",
   "execution_count": 155,
   "metadata": {},
   "outputs": [
    {
     "output_type": "execute_result",
     "data": {
      "text/plain": "                        month  year day_of_week     description  \\\nprimary_type       day                                            \nTHEFT              4        8  2018    Saturday   FROM BUILDING   \n                   26       7  2018    Thursday  POCKET-PICKING   \nDECEPTIVE PRACTICE 24       6  2018      Sunday     BOGUS CHECK   \n\n                       location_description                    block  \\\nprimary_type       day                                                 \nTHEFT              4              APARTMENT  039XX W WASHINGTON BLVD   \n                   26            RESTAURANT       005XX W MADISON ST   \nDECEPTIVE PRACTICE 24    GROCERY FOOD STORE          004XX E 34TH ST   \n\n                        district  ward  arrest  domestic  latitude  longitude  \\\nprimary_type       day                                                          \nTHEFT              4          11  28.0   False     False       NaN        NaN   \n                   26          1  42.0   False     False       NaN        NaN   \nDECEPTIVE PRACTICE 24          2   4.0   False     False       NaN        NaN   \n\n                        perday  \nprimary_type       day          \nTHEFT              4       576  \n                   26      565  \nDECEPTIVE PRACTICE 24      154  ",
      "text/html": "<div>\n<style scoped>\n    .dataframe tbody tr th:only-of-type {\n        vertical-align: middle;\n    }\n\n    .dataframe tbody tr th {\n        vertical-align: top;\n    }\n\n    .dataframe thead th {\n        text-align: right;\n    }\n</style>\n<table border=\"1\" class=\"dataframe\">\n  <thead>\n    <tr style=\"text-align: right;\">\n      <th></th>\n      <th></th>\n      <th>month</th>\n      <th>year</th>\n      <th>day_of_week</th>\n      <th>description</th>\n      <th>location_description</th>\n      <th>block</th>\n      <th>district</th>\n      <th>ward</th>\n      <th>arrest</th>\n      <th>domestic</th>\n      <th>latitude</th>\n      <th>longitude</th>\n      <th>perday</th>\n    </tr>\n    <tr>\n      <th>primary_type</th>\n      <th>day</th>\n      <th></th>\n      <th></th>\n      <th></th>\n      <th></th>\n      <th></th>\n      <th></th>\n      <th></th>\n      <th></th>\n      <th></th>\n      <th></th>\n      <th></th>\n      <th></th>\n      <th></th>\n    </tr>\n  </thead>\n  <tbody>\n    <tr>\n      <th rowspan=\"2\" valign=\"top\">THEFT</th>\n      <th>4</th>\n      <td>8</td>\n      <td>2018</td>\n      <td>Saturday</td>\n      <td>FROM BUILDING</td>\n      <td>APARTMENT</td>\n      <td>039XX W WASHINGTON BLVD</td>\n      <td>11</td>\n      <td>28.0</td>\n      <td>False</td>\n      <td>False</td>\n      <td>NaN</td>\n      <td>NaN</td>\n      <td>576</td>\n    </tr>\n    <tr>\n      <th>26</th>\n      <td>7</td>\n      <td>2018</td>\n      <td>Thursday</td>\n      <td>POCKET-PICKING</td>\n      <td>RESTAURANT</td>\n      <td>005XX W MADISON ST</td>\n      <td>1</td>\n      <td>42.0</td>\n      <td>False</td>\n      <td>False</td>\n      <td>NaN</td>\n      <td>NaN</td>\n      <td>565</td>\n    </tr>\n    <tr>\n      <th>DECEPTIVE PRACTICE</th>\n      <th>24</th>\n      <td>6</td>\n      <td>2018</td>\n      <td>Sunday</td>\n      <td>BOGUS CHECK</td>\n      <td>GROCERY FOOD STORE</td>\n      <td>004XX E 34TH ST</td>\n      <td>2</td>\n      <td>4.0</td>\n      <td>False</td>\n      <td>False</td>\n      <td>NaN</td>\n      <td>NaN</td>\n      <td>154</td>\n    </tr>\n  </tbody>\n</table>\n</div>"
     },
     "metadata": {},
     "execution_count": 155
    }
   ],
   "source": [
    "# Create a variable measuring the number of times each crime is committed per day using the groupby method coupled with .size() \n",
    "dat[\"perday\"] = dat.groupby(['primary_type','day']).size()\n",
    "\n",
    "# make sure this was added\n",
    "dat.head(3)"
   ]
  },
  {
   "cell_type": "code",
   "execution_count": 156,
   "metadata": {},
   "outputs": [
    {
     "output_type": "execute_result",
     "data": {
      "text/plain": "day                                   1      2      3      4      5      6   \\\nprimary_type                                                                  \nARSON                                4.0    3.0    3.0    2.0    4.0    6.0   \nASSAULT                            207.0  188.0  172.0  202.0  209.0  197.0   \nBATTERY                            511.0  495.0  489.0  576.0  488.0  400.0   \nBURGLARY                           126.0  109.0  118.0  117.0  101.0  126.0   \nCONCEALED CARRY LICENSE VIOLATION    2.0    1.0    2.0    2.0    1.0    2.0   \n\nday                                   7      8      9      10  ...     22  \\\nprimary_type                                                   ...          \nARSON                                5.0    5.0    2.0    2.0  ...    5.0   \nASSAULT                            172.0  195.0  161.0  154.0  ...  168.0   \nBATTERY                            455.0  474.0  432.0  438.0  ...  423.0   \nBURGLARY                            99.0   96.0  107.0  110.0  ...  135.0   \nCONCEALED CARRY LICENSE VIOLATION    2.0    0.0    1.0    2.0  ...    1.0   \n\nday                                   23     24     25     26     27     28  \\\nprimary_type                                                                  \nARSON                                1.0    6.0    1.0    2.0    1.0    3.0   \nASSAULT                            182.0  200.0  167.0  174.0  187.0  177.0   \nBATTERY                            439.0  476.0  485.0  460.0  393.0  450.0   \nBURGLARY                           102.0  119.0  104.0  104.0  140.0  113.0   \nCONCEALED CARRY LICENSE VIOLATION    0.0    2.0    3.0    3.0    1.0    1.0   \n\nday                                   29     30     31  \nprimary_type                                            \nARSON                                6.0    3.0    3.0  \nASSAULT                            194.0  161.0  133.0  \nBATTERY                            432.0  442.0  274.0  \nBURGLARY                           107.0  108.0   79.0  \nCONCEALED CARRY LICENSE VIOLATION    0.0    1.0    2.0  \n\n[5 rows x 31 columns]",
      "text/html": "<div>\n<style scoped>\n    .dataframe tbody tr th:only-of-type {\n        vertical-align: middle;\n    }\n\n    .dataframe tbody tr th {\n        vertical-align: top;\n    }\n\n    .dataframe thead th {\n        text-align: right;\n    }\n</style>\n<table border=\"1\" class=\"dataframe\">\n  <thead>\n    <tr style=\"text-align: right;\">\n      <th>day</th>\n      <th>1</th>\n      <th>2</th>\n      <th>3</th>\n      <th>4</th>\n      <th>5</th>\n      <th>6</th>\n      <th>7</th>\n      <th>8</th>\n      <th>9</th>\n      <th>10</th>\n      <th>...</th>\n      <th>22</th>\n      <th>23</th>\n      <th>24</th>\n      <th>25</th>\n      <th>26</th>\n      <th>27</th>\n      <th>28</th>\n      <th>29</th>\n      <th>30</th>\n      <th>31</th>\n    </tr>\n    <tr>\n      <th>primary_type</th>\n      <th></th>\n      <th></th>\n      <th></th>\n      <th></th>\n      <th></th>\n      <th></th>\n      <th></th>\n      <th></th>\n      <th></th>\n      <th></th>\n      <th></th>\n      <th></th>\n      <th></th>\n      <th></th>\n      <th></th>\n      <th></th>\n      <th></th>\n      <th></th>\n      <th></th>\n      <th></th>\n      <th></th>\n    </tr>\n  </thead>\n  <tbody>\n    <tr>\n      <th>ARSON</th>\n      <td>4.0</td>\n      <td>3.0</td>\n      <td>3.0</td>\n      <td>2.0</td>\n      <td>4.0</td>\n      <td>6.0</td>\n      <td>5.0</td>\n      <td>5.0</td>\n      <td>2.0</td>\n      <td>2.0</td>\n      <td>...</td>\n      <td>5.0</td>\n      <td>1.0</td>\n      <td>6.0</td>\n      <td>1.0</td>\n      <td>2.0</td>\n      <td>1.0</td>\n      <td>3.0</td>\n      <td>6.0</td>\n      <td>3.0</td>\n      <td>3.0</td>\n    </tr>\n    <tr>\n      <th>ASSAULT</th>\n      <td>207.0</td>\n      <td>188.0</td>\n      <td>172.0</td>\n      <td>202.0</td>\n      <td>209.0</td>\n      <td>197.0</td>\n      <td>172.0</td>\n      <td>195.0</td>\n      <td>161.0</td>\n      <td>154.0</td>\n      <td>...</td>\n      <td>168.0</td>\n      <td>182.0</td>\n      <td>200.0</td>\n      <td>167.0</td>\n      <td>174.0</td>\n      <td>187.0</td>\n      <td>177.0</td>\n      <td>194.0</td>\n      <td>161.0</td>\n      <td>133.0</td>\n    </tr>\n    <tr>\n      <th>BATTERY</th>\n      <td>511.0</td>\n      <td>495.0</td>\n      <td>489.0</td>\n      <td>576.0</td>\n      <td>488.0</td>\n      <td>400.0</td>\n      <td>455.0</td>\n      <td>474.0</td>\n      <td>432.0</td>\n      <td>438.0</td>\n      <td>...</td>\n      <td>423.0</td>\n      <td>439.0</td>\n      <td>476.0</td>\n      <td>485.0</td>\n      <td>460.0</td>\n      <td>393.0</td>\n      <td>450.0</td>\n      <td>432.0</td>\n      <td>442.0</td>\n      <td>274.0</td>\n    </tr>\n    <tr>\n      <th>BURGLARY</th>\n      <td>126.0</td>\n      <td>109.0</td>\n      <td>118.0</td>\n      <td>117.0</td>\n      <td>101.0</td>\n      <td>126.0</td>\n      <td>99.0</td>\n      <td>96.0</td>\n      <td>107.0</td>\n      <td>110.0</td>\n      <td>...</td>\n      <td>135.0</td>\n      <td>102.0</td>\n      <td>119.0</td>\n      <td>104.0</td>\n      <td>104.0</td>\n      <td>140.0</td>\n      <td>113.0</td>\n      <td>107.0</td>\n      <td>108.0</td>\n      <td>79.0</td>\n    </tr>\n    <tr>\n      <th>CONCEALED CARRY LICENSE VIOLATION</th>\n      <td>2.0</td>\n      <td>1.0</td>\n      <td>2.0</td>\n      <td>2.0</td>\n      <td>1.0</td>\n      <td>2.0</td>\n      <td>2.0</td>\n      <td>0.0</td>\n      <td>1.0</td>\n      <td>2.0</td>\n      <td>...</td>\n      <td>1.0</td>\n      <td>0.0</td>\n      <td>2.0</td>\n      <td>3.0</td>\n      <td>3.0</td>\n      <td>1.0</td>\n      <td>1.0</td>\n      <td>0.0</td>\n      <td>1.0</td>\n      <td>2.0</td>\n    </tr>\n  </tbody>\n</table>\n<p>5 rows × 31 columns</p>\n</div>"
     },
     "metadata": {},
     "execution_count": 156
    }
   ],
   "source": [
    "# We need to pivot the table but to do so we need to reset the index\n",
    "dat.reset_index()\n",
    "\n",
    "# Now pivot using pivot_table and have the columns correspond with each day, the values be the \"perday\" variable we created, and the unit of observation be the type of crime.\" Set missing values to zero\n",
    "dat = dat.pivot_table(columns = \"day\", index = \"primary_type\", values = \"perday\").fillna(0)\n",
    "\n",
    "# look at the new data\n",
    "dat.head(5)"
   ]
  },
  {
   "cell_type": "code",
   "execution_count": 157,
   "metadata": {},
   "outputs": [
    {
     "output_type": "execute_result",
     "data": {
      "text/plain": "day                                    1      2      3      4      5      6  \\\nprimary_type                                                                  \nARSON                                4.0    3.0    3.0    2.0    4.0    6.0   \nASSAULT                            207.0  188.0  172.0  202.0  209.0  197.0   \nBATTERY                            511.0  495.0  489.0  576.0  488.0  400.0   \nBURGLARY                           126.0  109.0  118.0  117.0  101.0  126.0   \nCONCEALED CARRY LICENSE VIOLATION    2.0    1.0    2.0    2.0    1.0    2.0   \n\nday                                    7      8      9     10  ...     23  \\\nprimary_type                                                   ...          \nARSON                                5.0    5.0    2.0    2.0  ...    1.0   \nASSAULT                            172.0  195.0  161.0  154.0  ...  182.0   \nBATTERY                            455.0  474.0  432.0  438.0  ...  439.0   \nBURGLARY                            99.0   96.0  107.0  110.0  ...  102.0   \nCONCEALED CARRY LICENSE VIOLATION    2.0    0.0    1.0    2.0  ...    0.0   \n\nday                                   24     25     26     27     28     29  \\\nprimary_type                                                                  \nARSON                                6.0    1.0    2.0    1.0    3.0    6.0   \nASSAULT                            200.0  167.0  174.0  187.0  177.0  194.0   \nBATTERY                            476.0  485.0  460.0  393.0  450.0  432.0   \nBURGLARY                           119.0  104.0  104.0  140.0  113.0  107.0   \nCONCEALED CARRY LICENSE VIOLATION    2.0    3.0    3.0    1.0    1.0    0.0   \n\nday                                   30     31   totals  \nprimary_type                                              \nARSON                                3.0    3.0    112.0  \nASSAULT                            161.0  133.0   5635.0  \nBATTERY                            442.0  274.0  14111.0  \nBURGLARY                           108.0   79.0   3390.0  \nCONCEALED CARRY LICENSE VIOLATION    1.0    2.0     44.0  \n\n[5 rows x 32 columns]",
      "text/html": "<div>\n<style scoped>\n    .dataframe tbody tr th:only-of-type {\n        vertical-align: middle;\n    }\n\n    .dataframe tbody tr th {\n        vertical-align: top;\n    }\n\n    .dataframe thead th {\n        text-align: right;\n    }\n</style>\n<table border=\"1\" class=\"dataframe\">\n  <thead>\n    <tr style=\"text-align: right;\">\n      <th>day</th>\n      <th>1</th>\n      <th>2</th>\n      <th>3</th>\n      <th>4</th>\n      <th>5</th>\n      <th>6</th>\n      <th>7</th>\n      <th>8</th>\n      <th>9</th>\n      <th>10</th>\n      <th>...</th>\n      <th>23</th>\n      <th>24</th>\n      <th>25</th>\n      <th>26</th>\n      <th>27</th>\n      <th>28</th>\n      <th>29</th>\n      <th>30</th>\n      <th>31</th>\n      <th>totals</th>\n    </tr>\n    <tr>\n      <th>primary_type</th>\n      <th></th>\n      <th></th>\n      <th></th>\n      <th></th>\n      <th></th>\n      <th></th>\n      <th></th>\n      <th></th>\n      <th></th>\n      <th></th>\n      <th></th>\n      <th></th>\n      <th></th>\n      <th></th>\n      <th></th>\n      <th></th>\n      <th></th>\n      <th></th>\n      <th></th>\n      <th></th>\n      <th></th>\n    </tr>\n  </thead>\n  <tbody>\n    <tr>\n      <th>ARSON</th>\n      <td>4.0</td>\n      <td>3.0</td>\n      <td>3.0</td>\n      <td>2.0</td>\n      <td>4.0</td>\n      <td>6.0</td>\n      <td>5.0</td>\n      <td>5.0</td>\n      <td>2.0</td>\n      <td>2.0</td>\n      <td>...</td>\n      <td>1.0</td>\n      <td>6.0</td>\n      <td>1.0</td>\n      <td>2.0</td>\n      <td>1.0</td>\n      <td>3.0</td>\n      <td>6.0</td>\n      <td>3.0</td>\n      <td>3.0</td>\n      <td>112.0</td>\n    </tr>\n    <tr>\n      <th>ASSAULT</th>\n      <td>207.0</td>\n      <td>188.0</td>\n      <td>172.0</td>\n      <td>202.0</td>\n      <td>209.0</td>\n      <td>197.0</td>\n      <td>172.0</td>\n      <td>195.0</td>\n      <td>161.0</td>\n      <td>154.0</td>\n      <td>...</td>\n      <td>182.0</td>\n      <td>200.0</td>\n      <td>167.0</td>\n      <td>174.0</td>\n      <td>187.0</td>\n      <td>177.0</td>\n      <td>194.0</td>\n      <td>161.0</td>\n      <td>133.0</td>\n      <td>5635.0</td>\n    </tr>\n    <tr>\n      <th>BATTERY</th>\n      <td>511.0</td>\n      <td>495.0</td>\n      <td>489.0</td>\n      <td>576.0</td>\n      <td>488.0</td>\n      <td>400.0</td>\n      <td>455.0</td>\n      <td>474.0</td>\n      <td>432.0</td>\n      <td>438.0</td>\n      <td>...</td>\n      <td>439.0</td>\n      <td>476.0</td>\n      <td>485.0</td>\n      <td>460.0</td>\n      <td>393.0</td>\n      <td>450.0</td>\n      <td>432.0</td>\n      <td>442.0</td>\n      <td>274.0</td>\n      <td>14111.0</td>\n    </tr>\n    <tr>\n      <th>BURGLARY</th>\n      <td>126.0</td>\n      <td>109.0</td>\n      <td>118.0</td>\n      <td>117.0</td>\n      <td>101.0</td>\n      <td>126.0</td>\n      <td>99.0</td>\n      <td>96.0</td>\n      <td>107.0</td>\n      <td>110.0</td>\n      <td>...</td>\n      <td>102.0</td>\n      <td>119.0</td>\n      <td>104.0</td>\n      <td>104.0</td>\n      <td>140.0</td>\n      <td>113.0</td>\n      <td>107.0</td>\n      <td>108.0</td>\n      <td>79.0</td>\n      <td>3390.0</td>\n    </tr>\n    <tr>\n      <th>CONCEALED CARRY LICENSE VIOLATION</th>\n      <td>2.0</td>\n      <td>1.0</td>\n      <td>2.0</td>\n      <td>2.0</td>\n      <td>1.0</td>\n      <td>2.0</td>\n      <td>2.0</td>\n      <td>0.0</td>\n      <td>1.0</td>\n      <td>2.0</td>\n      <td>...</td>\n      <td>0.0</td>\n      <td>2.0</td>\n      <td>3.0</td>\n      <td>3.0</td>\n      <td>1.0</td>\n      <td>1.0</td>\n      <td>0.0</td>\n      <td>1.0</td>\n      <td>2.0</td>\n      <td>44.0</td>\n    </tr>\n  </tbody>\n</table>\n<p>5 rows × 32 columns</p>\n</div>"
     },
     "metadata": {},
     "execution_count": 157
    }
   ],
   "source": [
    "# Add a column to the dataframe representing the total number of each type of crime\n",
    "dat[\"totals\"]=dat.sum(axis=1) \n",
    "dat.head(5)"
   ]
  },
  {
   "cell_type": "code",
   "execution_count": 158,
   "metadata": {
    "tags": []
   },
   "outputs": [],
   "source": [
    "# Divide each row by the value in its totals column to get the proportion of times each crime was committed on that day\n",
    "dat = dat.div(dat.totals, axis = 0).round(2)\n",
    "\n",
    "# Drop the totals column\n",
    "dat = dat.drop('totals', axis = 1)"
   ]
  },
  {
   "cell_type": "code",
   "execution_count": 159,
   "metadata": {},
   "outputs": [
    {
     "output_type": "execute_result",
     "data": {
      "text/plain": "day                                  1     2     3     4     5     6     7   \\\nprimary_type                                                                  \nARSON                              0.04  0.03  0.03  0.02  0.04  0.05  0.04   \nASSAULT                            0.04  0.03  0.03  0.04  0.04  0.03  0.03   \nBATTERY                            0.04  0.04  0.03  0.04  0.03  0.03  0.03   \nBURGLARY                           0.04  0.03  0.03  0.03  0.03  0.04  0.03   \nCONCEALED CARRY LICENSE VIOLATION  0.05  0.02  0.05  0.05  0.02  0.05  0.05   \nCRIM SEXUAL ASSAULT                0.06  0.02  0.04  0.05  0.04  0.04  0.03   \nCRIMINAL DAMAGE                    0.03  0.03  0.03  0.03  0.03  0.03  0.03   \nCRIMINAL TRESPASS                  0.04  0.03  0.03  0.03  0.03  0.03  0.03   \nDECEPTIVE PRACTICE                 0.04  0.04  0.03  0.03  0.03  0.04  0.03   \nGAMBLING                           0.07  0.03  0.02  0.01  0.03  0.02  0.03   \nHOMICIDE                           0.02  0.00  0.03  0.02  0.06  0.03  0.02   \nHUMAN TRAFFICKING                  0.00  0.00  0.00  0.00  0.00  0.00  0.00   \nINTERFERENCE WITH PUBLIC OFFICER   0.03  0.02  0.05  0.03  0.02  0.04  0.04   \nINTIMIDATION                       0.02  0.04  0.00  0.04  0.02  0.04  0.02   \nKIDNAPPING                         0.02  0.04  0.02  0.04  0.09  0.02  0.00   \nLIQUOR LAW VIOLATION               0.02  0.05  0.05  0.02  0.02  0.01  0.04   \nMOTOR VEHICLE THEFT                0.03  0.03  0.04  0.03  0.02  0.04  0.03   \nNARCOTICS                          0.04  0.03  0.04  0.03  0.03  0.04  0.03   \nNON-CRIMINAL                       0.00  0.00  0.00  0.00  0.00  0.12  0.00   \nNON-CRIMINAL (SUBJECT SPECIFIED)   0.00  0.00  0.00  0.00  0.00  0.00  0.00   \nOBSCENITY                          0.14  0.00  0.05  0.10  0.00  0.05  0.00   \nOFFENSE INVOLVING CHILDREN         0.06  0.03  0.04  0.04  0.03  0.02  0.03   \nOTHER OFFENSE                      0.04  0.03  0.03  0.03  0.03  0.04  0.04   \nPROSTITUTION                       0.06  0.01  0.02  0.01  0.02  0.02  0.00   \nPUBLIC INDECENCY                   0.00  0.00  0.00  0.20  0.00  0.00  0.00   \nPUBLIC PEACE VIOLATION             0.03  0.04  0.03  0.05  0.03  0.05  0.03   \nROBBERY                            0.04  0.03  0.03  0.03  0.03  0.03  0.03   \nSEX OFFENSE                        0.03  0.04  0.01  0.04  0.03  0.03  0.04   \nSTALKING                           0.06  0.07  0.06  0.06  0.00  0.06  0.00   \nTHEFT                              0.03  0.04  0.04  0.03  0.03  0.03  0.03   \nWEAPONS VIOLATION                  0.03  0.03  0.03  0.04  0.04  0.03  0.03   \n\nday                                  8     9     10  ...    22    23    24  \\\nprimary_type                                         ...                     \nARSON                              0.04  0.02  0.02  ...  0.04  0.01  0.05   \nASSAULT                            0.03  0.03  0.03  ...  0.03  0.03  0.04   \nBATTERY                            0.03  0.03  0.03  ...  0.03  0.03  0.03   \nBURGLARY                           0.03  0.03  0.03  ...  0.04  0.03  0.04   \nCONCEALED CARRY LICENSE VIOLATION  0.00  0.02  0.05  ...  0.02  0.00  0.05   \nCRIM SEXUAL ASSAULT                0.04  0.03  0.03  ...  0.03  0.03  0.02   \nCRIMINAL DAMAGE                    0.03  0.03  0.03  ...  0.04  0.04  0.03   \nCRIMINAL TRESPASS                  0.04  0.04  0.03  ...  0.03  0.04  0.04   \nDECEPTIVE PRACTICE                 0.03  0.03  0.03  ...  0.03  0.03  0.03   \nGAMBLING                           0.03  0.05  0.04  ...  0.02  0.02  0.01   \nHOMICIDE                           0.08  0.05  0.05  ...  0.02  0.03  0.03   \nHUMAN TRAFFICKING                  0.00  0.00  0.00  ...  0.00  0.00  0.00   \nINTERFERENCE WITH PUBLIC OFFICER   0.05  0.04  0.05  ...  0.04  0.03  0.02   \nINTIMIDATION                       0.02  0.04  0.06  ...  0.00  0.04  0.00   \nKIDNAPPING                         0.02  0.00  0.02  ...  0.00  0.09  0.02   \nLIQUOR LAW VIOLATION               0.01  0.07  0.04  ...  0.00  0.01  0.00   \nMOTOR VEHICLE THEFT                0.03  0.03  0.03  ...  0.03  0.03  0.04   \nNARCOTICS                          0.03  0.03  0.03  ...  0.04  0.03  0.03   \nNON-CRIMINAL                       0.00  0.00  0.00  ...  0.00  0.00  0.00   \nNON-CRIMINAL (SUBJECT SPECIFIED)   0.00  0.00  0.00  ...  0.00  0.50  0.00   \nOBSCENITY                          0.00  0.00  0.00  ...  0.05  0.00  0.05   \nOFFENSE INVOLVING CHILDREN         0.04  0.03  0.04  ...  0.03  0.02  0.02   \nOTHER OFFENSE                      0.03  0.03  0.03  ...  0.03  0.03  0.03   \nPROSTITUTION                       0.08  0.01  0.03  ...  0.03  0.06  0.03   \nPUBLIC INDECENCY                   0.00  0.00  0.00  ...  0.00  0.00  0.00   \nPUBLIC PEACE VIOLATION             0.04  0.05  0.03  ...  0.01  0.03  0.05   \nROBBERY                            0.03  0.04  0.04  ...  0.04  0.03  0.03   \nSEX OFFENSE                        0.03  0.03  0.04  ...  0.04  0.03  0.03   \nSTALKING                           0.04  0.04  0.00  ...  0.00  0.09  0.06   \nTHEFT                              0.03  0.03  0.04  ...  0.03  0.03  0.03   \nWEAPONS VIOLATION                  0.03  0.03  0.03  ...  0.04  0.03  0.03   \n\nday                                  25    26    27    28    29    30    31  \nprimary_type                                                                 \nARSON                              0.01  0.02  0.01  0.03  0.05  0.03  0.03  \nASSAULT                            0.03  0.03  0.03  0.03  0.03  0.03  0.02  \nBATTERY                            0.03  0.03  0.03  0.03  0.03  0.03  0.02  \nBURGLARY                           0.03  0.03  0.04  0.03  0.03  0.03  0.02  \nCONCEALED CARRY LICENSE VIOLATION  0.07  0.07  0.02  0.02  0.00  0.02  0.05  \nCRIM SEXUAL ASSAULT                0.03  0.05  0.03  0.03  0.03  0.03  0.01  \nCRIMINAL DAMAGE                    0.03  0.04  0.04  0.03  0.03  0.03  0.02  \nCRIMINAL TRESPASS                  0.03  0.03  0.04  0.04  0.03  0.03  0.02  \nDECEPTIVE PRACTICE                 0.03  0.03  0.04  0.03  0.03  0.03  0.03  \nGAMBLING                           0.04  0.03  0.01  0.02  0.03  0.03  0.03  \nHOMICIDE                           0.03  0.03  0.03  0.02  0.02  0.03  0.02  \nHUMAN TRAFFICKING                  0.00  0.00  0.50  0.00  0.00  0.00  0.00  \nINTERFERENCE WITH PUBLIC OFFICER   0.03  0.04  0.03  0.04  0.03  0.03  0.01  \nINTIMIDATION                       0.07  0.00  0.11  0.04  0.02  0.04  0.02  \nKIDNAPPING                         0.06  0.04  0.09  0.02  0.00  0.04  0.00  \nLIQUOR LAW VIOLATION               0.06  0.00  0.05  0.06  0.02  0.01  0.00  \nMOTOR VEHICLE THEFT                0.03  0.03  0.03  0.03  0.03  0.04  0.02  \nNARCOTICS                          0.04  0.03  0.03  0.03  0.03  0.03  0.03  \nNON-CRIMINAL                       0.00  0.25  0.00  0.00  0.12  0.00  0.12  \nNON-CRIMINAL (SUBJECT SPECIFIED)   0.00  0.00  0.00  0.00  0.00  0.00  0.00  \nOBSCENITY                          0.05  0.10  0.10  0.05  0.05  0.05  0.05  \nOFFENSE INVOLVING CHILDREN         0.03  0.02  0.04  0.03  0.02  0.04  0.02  \nOTHER OFFENSE                      0.03  0.03  0.03  0.03  0.03  0.03  0.02  \nPROSTITUTION                       0.03  0.04  0.05  0.03  0.05  0.09  0.01  \nPUBLIC INDECENCY                   0.00  0.00  0.00  0.00  0.00  0.00  0.00  \nPUBLIC PEACE VIOLATION             0.02  0.04  0.03  0.04  0.02  0.03  0.01  \nROBBERY                            0.03  0.04  0.04  0.03  0.04  0.04  0.02  \nSEX OFFENSE                        0.04  0.01  0.01  0.05  0.03  0.03  0.02  \nSTALKING                           0.02  0.07  0.00  0.04  0.04  0.02  0.00  \nTHEFT                              0.03  0.03  0.03  0.03  0.03  0.03  0.02  \nWEAPONS VIOLATION                  0.03  0.03  0.03  0.03  0.04  0.03  0.02  \n\n[31 rows x 31 columns]",
      "text/html": "<div>\n<style scoped>\n    .dataframe tbody tr th:only-of-type {\n        vertical-align: middle;\n    }\n\n    .dataframe tbody tr th {\n        vertical-align: top;\n    }\n\n    .dataframe thead th {\n        text-align: right;\n    }\n</style>\n<table border=\"1\" class=\"dataframe\">\n  <thead>\n    <tr style=\"text-align: right;\">\n      <th>day</th>\n      <th>1</th>\n      <th>2</th>\n      <th>3</th>\n      <th>4</th>\n      <th>5</th>\n      <th>6</th>\n      <th>7</th>\n      <th>8</th>\n      <th>9</th>\n      <th>10</th>\n      <th>...</th>\n      <th>22</th>\n      <th>23</th>\n      <th>24</th>\n      <th>25</th>\n      <th>26</th>\n      <th>27</th>\n      <th>28</th>\n      <th>29</th>\n      <th>30</th>\n      <th>31</th>\n    </tr>\n    <tr>\n      <th>primary_type</th>\n      <th></th>\n      <th></th>\n      <th></th>\n      <th></th>\n      <th></th>\n      <th></th>\n      <th></th>\n      <th></th>\n      <th></th>\n      <th></th>\n      <th></th>\n      <th></th>\n      <th></th>\n      <th></th>\n      <th></th>\n      <th></th>\n      <th></th>\n      <th></th>\n      <th></th>\n      <th></th>\n      <th></th>\n    </tr>\n  </thead>\n  <tbody>\n    <tr>\n      <th>ARSON</th>\n      <td>0.04</td>\n      <td>0.03</td>\n      <td>0.03</td>\n      <td>0.02</td>\n      <td>0.04</td>\n      <td>0.05</td>\n      <td>0.04</td>\n      <td>0.04</td>\n      <td>0.02</td>\n      <td>0.02</td>\n      <td>...</td>\n      <td>0.04</td>\n      <td>0.01</td>\n      <td>0.05</td>\n      <td>0.01</td>\n      <td>0.02</td>\n      <td>0.01</td>\n      <td>0.03</td>\n      <td>0.05</td>\n      <td>0.03</td>\n      <td>0.03</td>\n    </tr>\n    <tr>\n      <th>ASSAULT</th>\n      <td>0.04</td>\n      <td>0.03</td>\n      <td>0.03</td>\n      <td>0.04</td>\n      <td>0.04</td>\n      <td>0.03</td>\n      <td>0.03</td>\n      <td>0.03</td>\n      <td>0.03</td>\n      <td>0.03</td>\n      <td>...</td>\n      <td>0.03</td>\n      <td>0.03</td>\n      <td>0.04</td>\n      <td>0.03</td>\n      <td>0.03</td>\n      <td>0.03</td>\n      <td>0.03</td>\n      <td>0.03</td>\n      <td>0.03</td>\n      <td>0.02</td>\n    </tr>\n    <tr>\n      <th>BATTERY</th>\n      <td>0.04</td>\n      <td>0.04</td>\n      <td>0.03</td>\n      <td>0.04</td>\n      <td>0.03</td>\n      <td>0.03</td>\n      <td>0.03</td>\n      <td>0.03</td>\n      <td>0.03</td>\n      <td>0.03</td>\n      <td>...</td>\n      <td>0.03</td>\n      <td>0.03</td>\n      <td>0.03</td>\n      <td>0.03</td>\n      <td>0.03</td>\n      <td>0.03</td>\n      <td>0.03</td>\n      <td>0.03</td>\n      <td>0.03</td>\n      <td>0.02</td>\n    </tr>\n    <tr>\n      <th>BURGLARY</th>\n      <td>0.04</td>\n      <td>0.03</td>\n      <td>0.03</td>\n      <td>0.03</td>\n      <td>0.03</td>\n      <td>0.04</td>\n      <td>0.03</td>\n      <td>0.03</td>\n      <td>0.03</td>\n      <td>0.03</td>\n      <td>...</td>\n      <td>0.04</td>\n      <td>0.03</td>\n      <td>0.04</td>\n      <td>0.03</td>\n      <td>0.03</td>\n      <td>0.04</td>\n      <td>0.03</td>\n      <td>0.03</td>\n      <td>0.03</td>\n      <td>0.02</td>\n    </tr>\n    <tr>\n      <th>CONCEALED CARRY LICENSE VIOLATION</th>\n      <td>0.05</td>\n      <td>0.02</td>\n      <td>0.05</td>\n      <td>0.05</td>\n      <td>0.02</td>\n      <td>0.05</td>\n      <td>0.05</td>\n      <td>0.00</td>\n      <td>0.02</td>\n      <td>0.05</td>\n      <td>...</td>\n      <td>0.02</td>\n      <td>0.00</td>\n      <td>0.05</td>\n      <td>0.07</td>\n      <td>0.07</td>\n      <td>0.02</td>\n      <td>0.02</td>\n      <td>0.00</td>\n      <td>0.02</td>\n      <td>0.05</td>\n    </tr>\n    <tr>\n      <th>CRIM SEXUAL ASSAULT</th>\n      <td>0.06</td>\n      <td>0.02</td>\n      <td>0.04</td>\n      <td>0.05</td>\n      <td>0.04</td>\n      <td>0.04</td>\n      <td>0.03</td>\n      <td>0.04</td>\n      <td>0.03</td>\n      <td>0.03</td>\n      <td>...</td>\n      <td>0.03</td>\n      <td>0.03</td>\n      <td>0.02</td>\n      <td>0.03</td>\n      <td>0.05</td>\n      <td>0.03</td>\n      <td>0.03</td>\n      <td>0.03</td>\n      <td>0.03</td>\n      <td>0.01</td>\n    </tr>\n    <tr>\n      <th>CRIMINAL DAMAGE</th>\n      <td>0.03</td>\n      <td>0.03</td>\n      <td>0.03</td>\n      <td>0.03</td>\n      <td>0.03</td>\n      <td>0.03</td>\n      <td>0.03</td>\n      <td>0.03</td>\n      <td>0.03</td>\n      <td>0.03</td>\n      <td>...</td>\n      <td>0.04</td>\n      <td>0.04</td>\n      <td>0.03</td>\n      <td>0.03</td>\n      <td>0.04</td>\n      <td>0.04</td>\n      <td>0.03</td>\n      <td>0.03</td>\n      <td>0.03</td>\n      <td>0.02</td>\n    </tr>\n    <tr>\n      <th>CRIMINAL TRESPASS</th>\n      <td>0.04</td>\n      <td>0.03</td>\n      <td>0.03</td>\n      <td>0.03</td>\n      <td>0.03</td>\n      <td>0.03</td>\n      <td>0.03</td>\n      <td>0.04</td>\n      <td>0.04</td>\n      <td>0.03</td>\n      <td>...</td>\n      <td>0.03</td>\n      <td>0.04</td>\n      <td>0.04</td>\n      <td>0.03</td>\n      <td>0.03</td>\n      <td>0.04</td>\n      <td>0.04</td>\n      <td>0.03</td>\n      <td>0.03</td>\n      <td>0.02</td>\n    </tr>\n    <tr>\n      <th>DECEPTIVE PRACTICE</th>\n      <td>0.04</td>\n      <td>0.04</td>\n      <td>0.03</td>\n      <td>0.03</td>\n      <td>0.03</td>\n      <td>0.04</td>\n      <td>0.03</td>\n      <td>0.03</td>\n      <td>0.03</td>\n      <td>0.03</td>\n      <td>...</td>\n      <td>0.03</td>\n      <td>0.03</td>\n      <td>0.03</td>\n      <td>0.03</td>\n      <td>0.03</td>\n      <td>0.04</td>\n      <td>0.03</td>\n      <td>0.03</td>\n      <td>0.03</td>\n      <td>0.03</td>\n    </tr>\n    <tr>\n      <th>GAMBLING</th>\n      <td>0.07</td>\n      <td>0.03</td>\n      <td>0.02</td>\n      <td>0.01</td>\n      <td>0.03</td>\n      <td>0.02</td>\n      <td>0.03</td>\n      <td>0.03</td>\n      <td>0.05</td>\n      <td>0.04</td>\n      <td>...</td>\n      <td>0.02</td>\n      <td>0.02</td>\n      <td>0.01</td>\n      <td>0.04</td>\n      <td>0.03</td>\n      <td>0.01</td>\n      <td>0.02</td>\n      <td>0.03</td>\n      <td>0.03</td>\n      <td>0.03</td>\n    </tr>\n    <tr>\n      <th>HOMICIDE</th>\n      <td>0.02</td>\n      <td>0.00</td>\n      <td>0.03</td>\n      <td>0.02</td>\n      <td>0.06</td>\n      <td>0.03</td>\n      <td>0.02</td>\n      <td>0.08</td>\n      <td>0.05</td>\n      <td>0.05</td>\n      <td>...</td>\n      <td>0.02</td>\n      <td>0.03</td>\n      <td>0.03</td>\n      <td>0.03</td>\n      <td>0.03</td>\n      <td>0.03</td>\n      <td>0.02</td>\n      <td>0.02</td>\n      <td>0.03</td>\n      <td>0.02</td>\n    </tr>\n    <tr>\n      <th>HUMAN TRAFFICKING</th>\n      <td>0.00</td>\n      <td>0.00</td>\n      <td>0.00</td>\n      <td>0.00</td>\n      <td>0.00</td>\n      <td>0.00</td>\n      <td>0.00</td>\n      <td>0.00</td>\n      <td>0.00</td>\n      <td>0.00</td>\n      <td>...</td>\n      <td>0.00</td>\n      <td>0.00</td>\n      <td>0.00</td>\n      <td>0.00</td>\n      <td>0.00</td>\n      <td>0.50</td>\n      <td>0.00</td>\n      <td>0.00</td>\n      <td>0.00</td>\n      <td>0.00</td>\n    </tr>\n    <tr>\n      <th>INTERFERENCE WITH PUBLIC OFFICER</th>\n      <td>0.03</td>\n      <td>0.02</td>\n      <td>0.05</td>\n      <td>0.03</td>\n      <td>0.02</td>\n      <td>0.04</td>\n      <td>0.04</td>\n      <td>0.05</td>\n      <td>0.04</td>\n      <td>0.05</td>\n      <td>...</td>\n      <td>0.04</td>\n      <td>0.03</td>\n      <td>0.02</td>\n      <td>0.03</td>\n      <td>0.04</td>\n      <td>0.03</td>\n      <td>0.04</td>\n      <td>0.03</td>\n      <td>0.03</td>\n      <td>0.01</td>\n    </tr>\n    <tr>\n      <th>INTIMIDATION</th>\n      <td>0.02</td>\n      <td>0.04</td>\n      <td>0.00</td>\n      <td>0.04</td>\n      <td>0.02</td>\n      <td>0.04</td>\n      <td>0.02</td>\n      <td>0.02</td>\n      <td>0.04</td>\n      <td>0.06</td>\n      <td>...</td>\n      <td>0.00</td>\n      <td>0.04</td>\n      <td>0.00</td>\n      <td>0.07</td>\n      <td>0.00</td>\n      <td>0.11</td>\n      <td>0.04</td>\n      <td>0.02</td>\n      <td>0.04</td>\n      <td>0.02</td>\n    </tr>\n    <tr>\n      <th>KIDNAPPING</th>\n      <td>0.02</td>\n      <td>0.04</td>\n      <td>0.02</td>\n      <td>0.04</td>\n      <td>0.09</td>\n      <td>0.02</td>\n      <td>0.00</td>\n      <td>0.02</td>\n      <td>0.00</td>\n      <td>0.02</td>\n      <td>...</td>\n      <td>0.00</td>\n      <td>0.09</td>\n      <td>0.02</td>\n      <td>0.06</td>\n      <td>0.04</td>\n      <td>0.09</td>\n      <td>0.02</td>\n      <td>0.00</td>\n      <td>0.04</td>\n      <td>0.00</td>\n    </tr>\n    <tr>\n      <th>LIQUOR LAW VIOLATION</th>\n      <td>0.02</td>\n      <td>0.05</td>\n      <td>0.05</td>\n      <td>0.02</td>\n      <td>0.02</td>\n      <td>0.01</td>\n      <td>0.04</td>\n      <td>0.01</td>\n      <td>0.07</td>\n      <td>0.04</td>\n      <td>...</td>\n      <td>0.00</td>\n      <td>0.01</td>\n      <td>0.00</td>\n      <td>0.06</td>\n      <td>0.00</td>\n      <td>0.05</td>\n      <td>0.06</td>\n      <td>0.02</td>\n      <td>0.01</td>\n      <td>0.00</td>\n    </tr>\n    <tr>\n      <th>MOTOR VEHICLE THEFT</th>\n      <td>0.03</td>\n      <td>0.03</td>\n      <td>0.04</td>\n      <td>0.03</td>\n      <td>0.02</td>\n      <td>0.04</td>\n      <td>0.03</td>\n      <td>0.03</td>\n      <td>0.03</td>\n      <td>0.03</td>\n      <td>...</td>\n      <td>0.03</td>\n      <td>0.03</td>\n      <td>0.04</td>\n      <td>0.03</td>\n      <td>0.03</td>\n      <td>0.03</td>\n      <td>0.03</td>\n      <td>0.03</td>\n      <td>0.04</td>\n      <td>0.02</td>\n    </tr>\n    <tr>\n      <th>NARCOTICS</th>\n      <td>0.04</td>\n      <td>0.03</td>\n      <td>0.04</td>\n      <td>0.03</td>\n      <td>0.03</td>\n      <td>0.04</td>\n      <td>0.03</td>\n      <td>0.03</td>\n      <td>0.03</td>\n      <td>0.03</td>\n      <td>...</td>\n      <td>0.04</td>\n      <td>0.03</td>\n      <td>0.03</td>\n      <td>0.04</td>\n      <td>0.03</td>\n      <td>0.03</td>\n      <td>0.03</td>\n      <td>0.03</td>\n      <td>0.03</td>\n      <td>0.03</td>\n    </tr>\n    <tr>\n      <th>NON-CRIMINAL</th>\n      <td>0.00</td>\n      <td>0.00</td>\n      <td>0.00</td>\n      <td>0.00</td>\n      <td>0.00</td>\n      <td>0.12</td>\n      <td>0.00</td>\n      <td>0.00</td>\n      <td>0.00</td>\n      <td>0.00</td>\n      <td>...</td>\n      <td>0.00</td>\n      <td>0.00</td>\n      <td>0.00</td>\n      <td>0.00</td>\n      <td>0.25</td>\n      <td>0.00</td>\n      <td>0.00</td>\n      <td>0.12</td>\n      <td>0.00</td>\n      <td>0.12</td>\n    </tr>\n    <tr>\n      <th>NON-CRIMINAL (SUBJECT SPECIFIED)</th>\n      <td>0.00</td>\n      <td>0.00</td>\n      <td>0.00</td>\n      <td>0.00</td>\n      <td>0.00</td>\n      <td>0.00</td>\n      <td>0.00</td>\n      <td>0.00</td>\n      <td>0.00</td>\n      <td>0.00</td>\n      <td>...</td>\n      <td>0.00</td>\n      <td>0.50</td>\n      <td>0.00</td>\n      <td>0.00</td>\n      <td>0.00</td>\n      <td>0.00</td>\n      <td>0.00</td>\n      <td>0.00</td>\n      <td>0.00</td>\n      <td>0.00</td>\n    </tr>\n    <tr>\n      <th>OBSCENITY</th>\n      <td>0.14</td>\n      <td>0.00</td>\n      <td>0.05</td>\n      <td>0.10</td>\n      <td>0.00</td>\n      <td>0.05</td>\n      <td>0.00</td>\n      <td>0.00</td>\n      <td>0.00</td>\n      <td>0.00</td>\n      <td>...</td>\n      <td>0.05</td>\n      <td>0.00</td>\n      <td>0.05</td>\n      <td>0.05</td>\n      <td>0.10</td>\n      <td>0.10</td>\n      <td>0.05</td>\n      <td>0.05</td>\n      <td>0.05</td>\n      <td>0.05</td>\n    </tr>\n    <tr>\n      <th>OFFENSE INVOLVING CHILDREN</th>\n      <td>0.06</td>\n      <td>0.03</td>\n      <td>0.04</td>\n      <td>0.04</td>\n      <td>0.03</td>\n      <td>0.02</td>\n      <td>0.03</td>\n      <td>0.04</td>\n      <td>0.03</td>\n      <td>0.04</td>\n      <td>...</td>\n      <td>0.03</td>\n      <td>0.02</td>\n      <td>0.02</td>\n      <td>0.03</td>\n      <td>0.02</td>\n      <td>0.04</td>\n      <td>0.03</td>\n      <td>0.02</td>\n      <td>0.04</td>\n      <td>0.02</td>\n    </tr>\n    <tr>\n      <th>OTHER OFFENSE</th>\n      <td>0.04</td>\n      <td>0.03</td>\n      <td>0.03</td>\n      <td>0.03</td>\n      <td>0.03</td>\n      <td>0.04</td>\n      <td>0.04</td>\n      <td>0.03</td>\n      <td>0.03</td>\n      <td>0.03</td>\n      <td>...</td>\n      <td>0.03</td>\n      <td>0.03</td>\n      <td>0.03</td>\n      <td>0.03</td>\n      <td>0.03</td>\n      <td>0.03</td>\n      <td>0.03</td>\n      <td>0.03</td>\n      <td>0.03</td>\n      <td>0.02</td>\n    </tr>\n    <tr>\n      <th>PROSTITUTION</th>\n      <td>0.06</td>\n      <td>0.01</td>\n      <td>0.02</td>\n      <td>0.01</td>\n      <td>0.02</td>\n      <td>0.02</td>\n      <td>0.00</td>\n      <td>0.08</td>\n      <td>0.01</td>\n      <td>0.03</td>\n      <td>...</td>\n      <td>0.03</td>\n      <td>0.06</td>\n      <td>0.03</td>\n      <td>0.03</td>\n      <td>0.04</td>\n      <td>0.05</td>\n      <td>0.03</td>\n      <td>0.05</td>\n      <td>0.09</td>\n      <td>0.01</td>\n    </tr>\n    <tr>\n      <th>PUBLIC INDECENCY</th>\n      <td>0.00</td>\n      <td>0.00</td>\n      <td>0.00</td>\n      <td>0.20</td>\n      <td>0.00</td>\n      <td>0.00</td>\n      <td>0.00</td>\n      <td>0.00</td>\n      <td>0.00</td>\n      <td>0.00</td>\n      <td>...</td>\n      <td>0.00</td>\n      <td>0.00</td>\n      <td>0.00</td>\n      <td>0.00</td>\n      <td>0.00</td>\n      <td>0.00</td>\n      <td>0.00</td>\n      <td>0.00</td>\n      <td>0.00</td>\n      <td>0.00</td>\n    </tr>\n    <tr>\n      <th>PUBLIC PEACE VIOLATION</th>\n      <td>0.03</td>\n      <td>0.04</td>\n      <td>0.03</td>\n      <td>0.05</td>\n      <td>0.03</td>\n      <td>0.05</td>\n      <td>0.03</td>\n      <td>0.04</td>\n      <td>0.05</td>\n      <td>0.03</td>\n      <td>...</td>\n      <td>0.01</td>\n      <td>0.03</td>\n      <td>0.05</td>\n      <td>0.02</td>\n      <td>0.04</td>\n      <td>0.03</td>\n      <td>0.04</td>\n      <td>0.02</td>\n      <td>0.03</td>\n      <td>0.01</td>\n    </tr>\n    <tr>\n      <th>ROBBERY</th>\n      <td>0.04</td>\n      <td>0.03</td>\n      <td>0.03</td>\n      <td>0.03</td>\n      <td>0.03</td>\n      <td>0.03</td>\n      <td>0.03</td>\n      <td>0.03</td>\n      <td>0.04</td>\n      <td>0.04</td>\n      <td>...</td>\n      <td>0.04</td>\n      <td>0.03</td>\n      <td>0.03</td>\n      <td>0.03</td>\n      <td>0.04</td>\n      <td>0.04</td>\n      <td>0.03</td>\n      <td>0.04</td>\n      <td>0.04</td>\n      <td>0.02</td>\n    </tr>\n    <tr>\n      <th>SEX OFFENSE</th>\n      <td>0.03</td>\n      <td>0.04</td>\n      <td>0.01</td>\n      <td>0.04</td>\n      <td>0.03</td>\n      <td>0.03</td>\n      <td>0.04</td>\n      <td>0.03</td>\n      <td>0.03</td>\n      <td>0.04</td>\n      <td>...</td>\n      <td>0.04</td>\n      <td>0.03</td>\n      <td>0.03</td>\n      <td>0.04</td>\n      <td>0.01</td>\n      <td>0.01</td>\n      <td>0.05</td>\n      <td>0.03</td>\n      <td>0.03</td>\n      <td>0.02</td>\n    </tr>\n    <tr>\n      <th>STALKING</th>\n      <td>0.06</td>\n      <td>0.07</td>\n      <td>0.06</td>\n      <td>0.06</td>\n      <td>0.00</td>\n      <td>0.06</td>\n      <td>0.00</td>\n      <td>0.04</td>\n      <td>0.04</td>\n      <td>0.00</td>\n      <td>...</td>\n      <td>0.00</td>\n      <td>0.09</td>\n      <td>0.06</td>\n      <td>0.02</td>\n      <td>0.07</td>\n      <td>0.00</td>\n      <td>0.04</td>\n      <td>0.04</td>\n      <td>0.02</td>\n      <td>0.00</td>\n    </tr>\n    <tr>\n      <th>THEFT</th>\n      <td>0.03</td>\n      <td>0.04</td>\n      <td>0.04</td>\n      <td>0.03</td>\n      <td>0.03</td>\n      <td>0.03</td>\n      <td>0.03</td>\n      <td>0.03</td>\n      <td>0.03</td>\n      <td>0.04</td>\n      <td>...</td>\n      <td>0.03</td>\n      <td>0.03</td>\n      <td>0.03</td>\n      <td>0.03</td>\n      <td>0.03</td>\n      <td>0.03</td>\n      <td>0.03</td>\n      <td>0.03</td>\n      <td>0.03</td>\n      <td>0.02</td>\n    </tr>\n    <tr>\n      <th>WEAPONS VIOLATION</th>\n      <td>0.03</td>\n      <td>0.03</td>\n      <td>0.03</td>\n      <td>0.04</td>\n      <td>0.04</td>\n      <td>0.03</td>\n      <td>0.03</td>\n      <td>0.03</td>\n      <td>0.03</td>\n      <td>0.03</td>\n      <td>...</td>\n      <td>0.04</td>\n      <td>0.03</td>\n      <td>0.03</td>\n      <td>0.03</td>\n      <td>0.03</td>\n      <td>0.03</td>\n      <td>0.03</td>\n      <td>0.04</td>\n      <td>0.03</td>\n      <td>0.02</td>\n    </tr>\n  </tbody>\n</table>\n<p>31 rows × 31 columns</p>\n</div>"
     },
     "metadata": {},
     "execution_count": 159
    }
   ],
   "source": [
    "# Print the final data frame\n",
    "dat"
   ]
  },
  {
   "cell_type": "code",
   "execution_count": null,
   "metadata": {},
   "outputs": [],
   "source": []
  }
 ]
}