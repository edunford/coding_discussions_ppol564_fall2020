{
 "cells": [
  {
   "cell_type": "markdown",
   "metadata": {},
   "source": [
    "# Coding Discussion #4\n",
    "##### Madeline Kinnaird"
   ]
  },
  {
   "cell_type": "code",
   "execution_count": 21,
   "metadata": {},
   "outputs": [],
   "source": [
    "import numpy as np\n",
    "import pandas as pd\n",
    "import re\n",
    "import matplotlib.pyplot as plt\n",
    "import seaborn as sns"
   ]
  },
  {
   "cell_type": "markdown",
   "metadata": {},
   "source": [
    "# Import Data"
   ]
  },
  {
   "cell_type": "code",
   "execution_count": 7,
   "metadata": {},
   "outputs": [],
   "source": [
    "# Read in the data\n",
    "\n",
    "aj = open(\"../Data/aljazeera-khashoggi.txt\", \"r\", encoding = \"UTF-8\").read()\n",
    "bbc = open(\"../Data/bbc-khashoggi.txt\", \"r\", encoding = \"UTF-8\").read()\n",
    "bre = open(\"../Data/breitbart-khashoggi.txt\", \"r\", encoding = \"UTF-8\").read()\n",
    "cnn = open(\"../Data/cnn-khashoggi.txt\", \"r\", encoding = \"UTF-8\").read()\n",
    "fox = open(\"../Data/fox-khashoggi.txt\", \"r\", encoding = \"UTF-8\").read()\n",
    "stop_words = pd.read_csv('../Data/stop_words.csv')"
   ]
  },
  {
   "cell_type": "code",
   "execution_count": 8,
   "metadata": {},
   "outputs": [],
   "source": [
    "# Convert stopwords into a list\n",
    "stop_words = stop_words.word.to_list()"
   ]
  },
  {
   "cell_type": "markdown",
   "metadata": {},
   "source": [
    "# Clean and Restructure Data"
   ]
  },
  {
   "cell_type": "code",
   "execution_count": 11,
   "metadata": {},
   "outputs": [],
   "source": [
    "def tokenize(text=None):\n",
    "    '''\n",
    "    Function: Tokenize text object a count by number of words in text\n",
    "    \n",
    "    Input: Text object\n",
    "    Output: dataframe, with counts per word\n",
    "    '''\n",
    "    d = dict()\n",
    "    text = text.lower()\n",
    "    ## regex to break line into only words\n",
    "    text = re.sub(r\"[^\\w\\s]+\", '', text) \n",
    "    ## create list of words\n",
    "    word_list = text.split()\n",
    "    ## remove stop words and turn into a list\n",
    "    word_list = list(filter(lambda a: a not in stop_words, word_list))\n",
    "    for word in word_list:\n",
    "        if word in d:\n",
    "            d[word][0] += 1\n",
    "        else:\n",
    "            d[word] = [1]\n",
    "\n",
    "    return pd.DataFrame(d)\n",
    "\n"
   ]
  },
  {
   "cell_type": "code",
   "execution_count": 12,
   "metadata": {},
   "outputs": [],
   "source": [
    "## create Document Term Matrix\n",
    "article_list = [aj,bbc,bre,cnn,fox]\n",
    "\n",
    "## create a blank dataframe for DTM\n",
    "DTM = pd.DataFrame()\n",
    "\n",
    "##loop through articles and append tokenized df to DTM\n",
    "for article in article_list:\n",
    "    df = tokenize(article)\n",
    "    #Row bing\n",
    "    DTM = DTM.append(df, ignore_index=True,sort=True)\n",
    "\n",
    "    \n",
    "## fill na's with zeros\n",
    "DTM.fillna(0, inplace=True) \n",
    "\n",
    "## rename rows\n",
    "DTM = DTM.rename({0: \"aljazeera\", 1: \"bbc\",2:\"breitbart\",3:\"cnn\",4:\"fox\"}, axis='index')\n"
   ]
  },
  {
   "cell_type": "code",
   "execution_count": 13,
   "metadata": {},
   "outputs": [
    {
     "data": {
      "text/html": [
       "<div>\n",
       "<style scoped>\n",
       "    .dataframe tbody tr th:only-of-type {\n",
       "        vertical-align: middle;\n",
       "    }\n",
       "\n",
       "    .dataframe tbody tr th {\n",
       "        vertical-align: top;\n",
       "    }\n",
       "\n",
       "    .dataframe thead th {\n",
       "        text-align: right;\n",
       "    }\n",
       "</style>\n",
       "<table border=\"1\" class=\"dataframe\">\n",
       "  <thead>\n",
       "    <tr style=\"text-align: right;\">\n",
       "      <th></th>\n",
       "      <th>1</th>\n",
       "      <th>108</th>\n",
       "      <th>11</th>\n",
       "      <th>12</th>\n",
       "      <th>15</th>\n",
       "      <th>15member</th>\n",
       "      <th>18</th>\n",
       "      <th>2</th>\n",
       "      <th>28</th>\n",
       "      <th>2r</th>\n",
       "      <th>...</th>\n",
       "      <th>weeks</th>\n",
       "      <th>white</th>\n",
       "      <th>widely</th>\n",
       "      <th>withheld</th>\n",
       "      <th>woods</th>\n",
       "      <th>world</th>\n",
       "      <th>worse</th>\n",
       "      <th>writer</th>\n",
       "      <th>yalova</th>\n",
       "      <th>yelova</th>\n",
       "    </tr>\n",
       "  </thead>\n",
       "  <tbody>\n",
       "    <tr>\n",
       "      <th>aljazeera</th>\n",
       "      <td>0.0</td>\n",
       "      <td>0.0</td>\n",
       "      <td>0.0</td>\n",
       "      <td>0.0</td>\n",
       "      <td>0.0</td>\n",
       "      <td>1.0</td>\n",
       "      <td>2.0</td>\n",
       "      <td>2.0</td>\n",
       "      <td>1.0</td>\n",
       "      <td>0.0</td>\n",
       "      <td>...</td>\n",
       "      <td>0.0</td>\n",
       "      <td>0.0</td>\n",
       "      <td>0.0</td>\n",
       "      <td>0.0</td>\n",
       "      <td>0.0</td>\n",
       "      <td>0.0</td>\n",
       "      <td>0.0</td>\n",
       "      <td>0.0</td>\n",
       "      <td>0.0</td>\n",
       "      <td>0.0</td>\n",
       "    </tr>\n",
       "    <tr>\n",
       "      <th>bbc</th>\n",
       "      <td>0.0</td>\n",
       "      <td>0.0</td>\n",
       "      <td>0.0</td>\n",
       "      <td>1.0</td>\n",
       "      <td>0.0</td>\n",
       "      <td>0.0</td>\n",
       "      <td>2.0</td>\n",
       "      <td>1.0</td>\n",
       "      <td>0.0</td>\n",
       "      <td>1.0</td>\n",
       "      <td>...</td>\n",
       "      <td>1.0</td>\n",
       "      <td>0.0</td>\n",
       "      <td>1.0</td>\n",
       "      <td>0.0</td>\n",
       "      <td>0.0</td>\n",
       "      <td>1.0</td>\n",
       "      <td>0.0</td>\n",
       "      <td>0.0</td>\n",
       "      <td>0.0</td>\n",
       "      <td>0.0</td>\n",
       "    </tr>\n",
       "    <tr>\n",
       "      <th>breitbart</th>\n",
       "      <td>0.0</td>\n",
       "      <td>0.0</td>\n",
       "      <td>0.0</td>\n",
       "      <td>0.0</td>\n",
       "      <td>1.0</td>\n",
       "      <td>0.0</td>\n",
       "      <td>0.0</td>\n",
       "      <td>0.0</td>\n",
       "      <td>0.0</td>\n",
       "      <td>0.0</td>\n",
       "      <td>...</td>\n",
       "      <td>1.0</td>\n",
       "      <td>1.0</td>\n",
       "      <td>0.0</td>\n",
       "      <td>1.0</td>\n",
       "      <td>0.0</td>\n",
       "      <td>1.0</td>\n",
       "      <td>0.0</td>\n",
       "      <td>0.0</td>\n",
       "      <td>0.0</td>\n",
       "      <td>0.0</td>\n",
       "    </tr>\n",
       "    <tr>\n",
       "      <th>cnn</th>\n",
       "      <td>0.0</td>\n",
       "      <td>0.0</td>\n",
       "      <td>0.0</td>\n",
       "      <td>0.0</td>\n",
       "      <td>0.0</td>\n",
       "      <td>0.0</td>\n",
       "      <td>1.0</td>\n",
       "      <td>0.0</td>\n",
       "      <td>0.0</td>\n",
       "      <td>0.0</td>\n",
       "      <td>...</td>\n",
       "      <td>0.0</td>\n",
       "      <td>0.0</td>\n",
       "      <td>0.0</td>\n",
       "      <td>0.0</td>\n",
       "      <td>0.0</td>\n",
       "      <td>0.0</td>\n",
       "      <td>0.0</td>\n",
       "      <td>0.0</td>\n",
       "      <td>1.0</td>\n",
       "      <td>0.0</td>\n",
       "    </tr>\n",
       "    <tr>\n",
       "      <th>fox</th>\n",
       "      <td>1.0</td>\n",
       "      <td>1.0</td>\n",
       "      <td>1.0</td>\n",
       "      <td>0.0</td>\n",
       "      <td>1.0</td>\n",
       "      <td>0.0</td>\n",
       "      <td>1.0</td>\n",
       "      <td>1.0</td>\n",
       "      <td>0.0</td>\n",
       "      <td>0.0</td>\n",
       "      <td>...</td>\n",
       "      <td>0.0</td>\n",
       "      <td>0.0</td>\n",
       "      <td>0.0</td>\n",
       "      <td>0.0</td>\n",
       "      <td>1.0</td>\n",
       "      <td>0.0</td>\n",
       "      <td>1.0</td>\n",
       "      <td>2.0</td>\n",
       "      <td>0.0</td>\n",
       "      <td>1.0</td>\n",
       "    </tr>\n",
       "  </tbody>\n",
       "</table>\n",
       "<p>5 rows × 658 columns</p>\n",
       "</div>"
      ],
      "text/plain": [
       "             1  108   11   12   15  15member   18    2   28   2r  ...  weeks  \\\n",
       "aljazeera  0.0  0.0  0.0  0.0  0.0       1.0  2.0  2.0  1.0  0.0  ...    0.0   \n",
       "bbc        0.0  0.0  0.0  1.0  0.0       0.0  2.0  1.0  0.0  1.0  ...    1.0   \n",
       "breitbart  0.0  0.0  0.0  0.0  1.0       0.0  0.0  0.0  0.0  0.0  ...    1.0   \n",
       "cnn        0.0  0.0  0.0  0.0  0.0       0.0  1.0  0.0  0.0  0.0  ...    0.0   \n",
       "fox        1.0  1.0  1.0  0.0  1.0       0.0  1.0  1.0  0.0  0.0  ...    0.0   \n",
       "\n",
       "           white  widely  withheld  woods  world  worse  writer  yalova  \\\n",
       "aljazeera    0.0     0.0       0.0    0.0    0.0    0.0     0.0     0.0   \n",
       "bbc          0.0     1.0       0.0    0.0    1.0    0.0     0.0     0.0   \n",
       "breitbart    1.0     0.0       1.0    0.0    1.0    0.0     0.0     0.0   \n",
       "cnn          0.0     0.0       0.0    0.0    0.0    0.0     0.0     1.0   \n",
       "fox          0.0     0.0       0.0    1.0    0.0    1.0     2.0     0.0   \n",
       "\n",
       "           yelova  \n",
       "aljazeera     0.0  \n",
       "bbc           0.0  \n",
       "breitbart     0.0  \n",
       "cnn           0.0  \n",
       "fox           1.0  \n",
       "\n",
       "[5 rows x 658 columns]"
      ]
     },
     "execution_count": 13,
     "metadata": {},
     "output_type": "execute_result"
    }
   ],
   "source": [
    "## check it out!\n",
    "\n",
    "DTM"
   ]
  },
  {
   "cell_type": "markdown",
   "metadata": {},
   "source": [
    "# Compare Data"
   ]
  },
  {
   "cell_type": "code",
   "execution_count": 14,
   "metadata": {},
   "outputs": [],
   "source": [
    "def cosine(a,b):\n",
    "    '''\n",
    "    Function: Compare vectors and return similiarity between 0 to 1\n",
    "    \n",
    "    Input: Two vectors/lists (a,b)\n",
    "    Output: float, number between 0 and 1\n",
    "    \n",
    "    '''\n",
    "    cos = np.dot(a,b)/(np.sqrt(np.dot(a,a)) * np.sqrt(np.dot(b,b))  )\n",
    "    return cos"
   ]
  },
  {
   "cell_type": "code",
   "execution_count": 15,
   "metadata": {},
   "outputs": [],
   "source": [
    "# New dataframe for cosine similiarities, with dimensions of DTM indexes \n",
    "index = DTM.index.values\n",
    "columns = DTM.index.values\n",
    "\n",
    "cosine_matrix = pd.DataFrame(index = index, columns = columns)\n"
   ]
  },
  {
   "cell_type": "code",
   "execution_count": 16,
   "metadata": {},
   "outputs": [],
   "source": [
    "## loop through combinations and fill cosine matrix\n",
    "\n",
    "for column in cosine_matrix.columns:\n",
    "    for row in cosine_matrix.index:\n",
    "        cosine_matrix.loc[row, column] = cosine(DTM.loc[row], DTM.loc[column])\n"
   ]
  },
  {
   "cell_type": "code",
   "execution_count": 65,
   "metadata": {},
   "outputs": [
    {
     "data": {
      "text/html": [
       "<div>\n",
       "<style scoped>\n",
       "    .dataframe tbody tr th:only-of-type {\n",
       "        vertical-align: middle;\n",
       "    }\n",
       "\n",
       "    .dataframe tbody tr th {\n",
       "        vertical-align: top;\n",
       "    }\n",
       "\n",
       "    .dataframe thead th {\n",
       "        text-align: right;\n",
       "    }\n",
       "</style>\n",
       "<table border=\"1\" class=\"dataframe\">\n",
       "  <thead>\n",
       "    <tr style=\"text-align: right;\">\n",
       "      <th></th>\n",
       "      <th>aljazeera</th>\n",
       "      <th>bbc</th>\n",
       "      <th>breitbart</th>\n",
       "      <th>cnn</th>\n",
       "      <th>fox</th>\n",
       "    </tr>\n",
       "  </thead>\n",
       "  <tbody>\n",
       "    <tr>\n",
       "      <th>aljazeera</th>\n",
       "      <td>1.000000</td>\n",
       "      <td>0.678938</td>\n",
       "      <td>0.598039</td>\n",
       "      <td>0.533123</td>\n",
       "      <td>0.695217</td>\n",
       "    </tr>\n",
       "    <tr>\n",
       "      <th>bbc</th>\n",
       "      <td>0.678938</td>\n",
       "      <td>1.000000</td>\n",
       "      <td>0.596260</td>\n",
       "      <td>0.503919</td>\n",
       "      <td>0.645459</td>\n",
       "    </tr>\n",
       "    <tr>\n",
       "      <th>breitbart</th>\n",
       "      <td>0.598039</td>\n",
       "      <td>0.596260</td>\n",
       "      <td>1.000000</td>\n",
       "      <td>0.377132</td>\n",
       "      <td>0.552834</td>\n",
       "    </tr>\n",
       "    <tr>\n",
       "      <th>cnn</th>\n",
       "      <td>0.533123</td>\n",
       "      <td>0.503919</td>\n",
       "      <td>0.377132</td>\n",
       "      <td>1.000000</td>\n",
       "      <td>0.534126</td>\n",
       "    </tr>\n",
       "    <tr>\n",
       "      <th>fox</th>\n",
       "      <td>0.695217</td>\n",
       "      <td>0.645459</td>\n",
       "      <td>0.552834</td>\n",
       "      <td>0.534126</td>\n",
       "      <td>1.000000</td>\n",
       "    </tr>\n",
       "  </tbody>\n",
       "</table>\n",
       "</div>"
      ],
      "text/plain": [
       "           aljazeera       bbc  breitbart       cnn       fox\n",
       "aljazeera   1.000000  0.678938   0.598039  0.533123  0.695217\n",
       "bbc         0.678938  1.000000   0.596260  0.503919  0.645459\n",
       "breitbart   0.598039  0.596260   1.000000  0.377132  0.552834\n",
       "cnn         0.533123  0.503919   0.377132  1.000000  0.534126\n",
       "fox         0.695217  0.645459   0.552834  0.534126  1.000000"
      ]
     },
     "execution_count": 65,
     "metadata": {},
     "output_type": "execute_result"
    }
   ],
   "source": [
    "## turn values into floats and take a look\n",
    "cosine_matrix = cosine_matrix.astype(float)\n",
    "cosine_matrix"
   ]
  },
  {
   "cell_type": "markdown",
   "metadata": {},
   "source": [
    "# Analyze"
   ]
  },
  {
   "cell_type": "code",
   "execution_count": 61,
   "metadata": {},
   "outputs": [
    {
     "data": {
      "text/plain": [
       "<matplotlib.axes._subplots.AxesSubplot at 0x13f6d510c70>"
      ]
     },
     "execution_count": 61,
     "metadata": {},
     "output_type": "execute_result"
    },
    {
     "data": {
      "image/png": "[encoded data removed]",
      "text/plain": [
       "<Figure size 432x288 with 2 Axes>"
      ]
     },
     "metadata": {
      "needs_background": "light"
     },
     "output_type": "display_data"
    }
   ],
   "source": [
    "## heatmap based on similarities \n",
    "cosine_matrix= cosine_matrix.astype(float)\n",
    "sns.heatmap(cosine_matrix, annot = True)"
   ]
  },
  {
   "cell_type": "markdown",
   "metadata": {},
   "source": [
    "##### Most Similiarty\n",
    "\n",
    "Fox and Aljazeera: (.70)\n",
    "\n",
    "BBC and Aljazeera: (.68) \n",
    "This makes sense, both are non-USA based organizations."
   ]
  },
  {
   "cell_type": "markdown",
   "metadata": {},
   "source": [
    "##### Least Similiarty\n",
    "\n",
    "CNN and Breitbart: (.38)\n",
    "Stereotypically, CNN leans left and Breitbart leans right."
   ]
  }
 ],
 "metadata": {
  "kernelspec": {
   "display_name": "Python 3",
   "language": "python",
   "name": "python3"
  },
  "language_info": {
   "codemirror_mode": {
    "name": "ipython",
    "version": 3
   },
   "file_extension": ".py",
   "mimetype": "text/x-python",
   "name": "python",
   "nbconvert_exporter": "python",
   "pygments_lexer": "ipython3",
   "version": "3.8.3"
  }
 },
 "nbformat": 4,
 "nbformat_minor": 4
}
