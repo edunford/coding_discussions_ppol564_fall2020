{
 "cells": [
  {
   "cell_type": "code",
   "execution_count": 3,
   "metadata": {},
   "outputs": [],
   "source": [
    "#import the packages, I used re package to remove punctuations, math package to calculate square root and os package to find the file\n",
    "import numpy as np\n",
    "import pandas as pd\n",
    "import requests\n",
    "import os\n",
    "import re\n",
    "import math"
   ]
  },
  {
   "cell_type": "code",
   "execution_count": 9,
   "metadata": {},
   "outputs": [],
   "source": [
    "#read data\n",
    "os.chdir(r'/Users/ruyiyang/Desktop/coding_discussions_ppol564_fall2020/04_coding_discussion/Data')\n",
    "alj = open(\"aljazeera-khashoggi.txt\", 'r', encoding = \"UTF-8\").read().replace(\"\\n\", \" \")\n",
    "bbc = open('bbc-khashoggi.txt', 'r', encoding = \"UTF-8\").read().replace(\"\\n\", \" \")\n",
    "bre = open('breitbart-khashoggi.txt', 'r', encoding = \"UTF-8\").read().replace(\"\\n\", \" \")\n",
    "cnn = open('cnn-khashoggi.txt', 'r', encoding = \"UTF-8\").read().replace(\"\\n\", \" \")\n",
    "fox = open('fox-khashoggi.txt', 'r', encoding = \"UTF-8\").read().replace(\"\\n\", \" \")\n",
    "stop_word_table = pd.read_csv('stop_words.csv')"
   ]
  },
  {
   "cell_type": "code",
   "execution_count": 10,
   "metadata": {},
   "outputs": [],
   "source": [
    "#make the stop word to list \n",
    "stop_word =stop_word_table[\"word\"].to_list()\n"
   ]
  },
  {
   "cell_type": "code",
   "execution_count": 11,
   "metadata": {},
   "outputs": [],
   "source": [
    "\n",
    "def tokenize(text=None):\n",
    "    '''\n",
    "    remove the words which are in stop_words and remove punctuations from the tokens\n",
    "    convert word in str to tokens\n",
    "    return a dictionary indicating the occurance of each tokens\n",
    "    '''\n",
    "    d = dict()\n",
    "    text = text.lower()\n",
    "    text = re.sub(r\"[^\\w\\s]+\", '', text) \n",
    "    text_list = text.split()\n",
    "    text_list = list(filter(lambda a: a not in stop_word, text_list))\n",
    "    for word in text_list:\n",
    "        if word in d:\n",
    "            d[word][0] += 1\n",
    "        else:\n",
    "            d[word] = [1]\n",
    "\n",
    "    return d\n",
    "\n"
   ]
  },
  {
   "cell_type": "code",
   "execution_count": 12,
   "metadata": {},
   "outputs": [],
   "source": [
    "def dftable(texts = None):\n",
    "    '''\n",
    "    return a dataframe of tokenized values from all news files\n",
    "    '''\n",
    "    DTM = pd.DataFrame()\n",
    "    for text in texts:\n",
    "        entry = tokenize(text)\n",
    "        DTM = DTM.append(pd.DataFrame(entry),ignore_index=True,sort=True) # Row bind\n",
    "    \n",
    "    DTM.fillna(0, inplace=True)\n",
    "    return DTM\n",
    "#generate the table of tokenized value from the 5 news sources       \n",
    "final = dftable([alj,bbc,bre,cnn,fox]) \n",
    "#rename the table for easier understand\n",
    "final = final.rename({0: \"aljazeera\", 1: \"bbc\",2:\"breitbart\",3:\"cnn\",4:\"fox\"}, axis='index')"
   ]
  },
  {
   "cell_type": "code",
   "execution_count": 13,
   "metadata": {},
   "outputs": [],
   "source": [
    "def cos(a = None, b = None):\n",
    "    '''\n",
    "    follows the mathematical way of calculatiing the angle between vectors\n",
    "    return the cosine value between two vectors\n",
    "    '''\n",
    "    sum1 = 0\n",
    "    sum2 = 0\n",
    "    sum3 = 0\n",
    "    \n",
    "    for i in range(len(a)):\n",
    "        sum1 += a[i]*b[i]\n",
    "        sum2 += (a[i])**2\n",
    "        sum3 += (b[i])**2\n",
    "    \n",
    "    return sum1/(math.sqrt(sum2)*math.sqrt(sum3))    \n"
   ]
  },
  {
   "cell_type": "code",
   "execution_count": 14,
   "metadata": {},
   "outputs": [],
   "source": [
    "#generate a list of values in the tokenized table\n",
    "nlist = final.values.tolist()\n",
    "fillva = []\n",
    "#run a loop to calculate the cosine value between vectors\n",
    "for i in nlist:\n",
    "    for j in nlist:\n",
    "        fillva.append(cos(i,j))\n",
    "#break the list to nested lists\n",
    "fillva = [fillva[x:x+5] for x in range(0, len(fillva), 5)]\n"
   ]
  },
  {
   "cell_type": "code",
   "execution_count": 15,
   "metadata": {},
   "outputs": [],
   "source": [
    "#generate the cosine table and rename the index and columns of the table for better understand\n",
    "costable = pd.DataFrame(fillva, index=[\"aljazeera\", \"bbc\", \"breitbart\",\"cnn\",\"fox\"], columns=[\"aljazeera\", \"bbc\", \"breitbart\",\"cnn\",\"fox\"])"
   ]
  },
  {
   "cell_type": "code",
   "execution_count": 16,
   "metadata": {},
   "outputs": [
    {
     "data": {
      "text/html": [
       "<div>\n",
       "<style scoped>\n",
       "    .dataframe tbody tr th:only-of-type {\n",
       "        vertical-align: middle;\n",
       "    }\n",
       "\n",
       "    .dataframe tbody tr th {\n",
       "        vertical-align: top;\n",
       "    }\n",
       "\n",
       "    .dataframe thead th {\n",
       "        text-align: right;\n",
       "    }\n",
       "</style>\n",
       "<table border=\"1\" class=\"dataframe\">\n",
       "  <thead>\n",
       "    <tr style=\"text-align: right;\">\n",
       "      <th></th>\n",
       "      <th>aljazeera</th>\n",
       "      <th>bbc</th>\n",
       "      <th>breitbart</th>\n",
       "      <th>cnn</th>\n",
       "      <th>fox</th>\n",
       "    </tr>\n",
       "  </thead>\n",
       "  <tbody>\n",
       "    <tr>\n",
       "      <th>aljazeera</th>\n",
       "      <td>1.000000</td>\n",
       "      <td>0.678938</td>\n",
       "      <td>0.598039</td>\n",
       "      <td>0.533123</td>\n",
       "      <td>0.695217</td>\n",
       "    </tr>\n",
       "    <tr>\n",
       "      <th>bbc</th>\n",
       "      <td>0.678938</td>\n",
       "      <td>1.000000</td>\n",
       "      <td>0.596260</td>\n",
       "      <td>0.503919</td>\n",
       "      <td>0.645459</td>\n",
       "    </tr>\n",
       "    <tr>\n",
       "      <th>breitbart</th>\n",
       "      <td>0.598039</td>\n",
       "      <td>0.596260</td>\n",
       "      <td>1.000000</td>\n",
       "      <td>0.377132</td>\n",
       "      <td>0.552834</td>\n",
       "    </tr>\n",
       "    <tr>\n",
       "      <th>cnn</th>\n",
       "      <td>0.533123</td>\n",
       "      <td>0.503919</td>\n",
       "      <td>0.377132</td>\n",
       "      <td>1.000000</td>\n",
       "      <td>0.534126</td>\n",
       "    </tr>\n",
       "    <tr>\n",
       "      <th>fox</th>\n",
       "      <td>0.695217</td>\n",
       "      <td>0.645459</td>\n",
       "      <td>0.552834</td>\n",
       "      <td>0.534126</td>\n",
       "      <td>1.000000</td>\n",
       "    </tr>\n",
       "  </tbody>\n",
       "</table>\n",
       "</div>"
      ],
      "text/plain": [
       "           aljazeera       bbc  breitbart       cnn       fox\n",
       "aljazeera   1.000000  0.678938   0.598039  0.533123  0.695217\n",
       "bbc         0.678938  1.000000   0.596260  0.503919  0.645459\n",
       "breitbart   0.598039  0.596260   1.000000  0.377132  0.552834\n",
       "cnn         0.533123  0.503919   0.377132  1.000000  0.534126\n",
       "fox         0.695217  0.645459   0.552834  0.534126  1.000000"
      ]
     },
     "execution_count": 16,
     "metadata": {},
     "output_type": "execute_result"
    }
   ],
   "source": [
    "costable"
   ]
  },
  {
   "cell_type": "markdown",
   "metadata": {},
   "source": [
    "# Discussion\n",
    "From the table we can find that these news sites vectors generally has a cosine value more than 0.5, which indicates that these news sites report the news in a similar way. Among these data, Alijazeera and Fox and the highest cosine value which is 0.695 and Alijazeera generally has the highest coosine value with other US news sites, which might because the middle-east news publishers are influenced by the United States news sites. CNN has on average the most dissimilar report compared with others. My report would be changed if I remove the words of high frequence such as \"Khashoggi\" and \"Erdogan\"."
   ]
  },
  {
   "cell_type": "code",
   "execution_count": null,
   "metadata": {},
   "outputs": [],
   "source": []
  }
 ],
 "metadata": {
  "kernelspec": {
   "display_name": "Python 3",
   "language": "python",
   "name": "python3"
  },
  "language_info": {
   "codemirror_mode": {
    "name": "ipython",
    "version": 3
   },
   "file_extension": ".py",
   "mimetype": "text/x-python",
   "name": "python",
   "nbconvert_exporter": "python",
   "pygments_lexer": "ipython3",
   "version": "3.8.3"
  }
 },
 "nbformat": 4,
 "nbformat_minor": 4
}
