{
 "metadata": {
  "language_info": {
   "codemirror_mode": {
    "name": "ipython",
    "version": 3
   },
   "file_extension": ".py",
   "mimetype": "text/x-python",
   "name": "python",
   "nbconvert_exporter": "python",
   "pygments_lexer": "ipython3",
   "version": "3.8.2-final"
  },
  "orig_nbformat": 2,
  "kernelspec": {
   "name": "python3",
   "display_name": "Python 3"
  }
 },
 "nbformat": 4,
 "nbformat_minor": 2,
 "cells": [
  {
   "cell_type": "code",
   "execution_count": 275,
   "metadata": {},
   "outputs": [],
   "source": [
    "import os\n",
    "import numpy as np\n",
    "import pandas as pd"
   ]
  },
  {
   "source": [
    "## Load the Data"
   ],
   "cell_type": "markdown",
   "metadata": {}
  },
  {
   "cell_type": "code",
   "execution_count": 276,
   "metadata": {},
   "outputs": [],
   "source": [
    "# Load the txt files\n",
    "aljazeera = open(\"../Data/aljazeera-khashoggi.txt\", 'r')\n",
    "bbc = open(\"../Data/bbc-khashoggi.txt\", 'r')\n",
    "breitbart = open(\"../Data/breitbart-khashoggi.txt\", 'r')\n",
    "cnn = open(\"../Data/cnn-khashoggi.txt\", 'r')\n",
    "fox = open(\"../Data/fox-khashoggi.txt\", 'r')"
   ]
  },
  {
   "cell_type": "code",
   "execution_count": 277,
   "metadata": {},
   "outputs": [],
   "source": [
    "# Pull the content from each article and save them as individual objects of type string\n",
    "aljazeera_content = aljazeera.read()\n",
    "bbc_content = bbc.read()\n",
    "breitbart_content = breitbart.read()\n",
    "cnn_content = cnn.read()\n",
    "fox_content = fox.read()"
   ]
  },
  {
   "cell_type": "code",
   "execution_count": 278,
   "metadata": {},
   "outputs": [],
   "source": [
    "# Now that we've pulled the content we want, close the txt files\n",
    "aljazeera.close()\n",
    "bbc.close()\n",
    "breitbart.close()\n",
    "cnn.close()\n",
    "fox.close()"
   ]
  },
  {
   "cell_type": "code",
   "execution_count": 279,
   "metadata": {},
   "outputs": [],
   "source": [
    "# Load stopwords and turn them into a list we can use to exclude them\n",
    "stopwords = pd.read_csv(\"../Data/stop_words.csv\")\n",
    "stopwords_list = stopwords.word.tolist()"
   ]
  },
  {
   "source": [
    "## Build the functions"
   ],
   "cell_type": "markdown",
   "metadata": {}
  },
  {
   "cell_type": "code",
   "execution_count": 280,
   "metadata": {},
   "outputs": [],
   "source": [
    "# Build a function that turns each article into a list of its words\n",
    "def tokenize(text=None):\n",
    "    \"\"\"Takes as an input a collection of text as a string, removes punctuation and capitalization, and returns a list of the individual words within the text.\"\"\"\n",
    "    #Clean the text, turning all letters into lower case and removing punctuation\n",
    "    text = text.lower()\n",
    "    text = text.replace('.','')\n",
    "    text = text.replace(\",\", \"\")\n",
    "    text = text.replace(\"\\\"\", \"\")\n",
    "    text = text.replace(\"'s\", \"\")\n",
    "    text = text.replace(\"'\", \"\")\n",
    "    text = text.replace(\"-\", \"\")\n",
    "    text = text.replace(\"“\", \"\")\n",
    "    text = text.replace(\"”\", \"\")\n",
    "    text = text.replace(\"—\", \"\")\n",
    "    text = text.replace(\"?\", \"\")\n",
    "    text = text.replace(\";\", \"\")\n",
    "    text = text.replace(\"(\", \"\")\n",
    "    text = text.replace(\")\", \"\")\n",
    "    text = text.replace(\"[\", \"\")\n",
    "    text = text.replace(\"]\", \"\")\n",
    "    text = text.replace(\"{\", \"\")\n",
    "    text = text.replace(\"}\", \"\")\n",
    "    # Split the now cleaned string into a list of individual words\n",
    "    text_list = text.split()\n",
    "    # Remove stop words from the list\n",
    "    text_list2 = [word for word in text_list if word not in stopwords_list]\n",
    "    return text_list2"
   ]
  },
  {
   "cell_type": "code",
   "execution_count": 281,
   "metadata": {},
   "outputs": [],
   "source": [
    "# Using the above function, build a new function that converts a text into a Document Term Matrix\n",
    "def convert_text_to_dtm(txt):\n",
    "    \"\"\"Takes as an input a string and returns a document term matrix containing the number of times each word appears in the text.\"\"\"\n",
    "    d = dict()\n",
    "    for word in tokenize(txt):\n",
    "        if word in d:\n",
    "            d[word][0] += 1\n",
    "        else:\n",
    "            d[word] = [1]\n",
    "    return pd.DataFrame(d)"
   ]
  },
  {
   "cell_type": "code",
   "execution_count": 282,
   "metadata": {},
   "outputs": [],
   "source": [
    "def gen_DTM(texts=None):\n",
    "    \"\"\"Takes as an input a list of texts and returns a document term matrix where each row represents the individual text collection.\"\"\"\n",
    "    DTM = pd.DataFrame()\n",
    "    for text in texts:\n",
    "        entry = convert_text_to_dtm(text)\n",
    "        DTM = DTM.append(pd.DataFrame(entry),ignore_index=True,sort=True) # Row bind\n",
    "    DTM.fillna(0, inplace=True) # Fill in any missing values with 0s (i.e. when a word is in one text but not another)\n",
    "    return DTM"
   ]
  },
  {
   "source": [
    "## Run the Analysis"
   ],
   "cell_type": "markdown",
   "metadata": {}
  },
  {
   "cell_type": "code",
   "execution_count": 283,
   "metadata": {},
   "outputs": [],
   "source": [
    "# Generate the Document Term Matrix for all 5 articles\n",
    "DTM = gen_DTM([aljazeera_content, bbc_content, breitbart_content, cnn_content, fox_content])"
   ]
  },
  {
   "cell_type": "code",
   "execution_count": 284,
   "metadata": {},
   "outputs": [
    {
     "output_type": "execute_result",
     "data": {
      "text/plain": [
       "   $50bn    1   11   12   15  15member   18  1:08    2   28  ...  white  \\\n",
       "0    0.0  0.0  0.0  0.0  0.0       1.0  2.0   0.0  2.0  1.0  ...    0.0   \n",
       "1    1.0  0.0  0.0  1.0  0.0       0.0  2.0   0.0  1.0  0.0  ...    0.0   \n",
       "2    0.0  0.0  0.0  0.0  1.0       0.0  0.0   0.0  0.0  0.0  ...    1.0   \n",
       "3    0.0  0.0  0.0  0.0  0.0       0.0  1.0   0.0  0.0  0.0  ...    0.0   \n",
       "4    0.0  1.0  1.0  0.0  1.0       0.0  1.0   1.0  1.0  0.0  ...    0.0   \n",
       "\n",
       "   widely  withheld  woods  world  worse  writer  yalova  yelova  £385bn  \n",
       "0     0.0       0.0    0.0    0.0    0.0     0.0     0.0     0.0     0.0  \n",
       "1     1.0       0.0    0.0    1.0    0.0     0.0     0.0     0.0     1.0  \n",
       "2     0.0       1.0    0.0    1.0    0.0     0.0     0.0     0.0     0.0  \n",
       "3     0.0       0.0    0.0    0.0    0.0     0.0     1.0     0.0     0.0  \n",
       "4     0.0       0.0    1.0    0.0    1.0     2.0     0.0     1.0     0.0  \n",
       "\n",
       "[5 rows x 654 columns]"
      ],
      "text/html": "<div>\n<style scoped>\n    .dataframe tbody tr th:only-of-type {\n        vertical-align: middle;\n    }\n\n    .dataframe tbody tr th {\n        vertical-align: top;\n    }\n\n    .dataframe thead th {\n        text-align: right;\n    }\n</style>\n<table border=\"1\" class=\"dataframe\">\n  <thead>\n    <tr style=\"text-align: right;\">\n      <th></th>\n      <th>$50bn</th>\n      <th>1</th>\n      <th>11</th>\n      <th>12</th>\n      <th>15</th>\n      <th>15member</th>\n      <th>18</th>\n      <th>1:08</th>\n      <th>2</th>\n      <th>28</th>\n      <th>...</th>\n      <th>white</th>\n      <th>widely</th>\n      <th>withheld</th>\n      <th>woods</th>\n      <th>world</th>\n      <th>worse</th>\n      <th>writer</th>\n      <th>yalova</th>\n      <th>yelova</th>\n      <th>£385bn</th>\n    </tr>\n  </thead>\n  <tbody>\n    <tr>\n      <th>0</th>\n      <td>0.0</td>\n      <td>0.0</td>\n      <td>0.0</td>\n      <td>0.0</td>\n      <td>0.0</td>\n      <td>1.0</td>\n      <td>2.0</td>\n      <td>0.0</td>\n      <td>2.0</td>\n      <td>1.0</td>\n      <td>...</td>\n      <td>0.0</td>\n      <td>0.0</td>\n      <td>0.0</td>\n      <td>0.0</td>\n      <td>0.0</td>\n      <td>0.0</td>\n      <td>0.0</td>\n      <td>0.0</td>\n      <td>0.0</td>\n      <td>0.0</td>\n    </tr>\n    <tr>\n      <th>1</th>\n      <td>1.0</td>\n      <td>0.0</td>\n      <td>0.0</td>\n      <td>1.0</td>\n      <td>0.0</td>\n      <td>0.0</td>\n      <td>2.0</td>\n      <td>0.0</td>\n      <td>1.0</td>\n      <td>0.0</td>\n      <td>...</td>\n      <td>0.0</td>\n      <td>1.0</td>\n      <td>0.0</td>\n      <td>0.0</td>\n      <td>1.0</td>\n      <td>0.0</td>\n      <td>0.0</td>\n      <td>0.0</td>\n      <td>0.0</td>\n      <td>1.0</td>\n    </tr>\n    <tr>\n      <th>2</th>\n      <td>0.0</td>\n      <td>0.0</td>\n      <td>0.0</td>\n      <td>0.0</td>\n      <td>1.0</td>\n      <td>0.0</td>\n      <td>0.0</td>\n      <td>0.0</td>\n      <td>0.0</td>\n      <td>0.0</td>\n      <td>...</td>\n      <td>1.0</td>\n      <td>0.0</td>\n      <td>1.0</td>\n      <td>0.0</td>\n      <td>1.0</td>\n      <td>0.0</td>\n      <td>0.0</td>\n      <td>0.0</td>\n      <td>0.0</td>\n      <td>0.0</td>\n    </tr>\n    <tr>\n      <th>3</th>\n      <td>0.0</td>\n      <td>0.0</td>\n      <td>0.0</td>\n      <td>0.0</td>\n      <td>0.0</td>\n      <td>0.0</td>\n      <td>1.0</td>\n      <td>0.0</td>\n      <td>0.0</td>\n      <td>0.0</td>\n      <td>...</td>\n      <td>0.0</td>\n      <td>0.0</td>\n      <td>0.0</td>\n      <td>0.0</td>\n      <td>0.0</td>\n      <td>0.0</td>\n      <td>0.0</td>\n      <td>1.0</td>\n      <td>0.0</td>\n      <td>0.0</td>\n    </tr>\n    <tr>\n      <th>4</th>\n      <td>0.0</td>\n      <td>1.0</td>\n      <td>1.0</td>\n      <td>0.0</td>\n      <td>1.0</td>\n      <td>0.0</td>\n      <td>1.0</td>\n      <td>1.0</td>\n      <td>1.0</td>\n      <td>0.0</td>\n      <td>...</td>\n      <td>0.0</td>\n      <td>0.0</td>\n      <td>0.0</td>\n      <td>1.0</td>\n      <td>0.0</td>\n      <td>1.0</td>\n      <td>2.0</td>\n      <td>0.0</td>\n      <td>1.0</td>\n      <td>0.0</td>\n    </tr>\n  </tbody>\n</table>\n<p>5 rows × 654 columns</p>\n</div>"
     },
     "metadata": {},
     "execution_count": 284
    }
   ],
   "source": [
    "# View the DTM\n",
    "DTM"
   ]
  },
  {
   "cell_type": "code",
   "execution_count": 285,
   "metadata": {},
   "outputs": [],
   "source": [
    "# Save the values of each row of the DTM as a numpy array so that we can compare vectors \n",
    "aljazeera=DTM.iloc[0].values\n",
    "bbc=DTM.iloc[1].values\n",
    "breitbart=DTM.iloc[2].values\n",
    "cnn=DTM.iloc[3].values\n",
    "fox=DTM.iloc[4].values "
   ]
  },
  {
   "cell_type": "code",
   "execution_count": 286,
   "metadata": {},
   "outputs": [],
   "source": [
    "# Build a function that uses the dot product to calculate the cosine similarity of two arrays\n",
    "def cosine(a,b):\n",
    "    'This function takes in two series of values and calculates the cosine.'\n",
    "    cos = np.dot(a,b)/(np.sqrt(np.dot(a,a)) * np.sqrt(np.dot(b,b))  )\n",
    "    return cos"
   ]
  },
  {
   "cell_type": "code",
   "execution_count": 287,
   "metadata": {},
   "outputs": [
    {
     "output_type": "stream",
     "name": "stdout",
     "text": [
      "0.704951931053164\n0.5881235927091389\n0.5904843154184692\n0.7132817551762246\n0.5881765519910633\n0.556742328214592\n0.6661164572454468\n0.3748292282438769\n0.5502071308388471\n0.5621407236219644\n"
     ]
    }
   ],
   "source": [
    "# Calculate and print the cosine similarity of each array as a preliminary result\n",
    "print(cosine(aljazeera,bbc))\n",
    "print(cosine(aljazeera,breitbart))\n",
    "print(cosine(aljazeera,cnn))\n",
    "print(cosine(aljazeera,fox))\n",
    "print(cosine(bbc,breitbart))\n",
    "print(cosine(bbc,cnn))\n",
    "print(cosine (bbc,fox))\n",
    "print(cosine (breitbart,cnn))\n",
    "print(cosine(breitbart,fox))\n",
    "print(cosine(cnn,fox))"
   ]
  },
  {
   "cell_type": "code",
   "execution_count": 288,
   "metadata": {},
   "outputs": [],
   "source": [
    "# To make the results easier to read place them in a data frame\n",
    "# Create an empty dataframe to populate with the cosine values\n",
    "cosine_df = pd.DataFrame(index=DTM.index.values, columns = DTM.index.values)"
   ]
  },
  {
   "cell_type": "code",
   "execution_count": 289,
   "metadata": {},
   "outputs": [],
   "source": [
    "# Each row and column of the dataframe will correspond to an outlet, and each value in the dataframe will be the corresponding cosine similarity of the intersecting row and column\n",
    "# Itterate through the rows of the cosine dataframe and fill in each value with the cosine that corresponds to the row/column pair\n",
    "for outlet, cos in cosine_df.iterrows():\n",
    "    for i, f in enumerate(cos):\n",
    "        cosine_df.loc[outlet,i] = cosine(DTM.iloc[outlet],DTM.iloc[i])"
   ]
  },
  {
   "cell_type": "code",
   "execution_count": 290,
   "metadata": {},
   "outputs": [],
   "source": [
    "# Set the index and column names to the outlets they correspond to\n",
    "cosine_df.index = ['aljazeera', 'bbc', 'breitbart', 'cnn', 'fox']\n",
    "cosine_df.columns = ['aljazeera', 'bbc', 'breitbart', 'cnn', 'fox']"
   ]
  },
  {
   "cell_type": "code",
   "execution_count": 291,
   "metadata": {},
   "outputs": [
    {
     "output_type": "execute_result",
     "data": {
      "text/plain": [
       "          aljazeera       bbc breitbart       cnn       fox\n",
       "aljazeera         1  0.704952  0.588124  0.590484  0.713282\n",
       "bbc        0.704952         1  0.588177  0.556742  0.666116\n",
       "breitbart  0.588124  0.588177         1  0.374829  0.550207\n",
       "cnn        0.590484  0.556742  0.374829         1  0.562141\n",
       "fox        0.713282  0.666116  0.550207  0.562141         1"
      ],
      "text/html": "<div>\n<style scoped>\n    .dataframe tbody tr th:only-of-type {\n        vertical-align: middle;\n    }\n\n    .dataframe tbody tr th {\n        vertical-align: top;\n    }\n\n    .dataframe thead th {\n        text-align: right;\n    }\n</style>\n<table border=\"1\" class=\"dataframe\">\n  <thead>\n    <tr style=\"text-align: right;\">\n      <th></th>\n      <th>aljazeera</th>\n      <th>bbc</th>\n      <th>breitbart</th>\n      <th>cnn</th>\n      <th>fox</th>\n    </tr>\n  </thead>\n  <tbody>\n    <tr>\n      <th>aljazeera</th>\n      <td>1</td>\n      <td>0.704952</td>\n      <td>0.588124</td>\n      <td>0.590484</td>\n      <td>0.713282</td>\n    </tr>\n    <tr>\n      <th>bbc</th>\n      <td>0.704952</td>\n      <td>1</td>\n      <td>0.588177</td>\n      <td>0.556742</td>\n      <td>0.666116</td>\n    </tr>\n    <tr>\n      <th>breitbart</th>\n      <td>0.588124</td>\n      <td>0.588177</td>\n      <td>1</td>\n      <td>0.374829</td>\n      <td>0.550207</td>\n    </tr>\n    <tr>\n      <th>cnn</th>\n      <td>0.590484</td>\n      <td>0.556742</td>\n      <td>0.374829</td>\n      <td>1</td>\n      <td>0.562141</td>\n    </tr>\n    <tr>\n      <th>fox</th>\n      <td>0.713282</td>\n      <td>0.666116</td>\n      <td>0.550207</td>\n      <td>0.562141</td>\n      <td>1</td>\n    </tr>\n  </tbody>\n</table>\n</div>"
     },
     "metadata": {},
     "execution_count": 291
    }
   ],
   "source": [
    "# View the dataframe\n",
    "cosine_df"
   ]
  },
  {
   "cell_type": "code",
   "execution_count": 292,
   "metadata": {},
   "outputs": [],
   "source": [
    "# What happens if we only use a portion of the stopwords?\n",
    "# Use only the first hundred stopwords in the list\n",
    "stopwords_list = stopwords_list[0:100]"
   ]
  },
  {
   "cell_type": "code",
   "execution_count": 293,
   "metadata": {},
   "outputs": [],
   "source": [
    "# Repeat the steps used to create the cosine matrix above, this time using the subsetted list of stopwords\n",
    "DTM2 = gen_DTM([aljazeera_content, bbc_content, breitbart_content, cnn_content, fox_content])\n",
    "cosine_df2 = pd.DataFrame(index=DTM2.index.values, columns = DTM2.index.values)\n",
    "for outlet, val in cosine_df2.iterrows():\n",
    "    for i, entry in enumerate(val):\n",
    "        cosine_df2.loc[outlet,i] = cosine(DTM2.iloc[outlet],DTM2.iloc[i])\n",
    "cosine_df2.index = ['aljazeera', 'bbc', 'breitbart', 'cnn', 'fox']\n",
    "cosine_df2.columns = ['aljazeera', 'bbc', 'breitbart', 'cnn', 'fox']"
   ]
  },
  {
   "cell_type": "code",
   "execution_count": 294,
   "metadata": {},
   "outputs": [
    {
     "output_type": "execute_result",
     "data": {
      "text/plain": [
       "          aljazeera       bbc breitbart       cnn       fox\n",
       "aljazeera         1  0.868758  0.831885  0.759642  0.839637\n",
       "bbc        0.868758         1  0.894565  0.758841  0.890772\n",
       "breitbart  0.831885  0.894565         1  0.679702   0.86858\n",
       "cnn        0.759642  0.758841  0.679702         1    0.7442\n",
       "fox        0.839637  0.890772   0.86858    0.7442         1"
      ],
      "text/html": "<div>\n<style scoped>\n    .dataframe tbody tr th:only-of-type {\n        vertical-align: middle;\n    }\n\n    .dataframe tbody tr th {\n        vertical-align: top;\n    }\n\n    .dataframe thead th {\n        text-align: right;\n    }\n</style>\n<table border=\"1\" class=\"dataframe\">\n  <thead>\n    <tr style=\"text-align: right;\">\n      <th></th>\n      <th>aljazeera</th>\n      <th>bbc</th>\n      <th>breitbart</th>\n      <th>cnn</th>\n      <th>fox</th>\n    </tr>\n  </thead>\n  <tbody>\n    <tr>\n      <th>aljazeera</th>\n      <td>1</td>\n      <td>0.868758</td>\n      <td>0.831885</td>\n      <td>0.759642</td>\n      <td>0.839637</td>\n    </tr>\n    <tr>\n      <th>bbc</th>\n      <td>0.868758</td>\n      <td>1</td>\n      <td>0.894565</td>\n      <td>0.758841</td>\n      <td>0.890772</td>\n    </tr>\n    <tr>\n      <th>breitbart</th>\n      <td>0.831885</td>\n      <td>0.894565</td>\n      <td>1</td>\n      <td>0.679702</td>\n      <td>0.86858</td>\n    </tr>\n    <tr>\n      <th>cnn</th>\n      <td>0.759642</td>\n      <td>0.758841</td>\n      <td>0.679702</td>\n      <td>1</td>\n      <td>0.7442</td>\n    </tr>\n    <tr>\n      <th>fox</th>\n      <td>0.839637</td>\n      <td>0.890772</td>\n      <td>0.86858</td>\n      <td>0.7442</td>\n      <td>1</td>\n    </tr>\n  </tbody>\n</table>\n</div>"
     },
     "metadata": {},
     "execution_count": 294
    }
   ],
   "source": [
    "# The cosine similarities go up when we use only the first 100 stopwords\n",
    "cosine_df2"
   ]
  },
  {
   "cell_type": "code",
   "execution_count": 295,
   "metadata": {},
   "outputs": [],
   "source": [
    "# What if instead of just slicing the stopwords list we create a new one with only the most common words?\n",
    "# Change the stopwords to be only the 15 most common words in the English language\n",
    "stopwords_list = ['the', 'of', 'and', 'a', 'to', 'in', 'is', 'you', 'that', 'it', 'he', 'was', 'for', 'on', 'are']"
   ]
  },
  {
   "cell_type": "code",
   "execution_count": 296,
   "metadata": {},
   "outputs": [],
   "source": [
    "# Repeat the steps above to create a cosine matrix now only using the new list of stopwords \n",
    "DTM3 = gen_DTM([aljazeera_content, bbc_content, breitbart_content, cnn_content, fox_content])\n",
    "cosine_df3 = pd.DataFrame(index=DTM3.index.values, columns = DTM3.index.values)\n",
    "for outlet, val in cosine_df3.iterrows():\n",
    "    for i, entry in enumerate(val):\n",
    "        cosine_df3.loc[outlet,i] = cosine(DTM3.iloc[outlet],DTM3.iloc[i])\n",
    "cosine_df3.index = ['aljazeera', 'bbc', 'breitbart', 'cnn', 'fox']\n",
    "cosine_df3.columns = ['aljazeera', 'bbc', 'breitbart', 'cnn', 'fox']"
   ]
  },
  {
   "cell_type": "code",
   "execution_count": 297,
   "metadata": {},
   "outputs": [
    {
     "output_type": "execute_result",
     "data": {
      "text/plain": [
       "          aljazeera       bbc breitbart       cnn       fox\n",
       "aljazeera         1  0.686816  0.580407   0.56097  0.659787\n",
       "bbc        0.686816         1  0.607498  0.539242   0.62512\n",
       "breitbart  0.580407  0.607498         1  0.380036   0.54145\n",
       "cnn         0.56097  0.539242  0.380036         1   0.51922\n",
       "fox        0.659787   0.62512   0.54145   0.51922         1"
      ],
      "text/html": "<div>\n<style scoped>\n    .dataframe tbody tr th:only-of-type {\n        vertical-align: middle;\n    }\n\n    .dataframe tbody tr th {\n        vertical-align: top;\n    }\n\n    .dataframe thead th {\n        text-align: right;\n    }\n</style>\n<table border=\"1\" class=\"dataframe\">\n  <thead>\n    <tr style=\"text-align: right;\">\n      <th></th>\n      <th>aljazeera</th>\n      <th>bbc</th>\n      <th>breitbart</th>\n      <th>cnn</th>\n      <th>fox</th>\n    </tr>\n  </thead>\n  <tbody>\n    <tr>\n      <th>aljazeera</th>\n      <td>1</td>\n      <td>0.686816</td>\n      <td>0.580407</td>\n      <td>0.56097</td>\n      <td>0.659787</td>\n    </tr>\n    <tr>\n      <th>bbc</th>\n      <td>0.686816</td>\n      <td>1</td>\n      <td>0.607498</td>\n      <td>0.539242</td>\n      <td>0.62512</td>\n    </tr>\n    <tr>\n      <th>breitbart</th>\n      <td>0.580407</td>\n      <td>0.607498</td>\n      <td>1</td>\n      <td>0.380036</td>\n      <td>0.54145</td>\n    </tr>\n    <tr>\n      <th>cnn</th>\n      <td>0.56097</td>\n      <td>0.539242</td>\n      <td>0.380036</td>\n      <td>1</td>\n      <td>0.51922</td>\n    </tr>\n    <tr>\n      <th>fox</th>\n      <td>0.659787</td>\n      <td>0.62512</td>\n      <td>0.54145</td>\n      <td>0.51922</td>\n      <td>1</td>\n    </tr>\n  </tbody>\n</table>\n</div>"
     },
     "metadata": {},
     "execution_count": 297
    }
   ],
   "source": [
    "# The similarity level goes down!\n",
    "cosine_df3"
   ]
  },
  {
   "source": [
    "## Interpret Results"
   ],
   "cell_type": "markdown",
   "metadata": {}
  },
  {
   "cell_type": "code",
   "execution_count": 298,
   "metadata": {},
   "outputs": [
    {
     "output_type": "execute_result",
     "data": {
      "text/plain": [
       "          aljazeera       bbc breitbart       cnn       fox\n",
       "aljazeera         1  0.704952  0.588124  0.590484  0.713282\n",
       "bbc        0.704952         1  0.588177  0.556742  0.666116\n",
       "breitbart  0.588124  0.588177         1  0.374829  0.550207\n",
       "cnn        0.590484  0.556742  0.374829         1  0.562141\n",
       "fox        0.713282  0.666116  0.550207  0.562141         1"
      ],
      "text/html": "<div>\n<style scoped>\n    .dataframe tbody tr th:only-of-type {\n        vertical-align: middle;\n    }\n\n    .dataframe tbody tr th {\n        vertical-align: top;\n    }\n\n    .dataframe thead th {\n        text-align: right;\n    }\n</style>\n<table border=\"1\" class=\"dataframe\">\n  <thead>\n    <tr style=\"text-align: right;\">\n      <th></th>\n      <th>aljazeera</th>\n      <th>bbc</th>\n      <th>breitbart</th>\n      <th>cnn</th>\n      <th>fox</th>\n    </tr>\n  </thead>\n  <tbody>\n    <tr>\n      <th>aljazeera</th>\n      <td>1</td>\n      <td>0.704952</td>\n      <td>0.588124</td>\n      <td>0.590484</td>\n      <td>0.713282</td>\n    </tr>\n    <tr>\n      <th>bbc</th>\n      <td>0.704952</td>\n      <td>1</td>\n      <td>0.588177</td>\n      <td>0.556742</td>\n      <td>0.666116</td>\n    </tr>\n    <tr>\n      <th>breitbart</th>\n      <td>0.588124</td>\n      <td>0.588177</td>\n      <td>1</td>\n      <td>0.374829</td>\n      <td>0.550207</td>\n    </tr>\n    <tr>\n      <th>cnn</th>\n      <td>0.590484</td>\n      <td>0.556742</td>\n      <td>0.374829</td>\n      <td>1</td>\n      <td>0.562141</td>\n    </tr>\n    <tr>\n      <th>fox</th>\n      <td>0.713282</td>\n      <td>0.666116</td>\n      <td>0.550207</td>\n      <td>0.562141</td>\n      <td>1</td>\n    </tr>\n  </tbody>\n</table>\n</div>"
     },
     "metadata": {},
     "execution_count": 298
    }
   ],
   "source": [
    "# the cosine matrix with all of the stop words\n",
    "cosine_df"
   ]
  },
  {
   "cell_type": "code",
   "execution_count": 299,
   "metadata": {},
   "outputs": [
    {
     "output_type": "execute_result",
     "data": {
      "text/plain": [
       "          aljazeera       bbc breitbart       cnn       fox\n",
       "aljazeera         1  0.868758  0.831885  0.759642  0.839637\n",
       "bbc        0.868758         1  0.894565  0.758841  0.890772\n",
       "breitbart  0.831885  0.894565         1  0.679702   0.86858\n",
       "cnn        0.759642  0.758841  0.679702         1    0.7442\n",
       "fox        0.839637  0.890772   0.86858    0.7442         1"
      ],
      "text/html": "<div>\n<style scoped>\n    .dataframe tbody tr th:only-of-type {\n        vertical-align: middle;\n    }\n\n    .dataframe tbody tr th {\n        vertical-align: top;\n    }\n\n    .dataframe thead th {\n        text-align: right;\n    }\n</style>\n<table border=\"1\" class=\"dataframe\">\n  <thead>\n    <tr style=\"text-align: right;\">\n      <th></th>\n      <th>aljazeera</th>\n      <th>bbc</th>\n      <th>breitbart</th>\n      <th>cnn</th>\n      <th>fox</th>\n    </tr>\n  </thead>\n  <tbody>\n    <tr>\n      <th>aljazeera</th>\n      <td>1</td>\n      <td>0.868758</td>\n      <td>0.831885</td>\n      <td>0.759642</td>\n      <td>0.839637</td>\n    </tr>\n    <tr>\n      <th>bbc</th>\n      <td>0.868758</td>\n      <td>1</td>\n      <td>0.894565</td>\n      <td>0.758841</td>\n      <td>0.890772</td>\n    </tr>\n    <tr>\n      <th>breitbart</th>\n      <td>0.831885</td>\n      <td>0.894565</td>\n      <td>1</td>\n      <td>0.679702</td>\n      <td>0.86858</td>\n    </tr>\n    <tr>\n      <th>cnn</th>\n      <td>0.759642</td>\n      <td>0.758841</td>\n      <td>0.679702</td>\n      <td>1</td>\n      <td>0.7442</td>\n    </tr>\n    <tr>\n      <th>fox</th>\n      <td>0.839637</td>\n      <td>0.890772</td>\n      <td>0.86858</td>\n      <td>0.7442</td>\n      <td>1</td>\n    </tr>\n  </tbody>\n</table>\n</div>"
     },
     "metadata": {},
     "execution_count": 299
    }
   ],
   "source": [
    "# the cosine matrix with a subset of the stop words\n",
    "cosine_df2"
   ]
  },
  {
   "cell_type": "code",
   "execution_count": 300,
   "metadata": {},
   "outputs": [
    {
     "output_type": "execute_result",
     "data": {
      "text/plain": [
       "          aljazeera       bbc breitbart       cnn       fox\n",
       "aljazeera         1  0.686816  0.580407   0.56097  0.659787\n",
       "bbc        0.686816         1  0.607498  0.539242   0.62512\n",
       "breitbart  0.580407  0.607498         1  0.380036   0.54145\n",
       "cnn         0.56097  0.539242  0.380036         1   0.51922\n",
       "fox        0.659787   0.62512   0.54145   0.51922         1"
      ],
      "text/html": "<div>\n<style scoped>\n    .dataframe tbody tr th:only-of-type {\n        vertical-align: middle;\n    }\n\n    .dataframe tbody tr th {\n        vertical-align: top;\n    }\n\n    .dataframe thead th {\n        text-align: right;\n    }\n</style>\n<table border=\"1\" class=\"dataframe\">\n  <thead>\n    <tr style=\"text-align: right;\">\n      <th></th>\n      <th>aljazeera</th>\n      <th>bbc</th>\n      <th>breitbart</th>\n      <th>cnn</th>\n      <th>fox</th>\n    </tr>\n  </thead>\n  <tbody>\n    <tr>\n      <th>aljazeera</th>\n      <td>1</td>\n      <td>0.686816</td>\n      <td>0.580407</td>\n      <td>0.56097</td>\n      <td>0.659787</td>\n    </tr>\n    <tr>\n      <th>bbc</th>\n      <td>0.686816</td>\n      <td>1</td>\n      <td>0.607498</td>\n      <td>0.539242</td>\n      <td>0.62512</td>\n    </tr>\n    <tr>\n      <th>breitbart</th>\n      <td>0.580407</td>\n      <td>0.607498</td>\n      <td>1</td>\n      <td>0.380036</td>\n      <td>0.54145</td>\n    </tr>\n    <tr>\n      <th>cnn</th>\n      <td>0.56097</td>\n      <td>0.539242</td>\n      <td>0.380036</td>\n      <td>1</td>\n      <td>0.51922</td>\n    </tr>\n    <tr>\n      <th>fox</th>\n      <td>0.659787</td>\n      <td>0.62512</td>\n      <td>0.54145</td>\n      <td>0.51922</td>\n      <td>1</td>\n    </tr>\n  </tbody>\n</table>\n</div>"
     },
     "metadata": {},
     "execution_count": 300
    }
   ],
   "source": [
    "# The cosine matrix with only the most common English words\n",
    "cosine_df3"
   ]
  },
  {
   "source": [
    "In the original analysis, using the full list of stopwords, the biggest difference is between CNN and Breitbart. This was as to be expected, considering how different the political leanings of each outlet is. Somewhat more surpsingly, the most similar stories are the ones published by Fox and Al Jazeera, with Al Jazeera and BBC not far behind. Al Jazeera and BBC being similar makes sense, considering that both are foreign outlets without some of the polarization common in the American media landscape. However I would not have expected Fox and Al Jazeera to be similar, which leads me to wonder whether there is a noticeable difference between the way Fox reports on domestic issues and the way they report on foreign affairs. \n",
    "\n",
    "As expected, when we use only the first hundred stopwords, the level of similarity shoots up significantly among all outlets. Breitbart and BBC suddenly become the most similar. From this we can extrapolate that not including enough stopwords can seriously skew the results, increasinly similarity where it doesn't exist. A more interesting result however, occurs when we cut the number of stop words further and use only the 15 most common words in the English language. The level of similarity actually goes down almost across the board, and the increases are so minor that they're basically negligible. In this analysis, Al Jazeera and BBC are now the most similar. This is perhaps because the stories are so similar (they cover the same aspect of the same event) that when we cut out more than just the most common words we inflate the value of topical words, which will be shared across the whole group. This would imply that you don't have to just cut out enough common words, you also have to cut out the *right* words, and cutting out too many words might artificially increase the level of similarity. "
   ],
   "cell_type": "markdown",
   "metadata": {}
  },
  {
   "source": [],
   "cell_type": "markdown",
   "metadata": {}
  }
 ]
}