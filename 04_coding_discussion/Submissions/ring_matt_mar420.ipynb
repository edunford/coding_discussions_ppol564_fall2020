{
 "cells": [
  {
   "cell_type": "code",
   "execution_count": 144,
   "metadata": {},
   "outputs": [],
   "source": [
    "# Imports\n",
    "import pandas as pd\n",
    "import numpy as np"
   ]
  },
  {
   "cell_type": "code",
   "execution_count": 145,
   "metadata": {},
   "outputs": [],
   "source": [
    "# functions used\n",
    "\n",
    "def tokenize(text=None):\n",
    "    '''\n",
    "    This function simplifies a string and returns a list of strings such that it can be quantitatively compared with other strings.\n",
    "    \n",
    "    Input:\n",
    "    text - String to be simplified and split\n",
    "    \n",
    "    Output:\n",
    "    text_list - A list of words, as strings, from the original text\n",
    "    '''\n",
    "    \n",
    "    # Turns all characters to lowercase and removes all puntuations and contractions\n",
    "    text = text.lower()\n",
    "    text = text.replace('.','')\n",
    "    text = text.replace(\",\", \"\")\n",
    "    text = text.replace(\"\\\"\", \"\")\n",
    "    text = text.replace(\"'s\", \"\")\n",
    "    text = text.replace(\"'\", \"\")\n",
    "    text = text.replace(\"-\", \"\")\n",
    "    text = text.replace(\"(\", \"\")\n",
    "    text = text.replace(\")\", \"\")\n",
    "    text = text.replace(\"[\", \"\")\n",
    "    text = text.replace(\"]\", \"\")\n",
    "    text = text.replace(\"{\", \"\")\n",
    "    text = text.replace(\"}\", \"\")\n",
    "    text = text.replace(\"“\", \"\")\n",
    "    text = text.replace(\"”\", \"\")\n",
    "    text = text.replace(\"—\", \"\")\n",
    "    text = text.replace(\"?\", \"\")\n",
    "    text = text.replace(\";\", \"\")\n",
    "    \n",
    "    # Splits the string into words\n",
    "    text_list = text.split()\n",
    "    \n",
    "    # Removes stop words\n",
    "    text_list2 = [word for word in text_list if word not in stopwords]\n",
    "    \n",
    "    # Returns the list of words\n",
    "    return text_list2"
   ]
  },
  {
   "cell_type": "code",
   "execution_count": 146,
   "metadata": {},
   "outputs": [],
   "source": [
    "def convert_text_to_dtm(txt):\n",
    "    '''\n",
    "    Converts text into a document term matrix.\n",
    "    \n",
    "    Input: \n",
    "    text - List of strings representing an article\n",
    "    \n",
    "    Outputs:\n",
    "    DTM - Document Term Matrix - Contains information on the number of times a word appears in a document\n",
    "    '''\n",
    "    d = dict()\n",
    "    for word in tokenize(txt):\n",
    "        if word in d:\n",
    "            d[word][0] += 1\n",
    "        else:\n",
    "            d[word] = [1]\n",
    "    return pd.DataFrame(d)"
   ]
  },
  {
   "cell_type": "code",
   "execution_count": 147,
   "metadata": {},
   "outputs": [],
   "source": [
    "# A function which generates a matrix of document terms\n",
    "def gen_DTM(texts=None):\n",
    "    '''\n",
    "    Generate a document term matrix\n",
    "    \n",
    "    Input: \n",
    "    texts - List of lists of strings, each sublist representing an article\n",
    "    \n",
    "    Outputs:\n",
    "    DTM - Document Term Matrix - Contains information on the number of times a word appears in each document\n",
    "    '''\n",
    "    DTM = pd.DataFrame()\n",
    "    for text in texts:\n",
    "        entry = convert_text_to_dtm(text)\n",
    "        DTM = DTM.append(pd.DataFrame(entry),ignore_index=True,sort=True) # Row bind\n",
    "    \n",
    "    DTM.fillna(0, inplace=True) # Fill in any missing values with 0s (i.e. when a word is in one text but not another)\n",
    "    return DTM"
   ]
  },
  {
   "cell_type": "code",
   "execution_count": 148,
   "metadata": {},
   "outputs": [],
   "source": [
    "# Calculates the cosine similarity between two vectors\n",
    "def cosine(a,b):\n",
    "    '''\n",
    "    Takes two vectors and determines their level of similarity on a scale of 0 to 1 \n",
    "    \n",
    "    Input:\n",
    "    a, b - Both vectors (ie arrays of numbers)\n",
    "    \n",
    "    Output:\n",
    "    cos - A cosine function, calculated using the dot products of each vector\n",
    "    \n",
    "    '''\n",
    "    cos = np.dot(a,b)/(np.sqrt(np.dot(a,a)) * np.sqrt(np.dot(b,b))  )\n",
    "    return cos"
   ]
  },
  {
   "cell_type": "code",
   "execution_count": 149,
   "metadata": {},
   "outputs": [],
   "source": [
    "# Creates an nxn matrix of how similar a set of articles are\n",
    "def simMatrix(df):\n",
    "    '''\n",
    "    Creates what is essentially a correlation matrix between vectors\n",
    "    \n",
    "    Input:\n",
    "    df - A dataframe where all entries are numerical\n",
    "    \n",
    "    Output:\n",
    "    df_Sim - A correlation matrix, showing the similarities between each vector\n",
    "    \n",
    "    '''\n",
    "    df_Sim = pd.DataFrame(columns = df.index.values, index = df.index.values)\n",
    "    \n",
    "    for col in df_Sim.columns:\n",
    "        for row in df_Sim.index.values:\n",
    "            df_Sim.loc[row, col] = cosine(df.loc[row].values, df.loc[col].values)\n",
    "            \n",
    "    return(df_Sim)"
   ]
  },
  {
   "cell_type": "markdown",
   "metadata": {},
   "source": [
    "# Import, Clean, and Preprocess the Data"
   ]
  },
  {
   "cell_type": "code",
   "execution_count": 150,
   "metadata": {},
   "outputs": [],
   "source": [
    "# Imports the news stories\n",
    "aj = open(\"../Data/aljazeera-khashoggi.txt\", \"r\", encoding = \"UTF-8\").read()\n",
    "bbc = open(\"../Data/bbc-khashoggi.txt\", \"r\", encoding = \"UTF-8\").read()\n",
    "bart = open(\"../Data/breitbart-khashoggi.txt\", \"r\", encoding = \"UTF-8\").read()\n",
    "cnn = open(\"../Data/cnn-khashoggi.txt\", \"r\", encoding = \"UTF-8\").read()\n",
    "fox = open(\"../Data/fox-khashoggi.txt\", \"r\", encoding = \"UTF-8\").read()"
   ]
  },
  {
   "cell_type": "code",
   "execution_count": 151,
   "metadata": {},
   "outputs": [],
   "source": [
    "# Imports the stop words\n",
    "stop_words = pd.read_csv(\"../Data/stop_words.csv\")"
   ]
  },
  {
   "cell_type": "code",
   "execution_count": 152,
   "metadata": {},
   "outputs": [],
   "source": [
    "# Extracts stop words as a list of strings\n",
    "stopwords = stop_words[\"word\"].values\n",
    "\n",
    "# Or you can set stopwords to this more minimal list\n",
    "#stopwords = ['on', 'to', 'go', 'at', 'the','that','of','was', 'and', 'by']"
   ]
  },
  {
   "cell_type": "code",
   "execution_count": 153,
   "metadata": {},
   "outputs": [],
   "source": [
    "# Counts how many times a word appears in each article and stores as a DTM\n",
    "df = gen_DTM([aj, bbc, bart, cnn, fox])"
   ]
  },
  {
   "cell_type": "code",
   "execution_count": 154,
   "metadata": {},
   "outputs": [],
   "source": [
    "df = df.rename(index={0:\"aljazeera\", 1:\"bbc\", 2:\"breitbart\", 3:\"cnn\", 4:\"fox\"})"
   ]
  },
  {
   "cell_type": "markdown",
   "metadata": {},
   "source": [
    "# Create the Correlation Matrix"
   ]
  },
  {
   "cell_type": "code",
   "execution_count": 155,
   "metadata": {},
   "outputs": [
    {
     "data": {
      "text/html": [
       "<div>\n",
       "<style scoped>\n",
       "    .dataframe tbody tr th:only-of-type {\n",
       "        vertical-align: middle;\n",
       "    }\n",
       "\n",
       "    .dataframe tbody tr th {\n",
       "        vertical-align: top;\n",
       "    }\n",
       "\n",
       "    .dataframe thead th {\n",
       "        text-align: right;\n",
       "    }\n",
       "</style>\n",
       "<table border=\"1\" class=\"dataframe\">\n",
       "  <thead>\n",
       "    <tr style=\"text-align: right;\">\n",
       "      <th></th>\n",
       "      <th>aljazeera</th>\n",
       "      <th>bbc</th>\n",
       "      <th>breitbart</th>\n",
       "      <th>cnn</th>\n",
       "      <th>fox</th>\n",
       "    </tr>\n",
       "  </thead>\n",
       "  <tbody>\n",
       "    <tr>\n",
       "      <th>aljazeera</th>\n",
       "      <td>1</td>\n",
       "      <td>0.734133</td>\n",
       "      <td>0.658305</td>\n",
       "      <td>0.603997</td>\n",
       "      <td>0.693933</td>\n",
       "    </tr>\n",
       "    <tr>\n",
       "      <th>bbc</th>\n",
       "      <td>0.734133</td>\n",
       "      <td>1</td>\n",
       "      <td>0.706049</td>\n",
       "      <td>0.66703</td>\n",
       "      <td>0.717462</td>\n",
       "    </tr>\n",
       "    <tr>\n",
       "      <th>breitbart</th>\n",
       "      <td>0.658305</td>\n",
       "      <td>0.706049</td>\n",
       "      <td>1</td>\n",
       "      <td>0.550967</td>\n",
       "      <td>0.64952</td>\n",
       "    </tr>\n",
       "    <tr>\n",
       "      <th>cnn</th>\n",
       "      <td>0.603997</td>\n",
       "      <td>0.66703</td>\n",
       "      <td>0.550967</td>\n",
       "      <td>1</td>\n",
       "      <td>0.646122</td>\n",
       "    </tr>\n",
       "    <tr>\n",
       "      <th>fox</th>\n",
       "      <td>0.693933</td>\n",
       "      <td>0.717462</td>\n",
       "      <td>0.64952</td>\n",
       "      <td>0.646122</td>\n",
       "      <td>1</td>\n",
       "    </tr>\n",
       "  </tbody>\n",
       "</table>\n",
       "</div>"
      ],
      "text/plain": [
       "          aljazeera       bbc breitbart       cnn       fox\n",
       "aljazeera         1  0.734133  0.658305  0.603997  0.693933\n",
       "bbc        0.734133         1  0.706049   0.66703  0.717462\n",
       "breitbart  0.658305  0.706049         1  0.550967   0.64952\n",
       "cnn        0.603997   0.66703  0.550967         1  0.646122\n",
       "fox        0.693933  0.717462   0.64952  0.646122         1"
      ]
     },
     "execution_count": 155,
     "metadata": {},
     "output_type": "execute_result"
    }
   ],
   "source": [
    "simMatrix(df)"
   ]
  },
  {
   "cell_type": "markdown",
   "metadata": {},
   "source": [
    "# Discussion"
   ]
  },
  {
   "cell_type": "markdown",
   "metadata": {},
   "source": [
    "**Answer:** BBC and Aljazeera have the most similar reporting, with about 70% similarity between their articles. This makes sense, being the two non-United States based news organizations in this list. The BBC also reports moderately similarly to Fox, at 67%, or 2/3rds similar words. The most different reporting comes from CNN and Breitbart, both scoring in the 50%'s on similarity with other news organizations and even lower compared to one another. This was done removing all possible words from the `stopwords` data.\n",
    "\n",
    "When using the more minimal set of stopwords, the similarity between all news sites rises, as expected. In particular, Fox and BBC are now almost as related as Fox and Aljazeera."
   ]
  }
 ],
 "metadata": {
  "kernelspec": {
   "display_name": "Python 3",
   "language": "python",
   "name": "python3"
  },
  "language_info": {
   "codemirror_mode": {
    "name": "ipython",
    "version": 3
   },
   "file_extension": ".py",
   "mimetype": "text/x-python",
   "name": "python",
   "nbconvert_exporter": "python",
   "pygments_lexer": "ipython3",
   "version": "3.8.5"
  }
 },
 "nbformat": 4,
 "nbformat_minor": 4
}
