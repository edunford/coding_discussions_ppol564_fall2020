{
 "cells": [
  {
   "cell_type": "markdown",
   "metadata": {},
   "source": [
    "# PPOL564 Coding Discussion 04\n",
    "## Charlie Zhang"
   ]
  },
  {
   "cell_type": "markdown",
   "metadata": {},
   "source": [
    "## Instruction\n",
    "For this coding discussion, let's play around with some of the linear algebra concepts that we've covered in class. Specifically, let's return to our discussion of representing text as vectors and analyzing the angle between those vectors (which as we saw, offers a measure of similarity).\n",
    "\n",
    "In the `Data/` folder, there are five separate news reports on Turkish President Erdogan addressing the murder of journalist Jamal Khashoggi in `.txt` files. Each contains the same story (relatively speaking) from different sources with different political leanings/interests. In addition to this, I also include `stop-words.csv` file containing common English words that we want to purge from our text (recall there are words that are common to all sentences, like \"the\" and \"and\", that we want to remove when comparing documents).\n",
    "\n",
    "Use what we know about (a) reading in text files, (b) data manipulation, and (c) linear algebra to analyze the difference between these documents. Does each news site report on these stories in a similar way? Which news sites talk about the Khashoggi scandal in similar/dissimilar ways? If you change what words you remove, does the picture of similarity change?\n",
    "\n",
    "This discussion is largely open. Probe the data however you see fit. The only restriction is that you must calculate the cosine similarity on your own. Don't rely on any canned functions that do this for you."
   ]
  },
  {
   "cell_type": "code",
   "execution_count": 1,
   "metadata": {},
   "outputs": [],
   "source": [
    "import numpy as np\n",
    "import pandas as pd\n",
    "import matplotlib.pyplot as plt\n",
    "import seaborn as sns\n",
    "import bokeh"
   ]
  },
  {
   "cell_type": "code",
   "execution_count": 2,
   "metadata": {},
   "outputs": [],
   "source": [
    "## Read different newspapers and stopwords\n",
    "alj = open(\"../Data/aljazeera-khashoggi.txt\", 'r').read()\n",
    "bbc = open(\"../Data/bbc-khashoggi.txt\", \"r\").read()\n",
    "breit = open(\"../Data/breitbart-khashoggi.txt\", \"r\").read()\n",
    "cnn = open(\"../Data/cnn-khashoggi.txt\", \"r\").read()\n",
    "fox = open(\"../Data/fox-khashoggi.txt\", \"r\").read()\n",
    "stopwords = pd.read_csv(\"../Data/stop_words.csv\").word.to_list()"
   ]
  },
  {
   "cell_type": "code",
   "execution_count": 3,
   "metadata": {},
   "outputs": [],
   "source": [
    "def tokenize(text=None):\n",
    "    '''\n",
    "    The function splits the text and drops unnecessary characters.\n",
    "    \n",
    "    Input:\n",
    "    text- strings\n",
    "    \n",
    "    Output:\n",
    "    text_list- list of strings\n",
    "    '''\n",
    "    text = text.lower()\n",
    "    \n",
    "    ## Drop all the characters\n",
    "    text = (text.replace('.','').replace(',','').\n",
    "            replace('(','').replace(')', '').\n",
    "            replace('[','').replace(']','').\n",
    "            replace(':', '').replace(';', '').\n",
    "            replace('?', '').replace('!', '').\n",
    "            replace('“', '').replace('”', '').\n",
    "            replace('\"', '').replace('-', '').\n",
    "            replace(\"'s\", '').replace(\"\\'ve\", \"\").\n",
    "            replace(\"\\'re\", \"\").replace(\"\\'\", \"\"))\n",
    "    \n",
    "    # Splits the string into words\n",
    "    text_list = text.split()\n",
    "    \n",
    "    # Removes stop words\n",
    "    text_list2 = [word for word in text_list if word not in stopwords]\n",
    "    \n",
    "    return text_list2"
   ]
  },
  {
   "cell_type": "code",
   "execution_count": 4,
   "metadata": {},
   "outputs": [],
   "source": [
    "def convert_text_to_dtm(txt):\n",
    "    '''\n",
    "    The function converts text into a document term matrix.\n",
    "    \n",
    "    Input:\n",
    "    txt- list of strings\n",
    "    \n",
    "    Output:\n",
    "    DTM- matrix that contains the frequency of each term\n",
    "    '''\n",
    "    d = dict()\n",
    "    for word in tokenize(txt):\n",
    "        if word in d:\n",
    "            d[word][0] += 1\n",
    "        else:\n",
    "            d[word] = [1]\n",
    "    return pd.DataFrame(d)"
   ]
  },
  {
   "cell_type": "code",
   "execution_count": 5,
   "metadata": {},
   "outputs": [],
   "source": [
    "# Now build a function that does this for a list of texts\n",
    "def gen_DTM(texts=None):\n",
    "    '''\n",
    "    The function generates a document term matrix.\n",
    "    \n",
    "    Input:\n",
    "    texts- a list of objects\n",
    "    \n",
    "    Output:\n",
    "    DTM- matrix that contains the frequency of each term\n",
    "    '''\n",
    "    DTM = pd.DataFrame()\n",
    "    for text in texts:\n",
    "        entry = convert_text_to_dtm(text)\n",
    "        DTM = DTM.append(pd.DataFrame(entry),ignore_index=True,sort=True) # Row bind\n",
    "    \n",
    "    DTM.fillna(0, inplace=True) # Fill in any missing values with 0s (i.e. when a word is in one text but not another)\n",
    "    return DTM"
   ]
  },
  {
   "cell_type": "code",
   "execution_count": 6,
   "metadata": {},
   "outputs": [],
   "source": [
    "def cosine(a,b):\n",
    "    '''\n",
    "    The function generates similarity between two vectors.\n",
    "\n",
    "    Input:\n",
    "    a,b (list)- two arrays of numbers\n",
    "\n",
    "    Output:\n",
    "    float64- a number within the interval between 0 and \n",
    "    '''\n",
    "    \n",
    "    cos = np.dot(a,b)/(np.sqrt(np.dot(a,a)) * np.sqrt(np.dot(b,b)))\n",
    "    return cos"
   ]
  },
  {
   "cell_type": "code",
   "execution_count": 7,
   "metadata": {},
   "outputs": [],
   "source": [
    "## Generate the DTM and rename the index\n",
    "DTM= gen_DTM([alj, bbc, breit, cnn, fox])"
   ]
  },
  {
   "cell_type": "code",
   "execution_count": 8,
   "metadata": {},
   "outputs": [
    {
     "data": {
      "text/html": [
       "<div>\n",
       "<style scoped>\n",
       "    .dataframe tbody tr th:only-of-type {\n",
       "        vertical-align: middle;\n",
       "    }\n",
       "\n",
       "    .dataframe tbody tr th {\n",
       "        vertical-align: top;\n",
       "    }\n",
       "\n",
       "    .dataframe thead th {\n",
       "        text-align: right;\n",
       "    }\n",
       "</style>\n",
       "<table border=\"1\" class=\"dataframe\">\n",
       "  <thead>\n",
       "    <tr style=\"text-align: right;\">\n",
       "      <th></th>\n",
       "      <th>$50bn</th>\n",
       "      <th>1</th>\n",
       "      <th>108</th>\n",
       "      <th>11</th>\n",
       "      <th>12</th>\n",
       "      <th>15</th>\n",
       "      <th>15member</th>\n",
       "      <th>18</th>\n",
       "      <th>2</th>\n",
       "      <th>28</th>\n",
       "      <th>...</th>\n",
       "      <th>widely</th>\n",
       "      <th>withheld</th>\n",
       "      <th>woods</th>\n",
       "      <th>world</th>\n",
       "      <th>worse</th>\n",
       "      <th>writer</th>\n",
       "      <th>yalova</th>\n",
       "      <th>yelova</th>\n",
       "      <th>£385bn</th>\n",
       "      <th>—</th>\n",
       "    </tr>\n",
       "  </thead>\n",
       "  <tbody>\n",
       "    <tr>\n",
       "      <th>0</th>\n",
       "      <td>0.0</td>\n",
       "      <td>0.0</td>\n",
       "      <td>0.0</td>\n",
       "      <td>0.0</td>\n",
       "      <td>0.0</td>\n",
       "      <td>0.0</td>\n",
       "      <td>1.0</td>\n",
       "      <td>2.0</td>\n",
       "      <td>2.0</td>\n",
       "      <td>1.0</td>\n",
       "      <td>...</td>\n",
       "      <td>0.0</td>\n",
       "      <td>0.0</td>\n",
       "      <td>0.0</td>\n",
       "      <td>0.0</td>\n",
       "      <td>0.0</td>\n",
       "      <td>0.0</td>\n",
       "      <td>0.0</td>\n",
       "      <td>0.0</td>\n",
       "      <td>0.0</td>\n",
       "      <td>0.0</td>\n",
       "    </tr>\n",
       "    <tr>\n",
       "      <th>1</th>\n",
       "      <td>1.0</td>\n",
       "      <td>0.0</td>\n",
       "      <td>0.0</td>\n",
       "      <td>0.0</td>\n",
       "      <td>1.0</td>\n",
       "      <td>0.0</td>\n",
       "      <td>0.0</td>\n",
       "      <td>2.0</td>\n",
       "      <td>1.0</td>\n",
       "      <td>0.0</td>\n",
       "      <td>...</td>\n",
       "      <td>1.0</td>\n",
       "      <td>0.0</td>\n",
       "      <td>0.0</td>\n",
       "      <td>1.0</td>\n",
       "      <td>0.0</td>\n",
       "      <td>0.0</td>\n",
       "      <td>0.0</td>\n",
       "      <td>0.0</td>\n",
       "      <td>1.0</td>\n",
       "      <td>0.0</td>\n",
       "    </tr>\n",
       "    <tr>\n",
       "      <th>2</th>\n",
       "      <td>0.0</td>\n",
       "      <td>0.0</td>\n",
       "      <td>0.0</td>\n",
       "      <td>0.0</td>\n",
       "      <td>0.0</td>\n",
       "      <td>1.0</td>\n",
       "      <td>0.0</td>\n",
       "      <td>0.0</td>\n",
       "      <td>0.0</td>\n",
       "      <td>0.0</td>\n",
       "      <td>...</td>\n",
       "      <td>0.0</td>\n",
       "      <td>1.0</td>\n",
       "      <td>0.0</td>\n",
       "      <td>1.0</td>\n",
       "      <td>0.0</td>\n",
       "      <td>0.0</td>\n",
       "      <td>0.0</td>\n",
       "      <td>0.0</td>\n",
       "      <td>0.0</td>\n",
       "      <td>0.0</td>\n",
       "    </tr>\n",
       "    <tr>\n",
       "      <th>3</th>\n",
       "      <td>0.0</td>\n",
       "      <td>0.0</td>\n",
       "      <td>0.0</td>\n",
       "      <td>0.0</td>\n",
       "      <td>0.0</td>\n",
       "      <td>0.0</td>\n",
       "      <td>0.0</td>\n",
       "      <td>1.0</td>\n",
       "      <td>0.0</td>\n",
       "      <td>0.0</td>\n",
       "      <td>...</td>\n",
       "      <td>0.0</td>\n",
       "      <td>0.0</td>\n",
       "      <td>0.0</td>\n",
       "      <td>0.0</td>\n",
       "      <td>0.0</td>\n",
       "      <td>0.0</td>\n",
       "      <td>1.0</td>\n",
       "      <td>0.0</td>\n",
       "      <td>0.0</td>\n",
       "      <td>0.0</td>\n",
       "    </tr>\n",
       "    <tr>\n",
       "      <th>4</th>\n",
       "      <td>0.0</td>\n",
       "      <td>1.0</td>\n",
       "      <td>1.0</td>\n",
       "      <td>1.0</td>\n",
       "      <td>0.0</td>\n",
       "      <td>1.0</td>\n",
       "      <td>0.0</td>\n",
       "      <td>1.0</td>\n",
       "      <td>1.0</td>\n",
       "      <td>0.0</td>\n",
       "      <td>...</td>\n",
       "      <td>0.0</td>\n",
       "      <td>0.0</td>\n",
       "      <td>1.0</td>\n",
       "      <td>0.0</td>\n",
       "      <td>1.0</td>\n",
       "      <td>2.0</td>\n",
       "      <td>0.0</td>\n",
       "      <td>1.0</td>\n",
       "      <td>0.0</td>\n",
       "      <td>3.0</td>\n",
       "    </tr>\n",
       "  </tbody>\n",
       "</table>\n",
       "<p>5 rows × 654 columns</p>\n",
       "</div>"
      ],
      "text/plain": [
       "   $50bn    1  108   11   12   15  15member   18    2   28  ...  widely  \\\n",
       "0    0.0  0.0  0.0  0.0  0.0  0.0       1.0  2.0  2.0  1.0  ...     0.0   \n",
       "1    1.0  0.0  0.0  0.0  1.0  0.0       0.0  2.0  1.0  0.0  ...     1.0   \n",
       "2    0.0  0.0  0.0  0.0  0.0  1.0       0.0  0.0  0.0  0.0  ...     0.0   \n",
       "3    0.0  0.0  0.0  0.0  0.0  0.0       0.0  1.0  0.0  0.0  ...     0.0   \n",
       "4    0.0  1.0  1.0  1.0  0.0  1.0       0.0  1.0  1.0  0.0  ...     0.0   \n",
       "\n",
       "   withheld  woods  world  worse  writer  yalova  yelova  £385bn    —  \n",
       "0       0.0    0.0    0.0    0.0     0.0     0.0     0.0     0.0  0.0  \n",
       "1       0.0    0.0    1.0    0.0     0.0     0.0     0.0     1.0  0.0  \n",
       "2       1.0    0.0    1.0    0.0     0.0     0.0     0.0     0.0  0.0  \n",
       "3       0.0    0.0    0.0    0.0     0.0     1.0     0.0     0.0  0.0  \n",
       "4       0.0    1.0    0.0    1.0     2.0     0.0     1.0     0.0  3.0  \n",
       "\n",
       "[5 rows x 654 columns]"
      ]
     },
     "execution_count": 8,
     "metadata": {},
     "output_type": "execute_result"
    }
   ],
   "source": [
    "DTM"
   ]
  },
  {
   "cell_type": "code",
   "execution_count": 9,
   "metadata": {},
   "outputs": [],
   "source": [
    "## Create an empty matrix to store the similarity value\n",
    "DTM_sim= pd.DataFrame(index = DTM.index.values, columns = DTM.index.values)\n",
    "\n",
    "## Use for loop to find the similarity of each two newspapers \n",
    "for i in DTM_sim.index:\n",
    "    for j in DTM_sim.columns:\n",
    "        DTM_sim.iloc[i,j] = cosine(DTM.iloc[i].values, DTM.iloc[j].values)\n",
    "\n",
    "DTM_sim.index= [\"Aljazeera\", \"BBC\", \"Breitbart\", \"CNN\", \"Fox\"]\n",
    "DTM_sim.columns= [\"Aljazeera\", \"BBC\", \"Breitbart\", \"CNN\", \"Fox\"]"
   ]
  },
  {
   "cell_type": "code",
   "execution_count": 10,
   "metadata": {},
   "outputs": [
    {
     "data": {
      "text/html": [
       "<div>\n",
       "<style scoped>\n",
       "    .dataframe tbody tr th:only-of-type {\n",
       "        vertical-align: middle;\n",
       "    }\n",
       "\n",
       "    .dataframe tbody tr th {\n",
       "        vertical-align: top;\n",
       "    }\n",
       "\n",
       "    .dataframe thead th {\n",
       "        text-align: right;\n",
       "    }\n",
       "</style>\n",
       "<table border=\"1\" class=\"dataframe\">\n",
       "  <thead>\n",
       "    <tr style=\"text-align: right;\">\n",
       "      <th></th>\n",
       "      <th>Aljazeera</th>\n",
       "      <th>BBC</th>\n",
       "      <th>Breitbart</th>\n",
       "      <th>CNN</th>\n",
       "      <th>Fox</th>\n",
       "    </tr>\n",
       "  </thead>\n",
       "  <tbody>\n",
       "    <tr>\n",
       "      <th>Aljazeera</th>\n",
       "      <td>1</td>\n",
       "      <td>0.705115</td>\n",
       "      <td>0.588124</td>\n",
       "      <td>0.590484</td>\n",
       "      <td>0.709513</td>\n",
       "    </tr>\n",
       "    <tr>\n",
       "      <th>BBC</th>\n",
       "      <td>0.705115</td>\n",
       "      <td>1</td>\n",
       "      <td>0.588313</td>\n",
       "      <td>0.556871</td>\n",
       "      <td>0.661969</td>\n",
       "    </tr>\n",
       "    <tr>\n",
       "      <th>Breitbart</th>\n",
       "      <td>0.588124</td>\n",
       "      <td>0.588313</td>\n",
       "      <td>1</td>\n",
       "      <td>0.374829</td>\n",
       "      <td>0.5473</td>\n",
       "    </tr>\n",
       "    <tr>\n",
       "      <th>CNN</th>\n",
       "      <td>0.590484</td>\n",
       "      <td>0.556871</td>\n",
       "      <td>0.374829</td>\n",
       "      <td>1</td>\n",
       "      <td>0.55917</td>\n",
       "    </tr>\n",
       "    <tr>\n",
       "      <th>Fox</th>\n",
       "      <td>0.709513</td>\n",
       "      <td>0.661969</td>\n",
       "      <td>0.5473</td>\n",
       "      <td>0.55917</td>\n",
       "      <td>1</td>\n",
       "    </tr>\n",
       "  </tbody>\n",
       "</table>\n",
       "</div>"
      ],
      "text/plain": [
       "          Aljazeera       BBC Breitbart       CNN       Fox\n",
       "Aljazeera         1  0.705115  0.588124  0.590484  0.709513\n",
       "BBC        0.705115         1  0.588313  0.556871  0.661969\n",
       "Breitbart  0.588124  0.588313         1  0.374829    0.5473\n",
       "CNN        0.590484  0.556871  0.374829         1   0.55917\n",
       "Fox        0.709513  0.661969    0.5473   0.55917         1"
      ]
     },
     "execution_count": 10,
     "metadata": {},
     "output_type": "execute_result"
    }
   ],
   "source": [
    "## Display the similarity matrix\n",
    "DTM_sim"
   ]
  },
  {
   "cell_type": "markdown",
   "metadata": {},
   "source": [
    "## Discussion"
   ]
  },
  {
   "cell_type": "code",
   "execution_count": 11,
   "metadata": {
    "scrolled": false
   },
   "outputs": [
    {
     "data": {
      "text/plain": [
       "<matplotlib.axes._subplots.AxesSubplot at 0x7fafd3367a60>"
      ]
     },
     "execution_count": 11,
     "metadata": {},
     "output_type": "execute_result"
    },
    {
     "data": {
      "image/png": "[encoded data removed]",
      "text/plain": [
       "<Figure size 864x576 with 2 Axes>"
      ]
     },
     "metadata": {
      "needs_background": "light"
     },
     "output_type": "display_data"
    }
   ],
   "source": [
    "## Use heatmap to reflect the similarity level\n",
    "DTM_sim= DTM_sim.astype(float)\n",
    "fig, ax = plt.subplots(figsize=(12,8))\n",
    "sns.heatmap(DTM_sim, annot = True, square= True, cmap=\"BuPu\")"
   ]
  },
  {
   "cell_type": "markdown",
   "metadata": {},
   "source": [
    "From the Heatmap, we can easily identify the similarity level via the darkness of the square. Aljazeera and Fox are most similar with roughly 0.71 cosine similarity, and Breitbart and CNN are least similar with only 0.37 cosine similarity. To explain that phenomenon, we need to consider what cosine similarity represents before attributing to the ideological stances of each newspapers:\n",
    "<br>\n",
    "$$ \\cos{\\theta} =  \\frac{\\sum_{i=1}^n a_i b_i}{\\left\\| a \\right\\| \\left\\| b \\right\\|}$$"
   ]
  },
  {
   "cell_type": "code",
   "execution_count": 12,
   "metadata": {},
   "outputs": [
    {
     "data": {
      "text/plain": [
       "[186, 325, 178, 99, 169]"
      ]
     },
     "execution_count": 12,
     "metadata": {},
     "output_type": "execute_result"
    }
   ],
   "source": [
    "[np.count_nonzero(DTM.iloc[i]) for i in DTM.index.values]"
   ]
  },
  {
   "cell_type": "markdown",
   "metadata": {},
   "source": [
    "That means the length of newspapers (after dropping the stopwords) matters, implying a short news (more zero in the DTM due to not covering words that appear in other news) could __partially__ explain the low similarity. Not surprisingly, CNN has a relatively low similarity with other agencies, while BBC has a relatively high similarity with other newspapers. Also, the frequency of each word matters and might  __partially__ explain the similarity. Moreover, ideological divergence might also explain why CNN, a left-leaning agency, share a low similarity with Breitbart, a far-right news. A more appropriate similarity could be creating a weighting factor: $$W_i =\\frac{Length_i}{Leng_{matrix}}$$ after dropping the common words."
   ]
  }
 ],
 "metadata": {
  "kernelspec": {
   "display_name": "Python 3",
   "language": "python",
   "name": "python3"
  },
  "language_info": {
   "codemirror_mode": {
    "name": "ipython",
    "version": 3
   },
   "file_extension": ".py",
   "mimetype": "text/x-python",
   "name": "python",
   "nbconvert_exporter": "python",
   "pygments_lexer": "ipython3",
   "version": "3.8.3"
  }
 },
 "nbformat": 4,
 "nbformat_minor": 4
}
