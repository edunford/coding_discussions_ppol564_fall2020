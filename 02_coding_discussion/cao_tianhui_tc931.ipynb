{
 "cells": [
  {
   "cell_type": "markdown",
   "metadata": {},
   "source": [
    "## PPOL564 Code discussion 2"
   ]
  },
  {
   "cell_type": "markdown",
   "metadata": {},
   "source": [
    "### Rosey Cao\n",
    "Sept. 10th 2020"
   ]
  },
  {
   "cell_type": "markdown",
   "metadata": {},
   "source": [
    "### Preparation"
   ]
  },
  {
   "cell_type": "code",
   "execution_count": 1,
   "metadata": {},
   "outputs": [
    {
     "name": "stdout",
     "output_type": "stream",
     "text": [
      "10080\n"
     ]
    }
   ],
   "source": [
    "## Read in the data (we would provide this)\n",
    "import csv\n",
    "with open('us-states.csv') as file:\n",
    "        state_covid_data = []\n",
    "        for row in csv.reader(file):\n",
    "            state_covid_data.append(row)\n",
    "\n",
    "print(len(state_covid_data))"
   ]
  },
  {
   "cell_type": "code",
   "execution_count": 2,
   "metadata": {},
   "outputs": [
    {
     "data": {
      "text/plain": [
       "[['date', 'state', 'fips', 'cases', 'deaths'],\n",
       " ['2020-01-21', 'Washington', '53', '1', '0'],\n",
       " ['2020-01-22', 'Washington', '53', '1', '0'],\n",
       " ['2020-01-23', 'Washington', '53', '1', '0'],\n",
       " ['2020-01-24', 'Illinois', '17', '1', '0']]"
      ]
     },
     "execution_count": 2,
     "metadata": {},
     "output_type": "execute_result"
    }
   ],
   "source": [
    "###Check the type and inspect the first 5 observations\n",
    "type(state_covid_data)\n",
    "state_covid_data[:5]"
   ]
  },
  {
   "cell_type": "markdown",
   "metadata": {},
   "source": [
    "### (1) Count up the number of _unique_ dates in the data. "
   ]
  },
  {
   "cell_type": "code",
   "execution_count": 3,
   "metadata": {},
   "outputs": [
    {
     "data": {
      "text/plain": [
       "225"
      ]
     },
     "execution_count": 3,
     "metadata": {},
     "output_type": "execute_result"
    }
   ],
   "source": [
    "### Create a list of the data \"column\"\n",
    "dates = []\n",
    "for i in range(1, len(state_covid_data)):\n",
    "    dates.append(state_covid_data[i][0])\n",
    "\n",
    "### Create set of the dates to remove the duplicates; Calculate the length\n",
    "print(len(set(dates)))"
   ]
  },
  {
   "cell_type": "markdown",
   "metadata": {},
   "source": [
    "#### There are 225 unique dates in the data"
   ]
  },
  {
   "cell_type": "markdown",
   "metadata": {},
   "source": [
    "### (2) Find the first date in which the District of Columbia recorded a case. "
   ]
  },
  {
   "cell_type": "code",
   "execution_count": 4,
   "metadata": {},
   "outputs": [
    {
     "data": {
      "text/plain": [
       "'2020-03-07'"
      ]
     },
     "execution_count": 4,
     "metadata": {},
     "output_type": "execute_result"
    }
   ],
   "source": [
    "### Create a list of the state \"column\"\n",
    "state = []\n",
    "for i in range(1, len(state_covid_data)):\n",
    "    state.append(state_covid_data[i][1])\n",
    "\n",
    "### Find the index of DC first case in the \"state list\"\n",
    "DC_1stcase_index = state.index(\"District of Columbia\")\n",
    "\n",
    "### Use the index to find the date in the \"state_covid_data\"\n",
    "print(state_covid_data[DC_1stcase_index][0])"
   ]
  },
  {
   "cell_type": "markdown",
   "metadata": {},
   "source": [
    "### (3) Write a function that takes in a _state name_ as input (e.g. \"Wisconsin\") and outputs the date of its first case."
   ]
  },
  {
   "cell_type": "code",
   "execution_count": 5,
   "metadata": {},
   "outputs": [
    {
     "name": "stdout",
     "output_type": "stream",
     "text": [
      "Locate date of the first case. Please enter a state without quote marks!Wisconsin\n",
      "2020-02-05\n"
     ]
    }
   ],
   "source": [
    "### Create a function to locate date\n",
    "def firstcase(StateStr):\n",
    "    ##Create a list of the state \"column\"\n",
    "    state = []\n",
    "    for i in range(1, len(state_covid_data)):\n",
    "        state.append(state_covid_data[i][1])\n",
    "\n",
    "    ##Find the index of state's first case in the \"statelist\"\n",
    "    StateStr_1stcase_index = state.index(StateStr)\n",
    "    \n",
    "    ##Use the index to find the date in the \"state_covid_data\"\n",
    "    print(state_covid_data[StateStr_1stcase_index][0])\n",
    "\n",
    "StateStr=input(\"Locate date of the first case. Please enter a state without quote marks!\")\n",
    "firstcase(StateStr)"
   ]
  },
  {
   "cell_type": "markdown",
   "metadata": {},
   "source": [
    "### Write a function that takes in a _state name_ as input (e.g. \"Wisconsin\") and outputs the date when the number of reported cases within the state exceeded 1000."
   ]
  },
  {
   "cell_type": "code",
   "execution_count": 9,
   "metadata": {},
   "outputs": [
    {
     "name": "stdout",
     "output_type": "stream",
     "text": [
      "Locate the date when cases within the state exceeded 1000.Please enter a state without quote marks!Florida\n",
      "Total number of items in the state list is 7706\n",
      "Total number of items in the date list is7706\n",
      "2020-03-23\n"
     ]
    }
   ],
   "source": [
    "### Create a function to locate date\n",
    "def exceed_1000(StateStr):\n",
    "    ##Create a list of the state \"column\" with cases exceed 1000(skip those <1000)\n",
    "    state_1000 = []\n",
    "    for i in range(1, len(state_covid_data)):\n",
    "        if eval(state_covid_data[i][3]) > 1000:\n",
    "            state_1000.append(state_covid_data[i][1])\n",
    "        else:\n",
    "            continue\n",
    "    print(\"Total number of items in the state list is {}\".format(len(state_1000)))\n",
    "    \n",
    "    ##Create a list of the date \"column\" with cases exceed 1000(skip those <1000)\n",
    "    date_1000 = []\n",
    "    for i in range(1, len(state_covid_data)):\n",
    "        if eval(state_covid_data[i][3]) > 1000:\n",
    "            date_1000.append(state_covid_data[i][0])\n",
    "        else:\n",
    "            continue\n",
    "    print(\"Total number of items in the date list is {}\".format(len(date_1000)))\n",
    "\n",
    "    ##Find the index of state's first case > 1000 within the filtered state list\n",
    "    StateStr_1st1000_index = state_1000.index(StateStr)\n",
    "    \n",
    "    ##Use the index to locate the date within the filtered date list\n",
    "    print(date_1000[StateStr_1st1000_index])\n",
    "    \n",
    "StateStr=input(\"Locate the date when cases within the state exceeded 1000.Please enter a state without quote marks!\")\n",
    "exceed_1000(StateStr)\n"
   ]
  },
  {
   "cell_type": "markdown",
   "metadata": {},
   "source": [
    "##### I added the number of items in the list just to make sure they are the same length. Life is much easier with  NumPy array and Pandas dataframe...But I'm trying to practice loops here!!"
   ]
  }
 ],
 "metadata": {
  "kernelspec": {
   "display_name": "Python 3",
   "language": "python",
   "name": "python3"
  },
  "language_info": {
   "codemirror_mode": {
    "name": "ipython",
    "version": 3
   },
   "file_extension": ".py",
   "mimetype": "text/x-python",
   "name": "python",
   "nbconvert_exporter": "python",
   "pygments_lexer": "ipython3",
   "version": "3.7.6"
  }
 },
 "nbformat": 4,
 "nbformat_minor": 4
}
