{
 "cells": [
  {
   "cell_type": "markdown",
   "metadata": {},
   "source": [
    "# Coding Discussion No.2\n",
    "## Name: Sahithi Adari \n",
    "### Date: 09/13/2020"
   ]
  },
  {
   "cell_type": "code",
   "execution_count": 1,
   "metadata": {},
   "outputs": [
    {
     "data": {
      "text/plain": [
       "10080"
      ]
     },
     "execution_count": 1,
     "metadata": {},
     "output_type": "execute_result"
    }
   ],
   "source": [
    "## Read in the data \n",
    "import csv\n",
    "with open('us-states.csv') as file:\n",
    "        state_covid_data = []\n",
    "        for row in csv.reader(file):\n",
    "            state_covid_data.append(row)\n",
    "\n",
    "len(state_covid_data)"
   ]
  },
  {
   "cell_type": "markdown",
   "metadata": {},
   "source": [
    "### (1) Count up the number of unique dates in the data."
   ]
  },
  {
   "cell_type": "code",
   "execution_count": 2,
   "metadata": {},
   "outputs": [],
   "source": [
    "## Problem 1 creating a list of just dates\n",
    "covid_dates = []\n",
    "for row in state_covid_data:\n",
    "    covid_dates.append(row[0])"
   ]
  },
  {
   "cell_type": "code",
   "execution_count": 3,
   "metadata": {},
   "outputs": [],
   "source": [
    "## Problem 1 - creating a set from the list\n",
    "def unique_dates(i):\n",
    "    '''\n",
    "    Takes a list, changes it into a set, and then returns the number of unique elements in that set. \n",
    "    '''\n",
    "    dates = set(i)\n",
    "    count = len(dates)\n",
    "    return count"
   ]
  },
  {
   "cell_type": "code",
   "execution_count": 4,
   "metadata": {},
   "outputs": [
    {
     "data": {
      "text/plain": [
       "226"
      ]
     },
     "execution_count": 4,
     "metadata": {},
     "output_type": "execute_result"
    }
   ],
   "source": [
    "## Problem 1 - answer\n",
    "unique_dates(covid_dates)"
   ]
  },
  {
   "cell_type": "markdown",
   "metadata": {},
   "source": [
    "### (2) Find the first date in which the District of Columbia recorded a case."
   ]
  },
  {
   "cell_type": "code",
   "execution_count": 5,
   "metadata": {},
   "outputs": [
    {
     "name": "stdout",
     "output_type": "stream",
     "text": [
      "2020-03-07\n"
     ]
    }
   ],
   "source": [
    "## Problem 2 - answer\n",
    "for state in state_covid_data: \n",
    "    if state[1] == 'District of Columbia':\n",
    "        print(state[0])\n",
    "        break"
   ]
  },
  {
   "cell_type": "markdown",
   "metadata": {},
   "source": [
    "### (3) Write a function that takes in a state name as input (e.g. \"Wisconsin\") and outputs the date of its first case."
   ]
  },
  {
   "cell_type": "code",
   "execution_count": 6,
   "metadata": {},
   "outputs": [],
   "source": [
    "## Problem 3 - creating a function where you can input an area to return the first case\n",
    "def first_case(state):\n",
    "    '''Takes in a state and returns the date of the first reported case for that state. \n",
    "    Example:\n",
    "    >>>first_case('North Carolina')\n",
    "    '2020-03-03'\n",
    "    '''\n",
    "    for row in state_covid_data:\n",
    "        if row[1] == state:\n",
    "            return row[0]"
   ]
  },
  {
   "cell_type": "code",
   "execution_count": 7,
   "metadata": {},
   "outputs": [
    {
     "data": {
      "text/plain": [
       "'2020-02-05'"
      ]
     },
     "execution_count": 7,
     "metadata": {},
     "output_type": "execute_result"
    }
   ],
   "source": [
    "## Problem 3 - answer\n",
    "first_case('Wisconsin')"
   ]
  },
  {
   "cell_type": "markdown",
   "metadata": {},
   "source": [
    "### Bonus- Write a function that takes in a state name as input (e.g. \"Wisconsin\") and outputs the date when the number of reported cases within the state exceeded 1000."
   ]
  },
  {
   "cell_type": "markdown",
   "metadata": {},
   "source": [
    "#### Wanted to make a really quick note here that a) I collaborated with Merykokeb Belay on the below and that b) I felt this questions was really ambigiously worded. I wasn't sure if you wanted the date that total cases, from the beginning of this data set, hit a 1000+ or the date when the daily case rate was equal to or greater than 1000. Also the example given in the instructions doesn't make sense to me as Wisconsin's first 1000+ cases was actually 2020-03-28 and not 2020-04-03. "
   ]
  },
  {
   "cell_type": "code",
   "execution_count": 8,
   "metadata": {},
   "outputs": [],
   "source": [
    "## Bonus Question - created a nested list of the dates, states, and daily cases from the state_covid_data list. \n",
    "## The daily cases \"column\" was also changed into an integer instead of a string for this new nested list.\n",
    "covid_int = []\n",
    "for boar in state_covid_data[1:]:\n",
    "    covid_int.append([boar[0], boar[1], int(boar[3])])"
   ]
  },
  {
   "cell_type": "code",
   "execution_count": 9,
   "metadata": {},
   "outputs": [],
   "source": [
    "## Bonus Question - created a function where you input a state and it returns a date\n",
    "def locate_date_1000(state):\n",
    "    '''Takes in a state and returns the first date that daily cases were greater than or equal to a 1000 for that state. \n",
    "    Example: \n",
    "    >>> locate_date_1000('Florida')\n",
    "    '2020-03-23'\n",
    "    '''\n",
    "    for row in covid_int:\n",
    "        if row[1] == state and row[2]>=1000:\n",
    "            return row[0]"
   ]
  },
  {
   "cell_type": "code",
   "execution_count": 10,
   "metadata": {},
   "outputs": [
    {
     "data": {
      "text/plain": [
       "'2020-03-28'"
      ]
     },
     "execution_count": 10,
     "metadata": {},
     "output_type": "execute_result"
    }
   ],
   "source": [
    "## Bonus Question - answer\n",
    "locate_date_1000('Wisconsin')"
   ]
  }
 ],
 "metadata": {
  "kernelspec": {
   "display_name": "Python 3",
   "language": "python",
   "name": "python3"
  },
  "language_info": {
   "codemirror_mode": {
    "name": "ipython",
    "version": 3
   },
   "file_extension": ".py",
   "mimetype": "text/x-python",
   "name": "python",
   "nbconvert_exporter": "python",
   "pygments_lexer": "ipython3",
   "version": "3.8.5"
  }
 },
 "nbformat": 4,
 "nbformat_minor": 4
}
