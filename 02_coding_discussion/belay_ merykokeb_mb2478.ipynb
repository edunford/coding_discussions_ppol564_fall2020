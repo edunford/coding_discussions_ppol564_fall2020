{
 "cells": [
  {
   "cell_type": "code",
   "execution_count": 1,
   "metadata": {},
   "outputs": [],
   "source": [
    "## Read in the data \n",
    "import csv\n",
    "with open('us-states.csv') as file:\n",
    "        state_covid_data = []\n",
    "        for row in csv.reader(file):\n",
    "            state_covid_data.append(row)"
   ]
  },
  {
   "cell_type": "code",
   "execution_count": 2,
   "metadata": {},
   "outputs": [
    {
     "data": {
      "text/plain": [
       "10080"
      ]
     },
     "execution_count": 2,
     "metadata": {},
     "output_type": "execute_result"
    }
   ],
   "source": [
    "##check length of imported data\n",
    "len(state_covid_data)"
   ]
  },
  {
   "cell_type": "code",
   "execution_count": 3,
   "metadata": {
    "scrolled": false
   },
   "outputs": [
    {
     "data": {
      "text/plain": [
       "[['date', 'state', 'fips', 'cases', 'deaths'],\n",
       " ['2020-01-21', 'Washington', '53', '1', '0'],\n",
       " ['2020-01-22', 'Washington', '53', '1', '0'],\n",
       " ['2020-01-23', 'Washington', '53', '1', '0'],\n",
       " ['2020-01-24', 'Illinois', '17', '1', '0']]"
      ]
     },
     "execution_count": 3,
     "metadata": {},
     "output_type": "execute_result"
    }
   ],
   "source": [
    "##print first five rows of the data by extracting from nested list\n",
    "state_covid_data[:5]"
   ]
  },
  {
   "cell_type": "markdown",
   "metadata": {},
   "source": [
    "### (1) Count up the number of unique dates in the data."
   ]
  },
  {
   "cell_type": "code",
   "execution_count": 4,
   "metadata": {},
   "outputs": [],
   "source": [
    "##initiate a list \n",
    "mylist=[]\n",
    "##for each list after the header row in state_covid_data, for the 0th index, split at the comma to keep only dates \n",
    "for i in state_covid_data[1:]:\n",
    "    for date in i[0].split(\",\"):\n",
    "##add the list of date values to initiated list, 'mylist'\n",
    "        mylist.append(date)"
   ]
  },
  {
   "cell_type": "code",
   "execution_count": 5,
   "metadata": {},
   "outputs": [],
   "source": [
    "##initiate a set, myset2, and construct mylist in to a set\n",
    "myset2=set(mylist)"
   ]
  },
  {
   "cell_type": "code",
   "execution_count": 6,
   "metadata": {},
   "outputs": [
    {
     "data": {
      "text/plain": [
       "225"
      ]
     },
     "execution_count": 6,
     "metadata": {},
     "output_type": "execute_result"
    }
   ],
   "source": [
    "##find length of set to find number of unique dates in data\n",
    "len(myset2)"
   ]
  },
  {
   "cell_type": "markdown",
   "metadata": {},
   "source": [
    "### (2) Find the first date in which the District of Columbia recorded a case."
   ]
  },
  {
   "cell_type": "code",
   "execution_count": 7,
   "metadata": {
    "scrolled": true
   },
   "outputs": [
    {
     "name": "stdout",
     "output_type": "stream",
     "text": [
      "2020-03-07\n"
     ]
    }
   ],
   "source": [
    "##initiate a dictionary \n",
    "DC_first_case={}\n",
    "for i in state_covid_data:\n",
    "## for each list in state_covid_data, if DC is not the first index, don't execute what follows.... \n",
    "        if 'District of Columbia' not in i[1]:\n",
    "            continue\n",
    "        else:\n",
    "##if DC is in the first index, split the date item after the comma to retain just a list of dates\n",
    "            for DC_date in i[0].split(\",\"):\n",
    "##insert list of DC dates to initiated dictionary where the dates will be the keys \n",
    "                DC_first_case[DC_date]=1\n",
    "##dates are already in ascending order; print the key of the first index (i.e, the first date DC recorded a case)\n",
    "print(list(DC_first_case.keys())[0])\n",
    "    "
   ]
  },
  {
   "cell_type": "markdown",
   "metadata": {},
   "source": [
    "### (3) Write a function that takes in a state name as input (e.g. \"Wisconsin\") and outputs the date of its first case."
   ]
  },
  {
   "cell_type": "code",
   "execution_count": 8,
   "metadata": {},
   "outputs": [],
   "source": [
    "def case_first_date(n):\n",
    "    \"\"\"\n",
    "    The function case_first_date takes in a state name (n) from the state_covid_data as an input \n",
    "    and outputs the date of the first reported case. The function parses through the nested \n",
    "    list, identifies the first occurence of the inputted state, and prints the corresponding date.\n",
    "    \n",
    "    Example: case_first_date('District of Columbia')\n",
    "    >>> '2020-03-07'\n",
    "    \n",
    "    \"\"\"\n",
    "    for i in state_covid_data:\n",
    "        while n==i[1]:\n",
    "                return(i[0])"
   ]
  },
  {
   "cell_type": "code",
   "execution_count": 9,
   "metadata": {
    "scrolled": false
   },
   "outputs": [
    {
     "data": {
      "text/plain": [
       "'2020-02-05'"
      ]
     },
     "execution_count": 9,
     "metadata": {},
     "output_type": "execute_result"
    }
   ],
   "source": [
    "case_first_date('Wisconsin')"
   ]
  },
  {
   "cell_type": "markdown",
   "metadata": {},
   "source": [
    "### (4) Bonus: Write a function that takes in a state name as input (e.g. \"Wisconsin\") and outputs the date when the number of reported cases within the state exceeded 1000"
   ]
  },
  {
   "cell_type": "code",
   "execution_count": 10,
   "metadata": {},
   "outputs": [],
   "source": [
    "##initiate a list; \n",
    "case_1000_date=[]\n",
    "for i in state_covid_data[1:]:\n",
    "##for all lists apart from the header row, append date, state, and case data to new list\n",
    "    case_1000_date.append([i[0], i[1], int(i[3])])##when appending, convert case value to integer"
   ]
  },
  {
   "cell_type": "code",
   "execution_count": 11,
   "metadata": {},
   "outputs": [],
   "source": [
    "def exceed_1000(n):\n",
    "    \"\"\"\n",
    "    The function exceed_1000 takes in a state name (n) from the state_covid_data as an input \n",
    "    and outputs the date when the number of reported cases in the inputted state exceeded 1000. \n",
    "    The function parses through the nested list (case_1000_date) identifies the first occurence \n",
    "    of more than 1000 cases for the inputted state, and prints the corresponding date.\n",
    "    \n",
    "    Example: exceed_1000('District of Columbia')\n",
    "    >>> '2020-04-06'\n",
    "    \n",
    "    \"\"\"\n",
    "    for i in case_1000_date:\n",
    "        if i[1]==n and i[2]>1000:\n",
    "                return(i[0])"
   ]
  },
  {
   "cell_type": "code",
   "execution_count": 12,
   "metadata": {},
   "outputs": [
    {
     "data": {
      "text/plain": [
       "'2020-04-06'"
      ]
     },
     "execution_count": 12,
     "metadata": {},
     "output_type": "execute_result"
    }
   ],
   "source": [
    "exceed_1000('District of Columbia')"
   ]
  }
 ],
 "metadata": {
  "kernelspec": {
   "display_name": "Python 3",
   "language": "python",
   "name": "python3"
  },
  "language_info": {
   "codemirror_mode": {
    "name": "ipython",
    "version": 3
   },
   "file_extension": ".py",
   "mimetype": "text/x-python",
   "name": "python",
   "nbconvert_exporter": "python",
   "pygments_lexer": "ipython3",
   "version": "3.8.3"
  }
 },
 "nbformat": 4,
 "nbformat_minor": 4
}
