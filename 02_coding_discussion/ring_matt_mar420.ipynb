{
 "cells": [
  {
   "cell_type": "markdown",
   "metadata": {},
   "source": [
    "# Imports"
   ]
  },
  {
   "cell_type": "code",
   "execution_count": 15,
   "metadata": {},
   "outputs": [
    {
     "data": {
      "text/plain": [
       "10080"
      ]
     },
     "execution_count": 15,
     "metadata": {},
     "output_type": "execute_result"
    }
   ],
   "source": [
    "# Import packages\n",
    "import csv\n",
    "import numpy as np\n",
    "\n",
    "## Read in the data (we would provide this)\n",
    "with open('us-states.csv') as file:\n",
    "        state_covid_data = []\n",
    "        for row in csv.reader(file):\n",
    "            state_covid_data.append(row)\n",
    "\n",
    "len(state_covid_data)"
   ]
  },
  {
   "cell_type": "markdown",
   "metadata": {},
   "source": [
    "# Exploration"
   ]
  },
  {
   "cell_type": "code",
   "execution_count": 2,
   "metadata": {},
   "outputs": [
    {
     "data": {
      "text/plain": [
       "[['date', 'state', 'fips', 'cases', 'deaths'],\n",
       " ['2020-01-21', 'Washington', '53', '1', '0'],\n",
       " ['2020-01-22', 'Washington', '53', '1', '0'],\n",
       " ['2020-01-23', 'Washington', '53', '1', '0'],\n",
       " ['2020-01-24', 'Illinois', '17', '1', '0']]"
      ]
     },
     "execution_count": 2,
     "metadata": {},
     "output_type": "execute_result"
    }
   ],
   "source": [
    "# First 5 entries\n",
    "state_covid_data[:5]"
   ]
  },
  {
   "cell_type": "code",
   "execution_count": 4,
   "metadata": {},
   "outputs": [
    {
     "data": {
      "text/plain": [
       "['2020-01-21', 'Washington', '53', '1', '0']"
      ]
     },
     "execution_count": 4,
     "metadata": {},
     "output_type": "execute_result"
    }
   ],
   "source": [
    "# First row\n",
    "state_covid_data[:][1]"
   ]
  },
  {
   "cell_type": "code",
   "execution_count": 5,
   "metadata": {},
   "outputs": [
    {
     "data": {
      "text/plain": [
       "['2020-01-21', 'Washington', '53', '1', '0']"
      ]
     },
     "execution_count": 5,
     "metadata": {},
     "output_type": "execute_result"
    }
   ],
   "source": [
    "# Also returns the first row!\n",
    "state_covid_data[1][:]"
   ]
  },
  {
   "cell_type": "code",
   "execution_count": 8,
   "metadata": {},
   "outputs": [
    {
     "data": {
      "text/plain": [
       "['2020-01-21', '2020-01-22', '2020-01-23', '2020-01-24', '2020-01-24']"
      ]
     },
     "execution_count": 8,
     "metadata": {},
     "output_type": "execute_result"
    }
   ],
   "source": [
    "# Returns the first 5 entries in the first column, not including the variable names\n",
    "[x[0] for x in state_covid_data[1:]][:5]"
   ]
  },
  {
   "cell_type": "markdown",
   "metadata": {},
   "source": [
    "# Questions"
   ]
  },
  {
   "cell_type": "markdown",
   "metadata": {},
   "source": [
    "## (1) Count up the number of unique dates in the data"
   ]
  },
  {
   "cell_type": "code",
   "execution_count": 11,
   "metadata": {},
   "outputs": [
    {
     "data": {
      "text/plain": [
       "['2020-01-21', '2020-01-22', '2020-01-23', '2020-01-24', '2020-01-24']"
      ]
     },
     "execution_count": 11,
     "metadata": {},
     "output_type": "execute_result"
    }
   ],
   "source": [
    "# Creates a list of only the date variable\n",
    "dates = [x[0] for x in state_covid_data[1:]]\n",
    "dates[:5]"
   ]
  },
  {
   "cell_type": "code",
   "execution_count": 20,
   "metadata": {},
   "outputs": [
    {
     "name": "stdout",
     "output_type": "stream",
     "text": [
      "Number of unique dates: 225\n"
     ]
    }
   ],
   "source": [
    "# Determines and prints the number of unique dates using numpy\n",
    "print(\"Number of unique dates: \" + str(len(np.unique(dates))))"
   ]
  },
  {
   "cell_type": "code",
   "execution_count": 21,
   "metadata": {},
   "outputs": [
    {
     "name": "stdout",
     "output_type": "stream",
     "text": [
      "Number of unique dates: 225\n"
     ]
    }
   ],
   "source": [
    "# Determines the number of unique dates using a loop\n",
    "# Inspired by code found at https://www.geeksforgeeks.org/python-get-unique-values-list/\n",
    "\n",
    "# Unique dates list\n",
    "unique_dates = []\n",
    "\n",
    "# Iterates through the dates list and appends \n",
    "# those not in the unique dates list to the unique dates list\n",
    "for date in dates:\n",
    "    if date not in unique_dates:\n",
    "        unique_dates.append(date)\n",
    "\n",
    "# Finds and prints the length of the unique dates list\n",
    "print(\"Number of unique dates: \" + str(len(unique_dates)))"
   ]
  },
  {
   "cell_type": "markdown",
   "metadata": {},
   "source": [
    "## (2) Find the first date in which the District of Columbia recorded a case"
   ]
  },
  {
   "cell_type": "code",
   "execution_count": 22,
   "metadata": {},
   "outputs": [
    {
     "data": {
      "text/plain": [
       "['Washington', 'Washington', 'Washington', 'Illinois', 'Washington']"
      ]
     },
     "execution_count": 22,
     "metadata": {},
     "output_type": "execute_result"
    }
   ],
   "source": [
    "# Creates a list of states\n",
    "states = [x[1] for x in state_covid_data[1:]]\n",
    "states[:5]"
   ]
  },
  {
   "cell_type": "code",
   "execution_count": 24,
   "metadata": {},
   "outputs": [
    {
     "data": {
      "text/plain": [
       "array(['Alabama', 'Alaska', 'Arizona', 'Arkansas', 'California',\n",
       "       'Colorado', 'Connecticut', 'Delaware', 'District of Columbia',\n",
       "       'Florida', 'Georgia', 'Guam', 'Hawaii', 'Idaho', 'Illinois',\n",
       "       'Indiana', 'Iowa', 'Kansas', 'Kentucky', 'Louisiana', 'Maine',\n",
       "       'Maryland', 'Massachusetts', 'Michigan', 'Minnesota',\n",
       "       'Mississippi', 'Missouri', 'Montana', 'Nebraska', 'Nevada',\n",
       "       'New Hampshire', 'New Jersey', 'New Mexico', 'New York',\n",
       "       'North Carolina', 'North Dakota', 'Northern Mariana Islands',\n",
       "       'Ohio', 'Oklahoma', 'Oregon', 'Pennsylvania', 'Puerto Rico',\n",
       "       'Rhode Island', 'South Carolina', 'South Dakota', 'Tennessee',\n",
       "       'Texas', 'Utah', 'Vermont', 'Virgin Islands', 'Virginia',\n",
       "       'Washington', 'West Virginia', 'Wisconsin', 'Wyoming'],\n",
       "      dtype='<U24')"
      ]
     },
     "execution_count": 24,
     "metadata": {},
     "output_type": "execute_result"
    }
   ],
   "source": [
    "# Used to determine how the name for the District of Columbia is recorded\n",
    "np.unique(states)"
   ]
  },
  {
   "cell_type": "code",
   "execution_count": 26,
   "metadata": {},
   "outputs": [
    {
     "data": {
      "text/plain": [
       "353"
      ]
     },
     "execution_count": 26,
     "metadata": {},
     "output_type": "execute_result"
    }
   ],
   "source": [
    "# Finds the index of the first occurance of \"District of Columbia\" in the states list\n",
    "firstDCCaseIndex = states.index(\"District of Columbia\")\n",
    "firstDCCaseIndex"
   ]
  },
  {
   "cell_type": "code",
   "execution_count": 27,
   "metadata": {},
   "outputs": [
    {
     "data": {
      "text/plain": [
       "'2020-03-07'"
      ]
     },
     "execution_count": 27,
     "metadata": {},
     "output_type": "execute_result"
    }
   ],
   "source": [
    "# Returns the date of the first DC case\n",
    "dates[firstDCCaseIndex]"
   ]
  },
  {
   "cell_type": "markdown",
   "metadata": {},
   "source": [
    "**Answer:** The first case in DC was recorded on March 7th, 2020. "
   ]
  },
  {
   "cell_type": "markdown",
   "metadata": {},
   "source": [
    "## (3) Write a function that takes in a *state name* as input (e.g. \"Michigan\") and outputs the date of its first case"
   ]
  },
  {
   "cell_type": "code",
   "execution_count": 32,
   "metadata": {},
   "outputs": [],
   "source": [
    "def first_case(state_name):\n",
    "    '''\n",
    "    A function which takes in a state name and\n",
    "    returns the date of that state's first case\n",
    "    \n",
    "    state_name: Name of the state in question as\n",
    "    a string\n",
    "    '''\n",
    "    \n",
    "    # Finds the index of the first case for the given state\n",
    "    index = states.index(state_name)\n",
    "    \n",
    "    # Determines the date of the first case\n",
    "    first_case_date = dates[index]\n",
    "    \n",
    "    # Returns the first case's date for the selected state\n",
    "    return(first_case_date)"
   ]
  },
  {
   "cell_type": "code",
   "execution_count": 33,
   "metadata": {},
   "outputs": [
    {
     "data": {
      "text/plain": [
       "'2020-03-10'"
      ]
     },
     "execution_count": 33,
     "metadata": {},
     "output_type": "execute_result"
    }
   ],
   "source": [
    "first_case(\"Michigan\")"
   ]
  },
  {
   "cell_type": "code",
   "execution_count": 34,
   "metadata": {},
   "outputs": [
    {
     "data": {
      "text/plain": [
       "'2020-02-05'"
      ]
     },
     "execution_count": 34,
     "metadata": {},
     "output_type": "execute_result"
    }
   ],
   "source": [
    "first_case(\"Wisconsin\")"
   ]
  },
  {
   "cell_type": "markdown",
   "metadata": {},
   "source": [
    "## (Optional) Bonus"
   ]
  },
  {
   "cell_type": "code",
   "execution_count": 53,
   "metadata": {},
   "outputs": [],
   "source": [
    "# Creates the cases list required for the function below\n",
    "cases = [x[2] for x in state_covid_data[1:]]\n",
    "\n",
    "# Changes the cases list to all integers\n",
    "i = 0\n",
    "for case in cases:\n",
    "    cases[i] = int(case)\n",
    "    i += 1"
   ]
  },
  {
   "cell_type": "code",
   "execution_count": 54,
   "metadata": {},
   "outputs": [],
   "source": [
    "def locate_date_1000(state_name):\n",
    "    '''\n",
    "    \n",
    "    '''\n",
    "    \n",
    "    # Sets up an indexing variable\n",
    "    index = 0\n",
    "    \n",
    "    # Sets up a total cases variable\n",
    "    total_cases = 0\n",
    "    \n",
    "    # Loops through the states list\n",
    "    for state in states:\n",
    "\n",
    "        # Determines if this is the correct state\n",
    "        # and if the number of cases has exceeded 1000\n",
    "        if (state == state_name):\n",
    "            \n",
    "            # Adds the daily case load to the total cases\n",
    "            total_cases += cases[index]\n",
    "            \n",
    "            # Checks to see if the state has surpased 1000 cases\n",
    "            if (total_cases > 1000):\n",
    "            \n",
    "                # Returns the date the given state surpasses 1000 cases\n",
    "                return dates[index]\n",
    "        \n",
    "        # Iterates the indexing variable\n",
    "        index += 1\n",
    "    "
   ]
  },
  {
   "cell_type": "code",
   "execution_count": 55,
   "metadata": {},
   "outputs": [
    {
     "data": {
      "text/plain": [
       "'2020-04-17'"
      ]
     },
     "execution_count": 55,
     "metadata": {},
     "output_type": "execute_result"
    }
   ],
   "source": [
    "locate_date_1000(\"Michigan\")"
   ]
  },
  {
   "cell_type": "code",
   "execution_count": null,
   "metadata": {},
   "outputs": [],
   "source": []
  }
 ],
 "metadata": {
  "kernelspec": {
   "display_name": "Python 3",
   "language": "python",
   "name": "python3"
  },
  "language_info": {
   "codemirror_mode": {
    "name": "ipython",
    "version": 3
   },
   "file_extension": ".py",
   "mimetype": "text/x-python",
   "name": "python",
   "nbconvert_exporter": "python",
   "pygments_lexer": "ipython3",
   "version": "3.7.5"
  }
 },
 "nbformat": 4,
 "nbformat_minor": 4
}
