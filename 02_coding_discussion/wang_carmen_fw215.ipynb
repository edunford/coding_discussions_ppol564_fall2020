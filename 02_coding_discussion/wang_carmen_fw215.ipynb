{
 "cells": [
  {
   "cell_type": "markdown",
   "metadata": {},
   "source": [
    "# Coding Discussion 2\n",
    "\n",
    "### Carmen Wang\n",
    "\n"
   ]
  },
  {
   "cell_type": "code",
   "execution_count": 2,
   "metadata": {},
   "outputs": [
    {
     "data": {
      "text/plain": [
       "[['date', 'state', 'fips', 'cases', 'deaths'],\n",
       " ['2020-01-21', 'Washington', '53', '1', '0'],\n",
       " ['2020-01-22', 'Washington', '53', '1', '0'],\n",
       " ['2020-01-23', 'Washington', '53', '1', '0'],\n",
       " ['2020-01-24', 'Illinois', '17', '1', '0']]"
      ]
     },
     "execution_count": 2,
     "metadata": {},
     "output_type": "execute_result"
    }
   ],
   "source": [
    "import csv\n",
    "with open('us-states.csv') as file:\n",
    "        state_covid_data = []\n",
    "        for row in csv.reader(file):\n",
    "            state_covid_data.append(row)\n",
    "len(state_covid_data)\n",
    "state_covid_data[:5]\n"
   ]
  },
  {
   "cell_type": "markdown",
   "metadata": {},
   "source": [
    "### Q1: Count up the number of unique dates in the data."
   ]
  },
  {
   "cell_type": "code",
   "execution_count": 3,
   "metadata": {},
   "outputs": [
    {
     "data": {
      "text/plain": [
       "225"
      ]
     },
     "execution_count": 3,
     "metadata": {},
     "output_type": "execute_result"
    }
   ],
   "source": [
    "#create an empty list to store date data\n",
    "dates = []\n",
    "#starting from the second row (or the second nested list)\n",
    "#for every date that is not included in the newly created container\n",
    "#add the date to the list\n",
    "for n in state_covid_data[1:]:\n",
    "    if n[0] not in dates:\n",
    "        dates.append(n[0])\n",
    "#using the length function to count unique dates\n",
    "len(dates)"
   ]
  },
  {
   "cell_type": "markdown",
   "metadata": {},
   "source": [
    "### Q2: Find the first date in which the District of Columbia recorded a case."
   ]
  },
  {
   "cell_type": "code",
   "execution_count": 4,
   "metadata": {},
   "outputs": [
    {
     "data": {
      "text/plain": [
       "'2020-03-07'"
      ]
     },
     "execution_count": 4,
     "metadata": {},
     "output_type": "execute_result"
    }
   ],
   "source": [
    "DC_cases = []\n",
    "#in the range from the second row to the last row\n",
    "#for every row with state as District of Columbia\n",
    "#insert the row to DC_cases\n",
    "for n in range(1,len(state_covid_data)):\n",
    "    if state_covid_data[n][1] == 'District of Columbia':\n",
    "        DC_cases.append(state_covid_data[n])\n",
    "#retrieve the first case - row = 0, col = 0\n",
    "DC_cases[0][0]"
   ]
  },
  {
   "cell_type": "markdown",
   "metadata": {},
   "source": [
    "### Q3: Write a function that takes in a state name as input (e.g. \"Wisconsin\") and outputs the date of its first case."
   ]
  },
  {
   "cell_type": "code",
   "execution_count": 6,
   "metadata": {},
   "outputs": [
    {
     "name": "stdout",
     "output_type": "stream",
     "text": [
      "2020-02-05\n"
     ]
    }
   ],
   "source": [
    "#define the function\n",
    "#when locating the state's first case, break the loop\n",
    "def first_case(state):\n",
    "    for n in state_covid_data[1:]:\n",
    "        if n[1] == state:\n",
    "            print(n[0])\n",
    "            break\n",
    "#Call the function\n",
    "first_case('Wisconsin')"
   ]
  },
  {
   "cell_type": "markdown",
   "metadata": {},
   "source": [
    "### Bonus: Write a function that takes in a state name as input (e.g. \"Wisconsin\") and outputs the date when the number of reported cases within the state exceeded 1000"
   ]
  },
  {
   "cell_type": "code",
   "execution_count": 9,
   "metadata": {},
   "outputs": [
    {
     "name": "stdout",
     "output_type": "stream",
     "text": [
      "2020-03-28\n"
     ]
    }
   ],
   "source": [
    "#define the function\n",
    "#When if the case number has not exceedded 1000, continue looping \n",
    "#otherwise, print out the date and break the loop\n",
    "def over1000(state):\n",
    "    for n in state_covid_data[1:]:\n",
    "        if n[1] == state:\n",
    "            if (int(n[3])) <= 1000:\n",
    "                continue\n",
    "            else:\n",
    "                print(n[0])\n",
    "                break\n",
    "\n",
    "over1000('Wisconsin')"
   ]
  },
  {
   "cell_type": "code",
   "execution_count": null,
   "metadata": {},
   "outputs": [],
   "source": []
  }
 ],
 "metadata": {
  "kernelspec": {
   "display_name": "Python 3",
   "language": "python",
   "name": "python3"
  },
  "language_info": {
   "codemirror_mode": {
    "name": "ipython",
    "version": 3
   },
   "file_extension": ".py",
   "mimetype": "text/x-python",
   "name": "python",
   "nbconvert_exporter": "python",
   "pygments_lexer": "ipython3",
   "version": "3.6.3"
  }
 },
 "nbformat": 4,
 "nbformat_minor": 4
}
