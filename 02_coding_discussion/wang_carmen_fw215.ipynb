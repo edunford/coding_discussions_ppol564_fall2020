import csv
with open('us-states.csv') as file:
        state_covid_data = []
        for row in csv.reader(file):
            state_covid_data.append(row)
len(state_covid_data)
state_covid_data[:5]

#Q1: Count up the number of unique dates in the data.

#create an empty list to store date data
dates = []
#starting from the second row (or the second nested list)
#for every date that is not included in the newly created container
#add the date to the list
for n in state_covid_data[1:]:
    if n[0] not in dates:
        dates.append(n[0])
#using the length function to count unique dates
len(dates)

#Q2: Find the first date in which the District of Columbia recorded a case.
#create a list to store all DC cases
DC_cases = []
#in the range from the second row to the last row
#for every row with state as District of Columbia
#insert the row to DC_cases
for n in range(1,len(state_covid_data)):
    if state_covid_data[n][1] == 'District of Columbia':
        DC_cases.append(state_covid_data[n])
#retrieve the first case - row = 0, col = 0
DC_cases[0][0]

#Q3: Write a function that takes in a state name as input (e.g. "Wisconsin")
#and outputs the date of its first case.

#define the function
#when locating the state's first case, break the loop
def first_case(state):
    for n in state_covid_data[1:]:
        if n[1] == state:
            print(n[0])
            break
#Call the function
first_case('Wisconsin')

#Bonus:
#Write a function that takes in a state name as input (e.g. "Wisconsin") and
#outputs the date when the number of reported cases within the state exceeded 1000

#define the function
#When if the case number has not exceedded 1000, continue looping 
#otherwise, print out the date and break the loop
def over1000(state):
    for n in state_covid_data[1:]:
        if n[1] == state:
            if (int(n[3])) <= 1000:
                continue
            else:
                print(n[0])
                break

over1000('Wisconsin')
