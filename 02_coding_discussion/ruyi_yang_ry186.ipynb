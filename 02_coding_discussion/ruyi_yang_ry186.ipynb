{
 "cells": [
  {
   "cell_type": "code",
   "execution_count": 1,
   "metadata": {},
   "outputs": [
    {
     "data": {
      "text/plain": [
       "10080"
      ]
     },
     "execution_count": 1,
     "metadata": {},
     "output_type": "execute_result"
    }
   ],
   "source": [
    "import csv\n",
    "with open('us-states.csv') as file:\n",
    "        state_covid_data = []\n",
    "        for row in csv.reader(file):\n",
    "            state_covid_data.append(row)\n",
    "\n",
    "len(state_covid_data)\n",
    "\n",
    "#state_covid_data"
   ]
  },
  {
   "cell_type": "code",
   "execution_count": 98,
   "metadata": {},
   "outputs": [
    {
     "data": {
      "text/plain": [
       "[['date', 'state', 'fips', 'cases', 'deaths'],\n",
       " ['2020-01-21', 'Washington', '53', '1', '0'],\n",
       " ['2020-01-22', 'Washington', '53', '1', '0'],\n",
       " ['2020-01-23', 'Washington', '53', '1', '0'],\n",
       " ['2020-01-24', 'Illinois', '17', '1', '0']]"
      ]
     },
     "execution_count": 98,
     "metadata": {},
     "output_type": "execute_result"
    }
   ],
   "source": [
    "state_covid_data[:5]"
   ]
  },
  {
   "cell_type": "markdown",
   "metadata": {},
   "source": [
    "# Question 1  Count up the number of unique dates in the data.\n",
    "\n",
    "There are 225 unique dates in this data"
   ]
  },
  {
   "cell_type": "code",
   "execution_count": 39,
   "metadata": {},
   "outputs": [
    {
     "data": {
      "text/plain": [
       "225"
      ]
     },
     "execution_count": 39,
     "metadata": {},
     "output_type": "execute_result"
    }
   ],
   "source": [
    "#first define an empty list\n",
    "dates = []\n",
    "#then create a loop to go over the state_covid_data list and add one row to the dates list if new date appears\n",
    "for i in state_covid_data[1:]:\n",
    "    if i[0] not in dates:\n",
    "        dates.append(i[0])\n",
    "#could the length of the dates list\n",
    "len(dates)"
   ]
  },
  {
   "cell_type": "markdown",
   "metadata": {},
   "source": [
    "# Question 2 Find the first date in which the District of Columbia recorded a case. \n",
    "The fist date in which the district of Columbia recorded a case is 2020-03-07"
   ]
  },
  {
   "cell_type": "code",
   "execution_count": 202,
   "metadata": {},
   "outputs": [
    {
     "data": {
      "text/plain": [
       "'2020-03-07'"
      ]
     },
     "execution_count": 202,
     "metadata": {},
     "output_type": "execute_result"
    }
   ],
   "source": [
    "#define an empty list state\n",
    "state = []\n",
    "#create a loop to go over the original list\n",
    "for i in range(1,10080):\n",
    "    if state_covid_data[i][1] == 'District of Columbia':\n",
    "        state.append(state_covid_data[i])\n",
    "    #break when the first case is found\n",
    "        break\n",
    "state[0][0]\n"
   ]
  },
  {
   "cell_type": "markdown",
   "metadata": {},
   "source": [
    "# Question 3 Write a function that takes in a _state name_ as input (e.g. \"Wisconsin\") and outputs the date of its first case.\n"
   ]
  },
  {
   "cell_type": "code",
   "execution_count": 235,
   "metadata": {},
   "outputs": [
    {
     "data": {
      "text/plain": [
       "'2020-02-05'"
      ]
     },
     "execution_count": 235,
     "metadata": {},
     "output_type": "execute_result"
    }
   ],
   "source": [
    "#first create an empty list city\n",
    "state_input = []\n",
    "#define the function\n",
    "def locate_date(state):\n",
    "    #repeat the process trying to find the first date in question 2\n",
    "    for i in range(1,10080):\n",
    "        if state_covid_data[i][1] == state:\n",
    "            state_input.append(state_covid_data[i])\n",
    "            state_date = state_input[0][0]\n",
    "            break\n",
    "    return state_date\n",
    "locate_date('Wisconsin')"
   ]
  },
  {
   "cell_type": "markdown",
   "metadata": {},
   "source": [
    "# Bonus Question Write a function that takes in a _state name_ as input (e.g. \"Wisconsin\") and outputs the date when the number of reported cases within the state exceeded 1000."
   ]
  },
  {
   "cell_type": "code",
   "execution_count": 258,
   "metadata": {},
   "outputs": [
    {
     "name": "stdout",
     "output_type": "stream",
     "text": [
      "2020-03-22\n"
     ]
    }
   ],
   "source": [
    "#define a function and set the initial total sum to be zero\n",
    "#loop through the list when state = input and add the case number up when it hadn't exceed 1000\n",
    "#break the loop when it exceeds 1000 and print output\n",
    "\n",
    "def locate_date_1000(state):\n",
    "    case_total = 0\n",
    "    city_1000 = []\n",
    "    for i in state_covid_data[1:]:\n",
    "        if i[1] == state:  \n",
    "            if case_total <= 1000:\n",
    "                case_total += int(i[3])\n",
    "                continue\n",
    "            else:\n",
    "                print(i[0])\n",
    "                break\n",
    "   \n",
    "    \n",
    "locate_date_1000('Wisconsin')"
   ]
  },
  {
   "cell_type": "code",
   "execution_count": null,
   "metadata": {},
   "outputs": [],
   "source": []
  }
 ],
 "metadata": {
  "kernelspec": {
   "display_name": "Python 3",
   "language": "python",
   "name": "python3"
  },
  "language_info": {
   "codemirror_mode": {
    "name": "ipython",
    "version": 3
   },
   "file_extension": ".py",
   "mimetype": "text/x-python",
   "name": "python",
   "nbconvert_exporter": "python",
   "pygments_lexer": "ipython3",
   "version": "3.8.5"
  }
 },
 "nbformat": 4,
 "nbformat_minor": 4
}
