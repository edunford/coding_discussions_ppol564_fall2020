{
  "cells": [
    {
      "cell_type": "code",
      "source": [
        "# Import modules\n",
        "import csv\n",
        "import os\n"
      ],
      "outputs": [],
      "execution_count": null,
      "metadata": {
        "collapsed": true,
        "jupyter": {
          "source_hidden": false,
          "outputs_hidden": false
        },
        "nteract": {
          "transient": {
            "deleting": false
          }
        }
      }
    },
    {
      "cell_type": "code",
      "source": [
        "# Change working directory\n",
        "os.chdir('/Users/Chau/Georgetown/Fall2020/PPOL564_DS/coding_discussions_ppol564_fall2020/')\n"
      ],
      "outputs": [],
      "execution_count": null,
      "metadata": {
        "collapsed": true,
        "jupyter": {
          "source_hidden": false,
          "outputs_hidden": false
        },
        "nteract": {
          "transient": {
            "deleting": false
          }
        }
      }
    },
    {
      "cell_type": "code",
      "source": [
        "# Open csv file\n",
        "with open('02_coding_discussion/us-states.csv') as file:\n",
        "    state_covid_data = []\n",
        "    for row in csv.reader(file):\n",
        "        state_covid_data.append(row)\n"
      ],
      "outputs": [],
      "execution_count": null,
      "metadata": {
        "collapsed": true,
        "jupyter": {
          "source_hidden": false,
          "outputs_hidden": false
        },
        "nteract": {
          "transient": {
            "deleting": false
          }
        }
      }
    },
    {
      "cell_type": "code",
      "source": [
        "# Check length of list\n",
        "len(state_covid_data)"
      ],
      "outputs": [],
      "execution_count": null,
      "metadata": {
        "collapsed": true,
        "jupyter": {
          "source_hidden": false,
          "outputs_hidden": false
        },
        "nteract": {
          "transient": {
            "deleting": false
          }
        }
      }
    },
    {
      "cell_type": "code",
      "source": [
        "# First 5 rows of data\n",
        "state_covid_data[0:5]\n"
      ],
      "outputs": [],
      "execution_count": null,
      "metadata": {
        "collapsed": true,
        "jupyter": {
          "source_hidden": false,
          "outputs_hidden": false
        },
        "nteract": {
          "transient": {
            "deleting": false
          }
        }
      }
    },
    {
      "cell_type": "code",
      "source": [
        "## Question\n",
        "### (1) Count up the number of unique dates in the data.\n"
      ],
      "outputs": [],
      "execution_count": null,
      "metadata": {
        "collapsed": true,
        "jupyter": {
          "source_hidden": false,
          "outputs_hidden": false
        },
        "nteract": {
          "transient": {
            "deleting": false
          }
        }
      }
    },
    {
      "cell_type": "code",
      "source": [
        "# Split date from nested list (first position of every list) into a separate list\n",
        "date = [ i[0] for i in state_covid_data ]\n",
        "\n",
        "# Define function unique()\n",
        "def unique(list_name):\n",
        "    ''' Turns list into set of unique values\n",
        "    Because row 0 variable name, need to exclude it before set '''\n",
        "    unique = set(list_name[1:])\n",
        "    ''' Count number of unique element in set '''\n",
        "    return len(unique)\n",
        "\n",
        "# Number of unique dates in the data\n",
        "unique(date)\n"
      ],
      "outputs": [],
      "execution_count": null,
      "metadata": {
        "collapsed": true,
        "jupyter": {
          "source_hidden": false,
          "outputs_hidden": false
        },
        "nteract": {
          "transient": {
            "deleting": false
          }
        }
      }
    },
    {
      "cell_type": "code",
      "source": [
        "### (2) Find the first date in which the District of Columbia recorded a case.\n",
        "\n",
        "# Creates a new list for observations for District of Columbia:\n",
        "''' DC takes the 0 index of each row (date) if the 1 index of that row (state) is equal to \"District of Columbia\" '''\n",
        "DC = [i[0] for i in state_covid_data if i[1] == \"District of Columbia\"]\n",
        "\n",
        "# The first day DC records a case is the minium value of this new list, excluding the header date:\n",
        "min(DC)\n",
        "\n",
        "\n"
      ],
      "outputs": [],
      "execution_count": null,
      "metadata": {
        "collapsed": true,
        "jupyter": {
          "source_hidden": false,
          "outputs_hidden": false
        },
        "nteract": {
          "transient": {
            "deleting": false
          }
        }
      }
    },
    {
      "cell_type": "code",
      "source": [
        "### (3) Write a function that takes in a state name as input (e.g. \"Wisconsin\") and outputs the date of its first case.\n",
        "\n",
        "# Define first case function\n",
        "def first_case(state_name):\n",
        "    ''' Create a new list called state_name that consists of date (0 index of each row)\n",
        "    if the state (index 1 of each row) is equal to string input state_name '''\n",
        "    state_name = [ i[0] for i in state_covid_data if i[1] == state_name]\n",
        "    ''' Return the minimum value (lowest date value) of this new list '''\n",
        "    return min(state_name)\n",
        "\n",
        "# Test function out"
      ],
      "outputs": [],
      "execution_count": null,
      "metadata": {
        "collapsed": true,
        "jupyter": {
          "source_hidden": false,
          "outputs_hidden": false
        },
        "nteract": {
          "transient": {
            "deleting": false
          }
        }
      }
    },
    {
      "cell_type": "code",
      "source": [
        "first_case(\"District of Columbia\")"
      ],
      "outputs": [],
      "execution_count": null,
      "metadata": {
        "collapsed": true,
        "jupyter": {
          "source_hidden": false,
          "outputs_hidden": false
        },
        "nteract": {
          "transient": {
            "deleting": false
          }
        }
      }
    },
    {
      "cell_type": "code",
      "source": [
        "first_case(\"Wisconsin\")"
      ],
      "outputs": [],
      "execution_count": null,
      "metadata": {
        "collapsed": true,
        "jupyter": {
          "source_hidden": false,
          "outputs_hidden": false
        },
        "nteract": {
          "transient": {
            "deleting": false
          }
        }
      }
    },
    {
      "cell_type": "code",
      "source": [
        "first_case(\"California\")"
      ],
      "outputs": [],
      "execution_count": null,
      "metadata": {
        "collapsed": true,
        "jupyter": {
          "source_hidden": false,
          "outputs_hidden": false
        },
        "nteract": {
          "transient": {
            "deleting": false
          }
        }
      }
    },
    {
      "cell_type": "code",
      "source": [
        "first_case(\"New York\")\n"
      ],
      "outputs": [],
      "execution_count": null,
      "metadata": {
        "collapsed": true,
        "jupyter": {
          "source_hidden": false,
          "outputs_hidden": false
        },
        "nteract": {
          "transient": {
            "deleting": false
          }
        }
      }
    },
    {
      "cell_type": "code",
      "source": [
        "### (Optional) Bonus. Write a function that takes in a state name as input (e.g. \"Wisconsin\") and outputs the date when the number of reported cases within the state exceeded 1000.\n",
        "\n",
        "# Define function to locate date of first 1000 case recorded\n",
        "def locate_date_1000(state_name):\n",
        "    ''' Similar to first_case function above, with another condition for cases >= 1000\n",
        "    i[3] is the index 3 item of each row in state_covid_data, which is cases\n",
        "    use int(i[3]) to convert items of that list into interger to be able to use operator >= '''\n",
        "    state_name = [ i[0] for i in state_covid_data if i[1] == state_name and int(i[3]) >= 1000]\n",
        "    return min(state_name)\n",
        "\n",
        "# Test function out"
      ],
      "outputs": [],
      "execution_count": null,
      "metadata": {
        "collapsed": true,
        "jupyter": {
          "source_hidden": false,
          "outputs_hidden": false
        },
        "nteract": {
          "transient": {
            "deleting": false
          }
        }
      }
    },
    {
      "cell_type": "code",
      "source": [
        "locate_date_1000(\"District of Columbia\")"
      ],
      "outputs": [],
      "execution_count": null,
      "metadata": {
        "collapsed": true,
        "jupyter": {
          "source_hidden": false,
          "outputs_hidden": false
        },
        "nteract": {
          "transient": {
            "deleting": false
          }
        }
      }
    },
    {
      "cell_type": "code",
      "source": [
        "locate_date_1000(\"Wisconsin\")"
      ],
      "outputs": [],
      "execution_count": null,
      "metadata": {
        "collapsed": true,
        "jupyter": {
          "source_hidden": false,
          "outputs_hidden": false
        },
        "nteract": {
          "transient": {
            "deleting": false
          }
        }
      }
    },
    {
      "cell_type": "code",
      "source": [
        "locate_date_1000(\"California\")"
      ],
      "outputs": [],
      "execution_count": null,
      "metadata": {
        "collapsed": true,
        "jupyter": {
          "source_hidden": false,
          "outputs_hidden": false
        },
        "nteract": {
          "transient": {
            "deleting": false
          }
        }
      }
    },
    {
      "cell_type": "code",
      "source": [
        "locate_date_1000(\"New York\")"
      ],
      "outputs": [],
      "execution_count": null,
      "metadata": {
        "collapsed": true,
        "jupyter": {
          "source_hidden": false,
          "outputs_hidden": false
        },
        "nteract": {
          "transient": {
            "deleting": false
          }
        }
      }
    }
  ],
  "metadata": {
    "kernelspec": {
      "argv": [
        "/usr/local/bin/python3",
        "-m",
        "ipykernel_launcher",
        "-f",
        "{connection_file}"
      ],
      "display_name": "Python 3",
      "language": "python",
      "name": "python3"
    }
  },
  "nbformat": 4,
  "nbformat_minor": 0
}