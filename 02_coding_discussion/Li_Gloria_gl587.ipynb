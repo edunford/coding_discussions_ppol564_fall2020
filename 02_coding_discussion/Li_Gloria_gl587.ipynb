{
 "cells": [
  {
   "cell_type": "markdown",
   "metadata": {},
   "source": [
    "## Coding Discussion 2\n",
    "### Gloria Li"
   ]
  },
  {
   "cell_type": "code",
   "execution_count": 5,
   "metadata": {},
   "outputs": [
    {
     "data": {
      "text/plain": [
       "10080"
      ]
     },
     "execution_count": 5,
     "metadata": {},
     "output_type": "execute_result"
    }
   ],
   "source": [
    "# Load in csv data, then use it to populate a list called state_covid_data\n",
    "import csv\n",
    "with open('us-states.csv') as file:\n",
    "    state_covid_data = []\n",
    "    for row in csv.reader(file):\n",
    "        state_covid_data.append(row)\n",
    "\n",
    "# See how many items are in the list we made \n",
    "len(state_covid_data)"
   ]
  },
  {
   "cell_type": "markdown",
   "metadata": {},
   "source": [
    "### Question 1"
   ]
  },
  {
   "cell_type": "code",
   "execution_count": 8,
   "metadata": {
    "scrolled": false
   },
   "outputs": [
    {
     "data": {
      "text/plain": [
       "225"
      ]
     },
     "execution_count": 8,
     "metadata": {},
     "output_type": "execute_result"
    }
   ],
   "source": [
    "# Create a new list populated by the subset of my list that is the \"dates\", had to subset after the first row because that just had the tags in it\n",
    "\n",
    "all_dates = []\n",
    "for row in state_covid_data[1:]:\n",
    "    all_dates.append(row[0])\n",
    "    \n",
    "# create a set of all the unique dates in the list\n",
    "unique_dates = set(all_dates)\n",
    "\n",
    "## See how many items are in the set\n",
    "len(unique_dates)"
   ]
  },
  {
   "cell_type": "markdown",
   "metadata": {},
   "source": [
    "### Question 2"
   ]
  },
  {
   "cell_type": "code",
   "execution_count": 134,
   "metadata": {},
   "outputs": [
    {
     "name": "stdout",
     "output_type": "stream",
     "text": [
      "2020-03-07\n"
     ]
    }
   ],
   "source": [
    "# Loop through list and prints the first date that D.C. appears in the list, a.k.a records a case \n",
    "for row in state_covid_data:\n",
    "    list.sort(state_covid_data) # data was already sorted in ascending date order but this reiterates that just in case\n",
    "    if \"District of Columbia\" in row:\n",
    "        print(row[0])\n",
    "        break"
   ]
  },
  {
   "cell_type": "markdown",
   "metadata": {},
   "source": [
    "### Question 3"
   ]
  },
  {
   "cell_type": "code",
   "execution_count": 135,
   "metadata": {},
   "outputs": [
    {
     "name": "stdout",
     "output_type": "stream",
     "text": [
      "2020-03-07\n"
     ]
    }
   ],
   "source": [
    "# define a function looping through the list and printing date in the row where the state name we specify first appears (aka the first case)\n",
    "def first_case(state):\n",
    "    ''' \n",
    "    This function takes in the state name as input and outputs the date of the first COVID-19 case in that state.\n",
    "    '''\n",
    "    list.sort(state_covid_data) # data was already sorted in ascending date order but this reiterates that just in case (note: this puts the OG first row with the tags at the end)  \n",
    "    for row in state_covid_data:\n",
    "        if state in row:\n",
    "            print(row[0])\n",
    "            break\n",
    "            \n",
    "first_case(\"District of Columbia\")"
   ]
  },
  {
   "cell_type": "code",
   "execution_count": 136,
   "metadata": {},
   "outputs": [
    {
     "name": "stdout",
     "output_type": "stream",
     "text": [
      "Help on function first_case in module __main__:\n",
      "\n",
      "first_case(state)\n",
      "    This function takes in the state name as input and outputs the date of the first COVID-19 case in that state.\n",
      "\n"
     ]
    }
   ],
   "source": [
    "# demonstrating usage of the docstring if confused on what the function does \n",
    "help(first_case)"
   ]
  },
  {
   "cell_type": "markdown",
   "metadata": {},
   "source": [
    "### Bonus Question"
   ]
  },
  {
   "cell_type": "code",
   "execution_count": 137,
   "metadata": {},
   "outputs": [],
   "source": [
    "# define a function looping through the list and printing the date in the row where the case count first exceeds 1000\n",
    "def locate_date_100(state):\n",
    "    ''' \n",
    "    This function takes in the state name as input and outputs the date when the number of COVID-19 cases exceeded 1000 in that state.\n",
    "    '''\n",
    "    list.sort(state_covid_data) # data was already sorted in ascending date order but this reiterates that just in case\n",
    "    for row in state_covid_data:\n",
    "        if state in row and int(row[3])>1000:\n",
    "            print(row[0])\n",
    "            break"
   ]
  },
  {
   "cell_type": "code",
   "execution_count": 138,
   "metadata": {},
   "outputs": [
    {
     "name": "stdout",
     "output_type": "stream",
     "text": [
      "2020-03-28\n"
     ]
    }
   ],
   "source": [
    "# Got a different date from the example in instructions...\n",
    "locate_date_100(\"Wisconsin\")"
   ]
  }
 ],
 "metadata": {
  "kernelspec": {
   "display_name": "Python 3",
   "language": "python",
   "name": "python3"
  },
  "language_info": {
   "codemirror_mode": {
    "name": "ipython",
    "version": 3
   },
   "file_extension": ".py",
   "mimetype": "text/x-python",
   "name": "python",
   "nbconvert_exporter": "python",
   "pygments_lexer": "ipython3",
   "version": "3.7.6"
  }
 },
 "nbformat": 4,
 "nbformat_minor": 4
}
