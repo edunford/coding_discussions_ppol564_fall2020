{
 "cells": [
  {
   "cell_type": "markdown",
   "metadata": {},
   "source": [
    "# Coding Discussion #2\n",
    "# Madeline Kinnaird"
   ]
  },
  {
   "cell_type": "code",
   "execution_count": 1,
   "metadata": {},
   "outputs": [],
   "source": [
    "# Read in the data\n",
    "import csv\n",
    "with open('us-states.csv') as file:\n",
    "        state_covid_data = []\n",
    "        for row in csv.reader(file):\n",
    "            state_covid_data.append(row)\n"
   ]
  },
  {
   "cell_type": "code",
   "execution_count": 2,
   "metadata": {},
   "outputs": [
    {
     "data": {
      "text/plain": [
       "10080"
      ]
     },
     "execution_count": 2,
     "metadata": {},
     "output_type": "execute_result"
    }
   ],
   "source": [
    "#how many total observations?\n",
    "len(state_covid_data)\n"
   ]
  },
  {
   "cell_type": "markdown",
   "metadata": {},
   "source": [
    "# (1) Count up the number of unique dates in the data."
   ]
  },
  {
   "cell_type": "code",
   "execution_count": 3,
   "metadata": {},
   "outputs": [
    {
     "data": {
      "text/plain": [
       "226"
      ]
     },
     "execution_count": 3,
     "metadata": {},
     "output_type": "execute_result"
    }
   ],
   "source": [
    "#create a set after looping through the first index (or date) of each list\n",
    "unique_dates = set([inner_list[0] for inner_list in state_covid_data])\n",
    "\n",
    "#check how many entries are in this set\n",
    "len(unique_dates)"
   ]
  },
  {
   "cell_type": "markdown",
   "metadata": {},
   "source": [
    "# (2) Find the first date in which the District of Columbia recorded a case."
   ]
  },
  {
   "cell_type": "code",
   "execution_count": 4,
   "metadata": {},
   "outputs": [
    {
     "name": "stdout",
     "output_type": "stream",
     "text": [
      "2020-03-07\n"
     ]
    }
   ],
   "source": [
    "#loop through the lists to search for DC\n",
    "for row in state_covid_data:\n",
    "    if 'District of Columbia' in row:\n",
    "        print(row[0])\n",
    "        break"
   ]
  },
  {
   "cell_type": "markdown",
   "metadata": {},
   "source": [
    "# (3) Write a function that takes in a state name as input (e.g. \"Wisconsin\") and outputs the date of its first case."
   ]
  },
  {
   "cell_type": "code",
   "execution_count": 5,
   "metadata": {},
   "outputs": [],
   "source": [
    "'''\n",
    "Function: takes in a state name and returns the date of that state's first covid case.\n",
    "\n",
    "Input: State in full \n",
    "    Type: String\n",
    "    Ex: 'Texas'\n",
    "\n",
    "Output: Date\n",
    "    Type: String\n",
    "    Example: 9-13-2020\n",
    "'''\n",
    "\n",
    "def first_covid_date(state):\n",
    "    for row in state_covid_data:\n",
    "        if state in row:\n",
    "            print(row[0])\n",
    "            break"
   ]
  },
  {
   "cell_type": "code",
   "execution_count": 6,
   "metadata": {},
   "outputs": [
    {
     "name": "stdout",
     "output_type": "stream",
     "text": [
      "2020-02-05\n",
      "2020-01-24\n"
     ]
    }
   ],
   "source": [
    "# let's test the function\n",
    "first_covid_date('Wisconsin')\n",
    "first_covid_date('Illinois')"
   ]
  },
  {
   "cell_type": "markdown",
   "metadata": {},
   "source": [
    "# (Optional) Bonus: Write a function that takes in a state name as input (e.g. \"Wisconsin\") and outputs the date when the number of reported cases within the state exceeded 1000"
   ]
  },
  {
   "cell_type": "code",
   "execution_count": 7,
   "metadata": {},
   "outputs": [],
   "source": [
    "'''\n",
    "Function: takes in a state name and returns the date of that state's first covid case.\n",
    "\n",
    "Input: State in full \n",
    "    Type: String\n",
    "    Ex: 'Texas'\n",
    "\n",
    "Output: Date\n",
    "    Type: String\n",
    "    Example: 9-13-2020\n",
    "\n",
    "'''\n",
    "\n",
    "\n",
    "def thousand_covid_date(state):\n",
    "    \n",
    "    #declare a new list\n",
    "    sum_of_cases = []\n",
    "    \n",
    "    #skip the header row\n",
    "    for row in state_covid_data:\n",
    "        if row[0] == 'date':\n",
    "            continue\n",
    "        \n",
    "        #check if the total sum of covid cases for the specified state is under 1000\n",
    "        if state in row and sum(sum_of_cases) < 1000:\n",
    "            #if it is under 1000, append to list as integer\n",
    "            sum_of_cases.append(int(row[3]))\n",
    "            \n",
    "        #once the sum of the integers in the list is over 1000, break.\n",
    "        if state in row and sum(sum_of_cases) >= 1000:\n",
    "            print(row[0])\n",
    "            break\n",
    "\n"
   ]
  },
  {
   "cell_type": "code",
   "execution_count": 8,
   "metadata": {},
   "outputs": [
    {
     "name": "stdout",
     "output_type": "stream",
     "text": [
      "2020-03-21\n",
      "2020-03-29\n"
     ]
    }
   ],
   "source": [
    "#testing the function\n",
    "thousand_covid_date('Wisconsin')\n",
    "thousand_covid_date('Hawaii')"
   ]
  },
  {
   "cell_type": "code",
   "execution_count": null,
   "metadata": {},
   "outputs": [],
   "source": []
  }
 ],
 "metadata": {
  "kernelspec": {
   "display_name": "Python 3",
   "language": "python",
   "name": "python3"
  },
  "language_info": {
   "codemirror_mode": {
    "name": "ipython",
    "version": 3
   },
   "file_extension": ".py",
   "mimetype": "text/x-python",
   "name": "python",
   "nbconvert_exporter": "python",
   "pygments_lexer": "ipython3",
   "version": "3.8.3"
  }
 },
 "nbformat": 4,
 "nbformat_minor": 4
}
