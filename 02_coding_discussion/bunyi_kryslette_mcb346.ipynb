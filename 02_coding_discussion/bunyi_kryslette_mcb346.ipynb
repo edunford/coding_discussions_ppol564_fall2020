{
 "cells": [
  {
   "cell_type": "markdown",
   "metadata": {},
   "source": [
    "# Coding Discussion 02 - Week 3\n",
    "## 13 September 2020\n",
    "##### Kryslette Bunyi"
   ]
  },
  {
   "cell_type": "markdown",
   "metadata": {},
   "source": [
    "***\n",
    "## Instructions\n",
    "In the repository, I have provided a dataset from the New York Times on the number of COVID cases and deaths by day, from January 21 through September 2. Note that states do not appear in a dataset prior to the days in which they had their first confirmed case.\n",
    "\n",
    "The chunk of code below imports the data for this assignment. We'll talk more on Week 5 regarding what this code is doing."
   ]
  },
  {
   "cell_type": "code",
   "execution_count": 1,
   "metadata": {},
   "outputs": [
    {
     "data": {
      "text/plain": [
       "10080"
      ]
     },
     "execution_count": 1,
     "metadata": {},
     "output_type": "execute_result"
    }
   ],
   "source": [
    "## Read in the data (we would provide this)\n",
    "import csv\n",
    "with open('us-states.csv') as file:\n",
    "        state_covid_data = []\n",
    "        for row in csv.reader(file):\n",
    "            state_covid_data.append(row)\n",
    "\n",
    "len(state_covid_data)"
   ]
  },
  {
   "cell_type": "markdown",
   "metadata": {},
   "source": [
    "Note that the data is imported as a nested list. Below I've sliced the list to print off the first 5 rows of the data. Note that the first row contains the variable names."
   ]
  },
  {
   "cell_type": "code",
   "execution_count": 2,
   "metadata": {
    "scrolled": true
   },
   "outputs": [
    {
     "data": {
      "text/plain": [
       "[['date', 'state', 'fips', 'cases', 'deaths'],\n",
       " ['2020-01-21', 'Washington', '53', '1', '0'],\n",
       " ['2020-01-22', 'Washington', '53', '1', '0'],\n",
       " ['2020-01-23', 'Washington', '53', '1', '0'],\n",
       " ['2020-01-24', 'Illinois', '17', '1', '0']]"
      ]
     },
     "execution_count": 2,
     "metadata": {},
     "output_type": "execute_result"
    }
   ],
   "source": [
    "state_covid_data[:5]"
   ]
  },
  {
   "cell_type": "markdown",
   "metadata": {},
   "source": [
    "***\n",
    "## Questions"
   ]
  },
  {
   "cell_type": "markdown",
   "metadata": {},
   "source": [
    "### (1) Count up the number of _unique_ dates in the data. "
   ]
  },
  {
   "cell_type": "code",
   "execution_count": 3,
   "metadata": {},
   "outputs": [
    {
     "name": "stdout",
     "output_type": "stream",
     "text": [
      "There are 225 unique dates in the data.\n"
     ]
    }
   ],
   "source": [
    "# Initialize an empty list that will contain the dates in the data\n",
    "dates=[]\n",
    "\n",
    "# Iterate through the rows of the dataset to compile the dates.\n",
    "for row in range(1,len(state_covid_data)): # Skip the 1st row since it's a header\n",
    "    dates.append(state_covid_data[row][0]) # Extract the date and append it to our list\n",
    "\n",
    "# Generate a list containing unique date occurrences (set) and print out the number of elements (len).\n",
    "print(\"There are\",len(set(dates)),\"unique dates in the data.\")"
   ]
  },
  {
   "cell_type": "markdown",
   "metadata": {},
   "source": [
    "### (2) Find the first date in which the District of Columbia recorded a case. "
   ]
  },
  {
   "cell_type": "code",
   "execution_count": 4,
   "metadata": {},
   "outputs": [
    {
     "name": "stdout",
     "output_type": "stream",
     "text": [
      "States covered in the dataset:\n",
      " {'Tennessee', 'District of Columbia', 'Hawaii', 'Minnesota', 'Massachusetts', 'Idaho', 'Virginia', 'Kansas', 'Alaska', 'Rhode Island', 'North Carolina', 'Guam', 'California', 'state', 'North Dakota', 'Wyoming', 'Texas', 'Montana', 'Arizona', 'New Jersey', 'Vermont', 'Utah', 'Illinois', 'New York', 'Connecticut', 'Mississippi', 'Missouri', 'Puerto Rico', 'West Virginia', 'Virgin Islands', 'Washington', 'Maine', 'Maryland', 'Oklahoma', 'Iowa', 'Arkansas', 'Louisiana', 'South Carolina', 'Pennsylvania', 'Northern Mariana Islands', 'Georgia', 'New Hampshire', 'Michigan', 'South Dakota', 'Florida', 'Indiana', 'Ohio', 'Delaware', 'Wisconsin', 'Colorado', 'Nevada', 'Kentucky', 'Oregon', 'Alabama', 'Nebraska', 'New Mexico'}\n"
     ]
    }
   ],
   "source": [
    "## Preparation Part 1 of 2\n",
    "# Check the state data for the exact name format of the District of Columbia.\n",
    "\n",
    "states = [i[1] for i in state_covid_data]\n",
    "print(\"States covered in the dataset:\\n\", set(states))"
   ]
  },
  {
   "cell_type": "code",
   "execution_count": 5,
   "metadata": {},
   "outputs": [
    {
     "data": {
      "text/plain": [
       "{'2020-01-21',\n",
       " '2020-01-22',\n",
       " '2020-01-23',\n",
       " '2020-01-24',\n",
       " '2020-01-25',\n",
       " '2020-01-26',\n",
       " '2020-01-27',\n",
       " '2020-01-28',\n",
       " '2020-01-29',\n",
       " '2020-01-30',\n",
       " '2020-01-31',\n",
       " '2020-02-01',\n",
       " '2020-02-02',\n",
       " '2020-02-03',\n",
       " '2020-02-04',\n",
       " '2020-02-05',\n",
       " '2020-02-06',\n",
       " '2020-02-07',\n",
       " '2020-02-08',\n",
       " '2020-02-09',\n",
       " '2020-02-10',\n",
       " '2020-02-11',\n",
       " '2020-02-12',\n",
       " '2020-02-13',\n",
       " '2020-02-14',\n",
       " '2020-02-15',\n",
       " '2020-02-16',\n",
       " '2020-02-17',\n",
       " '2020-02-18',\n",
       " '2020-02-19',\n",
       " '2020-02-20',\n",
       " '2020-02-21',\n",
       " '2020-02-22',\n",
       " '2020-02-23',\n",
       " '2020-02-24',\n",
       " '2020-02-25',\n",
       " '2020-02-26',\n",
       " '2020-02-27',\n",
       " '2020-02-28',\n",
       " '2020-02-29',\n",
       " '2020-03-01',\n",
       " '2020-03-02',\n",
       " '2020-03-03',\n",
       " '2020-03-04',\n",
       " '2020-03-05',\n",
       " '2020-03-06',\n",
       " '2020-03-07',\n",
       " '2020-03-08',\n",
       " '2020-03-09',\n",
       " '2020-03-10',\n",
       " '2020-03-11',\n",
       " '2020-03-12',\n",
       " '2020-03-13',\n",
       " '2020-03-14',\n",
       " '2020-03-15',\n",
       " '2020-03-16',\n",
       " '2020-03-17',\n",
       " '2020-03-18',\n",
       " '2020-03-19',\n",
       " '2020-03-20',\n",
       " '2020-03-21',\n",
       " '2020-03-22',\n",
       " '2020-03-23',\n",
       " '2020-03-24',\n",
       " '2020-03-25',\n",
       " '2020-03-26',\n",
       " '2020-03-27',\n",
       " '2020-03-28',\n",
       " '2020-03-29',\n",
       " '2020-03-30',\n",
       " '2020-03-31',\n",
       " '2020-04-01',\n",
       " '2020-04-02',\n",
       " '2020-04-03',\n",
       " '2020-04-04',\n",
       " '2020-04-05',\n",
       " '2020-04-06',\n",
       " '2020-04-07',\n",
       " '2020-04-08',\n",
       " '2020-04-09',\n",
       " '2020-04-10',\n",
       " '2020-04-11',\n",
       " '2020-04-12',\n",
       " '2020-04-13',\n",
       " '2020-04-14',\n",
       " '2020-04-15',\n",
       " '2020-04-16',\n",
       " '2020-04-17',\n",
       " '2020-04-18',\n",
       " '2020-04-19',\n",
       " '2020-04-20',\n",
       " '2020-04-21',\n",
       " '2020-04-22',\n",
       " '2020-04-23',\n",
       " '2020-04-24',\n",
       " '2020-04-25',\n",
       " '2020-04-26',\n",
       " '2020-04-27',\n",
       " '2020-04-28',\n",
       " '2020-04-29',\n",
       " '2020-04-30',\n",
       " '2020-05-01',\n",
       " '2020-05-02',\n",
       " '2020-05-03',\n",
       " '2020-05-04',\n",
       " '2020-05-05',\n",
       " '2020-05-06',\n",
       " '2020-05-07',\n",
       " '2020-05-08',\n",
       " '2020-05-09',\n",
       " '2020-05-10',\n",
       " '2020-05-11',\n",
       " '2020-05-12',\n",
       " '2020-05-13',\n",
       " '2020-05-14',\n",
       " '2020-05-15',\n",
       " '2020-05-16',\n",
       " '2020-05-17',\n",
       " '2020-05-18',\n",
       " '2020-05-19',\n",
       " '2020-05-20',\n",
       " '2020-05-21',\n",
       " '2020-05-22',\n",
       " '2020-05-23',\n",
       " '2020-05-24',\n",
       " '2020-05-25',\n",
       " '2020-05-26',\n",
       " '2020-05-27',\n",
       " '2020-05-28',\n",
       " '2020-05-29',\n",
       " '2020-05-30',\n",
       " '2020-05-31',\n",
       " '2020-06-01',\n",
       " '2020-06-02',\n",
       " '2020-06-03',\n",
       " '2020-06-04',\n",
       " '2020-06-05',\n",
       " '2020-06-06',\n",
       " '2020-06-07',\n",
       " '2020-06-08',\n",
       " '2020-06-09',\n",
       " '2020-06-10',\n",
       " '2020-06-11',\n",
       " '2020-06-12',\n",
       " '2020-06-13',\n",
       " '2020-06-14',\n",
       " '2020-06-15',\n",
       " '2020-06-16',\n",
       " '2020-06-17',\n",
       " '2020-06-18',\n",
       " '2020-06-19',\n",
       " '2020-06-20',\n",
       " '2020-06-21',\n",
       " '2020-06-22',\n",
       " '2020-06-23',\n",
       " '2020-06-24',\n",
       " '2020-06-25',\n",
       " '2020-06-26',\n",
       " '2020-06-27',\n",
       " '2020-06-28',\n",
       " '2020-06-29',\n",
       " '2020-06-30',\n",
       " '2020-07-01',\n",
       " '2020-07-02',\n",
       " '2020-07-03',\n",
       " '2020-07-04',\n",
       " '2020-07-05',\n",
       " '2020-07-06',\n",
       " '2020-07-07',\n",
       " '2020-07-08',\n",
       " '2020-07-09',\n",
       " '2020-07-10',\n",
       " '2020-07-11',\n",
       " '2020-07-12',\n",
       " '2020-07-13',\n",
       " '2020-07-14',\n",
       " '2020-07-15',\n",
       " '2020-07-16',\n",
       " '2020-07-17',\n",
       " '2020-07-18',\n",
       " '2020-07-19',\n",
       " '2020-07-20',\n",
       " '2020-07-21',\n",
       " '2020-07-22',\n",
       " '2020-07-23',\n",
       " '2020-07-24',\n",
       " '2020-07-25',\n",
       " '2020-07-26',\n",
       " '2020-07-27',\n",
       " '2020-07-28',\n",
       " '2020-07-29',\n",
       " '2020-07-30',\n",
       " '2020-07-31',\n",
       " '2020-08-01',\n",
       " '2020-08-02',\n",
       " '2020-08-03',\n",
       " '2020-08-04',\n",
       " '2020-08-05',\n",
       " '2020-08-06',\n",
       " '2020-08-07',\n",
       " '2020-08-08',\n",
       " '2020-08-09',\n",
       " '2020-08-10',\n",
       " '2020-08-11',\n",
       " '2020-08-12',\n",
       " '2020-08-13',\n",
       " '2020-08-14',\n",
       " '2020-08-15',\n",
       " '2020-08-16',\n",
       " '2020-08-17',\n",
       " '2020-08-18',\n",
       " '2020-08-19',\n",
       " '2020-08-20',\n",
       " '2020-08-21',\n",
       " '2020-08-22',\n",
       " '2020-08-23',\n",
       " '2020-08-24',\n",
       " '2020-08-25',\n",
       " '2020-08-26',\n",
       " '2020-08-27',\n",
       " '2020-08-28',\n",
       " '2020-08-29',\n",
       " '2020-08-30',\n",
       " '2020-08-31',\n",
       " '2020-09-01'}"
      ]
     },
     "execution_count": 5,
     "metadata": {},
     "output_type": "execute_result"
    }
   ],
   "source": [
    "# The above result confirms that correct name format is \"District of Columbia\".\n",
    "\n",
    "## Preparation Part 2 of 2\n",
    "# Check if the dates were encoded in ascending order (i.e., oldest to newest).\n",
    "\n",
    "set(dates)"
   ]
  },
  {
   "cell_type": "code",
   "execution_count": 6,
   "metadata": {},
   "outputs": [
    {
     "name": "stdout",
     "output_type": "stream",
     "text": [
      "The first case in the District of Columbia was noted on 2020-03-07 .\n"
     ]
    }
   ],
   "source": [
    "# The above result confirms that dates were encoded in ascending order.\n",
    "# Thus, the first row containing DC in the dataset would correspond to the first recorded case.\n",
    "# We now proceed to determining the date of DC's first recorded case.\n",
    "\n",
    "# Iterate through the rows until data for DC appears\n",
    "for row in range(1,len(state_covid_data)): #skip the 1st row since it's a header\n",
    "    if state_covid_data[row][1] == \"District of Columbia\":\n",
    "        print(\"The first case in the District of Columbia was noted on\", state_covid_data[row][0],\".\")\n",
    "        break"
   ]
  },
  {
   "cell_type": "markdown",
   "metadata": {},
   "source": [
    "### (3) Write a function that takes in a _state name_ as input (e.g. \"Wisconsin\") and outputs the date of its first case."
   ]
  },
  {
   "cell_type": "code",
   "execution_count": 7,
   "metadata": {},
   "outputs": [
    {
     "name": "stdout",
     "output_type": "stream",
     "text": [
      "The first case in Wisconsin was noted on 2020-02-05 .\n",
      "The first case in California was noted on 2020-01-25 .\n",
      "The first case in District of Columbia was noted on 2020-03-07 .\n",
      "The first case in Northern Mariana Islands was noted on 2020-03-28 .\n",
      "Either no case has been recorded in DC or you entered an invalid name format.\n"
     ]
    }
   ],
   "source": [
    "def date_first_case(state):\n",
    "    \n",
    "    \"\"\"This is a function that determines the date of the first recorded case in a state.\n",
    "\n",
    "    Arg:\n",
    "        state (str): object of class string corresponding to the state name.\n",
    "\n",
    "    Returns (Prints):\n",
    "        str: object of class string containing the date of the first recorded case, if state name is valid.\n",
    "                Otherwise, an error message is printed.\n",
    "\n",
    "    \"\"\"\n",
    "    \n",
    "    # Initialize an empty string that will contain the date of the first recorded case.\n",
    "    datefirstcase = \"\"\n",
    "    \n",
    "    # Iterate through the rows until data for the state appears\n",
    "    for row in range(1,len(state_covid_data)): #Skip the 1st row since it's a header\n",
    "        if state_covid_data[row][1] == state:\n",
    "            datefirstcase = state_covid_data[row][0] #The string takes on the date indicated in the pertinent row\n",
    "            print(\"The first case in\",state, \"was noted on\", datefirstcase,\".\")\n",
    "            break\n",
    "    if datefirstcase == \"\": #The string remains empty if no data was found on the state.\n",
    "        print(\"Either no case has been recorded in\",state,\"or you entered an invalid name format.\")\n",
    "\n",
    "        \n",
    "        \n",
    "# Testing of the function\n",
    "date_first_case(\"Wisconsin\")\n",
    "date_first_case(\"California\")\n",
    "date_first_case(\"District of Columbia\")\n",
    "date_first_case(\"Northern Mariana Islands\")\n",
    "date_first_case(\"DC\")"
   ]
  },
  {
   "cell_type": "markdown",
   "metadata": {},
   "source": [
    "### (Optional) Bonus\n",
    "\n",
    "Write a function that takes in a _state name_ as input (e.g. \"Wisconsin\") and outputs the date when the number of reported cases within the state exceeded 1000."
   ]
  },
  {
   "cell_type": "code",
   "execution_count": 8,
   "metadata": {
    "scrolled": true
   },
   "outputs": [
    {
     "name": "stdout",
     "output_type": "stream",
     "text": [
      "Reported cases in Wisconsin exceeded 1,000 on 2020-03-28 .\n",
      "Reported cases in California exceeded 1,000 on 2020-03-19 .\n",
      "Reported cases in District of Columbia exceeded 1,000 on 2020-04-06 .\n",
      "Reported cases in Northern Mariana Islands have not yet exceeded 1,000.\n",
      "Either no case has been recorded in DC or you entered an invalid name format.\n"
     ]
    }
   ],
   "source": [
    "def date_exceeded_1000_cases(state):\n",
    "    \n",
    "    \"\"\"This is a function that determines the date when the number of recorded cases in a state exceeded 1,000.\n",
    "\n",
    "    Arg:\n",
    "        state (str): object of class string corresponding to the state name.\n",
    "\n",
    "    Returns (Prints):\n",
    "        str: object of class string containing the date when the state's cases exceeded 1,000.\n",
    "                If the state's cases have not (yet) reached 1,000, the corresponding message will be printed.\n",
    "                Otherwise, if no data is found on the state, an error message will be printed.\n",
    "\n",
    "    \"\"\"\n",
    "    \n",
    "    # Initialize variables\n",
    "    dateexceeded1000 = \"\"\n",
    "    statecounter=0\n",
    "    \n",
    "    # Iterate through the rows until the number of cases exceeds 1,000.\n",
    "    # At the same time, note if the state appears on the dataset.\n",
    "    for row in range(1,len(state_covid_data)): #Skip the 1st row since it's a header\n",
    "        if state_covid_data[row][1] == state:\n",
    "            statecounter+=1 #Add 1 to the statecounter if case data is found on the state.\n",
    "            if int(state_covid_data[row][3]) > 1000:\n",
    "                dateexceeded1000 = state_covid_data[row][0] #Update the string to reflect date when 1,000 mark was breached\n",
    "                print(\"Reported cases in\",state, \"exceeded 1,000 on\", dateexceeded1000, \".\")\n",
    "                break\n",
    "    if statecounter==0: #If we finish iterating through the rows and find zero case data on the state, print error message.\n",
    "        print(\"Either no case has been recorded in\",state,\"or you entered an invalid name format.\")\n",
    "    elif dateexceeded1000 == \"\": #If there is/are data on the state but the date string remains empty, print message that state input was valid but cases have not yet breached 1,000.\n",
    "        print(\"Reported cases in\",state, \"have not yet exceeded 1,000.\")\n",
    "\n",
    "        \n",
    "        \n",
    "# Testing of the function\n",
    "date_exceeded_1000_cases(\"Wisconsin\")\n",
    "date_exceeded_1000_cases(\"California\")\n",
    "date_exceeded_1000_cases(\"District of Columbia\")\n",
    "date_exceeded_1000_cases(\"Northern Mariana Islands\")\n",
    "date_exceeded_1000_cases(\"DC\")"
   ]
  }
 ],
 "metadata": {
  "kernelspec": {
   "display_name": "Python 3",
   "language": "python",
   "name": "python3"
  },
  "language_info": {
   "codemirror_mode": {
    "name": "ipython",
    "version": 3
   },
   "file_extension": ".py",
   "mimetype": "text/x-python",
   "name": "python",
   "nbconvert_exporter": "python",
   "pygments_lexer": "ipython3",
   "version": "3.7.6"
  }
 },
 "nbformat": 4,
 "nbformat_minor": 4
}
