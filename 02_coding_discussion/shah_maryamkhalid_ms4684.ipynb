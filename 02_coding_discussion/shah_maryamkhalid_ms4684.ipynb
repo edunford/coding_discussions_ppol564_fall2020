{
 "cells": [
  {
   "cell_type": "code",
   "execution_count": 9,
   "metadata": {},
   "outputs": [
    {
     "data": {
      "text/plain": [
       "10080"
      ]
     },
     "execution_count": 9,
     "metadata": {},
     "output_type": "execute_result"
    }
   ],
   "source": [
    "## Read in the data\n",
    "import csv\n",
    "with open('us-states.csv') as file:\n",
    "        state_covid_data = []\n",
    "        for row in csv.reader(file):\n",
    "            state_covid_data.append(row)\n",
    "\n",
    "len(state_covid_data)"
   ]
  },
  {
   "cell_type": "code",
   "execution_count": 10,
   "metadata": {},
   "outputs": [
    {
     "data": {
      "text/plain": [
       "[['date', 'state', 'fips', 'cases', 'deaths'],\n",
       " ['2020-01-21', 'Washington', '53', '1', '0'],\n",
       " ['2020-01-22', 'Washington', '53', '1', '0'],\n",
       " ['2020-01-23', 'Washington', '53', '1', '0'],\n",
       " ['2020-01-24', 'Illinois', '17', '1', '0']]"
      ]
     },
     "execution_count": 10,
     "metadata": {},
     "output_type": "execute_result"
    }
   ],
   "source": [
    "state_covid_data[:5]"
   ]
  },
  {
   "cell_type": "code",
   "execution_count": 11,
   "metadata": {},
   "outputs": [
    {
     "name": "stdout",
     "output_type": "stream",
     "text": [
      "225\n"
     ]
    }
   ],
   "source": [
    "#(1) Count up the number of unique dates in the data.\n",
    "\n",
    "dates = []\n",
    "for x in range(1,len(state_covid_data)):\n",
    "    dates.append(state_covid_data[x][0])\n",
    "    \n",
    "    if x == len(state_covid_data)-1:\n",
    "        print(len(set(dates)))"
   ]
  },
  {
   "cell_type": "code",
   "execution_count": 12,
   "metadata": {},
   "outputs": [
    {
     "name": "stdout",
     "output_type": "stream",
     "text": [
      "2020-03-07\n"
     ]
    }
   ],
   "source": [
    "#(2) Find the first date in which the District of Columbia recorded a case.\n",
    "\n",
    "for x in range (1,len(state_covid_data)):\n",
    "    if state_covid_data[x][1] == \"District of Columbia\":\n",
    "        print(state_covid_data[x][0])\n",
    "        break"
   ]
  },
  {
   "cell_type": "code",
   "execution_count": 13,
   "metadata": {},
   "outputs": [],
   "source": [
    "#(3) Write a function that takes in a state name as input (e.g. \"Wisconsin\") and outputs the date of its first case.\n",
    "\n",
    "def first_case_date(a):\n",
    "    \"\"\"The function takes in a state name as input and returns the date when the state reported its first COVID-19 case\n",
    "    \n",
    "    Parameters:\n",
    "    a (str): State name\n",
    "    \n",
    "    Returns: Date of the state's first case\n",
    "            \n",
    "    \"\"\"\n",
    "    \n",
    "    for x in range (1,len(state_covid_data)):\n",
    "        if state_covid_data[x][1] == a:\n",
    "            print(state_covid_data[x][0])\n",
    "            break"
   ]
  },
  {
   "cell_type": "code",
   "execution_count": 14,
   "metadata": {},
   "outputs": [
    {
     "name": "stdout",
     "output_type": "stream",
     "text": [
      "The function takes in a state name as input and returns the date when the state reported its first COVID-19 case\n",
      "    \n",
      "    Parameters:\n",
      "    a (str): State name\n",
      "    \n",
      "    Returns: Date of the state's first case\n",
      "            \n",
      "    \n",
      "2020-02-05\n"
     ]
    }
   ],
   "source": [
    "print(first_case_date.__doc__)\n",
    "first_case_date(\"Wisconsin\")"
   ]
  },
  {
   "cell_type": "code",
   "execution_count": 15,
   "metadata": {},
   "outputs": [],
   "source": [
    "# (Optional) Bonus \n",
    "\n",
    "def locate_state_1000(a):\n",
    "    \"\"\"The function takes in a state name as input and returns the date when the number of reported COVID-19 cases within the state exceeded 1000\n",
    "    \n",
    "    Parameters:\n",
    "    a (str): State name\n",
    "    \n",
    "    Returns: Date when the number of reported cases in the state exceeded 1000\n",
    "            \n",
    "    \"\"\"\n",
    " \n",
    "    for x in range(1,len(state_covid_data)):\n",
    "        if int(state_covid_data[x][3]) > 1000 and state_covid_data[x][1] == a:\n",
    "            print(state_covid_data[x][0])\n",
    "            break"
   ]
  },
  {
   "cell_type": "code",
   "execution_count": 16,
   "metadata": {},
   "outputs": [
    {
     "name": "stdout",
     "output_type": "stream",
     "text": [
      "The function takes in a state name as input and returns the date when the number of reported COVID-19 cases within the state exceeded 1000\n",
      "    \n",
      "    Parameters:\n",
      "    a (str): State name\n",
      "    \n",
      "    Returns: Date when the number of reported cases in the state exceeded 1000\n",
      "            \n",
      "    \n",
      "2020-03-28\n"
     ]
    }
   ],
   "source": [
    "print(locate_state_1000.__doc__)\n",
    "locate_state_1000(\"Wisconsin\")"
   ]
  },
  {
   "cell_type": "code",
   "execution_count": null,
   "metadata": {},
   "outputs": [],
   "source": []
  }
 ],
 "metadata": {
  "kernelspec": {
   "display_name": "Python 3",
   "language": "python",
   "name": "python3"
  },
  "language_info": {
   "codemirror_mode": {
    "name": "ipython",
    "version": 3
   },
   "file_extension": ".py",
   "mimetype": "text/x-python",
   "name": "python",
   "nbconvert_exporter": "python",
   "pygments_lexer": "ipython3",
   "version": "3.7.6"
  }
 },
 "nbformat": 4,
 "nbformat_minor": 4
}
