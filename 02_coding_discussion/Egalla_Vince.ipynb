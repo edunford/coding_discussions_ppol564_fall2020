## Read in the data (we would provide this)
import csv
with open("C:\\Georgetown\\2020 Fall\\PPOL 564\\coding_discussions_ppol564_fall2020\\02_coding_discussion\\us-states.csv") as file:
        state_covid_data = []
        for row in csv.reader(file):
            state_covid_data.append(row)
            print(row)

## Check length of state_covid_data
print(len(state_covid_data))

## Check first 5 observations
state_covid_data[:5]

## Count unique dates


date_count = {}
for obs in state_covid_data[1:]:
    if obs[0] in date_count.keys():
        date_count[obs[0]] += 1
    else:
        date_count[obs[0]] = 1

print (date_count)
