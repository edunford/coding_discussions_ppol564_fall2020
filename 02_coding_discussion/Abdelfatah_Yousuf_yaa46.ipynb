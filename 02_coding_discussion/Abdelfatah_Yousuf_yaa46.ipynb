{
 "cells": [
  {
   "cell_type": "code",
   "execution_count": 7,
   "metadata": {},
   "outputs": [],
   "source": [
    "# Read in the data \n",
    "import csv\n",
    "with open('us-states.csv') as file:\n",
    "        state_covid_data = []\n",
    "        for row in csv.reader(file):\n",
    "            state_covid_data.append(row)"
   ]
  },
  {
   "cell_type": "code",
   "execution_count": 21,
   "metadata": {},
   "outputs": [
    {
     "data": {
      "text/plain": [
       "10080"
      ]
     },
     "execution_count": 21,
     "metadata": {},
     "output_type": "execute_result"
    }
   ],
   "source": [
    "# Look at the number of observations\n",
    "len(state_covid_data)\n"
   ]
  },
  {
   "cell_type": "code",
   "execution_count": 22,
   "metadata": {},
   "outputs": [
    {
     "data": {
      "text/plain": [
       "[['date', 'state', 'fips', 'cases', 'deaths'],\n",
       " ['2020-01-21', 'Washington', '53', '1', '0'],\n",
       " ['2020-01-22', 'Washington', '53', '1', '0'],\n",
       " ['2020-01-23', 'Washington', '53', '1', '0'],\n",
       " ['2020-01-24', 'Illinois', '17', '1', '0']]"
      ]
     },
     "execution_count": 22,
     "metadata": {},
     "output_type": "execute_result"
    }
   ],
   "source": [
    "# Print the first five observations\n",
    "state_covid_data[:5]"
   ]
  },
  {
   "cell_type": "markdown",
   "metadata": {},
   "source": [
    "### Count the number of unique dates in the data"
   ]
  },
  {
   "cell_type": "code",
   "execution_count": 24,
   "metadata": {
    "tags": []
   },
   "outputs": [
    {
     "data": {
      "text/plain": [
       "225"
      ]
     },
     "execution_count": 24,
     "metadata": {},
     "output_type": "execute_result"
    }
   ],
   "source": [
    "# Create a set to store only the dates\n",
    "dates = set()\n",
    "\n",
    "# Loop through the list to put all the dates into the set made above\n",
    "for observations in state_covid_data[1:]:\n",
    "    dates.add(observations[0])\n",
    "\n",
    "# Check the length of dates\n",
    "len(dates)"
   ]
  },
  {
   "cell_type": "markdown",
   "metadata": {},
   "source": [
    "There are 225 unique dates in the data"
   ]
  },
  {
   "cell_type": "markdown",
   "metadata": {},
   "source": [
    "### Find the first date in which the District of Columbia recorded a case. "
   ]
  },
  {
   "cell_type": "code",
   "execution_count": 39,
   "metadata": {},
   "outputs": [
    {
     "name": "stdout",
     "output_type": "stream",
     "text": [
      "354\n",
      "2020-03-07\n"
     ]
    }
   ],
   "source": [
    "# Make a list with all the state names\n",
    "states = []\n",
    "\n",
    "# Loop through the data and put all the states into the above list\n",
    "for observation in state_covid_data:\n",
    "    states.append(observation[1])\n",
    "\n",
    "# use index to find the first position of District of Columbia\n",
    "print(states.index(\"District of Columbia\"))\n",
    "\n",
    "#Use the printed index and index 0 to see the date \n",
    "print(state_covid_data[354][0])"
   ]
  },
  {
   "cell_type": "markdown",
   "metadata": {},
   "source": [
    "The first date DC appears is 2020-03-07"
   ]
  },
  {
   "cell_type": "markdown",
   "metadata": {},
   "source": [
    "### Write a function that takes in a _state name_ as input (e.g. \"Wisconsin\") and outputs the date of its first case."
   ]
  },
  {
   "cell_type": "code",
   "execution_count": 44,
   "metadata": {},
   "outputs": [
    {
     "data": {
      "text/plain": [
       "'2020-03-07'"
      ]
     },
     "execution_count": 44,
     "metadata": {},
     "output_type": "execute_result"
    }
   ],
   "source": [
    "# Write function \"firstcoviddate\"\n",
    "def firstcoviddate(state):\n",
    "    ''' The function takes in a state name as a string, looks for its index in the already created states list, \n",
    "    and then uses that index to locate it in the original datset and to pull out the corresponding date '''\n",
    "    # search the state list for the input and save the index of the first occurence\n",
    "    state_index=states.index(state)\n",
    "    # Use the saved index to find the observation in the dataset and save the corresponding date\n",
    "    first_date=state_covid_data[state_index][0]\n",
    "    return first_date\n",
    "\n",
    "# test the functtion\n",
    "firstcoviddate(\"District of Columbia\")"
   ]
  },
  {
   "cell_type": "markdown",
   "metadata": {},
   "source": [
    "### Bonus: Write a function that takes in a _state name_ as input (e.g. \"Wisconsin\") and outputs the date when the number of reported cases within the state exceeded 1000."
   ]
  },
  {
   "cell_type": "code",
   "execution_count": 43,
   "metadata": {},
   "outputs": [
    {
     "name": "stdout",
     "output_type": "stream",
     "text": [
      "enter state name: Michigan\n",
      "2020-03-22\n"
     ]
    }
   ],
   "source": [
    "def firstthousandcases():\n",
    "    ''' The function runs with no arguments and prompts the user to enter a state name, then searches the dataset for that state where the number of \n",
    "    cases is greater than or equal to 1000. Once it finds that observation it prints the corresponding date then breaks'''\n",
    "    overthousandcases =[]\n",
    "    state = input(\"enter state name: \")\n",
    "    for observation in state_covid_data[1:]:\n",
    "        if observation[1] == state:\n",
    "            if int(observation[3]) >= 1000:\n",
    "                print(observation[0])\n",
    "                break\n",
    "\n",
    "#test the function\n",
    "firstthousandcases()"
   ]
  },
  {
   "cell_type": "code",
   "execution_count": null,
   "metadata": {},
   "outputs": [],
   "source": []
  }
 ],
 "metadata": {
  "kernelspec": {
   "display_name": "Python 3",
   "language": "python",
   "name": "python3"
  },
  "language_info": {
   "codemirror_mode": {
    "name": "ipython",
    "version": 3
   },
   "file_extension": ".py",
   "mimetype": "text/x-python",
   "name": "python",
   "nbconvert_exporter": "python",
   "pygments_lexer": "ipython3",
   "version": "3.8.2"
  }
 },
 "nbformat": 4,
 "nbformat_minor": 2
}
