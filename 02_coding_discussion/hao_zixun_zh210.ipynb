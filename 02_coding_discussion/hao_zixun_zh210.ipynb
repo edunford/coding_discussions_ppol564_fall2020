{
 "cells": [
  {
   "cell_type": "markdown",
   "metadata": {},
   "source": [
    "## PPOL564 Coding Discussion 02\n",
    "### Zixun Hao"
   ]
  },
  {
   "cell_type": "markdown",
   "metadata": {},
   "source": [
    "#### Preparation "
   ]
  },
  {
   "cell_type": "code",
   "execution_count": 2,
   "metadata": {},
   "outputs": [
    {
     "data": {
      "text/plain": [
       "10080"
      ]
     },
     "execution_count": 2,
     "metadata": {},
     "output_type": "execute_result"
    }
   ],
   "source": [
    "# import packages\n",
    "import csv\n",
    "\n",
    "# Read in the data (we would provide this)\n",
    "with open('us-states.csv') as file:\n",
    "        state_covid_data = []\n",
    "        for row in csv.reader(file):\n",
    "            state_covid_data.append(row)\n",
    "            \n",
    "len(state_covid_data)"
   ]
  },
  {
   "cell_type": "markdown",
   "metadata": {},
   "source": [
    "#### Question 1 Count up the number of unique dates in the data."
   ]
  },
  {
   "cell_type": "code",
   "execution_count": 19,
   "metadata": {},
   "outputs": [
    {
     "name": "stdout",
     "output_type": "stream",
     "text": [
      "There are 225 unique dates in the data.\n"
     ]
    }
   ],
   "source": [
    "# Define a function that returns the number of unique dates in the data\n",
    "def unique_dates(aList):\n",
    "    '''\n",
    "    Take a list as an argument\n",
    "    Returns the number of unique dates in the data\n",
    "    '''\n",
    "    dates = []\n",
    "    for row in aList[1:]:\n",
    "        dates.append(row[0]) # create a list of all dates of observations\n",
    "    return len(set(dates)) # return the number of unique dates\n",
    "\n",
    "# Call function and print the answer\n",
    "print (\"There are \" + str(unique_dates(state_covid_data)) + \" unique dates in the data.\")"
   ]
  },
  {
   "cell_type": "markdown",
   "metadata": {},
   "source": [
    "#### Question 2 Find the first date in which the District of Columbia recorded a case."
   ]
  },
  {
   "cell_type": "code",
   "execution_count": 22,
   "metadata": {},
   "outputs": [
    {
     "name": "stdout",
     "output_type": "stream",
     "text": [
      "The first date in which the District of Columbia recorded a case is 2020-03-07.\n"
     ]
    }
   ],
   "source": [
    "# Define a function that returns the the date of the first case in DC\n",
    "def first_case_DC(aList):\n",
    "    '''\n",
    "    Take a list as an argument\n",
    "    Returns the date of the first case in DC\n",
    "    '''\n",
    "    DC_cases = []\n",
    "    for row in aList[1:]:\n",
    "        if row[1] == \"District of Columbia\":\n",
    "            DC_cases.append(row[0]) # create a list of the dates of all cases in DC\n",
    "    return min(DC_cases) # return the earliest date\n",
    "    \n",
    "    \n",
    "print (\"The first date in which the District of Columbia recorded a case is \" + str(first_case_DC(state_covid_data))+\".\")  "
   ]
  },
  {
   "cell_type": "markdown",
   "metadata": {},
   "source": [
    "#### Question 3 Write a function that takes in a state name as input (e.g. \"Wisconsin\") and outputs the date of its first case."
   ]
  },
  {
   "cell_type": "code",
   "execution_count": 23,
   "metadata": {},
   "outputs": [],
   "source": [
    "# Define a function that returns the the date of the first case in a state or DC\n",
    "def first_case(state_name):\n",
    "    '''\n",
    "    Take a string (state name) as an argument\n",
    "    Returns the date of the first case in a state or DC\n",
    "    '''\n",
    "    state_cases = []\n",
    "    for row in state_covid_data[1:]:\n",
    "        if row[1] == state_name:\n",
    "            state_cases.append(row[0]) # create a list of the dates of all cases in the state or DC\n",
    "    return min(state_cases) # return the earliest date"
   ]
  },
  {
   "cell_type": "markdown",
   "metadata": {},
   "source": [
    "- Test the function above"
   ]
  },
  {
   "cell_type": "code",
   "execution_count": 28,
   "metadata": {},
   "outputs": [
    {
     "name": "stdout",
     "output_type": "stream",
     "text": [
      "2020-01-21\n"
     ]
    }
   ],
   "source": [
    "print (first_case(\"Washington\"))"
   ]
  },
  {
   "cell_type": "code",
   "execution_count": 29,
   "metadata": {},
   "outputs": [
    {
     "name": "stdout",
     "output_type": "stream",
     "text": [
      "2020-01-25\n"
     ]
    }
   ],
   "source": [
    "print (first_case(\"California\"))"
   ]
  },
  {
   "cell_type": "code",
   "execution_count": 30,
   "metadata": {},
   "outputs": [
    {
     "name": "stdout",
     "output_type": "stream",
     "text": [
      "2020-01-26\n"
     ]
    }
   ],
   "source": [
    "print (first_case(\"Arizona\"))"
   ]
  },
  {
   "cell_type": "code",
   "execution_count": 31,
   "metadata": {},
   "outputs": [
    {
     "name": "stdout",
     "output_type": "stream",
     "text": [
      "2020-02-12\n"
     ]
    }
   ],
   "source": [
    "print (first_case(\"Texas\"))"
   ]
  },
  {
   "cell_type": "markdown",
   "metadata": {},
   "source": [
    "#### Bonus Question: Write a function that outputs the date when the number of reported cases within the state exceeded 1000."
   ]
  },
  {
   "cell_type": "code",
   "execution_count": 3,
   "metadata": {},
   "outputs": [],
   "source": [
    "# Function returns the the date when the number of **TOTAL** reported cases within the state exceeded 1000\n",
    "def locate_date_1000_accumulated(state_name):\n",
    "    '''\n",
    "    Take a string (state name) as an argument\n",
    "    Returns the date when the number of TOTAL reported cases within the state exceeded 1000\n",
    "    '''\n",
    "    list.sort(state_covid_data)\n",
    "    cases_accumulated = 0\n",
    "    for row in state_covid_data[1:]:\n",
    "        if row[1] == state_name:\n",
    "            cases_accumulated += int(row[3]) # counting all accumulated cases in the state or DC\n",
    "            if cases_accumulated > 1000: \n",
    "                return row[0]\n",
    "            else:\n",
    "                pass"
   ]
  },
  {
   "cell_type": "code",
   "execution_count": 4,
   "metadata": {},
   "outputs": [
    {
     "data": {
      "text/plain": [
       "'2020-03-21'"
      ]
     },
     "execution_count": 4,
     "metadata": {},
     "output_type": "execute_result"
    }
   ],
   "source": [
    "# For some reason, the result differs from the result in the instruction example\n",
    "locate_date_1000_accumulated(\"Wisconsin\")"
   ]
  },
  {
   "cell_type": "code",
   "execution_count": 113,
   "metadata": {},
   "outputs": [],
   "source": [
    "# Function returns the the date when the number of **NEW** reported cases within the state exceeded 1000\n",
    "def locate_date_1000_new (state_name):\n",
    "    '''\n",
    "    Take a string (state name) as an argument\n",
    "    Returns the date when the number of NEW reported cases within the state exceeded 1000\n",
    "    '''\n",
    "    list.sort(state_covid_data)\n",
    "    for row in state_covid_data[1:]:\n",
    "        if row[1] == state_name and int(row[3]) > 1000: \n",
    "            return (row[0])\n",
    "            break"
   ]
  },
  {
   "cell_type": "code",
   "execution_count": 116,
   "metadata": {},
   "outputs": [
    {
     "name": "stdout",
     "output_type": "stream",
     "text": [
      "2020-03-28\n"
     ]
    }
   ],
   "source": [
    "# This result also differs from the result in the instruction example\n",
    "locate_date_1000_new (\"Wisconsin\")"
   ]
  }
 ],
 "metadata": {
  "kernelspec": {
   "display_name": "Python 3",
   "language": "python",
   "name": "python3"
  },
  "language_info": {
   "codemirror_mode": {
    "name": "ipython",
    "version": 3
   },
   "file_extension": ".py",
   "mimetype": "text/x-python",
   "name": "python",
   "nbconvert_exporter": "python",
   "pygments_lexer": "ipython3",
   "version": "3.7.6"
  }
 },
 "nbformat": 4,
 "nbformat_minor": 4
}
