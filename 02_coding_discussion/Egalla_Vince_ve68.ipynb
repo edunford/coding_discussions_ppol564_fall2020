{
 "cells": [
  {
   "cell_type": "code",
   "execution_count": 1,
   "metadata": {},
   "outputs": [],
   "source": [
    "## Preparation\n",
    "import csv\n",
    "import time"
   ]
  },
  {
   "cell_type": "code",
   "execution_count": 2,
   "metadata": {},
   "outputs": [],
   "source": [
    "## Read in the data\n",
    "with open(\"us-states.csv\") as file:\n",
    "        state_covid_data = []\n",
    "        for row in csv.reader(file):\n",
    "            state_covid_data.append(row)"
   ]
  },
  {
   "cell_type": "code",
   "execution_count": 3,
   "metadata": {},
   "outputs": [
    {
     "name": "stdout",
     "output_type": "stream",
     "text": [
      "10080\n"
     ]
    }
   ],
   "source": [
    "## Check length of state_covid_data\n",
    "print(len(state_covid_data))"
   ]
  },
  {
   "cell_type": "code",
   "execution_count": 4,
   "metadata": {},
   "outputs": [
    {
     "data": {
      "text/plain": [
       "[['date', 'state', 'fips', 'cases', 'deaths'],\n",
       " ['2020-01-21', 'Washington', '53', '1', '0'],\n",
       " ['2020-01-22', 'Washington', '53', '1', '0'],\n",
       " ['2020-01-23', 'Washington', '53', '1', '0'],\n",
       " ['2020-01-24', 'Illinois', '17', '1', '0']]"
      ]
     },
     "execution_count": 4,
     "metadata": {},
     "output_type": "execute_result"
    }
   ],
   "source": [
    "## Check first 5 observations\n",
    "state_covid_data[:5]"
   ]
  },
  {
   "cell_type": "code",
   "execution_count": 5,
   "metadata": {},
   "outputs": [
    {
     "name": "stdout",
     "output_type": "stream",
     "text": [
      "{'2020-01-21': 1, '2020-01-22': 1, '2020-01-23': 1, '2020-01-24': 2, '2020-01-25': 3, '2020-01-26': 4, '2020-01-27': 4, '2020-01-28': 4, '2020-01-29': 4, '2020-01-30': 4, '2020-01-31': 4, '2020-02-01': 5, '2020-02-02': 5, '2020-02-03': 5, '2020-02-04': 5, '2020-02-05': 6, '2020-02-06': 6, '2020-02-07': 6, '2020-02-08': 6, '2020-02-09': 6, '2020-02-10': 6, '2020-02-11': 6, '2020-02-12': 7, '2020-02-13': 7, '2020-02-14': 7, '2020-02-15': 7, '2020-02-16': 7, '2020-02-17': 8, '2020-02-18': 8, '2020-02-19': 8, '2020-02-20': 8, '2020-02-21': 8, '2020-02-22': 8, '2020-02-23': 8, '2020-02-24': 8, '2020-02-25': 9, '2020-02-26': 9, '2020-02-27': 9, '2020-02-28': 10, '2020-02-29': 10, '2020-03-01': 13, '2020-03-02': 15, '2020-03-03': 16, '2020-03-04': 17, '2020-03-05': 21, '2020-03-06': 28, '2020-03-07': 33, '2020-03-08': 35, '2020-03-09': 37, '2020-03-10': 39, '2020-03-11': 45, '2020-03-12': 47, '2020-03-13': 51, '2020-03-14': 52, '2020-03-15': 53, '2020-03-16': 53, '2020-03-17': 54, '2020-03-18': 54, '2020-03-19': 54, '2020-03-20': 54, '2020-03-21': 54, '2020-03-22': 54, '2020-03-23': 54, '2020-03-24': 54, '2020-03-25': 54, '2020-03-26': 54, '2020-03-27': 54, '2020-03-28': 55, '2020-03-29': 55, '2020-03-30': 55, '2020-03-31': 55, '2020-04-01': 55, '2020-04-02': 55, '2020-04-03': 55, '2020-04-04': 55, '2020-04-05': 55, '2020-04-06': 55, '2020-04-07': 55, '2020-04-08': 55, '2020-04-09': 55, '2020-04-10': 55, '2020-04-11': 55, '2020-04-12': 55, '2020-04-13': 55, '2020-04-14': 55, '2020-04-15': 55, '2020-04-16': 55, '2020-04-17': 55, '2020-04-18': 55, '2020-04-19': 55, '2020-04-20': 55, '2020-04-21': 55, '2020-04-22': 55, '2020-04-23': 55, '2020-04-24': 55, '2020-04-25': 55, '2020-04-26': 55, '2020-04-27': 55, '2020-04-28': 55, '2020-04-29': 55, '2020-04-30': 55, '2020-05-01': 55, '2020-05-02': 55, '2020-05-03': 55, '2020-05-04': 55, '2020-05-05': 55, '2020-05-06': 55, '2020-05-07': 55, '2020-05-08': 55, '2020-05-09': 55, '2020-05-10': 55, '2020-05-11': 55, '2020-05-12': 55, '2020-05-13': 55, '2020-05-14': 55, '2020-05-15': 55, '2020-05-16': 55, '2020-05-17': 55, '2020-05-18': 55, '2020-05-19': 55, '2020-05-20': 55, '2020-05-21': 55, '2020-05-22': 55, '2020-05-23': 55, '2020-05-24': 55, '2020-05-25': 55, '2020-05-26': 55, '2020-05-27': 55, '2020-05-28': 55, '2020-05-29': 55, '2020-05-30': 55, '2020-05-31': 55, '2020-06-01': 55, '2020-06-02': 55, '2020-06-03': 55, '2020-06-04': 55, '2020-06-05': 55, '2020-06-06': 55, '2020-06-07': 55, '2020-06-08': 55, '2020-06-09': 55, '2020-06-10': 55, '2020-06-11': 55, '2020-06-12': 55, '2020-06-13': 55, '2020-06-14': 55, '2020-06-15': 55, '2020-06-16': 55, '2020-06-17': 55, '2020-06-18': 55, '2020-06-19': 55, '2020-06-20': 55, '2020-06-21': 55, '2020-06-22': 55, '2020-06-23': 55, '2020-06-24': 55, '2020-06-25': 55, '2020-06-26': 55, '2020-06-27': 55, '2020-06-28': 55, '2020-06-29': 55, '2020-06-30': 55, '2020-07-01': 55, '2020-07-02': 55, '2020-07-03': 55, '2020-07-04': 55, '2020-07-05': 55, '2020-07-06': 55, '2020-07-07': 55, '2020-07-08': 55, '2020-07-09': 55, '2020-07-10': 55, '2020-07-11': 55, '2020-07-12': 55, '2020-07-13': 55, '2020-07-14': 55, '2020-07-15': 55, '2020-07-16': 55, '2020-07-17': 55, '2020-07-18': 55, '2020-07-19': 55, '2020-07-20': 55, '2020-07-21': 55, '2020-07-22': 55, '2020-07-23': 55, '2020-07-24': 55, '2020-07-25': 55, '2020-07-26': 55, '2020-07-27': 55, '2020-07-28': 55, '2020-07-29': 55, '2020-07-30': 55, '2020-07-31': 55, '2020-08-01': 55, '2020-08-02': 55, '2020-08-03': 55, '2020-08-04': 55, '2020-08-05': 55, '2020-08-06': 55, '2020-08-07': 55, '2020-08-08': 55, '2020-08-09': 55, '2020-08-10': 55, '2020-08-11': 55, '2020-08-12': 55, '2020-08-13': 55, '2020-08-14': 55, '2020-08-15': 55, '2020-08-16': 55, '2020-08-17': 55, '2020-08-18': 55, '2020-08-19': 55, '2020-08-20': 55, '2020-08-21': 55, '2020-08-22': 55, '2020-08-23': 55, '2020-08-24': 55, '2020-08-25': 55, '2020-08-26': 55, '2020-08-27': 55, '2020-08-28': 55, '2020-08-29': 55, '2020-08-30': 55, '2020-08-31': 55, '2020-09-01': 55}\n"
     ]
    }
   ],
   "source": [
    "## I read the task wrong at first. This is the count of each unique date.\n",
    "date_count = {}\n",
    "for obs in state_covid_data[1:]:\n",
    "    if obs[0] in date_count.keys():\n",
    "        date_count[obs[0]] += 1\n",
    "    else:\n",
    "        date_count[obs[0]] = 1\n",
    "\n",
    "print (date_count)"
   ]
  },
  {
   "cell_type": "code",
   "execution_count": 6,
   "metadata": {},
   "outputs": [],
   "source": [
    "#### (1) Count up the number of unique dates in the data"
   ]
  },
  {
   "cell_type": "code",
   "execution_count": 7,
   "metadata": {},
   "outputs": [
    {
     "name": "stdout",
     "output_type": "stream",
     "text": [
      "225\n"
     ]
    }
   ],
   "source": [
    "## Create empty list for unique dates\n",
    "unique_dates = []\n",
    "\n",
    "## Loop through the CSV file, except the header row\n",
    "for obs in state_covid_data[1:]:\n",
    "    ## If the date is in the list, then continue/do nothing\n",
    "    if obs[0] in unique_dates:\n",
    "        continue\n",
    "    ## If the date is not in the list, then add\n",
    "    else:\n",
    "        unique_dates.append(obs[0])\n",
    "\n",
    "## Print length of list of unique dates\n",
    "print(len(unique_dates))\n"
   ]
  },
  {
   "cell_type": "code",
   "execution_count": 8,
   "metadata": {},
   "outputs": [],
   "source": [
    "#### (2) Find the first date in which the District of Columbia recorded as case."
   ]
  },
  {
   "cell_type": "code",
   "execution_count": 9,
   "metadata": {},
   "outputs": [
    {
     "name": "stdout",
     "output_type": "stream",
     "text": [
      "03/07/2020\n"
     ]
    }
   ],
   "source": [
    "\n",
    "## Create empty list for unique dates in \"District of Columbia\"\n",
    "unique_dates_DC = []\n",
    "\n",
    "## Loop through the CSV file, except the header rows\n",
    "for obs in state_covid_data[1:]:\n",
    "    ## Check if observation is for District of Columbia\n",
    "    DC = 0\n",
    "    if obs[1] == \"District of Columbia\":\n",
    "        DC = 1\n",
    "    ## If date is in DC, then add to list\n",
    "    if DC == 1:\n",
    "        if obs[1] in unique_dates_DC:\n",
    "            continue\n",
    "        else:\n",
    "            unique_dates_DC.append(obs[0])\n",
    "\n",
    "## Check first five DC dates\n",
    "unique_dates_DC[:5]\n",
    "\n",
    "## Create empty list for datetime version\n",
    "unique_dates_DC_datetime = []\n",
    "\n",
    "## Convert string dates to time structures\n",
    "for date in unique_dates_DC:\n",
    "    unique_dates_DC_datetime.append(time.strptime(date, \"%Y-%m-%d\"))\n",
    "\n",
    "## Check first five dates as time structures\n",
    "unique_dates_DC_datetime[:5]\n",
    "\n",
    "## Print earliest time structure date in DC as string\n",
    "print(time.strftime(\"%m/%d/%Y\",min(unique_dates_DC_datetime)))"
   ]
  },
  {
   "cell_type": "code",
   "execution_count": 10,
   "metadata": {},
   "outputs": [],
   "source": [
    "#### (3) Write a function that takes in a state name as input (e.g. \"Wisconsin\") and outputs the date of its first case.\n",
    "\n",
    "def first_case(state):\n",
    "    '''\n",
    "    Function Purpose: Return earliest date of COVID-19 case for inputted state, between 1/21/2020 and 9/2/2020\n",
    "\n",
    "    Inputs:\n",
    "    state: string value for states of the United States of America\n",
    "    '''\n",
    "    ## Create empty list for unique dates in specified state\n",
    "    unique_dates_state = []\n",
    "\n",
    "    ## Loop through the CSV file, except the header rows\n",
    "    for obs in state_covid_data[1:]:\n",
    "        ## Check if observation is in specified state\n",
    "        inState = 0\n",
    "        if obs[1] == state:\n",
    "            inState = 1\n",
    "        ## If date is in specified state, then add to list\n",
    "        if inState == 1:\n",
    "            if obs[1] in unique_dates_state:\n",
    "                continue\n",
    "            else:\n",
    "                unique_dates_state.append(obs[0])\n",
    "\n",
    "    ## Check first five dates\n",
    "    unique_dates_state[:5]\n",
    "\n",
    "    ## Create empty list for datetime version\n",
    "    unique_dates_state_datetime = []\n",
    "\n",
    "    ## Convert string dates to time structures\n",
    "    for date in unique_dates_state:\n",
    "        unique_dates_state_datetime.append(time.strptime(date, \"%Y-%m-%d\"))\n",
    "\n",
    "    ## Check first five dates as time structures\n",
    "    unique_dates_state_datetime[:5]\n",
    "\n",
    "    ## Print earliest time structure date in DC as string\n",
    "    print(time.strftime(\"%m/%d/%Y\",min(unique_dates_state_datetime)))\n"
   ]
  },
  {
   "cell_type": "code",
   "execution_count": 11,
   "metadata": {},
   "outputs": [
    {
     "name": "stdout",
     "output_type": "stream",
     "text": [
      "Help on function first_case in module __main__:\n",
      "\n",
      "first_case(state)\n",
      "    Function Purpose: Return earliest date of COVID-19 case for inputted state, between 1/21/2020 and 9/2/2020\n",
      "    \n",
      "    Inputs:\n",
      "    state: string value for states of the United States of America\n",
      "\n"
     ]
    }
   ],
   "source": [
    "## DOCSTRING for first_case function\n",
    "help(first_case)"
   ]
  },
  {
   "cell_type": "code",
   "execution_count": 12,
   "metadata": {},
   "outputs": [
    {
     "name": "stdout",
     "output_type": "stream",
     "text": [
      "02/05/2020\n"
     ]
    }
   ],
   "source": [
    "first_case(state= \"Wisconsin\")"
   ]
  },
  {
   "cell_type": "code",
   "execution_count": 13,
   "metadata": {},
   "outputs": [
    {
     "name": "stdout",
     "output_type": "stream",
     "text": [
      "03/07/2020\n"
     ]
    }
   ],
   "source": [
    "first_case(state= \"Virginia\")"
   ]
  },
  {
   "cell_type": "code",
   "execution_count": 14,
   "metadata": {},
   "outputs": [],
   "source": [
    "#### (3) Write a function that takes in a state name as input (e.g. \"Wisconsin\") and outputs the date of its first case.\n",
    "\n",
    "def first_casesGT1000(state):\n",
    "    '''\n",
    "    Function Purpose: Return earliest date of COVID-19 cases greater than 1000 for inputted state, between 1/21/2020 and 9/2/2020\n",
    "\n",
    "    Inputs:\n",
    "    state: string value for states of the United States of America\n",
    "    '''\n",
    "    ## Create empty list for unique dates in specified state\n",
    "    unique_dates_state = []\n",
    "\n",
    "    ## Loop through the CSV file, except the header rows\n",
    "    for obs in state_covid_data[1:]:\n",
    "        ## Check if observation is in specified state\n",
    "        inState = 0\n",
    "        if obs[1] == state:\n",
    "            inState = 1\n",
    "\n",
    "        casesGT1000 = 0\n",
    "        if int(obs[3]) > 1000:\n",
    "            casesGT1000 = 1\n",
    "\n",
    "        ## If date is in specified state, then add to list\n",
    "        if inState == 1 and casesGT1000:\n",
    "            if obs[1] in unique_dates_state:\n",
    "                continue\n",
    "            else:\n",
    "                unique_dates_state.append(obs[0])\n",
    "\n",
    "    ## Check first five dates\n",
    "    unique_dates_state[:5]\n",
    "\n",
    "    ## Create empty list for datetime version\n",
    "    unique_dates_state_datetime = []\n",
    "\n",
    "    ## Convert string dates to time structures\n",
    "    for date in unique_dates_state:\n",
    "        unique_dates_state_datetime.append(time.strptime(date, \"%Y-%m-%d\"))\n",
    "\n",
    "    ## Check first five dates as time structures\n",
    "    unique_dates_state_datetime[:5]\n",
    "\n",
    "    ## Print earliest time structure date in DC as string\n",
    "    print(time.strftime(\"%m/%d/%Y\",min(unique_dates_state_datetime)))"
   ]
  },
  {
   "cell_type": "code",
   "execution_count": 15,
   "metadata": {},
   "outputs": [
    {
     "name": "stdout",
     "output_type": "stream",
     "text": [
      "Help on function first_casesGT1000 in module __main__:\n",
      "\n",
      "first_casesGT1000(state)\n",
      "    Function Purpose: Return earliest date of COVID-19 cases greater than 1000 for inputted state, between 1/21/2020 and 9/2/2020\n",
      "    \n",
      "    Inputs:\n",
      "    state: string value for states of the United States of America\n",
      "\n"
     ]
    }
   ],
   "source": [
    "## DOCSTRING for first_casesGT1000 function\n",
    "help(first_casesGT1000)"
   ]
  },
  {
   "cell_type": "code",
   "execution_count": 16,
   "metadata": {},
   "outputs": [
    {
     "name": "stdout",
     "output_type": "stream",
     "text": [
      "03/28/2020\n"
     ]
    }
   ],
   "source": [
    "first_casesGT1000(state= \"Wisconsin\")"
   ]
  },
  {
   "cell_type": "code",
   "execution_count": 17,
   "metadata": {},
   "outputs": [
    {
     "name": "stdout",
     "output_type": "stream",
     "text": [
      "03/30/2020\n"
     ]
    }
   ],
   "source": [
    "first_casesGT1000(state= \"Virginia\")"
   ]
  },
  {
   "cell_type": "code",
   "execution_count": null,
   "metadata": {},
   "outputs": [],
   "source": []
  }
 ],
 "metadata": {
  "kernelspec": {
   "display_name": "Python 3",
   "language": "python",
   "name": "python3"
  },
  "language_info": {
   "codemirror_mode": {
    "name": "ipython",
    "version": 3
   },
   "file_extension": ".py",
   "mimetype": "text/x-python",
   "name": "python",
   "nbconvert_exporter": "python",
   "pygments_lexer": "ipython3",
   "version": "3.8.5"
  }
 },
 "nbformat": 4,
 "nbformat_minor": 4
}
