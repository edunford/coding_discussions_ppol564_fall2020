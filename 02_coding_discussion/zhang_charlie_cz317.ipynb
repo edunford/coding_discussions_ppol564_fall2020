{
 "cells": [
  {
   "cell_type": "code",
   "execution_count": null,
   "metadata": {},
   "outputs": [],
   "source": [
    "# Coding Discussion 2\n",
    "## Charlie Zhang"
   ]
  },
  {
   "cell_type": "code",
   "execution_count": 2,
   "metadata": {},
   "outputs": [
    {
     "data": {
      "text/plain": [
       "10080"
      ]
     },
     "execution_count": 2,
     "metadata": {},
     "output_type": "execute_result"
    }
   ],
   "source": [
    "## Read in the data (we would provide this)\n",
    "import csv\n",
    "with open('us-states.csv') as file:\n",
    "        state_covid_data = []\n",
    "        for row in csv.reader(file):\n",
    "            state_covid_data.append(row)\n",
    "\n",
    "len(state_covid_data)"
   ]
  },
  {
   "cell_type": "code",
   "execution_count": 3,
   "metadata": {},
   "outputs": [
    {
     "data": {
      "text/plain": [
       "[['date', 'state', 'fips', 'cases', 'deaths'],\n",
       " ['2020-01-21', 'Washington', '53', '1', '0'],\n",
       " ['2020-01-22', 'Washington', '53', '1', '0'],\n",
       " ['2020-01-23', 'Washington', '53', '1', '0'],\n",
       " ['2020-01-24', 'Illinois', '17', '1', '0']]"
      ]
     },
     "execution_count": 3,
     "metadata": {},
     "output_type": "execute_result"
    }
   ],
   "source": [
    "state_covid_data[:5]"
   ]
  },
  {
   "cell_type": "markdown",
   "metadata": {},
   "source": [
    "### (1) Count up the number of unique dates in the data."
   ]
  },
  {
   "cell_type": "code",
   "execution_count": 4,
   "metadata": {},
   "outputs": [
    {
     "name": "stdout",
     "output_type": "stream",
     "text": [
      "225\n"
     ]
    }
   ],
   "source": [
    "## Create a new list that contains date only \n",
    "date = []\n",
    "\n",
    "## Use for loop to add the date within each list (skip the first list)\n",
    "for item in state_covid_data[1:]:\n",
    "    date.extend(item[:1])\n",
    "\n",
    "print(len(set(date)))"
   ]
  },
  {
   "cell_type": "markdown",
   "metadata": {},
   "source": [
    "There are 225 unique dates in the data."
   ]
  },
  {
   "cell_type": "markdown",
   "metadata": {},
   "source": [
    "### (2) Find the first date in which the District of Columbia recorded a case."
   ]
  },
  {
   "cell_type": "code",
   "execution_count": 5,
   "metadata": {},
   "outputs": [
    {
     "name": "stdout",
     "output_type": "stream",
     "text": [
      "The first date in which DC recorded a case is 2020-03-07.\n"
     ]
    }
   ],
   "source": [
    "## Create a new list that contains state only\n",
    "state= []\n",
    "\n",
    "## Use for loop to add the state within each list (skip the first list)\n",
    "for item in state_covid_data[1:]:\n",
    "    state.extend(item[1:2])\n",
    "    \n",
    "## Use list.index to return the first case in DC (considering skip the first list)\n",
    "dc_firstday = state.index(\"District of Columbia\") + 1\n",
    "\n",
    "## Use the index to find the first day in the original list\n",
    "print(\"The first date in which DC recorded a case is \"+ state_covid_data[dc_firstday][0] + \".\")"
   ]
  },
  {
   "cell_type": "markdown",
   "metadata": {},
   "source": [
    "### (3) Write a function that takes in a state name as input (e.g. \"Wisconsin\") and outputs the date of its first case."
   ]
  },
  {
   "cell_type": "code",
   "execution_count": 6,
   "metadata": {},
   "outputs": [
    {
     "name": "stdout",
     "output_type": "stream",
     "text": [
      "2020-02-05 is the date of first case in Wisconsin.\n"
     ]
    }
   ],
   "source": [
    "## Write a function named *lookupdate*\n",
    "\n",
    "def lookupdate(statename): \n",
    "    state= []\n",
    "    for item in state_covid_data[1:]: \n",
    "        state.extend(item[1:2])\n",
    "    state_firstday = state.index(statename) + 1\n",
    "    return print(state_covid_data[state_firstday][0] + \" is the date of first case in \" + statename + \".\")\n",
    "\n",
    "lookupdate(\"Wisconsin\")"
   ]
  },
  {
   "cell_type": "markdown",
   "metadata": {},
   "source": [
    "### (Optional) Write a function that takes in a state name as input (e.g. \"Wisconsin\") and outputs the date when the number of reported cases within the state exceeded 1000."
   ]
  },
  {
   "cell_type": "code",
   "execution_count": 6,
   "metadata": {},
   "outputs": [
    {
     "name": "stdout",
     "output_type": "stream",
     "text": [
      "2020-03-28 is the date when the numbers of reported cases within the state exceeded 1000\n"
     ]
    }
   ],
   "source": [
    "def exceed1000(statename): \n",
    "   ## Create a list named *matches* that fulfills both conditions\n",
    "   matches = [s for s in state_covid_data if s[1]== statename and int(s[3])>=1000]\n",
    "   return print(matches[0][0] + \" is the date when the numbers of reported cases within the state exceeded 1000\")\n",
    "\n",
    "## Run a test for Wisconsin\n",
    "exceed1000(\"Wisconsin\")"
   ]
  },
  {
   "cell_type": "code",
   "execution_count": null,
   "metadata": {},
   "outputs": [],
   "source": []
  }
 ],
 "metadata": {
  "kernelspec": {
   "display_name": "Python 3",
   "language": "python",
   "name": "python3"
  },
  "language_info": {
   "codemirror_mode": {
    "name": "ipython",
    "version": 3
   },
   "file_extension": ".py",
   "mimetype": "text/x-python",
   "name": "python",
   "nbconvert_exporter": "python",
   "pygments_lexer": "ipython3",
   "version": "3.8.3"
  }
 },
 "nbformat": 4,
 "nbformat_minor": 4
}
