{
 "cells": [
  {
   "cell_type": "markdown",
   "metadata": {},
   "source": [
    "#### Import the data set"
   ]
  },
  {
   "cell_type": "code",
   "execution_count": 1,
   "metadata": {},
   "outputs": [
    {
     "data": {
      "text/plain": [
       "10080"
      ]
     },
     "execution_count": 1,
     "metadata": {},
     "output_type": "execute_result"
    }
   ],
   "source": [
    "import csv\n",
    "with open('us-states.csv') as file:\n",
    "        state_covid_data = []\n",
    "        for row in csv.reader(file):\n",
    "            state_covid_data.append(row)\n",
    "\n",
    "len(state_covid_data)"
   ]
  },
  {
   "cell_type": "code",
   "execution_count": 2,
   "metadata": {},
   "outputs": [
    {
     "data": {
      "text/plain": [
       "[['date', 'state', 'fips', 'cases', 'deaths'],\n",
       " ['2020-01-21', 'Washington', '53', '1', '0'],\n",
       " ['2020-01-22', 'Washington', '53', '1', '0'],\n",
       " ['2020-01-23', 'Washington', '53', '1', '0'],\n",
       " ['2020-01-24', 'Illinois', '17', '1', '0']]"
      ]
     },
     "execution_count": 2,
     "metadata": {},
     "output_type": "execute_result"
    }
   ],
   "source": [
    "state_covid_data[:5]"
   ]
  },
  {
   "cell_type": "markdown",
   "metadata": {},
   "source": [
    "### Count up the number of unique dates in the data."
   ]
  },
  {
   "cell_type": "code",
   "execution_count": 15,
   "metadata": {},
   "outputs": [
    {
     "name": "stdout",
     "output_type": "stream",
     "text": [
      "225\n"
     ]
    }
   ],
   "source": [
    "unique_date = []\n",
    "\"\"\"\n",
    "create an empty list \n",
    "\"\"\"\n",
    "for i in state_covid_data[1:]:\n",
    "    \"\"\"\n",
    "    create a for loop that loop over the state_covid_data, starting from index == 1\n",
    "    nest the if function in the for loop and append the unique values in the position of first index in every element in the list\n",
    "    \"\"\"\n",
    "    if i[0] not in unique_date:\n",
    "        unique_date.append(i[0])\n",
    "\n",
    "print(len(unique_date))"
   ]
  },
  {
   "cell_type": "markdown",
   "metadata": {},
   "source": [
    "#### The number of unique dates in the data is 225 "
   ]
  },
  {
   "cell_type": "markdown",
   "metadata": {},
   "source": [
    "### Find the first date in which the District of Columbia recorded a case."
   ]
  },
  {
   "cell_type": "code",
   "execution_count": 33,
   "metadata": {},
   "outputs": [
    {
     "name": "stdout",
     "output_type": "stream",
     "text": [
      "2020-03-07\n"
     ]
    }
   ],
   "source": [
    "for i in state_covid_data[1:]:\n",
    "    \"\"\"\n",
    "    create a for loop to loop over every element in the data list \n",
    "    find the nested lists where the second index == District of Columbia \n",
    "    print the corresponding date value in that nested list \n",
    "    break the loop once the first occurrence is located \n",
    "    \"\"\"\n",
    "    if i[1] == \"District of Columbia\":\n",
    "        dates = i[0]\n",
    "        print(dates)\n",
    "        break"
   ]
  },
  {
   "cell_type": "markdown",
   "metadata": {},
   "source": [
    "#### The first data in which the District of Columbia recorded a case is 2020-03-07"
   ]
  },
  {
   "cell_type": "markdown",
   "metadata": {},
   "source": [
    "### Write a function that takes in a state name as input (e.g. \"Wisconsin\") and outputs the date of its first case."
   ]
  },
  {
   "cell_type": "code",
   "execution_count": 37,
   "metadata": {},
   "outputs": [
    {
     "name": "stdout",
     "output_type": "stream",
     "text": [
      "2020-02-05\n"
     ]
    }
   ],
   "source": [
    "def first_case(state_name):\n",
    "    \"\"\"\n",
    "    define a function that takes the state name (str) as input and outputs the date \n",
    "    \"\"\"\n",
    "    for i in state_covid_data[1:]:\n",
    "        if i[1] == state_name:\n",
    "            dates = i[0]\n",
    "            print(dates)\n",
    "            break\n",
    "    \"\"\"\n",
    "    create a for loop to loop over every element in the data list \n",
    "    find the nested lists where the second index == District of Columbia \n",
    "    print the corresponding date value in that nested list \n",
    "    break the loop once the first occurrence is located \n",
    "    \"\"\"\n",
    "    \n",
    "first_case(\"Wisconsin\")"
   ]
  },
  {
   "cell_type": "markdown",
   "metadata": {},
   "source": [
    "#### The first case recorded in Wisconsin is on 2020-02-05"
   ]
  },
  {
   "cell_type": "markdown",
   "metadata": {},
   "source": [
    "### Bonus"
   ]
  },
  {
   "cell_type": "code",
   "execution_count": 41,
   "metadata": {},
   "outputs": [
    {
     "name": "stdout",
     "output_type": "stream",
     "text": [
      "2020-03-28\n"
     ]
    }
   ],
   "source": [
    "def locate_date_1000(state_name):\n",
    "    \"\"\"\n",
    "    create a function to output the date when the number of reported cases within the state exceeded 1000.\n",
    "    create a for loop that loop over the nested lists\n",
    "    convert the str to int for cases \n",
    "    if the cases > 1000, break the loop and print out the corresponding date \n",
    "    \"\"\"\n",
    "    for i in state_covid_data[1:]:\n",
    "        if i[1] == state_name:\n",
    "            i3 = int(i[3])\n",
    "            if i3 > 1000:\n",
    "                print(i[0])\n",
    "                break\n",
    "\n",
    "locate_date_1000(\"Wisconsin\")"
   ]
  },
  {
   "cell_type": "code",
   "execution_count": null,
   "metadata": {},
   "outputs": [],
   "source": []
  }
 ],
 "metadata": {
  "kernelspec": {
   "display_name": "Python 3",
   "language": "python",
   "name": "python3"
  },
  "language_info": {
   "codemirror_mode": {
    "name": "ipython",
    "version": 3
   },
   "file_extension": ".py",
   "mimetype": "text/x-python",
   "name": "python",
   "nbconvert_exporter": "python",
   "pygments_lexer": "ipython3",
   "version": "3.7.6"
  }
 },
 "nbformat": 4,
 "nbformat_minor": 4
}
