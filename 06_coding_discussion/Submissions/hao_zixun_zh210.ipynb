{
 "cells": [
  {
   "cell_type": "markdown",
   "metadata": {},
   "source": [
    "## Code Discussion 6\n",
    "### Zixun Hao zh210"
   ]
  },
  {
   "cell_type": "markdown",
   "metadata": {},
   "source": [
    "Building off what we did in lecture this week, please build a model that predicts the log selling price of a house in DC (PRICE). Please use what you've learned of the sklearn library to accomplish this task.\n",
    "\n",
    "I've split this dataset into a training and test dataset (so you don't need to split it on your own). Using the training data, build a model that predicts the price of a residential unit in District of Columbia.\n",
    "\n",
    "You may use any feature in the dataset to generate a model. Some things to keep in mind:\n",
    "\n",
    "- Be sure to predict the log Price, not the raw Price\n",
    "- Be sure to pre-process your data.\n",
    "- Be careful of missing data values. You can do whatever you like with them.\n",
    "- Try different models, some algorithms perform better on a specific data outcome than others.\n",
    "- Be sure to tune your model (if it has relevant tuning parameters).\n",
    "- Once you've come up with a model that you think performs well, please test your model on the provided test data and report the mean squared error."
   ]
  },
  {
   "cell_type": "markdown",
   "metadata": {},
   "source": [
    "### Import packages and data"
   ]
  },
  {
   "cell_type": "code",
   "execution_count": 82,
   "metadata": {},
   "outputs": [],
   "source": [
    "# Data Management/Investigation\n",
    "import pandas as pd\n",
    "import numpy as np\n",
    "import missingno as miss\n",
    "from plotnine import *\n",
    "import seaborn as sns\n",
    "import matplotlib.pyplot as plt\n",
    "import warnings\n",
    "warnings.filterwarnings(\"ignore\")\n",
    "\n",
    "# For pre-processing data \n",
    "from sklearn import preprocessing as pp \n",
    "from sklearn.compose import ColumnTransformer \n",
    "\n",
    "# For splits and CV\n",
    "from sklearn.model_selection import train_test_split\n",
    "from sklearn.model_selection import KFold # Cross validation \n",
    "from sklearn.model_selection import cross_validate # Cross validation \n",
    "from sklearn.model_selection import GridSearchCV # Cross validation + param. tuning.\n",
    "\n",
    "# Machine learning methods \n",
    "from sklearn.linear_model import LinearRegression as LM\n",
    "from sklearn.neighbors import KNeighborsRegressor as KNN\n",
    "from sklearn.tree import DecisionTreeRegressor as DTree\n",
    "from sklearn import tree # For plotting the decision tree rules\n",
    "from sklearn.ensemble import BaggingRegressor as Bag\n",
    "from sklearn.ensemble import RandomForestRegressor as RF\n",
    "\n",
    "# For evaluating our model's performance\n",
    "import sklearn.metrics as m\n",
    "\n",
    "# Pipeline to combine modeling elements\n",
    "from sklearn.pipeline import Pipeline"
   ]
  },
  {
   "cell_type": "code",
   "execution_count": 83,
   "metadata": {},
   "outputs": [
    {
     "name": "stdout",
     "output_type": "stream",
     "text": [
      "(43590, 39)\n"
     ]
    },
    {
     "data": {
      "text/plain": [
       "Index(['OBJECTID', 'SSL', 'BATHRM', 'HF_BATHRM', 'HEAT', 'HEAT_D', 'AC',\n",
       "       'NUM_UNITS', 'ROOMS', 'BEDRM', 'AYB', 'YR_RMDL', 'EYB', 'STORIES',\n",
       "       'SALEDATE', 'QUALIFIED', 'SALE_NUM', 'GBA', 'BLDG_NUM', 'STYLE',\n",
       "       'STYLE_D', 'STRUCT', 'STRUCT_D', 'GRADE', 'GRADE_D', 'CNDTN', 'CNDTN_D',\n",
       "       'EXTWALL', 'EXTWALL_D', 'ROOF', 'ROOF_D', 'INTWALL', 'INTWALL_D',\n",
       "       'KITCHENS', 'FIREPLACES', 'USECODE', 'LANDAREA', 'GIS_LAST_MOD_DTTM',\n",
       "       'LN_PRICE'],\n",
       "      dtype='object')"
      ]
     },
     "execution_count": 83,
     "metadata": {},
     "output_type": "execute_result"
    }
   ],
   "source": [
    "# read in the training and test data\n",
    "train = pd.read_csv(\"../train_data.csv\")\n",
    "test = pd.read_csv(\"../test_data.csv\")\n",
    "print(train.shape)\n",
    "# check out all of the columns in the dataset\n",
    "train.columns"
   ]
  },
  {
   "cell_type": "markdown",
   "metadata": {},
   "source": [
    "### Inspect data, check for potential outliers, remove outliers"
   ]
  },
  {
   "cell_type": "code",
   "execution_count": 84,
   "metadata": {},
   "outputs": [
    {
     "data": {
      "text/html": [
       "<div>\n",
       "<style scoped>\n",
       "    .dataframe tbody tr th:only-of-type {\n",
       "        vertical-align: middle;\n",
       "    }\n",
       "\n",
       "    .dataframe tbody tr th {\n",
       "        vertical-align: top;\n",
       "    }\n",
       "\n",
       "    .dataframe thead th {\n",
       "        text-align: right;\n",
       "    }\n",
       "</style>\n",
       "<table border=\"1\" class=\"dataframe\">\n",
       "  <thead>\n",
       "    <tr style=\"text-align: right;\">\n",
       "      <th></th>\n",
       "      <th>OBJECTID</th>\n",
       "      <th>SSL</th>\n",
       "      <th>BATHRM</th>\n",
       "      <th>HF_BATHRM</th>\n",
       "      <th>HEAT</th>\n",
       "      <th>HEAT_D</th>\n",
       "      <th>AC</th>\n",
       "      <th>NUM_UNITS</th>\n",
       "      <th>ROOMS</th>\n",
       "      <th>BEDRM</th>\n",
       "      <th>...</th>\n",
       "      <th>ROOF</th>\n",
       "      <th>ROOF_D</th>\n",
       "      <th>INTWALL</th>\n",
       "      <th>INTWALL_D</th>\n",
       "      <th>KITCHENS</th>\n",
       "      <th>FIREPLACES</th>\n",
       "      <th>USECODE</th>\n",
       "      <th>LANDAREA</th>\n",
       "      <th>GIS_LAST_MOD_DTTM</th>\n",
       "      <th>LN_PRICE</th>\n",
       "    </tr>\n",
       "  </thead>\n",
       "  <tbody>\n",
       "    <tr>\n",
       "      <th>0</th>\n",
       "      <td>78021</td>\n",
       "      <td>4061N   0085</td>\n",
       "      <td>3.0</td>\n",
       "      <td>1.0</td>\n",
       "      <td>1.0</td>\n",
       "      <td>Forced Air</td>\n",
       "      <td>Y</td>\n",
       "      <td>1.0</td>\n",
       "      <td>9.0</td>\n",
       "      <td>4.0</td>\n",
       "      <td>...</td>\n",
       "      <td>2.0</td>\n",
       "      <td>Built Up</td>\n",
       "      <td>6.0</td>\n",
       "      <td>Hardwood</td>\n",
       "      <td>1.0</td>\n",
       "      <td>0.0</td>\n",
       "      <td>11</td>\n",
       "      <td>2234</td>\n",
       "      <td>2018-07-22T18:01:43.000Z</td>\n",
       "      <td>13.591116</td>\n",
       "    </tr>\n",
       "    <tr>\n",
       "      <th>1</th>\n",
       "      <td>28783</td>\n",
       "      <td>1587    0075</td>\n",
       "      <td>2.0</td>\n",
       "      <td>1.0</td>\n",
       "      <td>7.0</td>\n",
       "      <td>Warm Cool</td>\n",
       "      <td>Y</td>\n",
       "      <td>1.0</td>\n",
       "      <td>7.0</td>\n",
       "      <td>3.0</td>\n",
       "      <td>...</td>\n",
       "      <td>11.0</td>\n",
       "      <td>Slate</td>\n",
       "      <td>6.0</td>\n",
       "      <td>Hardwood</td>\n",
       "      <td>1.0</td>\n",
       "      <td>1.0</td>\n",
       "      <td>12</td>\n",
       "      <td>3850</td>\n",
       "      <td>2018-07-22T18:01:43.000Z</td>\n",
       "      <td>12.730801</td>\n",
       "    </tr>\n",
       "    <tr>\n",
       "      <th>2</th>\n",
       "      <td>35035</td>\n",
       "      <td>2024    0817</td>\n",
       "      <td>2.0</td>\n",
       "      <td>2.0</td>\n",
       "      <td>13.0</td>\n",
       "      <td>Hot Water Rad</td>\n",
       "      <td>Y</td>\n",
       "      <td>1.0</td>\n",
       "      <td>9.0</td>\n",
       "      <td>4.0</td>\n",
       "      <td>...</td>\n",
       "      <td>11.0</td>\n",
       "      <td>Slate</td>\n",
       "      <td>6.0</td>\n",
       "      <td>Hardwood</td>\n",
       "      <td>1.0</td>\n",
       "      <td>1.0</td>\n",
       "      <td>12</td>\n",
       "      <td>7866</td>\n",
       "      <td>2018-07-22T18:01:43.000Z</td>\n",
       "      <td>13.651814</td>\n",
       "    </tr>\n",
       "    <tr>\n",
       "      <th>3</th>\n",
       "      <td>67983</td>\n",
       "      <td>3736    0059</td>\n",
       "      <td>1.0</td>\n",
       "      <td>1.0</td>\n",
       "      <td>7.0</td>\n",
       "      <td>Warm Cool</td>\n",
       "      <td>Y</td>\n",
       "      <td>1.0</td>\n",
       "      <td>6.0</td>\n",
       "      <td>3.0</td>\n",
       "      <td>...</td>\n",
       "      <td>2.0</td>\n",
       "      <td>Built Up</td>\n",
       "      <td>6.0</td>\n",
       "      <td>Hardwood</td>\n",
       "      <td>1.0</td>\n",
       "      <td>0.0</td>\n",
       "      <td>13</td>\n",
       "      <td>2739</td>\n",
       "      <td>2018-07-22T18:01:43.000Z</td>\n",
       "      <td>12.860999</td>\n",
       "    </tr>\n",
       "    <tr>\n",
       "      <th>4</th>\n",
       "      <td>8791</td>\n",
       "      <td>0817    0826</td>\n",
       "      <td>2.0</td>\n",
       "      <td>0.0</td>\n",
       "      <td>13.0</td>\n",
       "      <td>Hot Water Rad</td>\n",
       "      <td>N</td>\n",
       "      <td>1.0</td>\n",
       "      <td>11.0</td>\n",
       "      <td>4.0</td>\n",
       "      <td>...</td>\n",
       "      <td>6.0</td>\n",
       "      <td>Metal- Sms</td>\n",
       "      <td>6.0</td>\n",
       "      <td>Hardwood</td>\n",
       "      <td>1.0</td>\n",
       "      <td>0.0</td>\n",
       "      <td>11</td>\n",
       "      <td>2097</td>\n",
       "      <td>2018-07-22T18:01:43.000Z</td>\n",
       "      <td>14.100690</td>\n",
       "    </tr>\n",
       "  </tbody>\n",
       "</table>\n",
       "<p>5 rows × 39 columns</p>\n",
       "</div>"
      ],
      "text/plain": [
       "   OBJECTID           SSL  BATHRM  HF_BATHRM  HEAT         HEAT_D AC  \\\n",
       "0     78021  4061N   0085     3.0        1.0   1.0     Forced Air  Y   \n",
       "1     28783  1587    0075     2.0        1.0   7.0      Warm Cool  Y   \n",
       "2     35035  2024    0817     2.0        2.0  13.0  Hot Water Rad  Y   \n",
       "3     67983  3736    0059     1.0        1.0   7.0      Warm Cool  Y   \n",
       "4      8791  0817    0826     2.0        0.0  13.0  Hot Water Rad  N   \n",
       "\n",
       "   NUM_UNITS  ROOMS  BEDRM  ...  ROOF      ROOF_D  INTWALL  INTWALL_D  \\\n",
       "0        1.0    9.0    4.0  ...   2.0    Built Up      6.0   Hardwood   \n",
       "1        1.0    7.0    3.0  ...  11.0       Slate      6.0   Hardwood   \n",
       "2        1.0    9.0    4.0  ...  11.0       Slate      6.0   Hardwood   \n",
       "3        1.0    6.0    3.0  ...   2.0    Built Up      6.0   Hardwood   \n",
       "4        1.0   11.0    4.0  ...   6.0  Metal- Sms      6.0   Hardwood   \n",
       "\n",
       "  KITCHENS FIREPLACES  USECODE  LANDAREA         GIS_LAST_MOD_DTTM   LN_PRICE  \n",
       "0      1.0        0.0       11      2234  2018-07-22T18:01:43.000Z  13.591116  \n",
       "1      1.0        1.0       12      3850  2018-07-22T18:01:43.000Z  12.730801  \n",
       "2      1.0        1.0       12      7866  2018-07-22T18:01:43.000Z  13.651814  \n",
       "3      1.0        0.0       13      2739  2018-07-22T18:01:43.000Z  12.860999  \n",
       "4      1.0        0.0       11      2097  2018-07-22T18:01:43.000Z  14.100690  \n",
       "\n",
       "[5 rows x 39 columns]"
      ]
     },
     "execution_count": 84,
     "metadata": {},
     "output_type": "execute_result"
    }
   ],
   "source": [
    "# check out the training data set\n",
    "train.head (5)"
   ]
  },
  {
   "cell_type": "markdown",
   "metadata": {},
   "source": [
    "We observe that there are both numeric and categorical variables in the data set. Let's inspect the numeric variables."
   ]
  },
  {
   "cell_type": "code",
   "execution_count": 85,
   "metadata": {},
   "outputs": [
    {
     "data": {
      "text/html": [
       "<div>\n",
       "<style scoped>\n",
       "    .dataframe tbody tr th:only-of-type {\n",
       "        vertical-align: middle;\n",
       "    }\n",
       "\n",
       "    .dataframe tbody tr th {\n",
       "        vertical-align: top;\n",
       "    }\n",
       "\n",
       "    .dataframe thead th {\n",
       "        text-align: right;\n",
       "    }\n",
       "</style>\n",
       "<table border=\"1\" class=\"dataframe\">\n",
       "  <thead>\n",
       "    <tr style=\"text-align: right;\">\n",
       "      <th></th>\n",
       "      <th>BATHRM</th>\n",
       "      <th>HF_BATHRM</th>\n",
       "      <th>HEAT</th>\n",
       "      <th>NUM_UNITS</th>\n",
       "      <th>ROOMS</th>\n",
       "      <th>BEDRM</th>\n",
       "      <th>AYB</th>\n",
       "      <th>YR_RMDL</th>\n",
       "      <th>EYB</th>\n",
       "      <th>STORIES</th>\n",
       "      <th>...</th>\n",
       "      <th>CNDTN</th>\n",
       "      <th>EXTWALL</th>\n",
       "      <th>ROOF</th>\n",
       "      <th>INTWALL</th>\n",
       "      <th>KITCHENS</th>\n",
       "      <th>FIREPLACES</th>\n",
       "      <th>USECODE</th>\n",
       "      <th>LANDAREA</th>\n",
       "      <th>LN_PRICE</th>\n",
       "      <th>SALEYear</th>\n",
       "    </tr>\n",
       "  </thead>\n",
       "  <tbody>\n",
       "    <tr>\n",
       "      <th>count</th>\n",
       "      <td>58120.000000</td>\n",
       "      <td>58119.000000</td>\n",
       "      <td>58120.000000</td>\n",
       "      <td>58120.000000</td>\n",
       "      <td>58108.000000</td>\n",
       "      <td>58117.000000</td>\n",
       "      <td>58116.000000</td>\n",
       "      <td>33336.000000</td>\n",
       "      <td>58121.000000</td>\n",
       "      <td>58085.000000</td>\n",
       "      <td>...</td>\n",
       "      <td>58120.000000</td>\n",
       "      <td>58120.000000</td>\n",
       "      <td>58120.000000</td>\n",
       "      <td>58120.000000</td>\n",
       "      <td>58119.000000</td>\n",
       "      <td>58119.000000</td>\n",
       "      <td>58121.000000</td>\n",
       "      <td>58121.000000</td>\n",
       "      <td>58121.000000</td>\n",
       "      <td>58121.000000</td>\n",
       "    </tr>\n",
       "    <tr>\n",
       "      <th>mean</th>\n",
       "      <td>2.204026</td>\n",
       "      <td>0.649495</td>\n",
       "      <td>6.847626</td>\n",
       "      <td>1.221576</td>\n",
       "      <td>7.429459</td>\n",
       "      <td>3.429220</td>\n",
       "      <td>1931.482845</td>\n",
       "      <td>2004.261429</td>\n",
       "      <td>1969.791710</td>\n",
       "      <td>2.124879</td>\n",
       "      <td>...</td>\n",
       "      <td>3.708138</td>\n",
       "      <td>13.447350</td>\n",
       "      <td>3.963094</td>\n",
       "      <td>6.297109</td>\n",
       "      <td>1.251415</td>\n",
       "      <td>0.641116</td>\n",
       "      <td>13.277937</td>\n",
       "      <td>3171.446155</td>\n",
       "      <td>12.928077</td>\n",
       "      <td>2008.907262</td>\n",
       "    </tr>\n",
       "    <tr>\n",
       "      <th>std</th>\n",
       "      <td>1.067458</td>\n",
       "      <td>0.607217</td>\n",
       "      <td>5.149936</td>\n",
       "      <td>0.624942</td>\n",
       "      <td>2.370431</td>\n",
       "      <td>1.199319</td>\n",
       "      <td>83.097709</td>\n",
       "      <td>16.629371</td>\n",
       "      <td>16.934042</td>\n",
       "      <td>3.941666</td>\n",
       "      <td>...</td>\n",
       "      <td>0.746899</td>\n",
       "      <td>4.033265</td>\n",
       "      <td>3.332154</td>\n",
       "      <td>2.093512</td>\n",
       "      <td>0.662110</td>\n",
       "      <td>0.909725</td>\n",
       "      <td>4.178889</td>\n",
       "      <td>3145.140487</td>\n",
       "      <td>0.864354</td>\n",
       "      <td>7.014215</td>\n",
       "    </tr>\n",
       "    <tr>\n",
       "      <th>min</th>\n",
       "      <td>0.000000</td>\n",
       "      <td>0.000000</td>\n",
       "      <td>0.000000</td>\n",
       "      <td>0.000000</td>\n",
       "      <td>0.000000</td>\n",
       "      <td>0.000000</td>\n",
       "      <td>0.000000</td>\n",
       "      <td>20.000000</td>\n",
       "      <td>1900.000000</td>\n",
       "      <td>0.000000</td>\n",
       "      <td>...</td>\n",
       "      <td>0.000000</td>\n",
       "      <td>0.000000</td>\n",
       "      <td>0.000000</td>\n",
       "      <td>0.000000</td>\n",
       "      <td>0.000000</td>\n",
       "      <td>0.000000</td>\n",
       "      <td>11.000000</td>\n",
       "      <td>0.000000</td>\n",
       "      <td>0.000000</td>\n",
       "      <td>1900.000000</td>\n",
       "    </tr>\n",
       "    <tr>\n",
       "      <th>25%</th>\n",
       "      <td>1.000000</td>\n",
       "      <td>0.000000</td>\n",
       "      <td>1.000000</td>\n",
       "      <td>1.000000</td>\n",
       "      <td>6.000000</td>\n",
       "      <td>3.000000</td>\n",
       "      <td>1913.000000</td>\n",
       "      <td>2002.000000</td>\n",
       "      <td>1957.000000</td>\n",
       "      <td>2.000000</td>\n",
       "      <td>...</td>\n",
       "      <td>3.000000</td>\n",
       "      <td>14.000000</td>\n",
       "      <td>1.000000</td>\n",
       "      <td>6.000000</td>\n",
       "      <td>1.000000</td>\n",
       "      <td>0.000000</td>\n",
       "      <td>11.000000</td>\n",
       "      <td>1520.000000</td>\n",
       "      <td>12.388394</td>\n",
       "      <td>2004.000000</td>\n",
       "    </tr>\n",
       "    <tr>\n",
       "      <th>50%</th>\n",
       "      <td>2.000000</td>\n",
       "      <td>1.000000</td>\n",
       "      <td>7.000000</td>\n",
       "      <td>1.000000</td>\n",
       "      <td>7.000000</td>\n",
       "      <td>3.000000</td>\n",
       "      <td>1929.000000</td>\n",
       "      <td>2008.000000</td>\n",
       "      <td>1967.000000</td>\n",
       "      <td>2.000000</td>\n",
       "      <td>...</td>\n",
       "      <td>4.000000</td>\n",
       "      <td>14.000000</td>\n",
       "      <td>2.000000</td>\n",
       "      <td>6.000000</td>\n",
       "      <td>1.000000</td>\n",
       "      <td>0.000000</td>\n",
       "      <td>12.000000</td>\n",
       "      <td>2214.000000</td>\n",
       "      <td>12.994530</td>\n",
       "      <td>2010.000000</td>\n",
       "    </tr>\n",
       "    <tr>\n",
       "      <th>75%</th>\n",
       "      <td>3.000000</td>\n",
       "      <td>1.000000</td>\n",
       "      <td>13.000000</td>\n",
       "      <td>1.000000</td>\n",
       "      <td>8.000000</td>\n",
       "      <td>4.000000</td>\n",
       "      <td>1947.000000</td>\n",
       "      <td>2013.000000</td>\n",
       "      <td>1975.000000</td>\n",
       "      <td>2.000000</td>\n",
       "      <td>...</td>\n",
       "      <td>4.000000</td>\n",
       "      <td>14.000000</td>\n",
       "      <td>6.000000</td>\n",
       "      <td>6.000000</td>\n",
       "      <td>1.000000</td>\n",
       "      <td>1.000000</td>\n",
       "      <td>13.000000</td>\n",
       "      <td>4000.000000</td>\n",
       "      <td>13.527828</td>\n",
       "      <td>2015.000000</td>\n",
       "    </tr>\n",
       "    <tr>\n",
       "      <th>max</th>\n",
       "      <td>24.000000</td>\n",
       "      <td>11.000000</td>\n",
       "      <td>13.000000</td>\n",
       "      <td>6.000000</td>\n",
       "      <td>101.000000</td>\n",
       "      <td>54.000000</td>\n",
       "      <td>2018.000000</td>\n",
       "      <td>2019.000000</td>\n",
       "      <td>2018.000000</td>\n",
       "      <td>826.000000</td>\n",
       "      <td>...</td>\n",
       "      <td>6.000000</td>\n",
       "      <td>24.000000</td>\n",
       "      <td>15.000000</td>\n",
       "      <td>11.000000</td>\n",
       "      <td>44.000000</td>\n",
       "      <td>13.000000</td>\n",
       "      <td>39.000000</td>\n",
       "      <td>187301.000000</td>\n",
       "      <td>17.038378</td>\n",
       "      <td>2018.000000</td>\n",
       "    </tr>\n",
       "  </tbody>\n",
       "</table>\n",
       "<p>8 rows × 26 columns</p>\n",
       "</div>"
      ],
      "text/plain": [
       "             BATHRM     HF_BATHRM          HEAT     NUM_UNITS         ROOMS  \\\n",
       "count  58120.000000  58119.000000  58120.000000  58120.000000  58108.000000   \n",
       "mean       2.204026      0.649495      6.847626      1.221576      7.429459   \n",
       "std        1.067458      0.607217      5.149936      0.624942      2.370431   \n",
       "min        0.000000      0.000000      0.000000      0.000000      0.000000   \n",
       "25%        1.000000      0.000000      1.000000      1.000000      6.000000   \n",
       "50%        2.000000      1.000000      7.000000      1.000000      7.000000   \n",
       "75%        3.000000      1.000000     13.000000      1.000000      8.000000   \n",
       "max       24.000000     11.000000     13.000000      6.000000    101.000000   \n",
       "\n",
       "              BEDRM           AYB       YR_RMDL           EYB       STORIES  \\\n",
       "count  58117.000000  58116.000000  33336.000000  58121.000000  58085.000000   \n",
       "mean       3.429220   1931.482845   2004.261429   1969.791710      2.124879   \n",
       "std        1.199319     83.097709     16.629371     16.934042      3.941666   \n",
       "min        0.000000      0.000000     20.000000   1900.000000      0.000000   \n",
       "25%        3.000000   1913.000000   2002.000000   1957.000000      2.000000   \n",
       "50%        3.000000   1929.000000   2008.000000   1967.000000      2.000000   \n",
       "75%        4.000000   1947.000000   2013.000000   1975.000000      2.000000   \n",
       "max       54.000000   2018.000000   2019.000000   2018.000000    826.000000   \n",
       "\n",
       "       ...         CNDTN       EXTWALL          ROOF       INTWALL  \\\n",
       "count  ...  58120.000000  58120.000000  58120.000000  58120.000000   \n",
       "mean   ...      3.708138     13.447350      3.963094      6.297109   \n",
       "std    ...      0.746899      4.033265      3.332154      2.093512   \n",
       "min    ...      0.000000      0.000000      0.000000      0.000000   \n",
       "25%    ...      3.000000     14.000000      1.000000      6.000000   \n",
       "50%    ...      4.000000     14.000000      2.000000      6.000000   \n",
       "75%    ...      4.000000     14.000000      6.000000      6.000000   \n",
       "max    ...      6.000000     24.000000     15.000000     11.000000   \n",
       "\n",
       "           KITCHENS    FIREPLACES       USECODE       LANDAREA      LN_PRICE  \\\n",
       "count  58119.000000  58119.000000  58121.000000   58121.000000  58121.000000   \n",
       "mean       1.251415      0.641116     13.277937    3171.446155     12.928077   \n",
       "std        0.662110      0.909725      4.178889    3145.140487      0.864354   \n",
       "min        0.000000      0.000000     11.000000       0.000000      0.000000   \n",
       "25%        1.000000      0.000000     11.000000    1520.000000     12.388394   \n",
       "50%        1.000000      0.000000     12.000000    2214.000000     12.994530   \n",
       "75%        1.000000      1.000000     13.000000    4000.000000     13.527828   \n",
       "max       44.000000     13.000000     39.000000  187301.000000     17.038378   \n",
       "\n",
       "           SALEYear  \n",
       "count  58121.000000  \n",
       "mean    2008.907262  \n",
       "std        7.014215  \n",
       "min     1900.000000  \n",
       "25%     2004.000000  \n",
       "50%     2010.000000  \n",
       "75%     2015.000000  \n",
       "max     2018.000000  \n",
       "\n",
       "[8 rows x 26 columns]"
      ]
     },
     "execution_count": 85,
     "metadata": {},
     "output_type": "execute_result"
    }
   ],
   "source": [
    "# conbine the training and test data set\n",
    "train_test = pd.concat([train, test])\n",
    "# the year of most recent sale is something we want to consider later as a predictor, we seperate it into a column\n",
    "train_test['SALEYear'] = pd.to_datetime(train_test[\"SALEDATE\"]).dt.year\n",
    "\n",
    "# only extract numeric variable (exept ObjectID column)\n",
    "numeric = train_test.select_dtypes(include = ['float64', 'int64']).iloc[:,1:]\n",
    "numeric.describe()"
   ]
  },
  {
   "cell_type": "markdown",
   "metadata": {},
   "source": [
    "We observe that there are outliers in many variables, including numbers of rooms, bathrooms, half bathrooms, units, bedrooms, stories, kitchens, fireplaces, and grade and landarea."
   ]
  },
  {
   "cell_type": "code",
   "execution_count": 86,
   "metadata": {},
   "outputs": [
    {
     "data": {
      "image/png": "[encoded data removed]",
      "text/plain": [
       "<Figure size 1080x144 with 1 Axes>"
      ]
     },
     "metadata": {
      "needs_background": "light"
     },
     "output_type": "display_data"
    },
    {
     "data": {
      "image/png": "[encoded data removed]",
      "text/plain": [
       "<Figure size 1080x144 with 1 Axes>"
      ]
     },
     "metadata": {
      "needs_background": "light"
     },
     "output_type": "display_data"
    },
    {
     "data": {
      "image/png": "[encoded data removed]",
      "text/plain": [
       "<Figure size 1080x144 with 1 Axes>"
      ]
     },
     "metadata": {
      "needs_background": "light"
     },
     "output_type": "display_data"
    },
    {
     "data": {
      "image/png": "[encoded data removed]",
      "text/plain": [
       "<Figure size 1080x144 with 1 Axes>"
      ]
     },
     "metadata": {
      "needs_background": "light"
     },
     "output_type": "display_data"
    },
    {
     "data": {
      "image/png": "[encoded data removed]",
      "text/plain": [
       "<Figure size 1080x144 with 1 Axes>"
      ]
     },
     "metadata": {
      "needs_background": "light"
     },
     "output_type": "display_data"
    },
    {
     "data": {
      "image/png": "[encoded data removed]",
      "text/plain": [
       "<Figure size 1080x144 with 1 Axes>"
      ]
     },
     "metadata": {
      "needs_background": "light"
     },
     "output_type": "display_data"
    },
    {
     "data": {
      "image/png": "[encoded data removed]",
      "text/plain": [
       "<Figure size 1080x144 with 1 Axes>"
      ]
     },
     "metadata": {
      "needs_background": "light"
     },
     "output_type": "display_data"
    },
    {
     "data": {
      "image/png": "[encoded data removed]",
      "text/plain": [
       "<Figure size 1080x144 with 1 Axes>"
      ]
     },
     "metadata": {
      "needs_background": "light"
     },
     "output_type": "display_data"
    },
    {
     "data": {
      "image/png": "[encoded data removed]",
      "text/plain": [
       "<Figure size 1080x144 with 1 Axes>"
      ]
     },
     "metadata": {
      "needs_background": "light"
     },
     "output_type": "display_data"
    },
    {
     "data": {
      "image/png": "[encoded data removed]",
      "text/plain": [
       "<Figure size 1080x144 with 1 Axes>"
      ]
     },
     "metadata": {
      "needs_background": "light"
     },
     "output_type": "display_data"
    }
   ],
   "source": [
    "vars_with_outliers = [\"BATHRM\", \"HF_BATHRM\", \"NUM_UNITS\", \"ROOMS\", \"BEDRM\", \"STORIES\", \"GRADE\", \"KITCHENS\", \"FIREPLACES\", \"LANDAREA\"]\n",
    "# plot numberic variables in boxplot to observe distribution of data\n",
    "for i in vars_with_outliers:\n",
    "    plt.figure(figsize=(15,2))\n",
    "    sns.boxplot(x=numeric[i], palette=\"Greens\")"
   ]
  },
  {
   "cell_type": "code",
   "execution_count": 87,
   "metadata": {},
   "outputs": [
    {
     "name": "stdout",
     "output_type": "stream",
     "text": [
      "BATHRM           2.0\n",
      "HF_BATHRM        1.0\n",
      "NUM_UNITS        0.0\n",
      "ROOMS            2.0\n",
      "BEDRM            1.0\n",
      "STORIES          0.0\n",
      "GRADE            2.0\n",
      "KITCHENS         0.0\n",
      "FIREPLACES       1.0\n",
      "LANDAREA      2480.0\n",
      "dtype: float64\n"
     ]
    },
    {
     "data": {
      "text/plain": [
       "(26880, 39)"
      ]
     },
     "execution_count": 87,
     "metadata": {},
     "output_type": "execute_result"
    }
   ],
   "source": [
    "rows_with_outliers = numeric.filter(items=[\"BATHRM\", \"HF_BATHRM\", \"NUM_UNITS\", \"ROOMS\", \"BEDRM\", \"STORIES\", \"GRADE\", \"KITCHENS\", \"FIREPLACES\", \"LANDAREA\"])\n",
    "\n",
    "# calculate interquartile range(IQR) score for each column\n",
    "Q1 = rows_with_outliers.quantile(0.25)\n",
    "Q3 = rows_with_outliers.quantile(0.75)\n",
    "IQR = Q3 - Q1\n",
    "print(IQR)\n",
    "\n",
    "# detect outliers and remove rows with outliers in the training data\n",
    "train_no_outliers = train[~((train < (Q1 - 6 * IQR)) |(train > (Q3 + 6 * IQR))).any(axis=1)]\n",
    "train_no_outliers.shape"
   ]
  },
  {
   "cell_type": "code",
   "execution_count": 88,
   "metadata": {},
   "outputs": [
    {
     "data": {
      "text/plain": [
       "<AxesSubplot:>"
      ]
     },
     "execution_count": 88,
     "metadata": {},
     "output_type": "execute_result"
    },
    {
     "data": {
      "image/png": "[encoded data removed]",
      "text/plain": [
       "<Figure size 1800x720 with 2 Axes>"
      ]
     },
     "metadata": {
      "needs_background": "light"
     },
     "output_type": "display_data"
    }
   ],
   "source": [
    "# the year of most recent sale is something we want to consider later as a predictor, we seperate it into a column\n",
    "train_no_outliers['SALEYear'] = pd.to_datetime(train_no_outliers[\"SALEDATE\"]).dt.year\n",
    "# Look at missingness in the training data\n",
    "miss.matrix(train_no_outliers)"
   ]
  },
  {
   "cell_type": "markdown",
   "metadata": {},
   "source": [
    "### Clean the training data, split the predictors and outcome, and pre-process"
   ]
  },
  {
   "cell_type": "code",
   "execution_count": 89,
   "metadata": {},
   "outputs": [],
   "source": [
    "# only keep those logged prices are not zero\n",
    "train_no = train_no_outliers[train_no_outliers.LN_PRICE != 0]\n",
    "test = test[test.LN_PRICE != 0]\n",
    "\n",
    "# only keep those observations where the land area is not 0\n",
    "train_no = train_no[train_no[\"LANDAREA\"] != 0]\n",
    "test = test[test.LANDAREA != 0]\n",
    "\n",
    "# drops the Object ID and year remodeled column \n",
    "train_no = train_no.drop([\"OBJECTID\",\"YR_RMDL\"], axis = 1)\n",
    "test = test.drop([\"OBJECTID\",\"YR_RMDL\"], axis = 1)\n",
    "\n",
    "# change zeros to NAs in AC column (in both training and test data)\n",
    "train_no['AC']=train_no['AC'].replace(0, np.nan)\n",
    "test['AC']=test['AC'].replace(0, np.nan)\n",
    "\n",
    "# Change AC from Y or N to 1 or 0\n",
    "train_no[\"AC\"] = np.where(train_no[\"AC\"] == \"Y\", 1, 0)\n",
    "test['AC']=np.where(test[\"AC\"] == \"Y\", 1, 0)\n",
    "\n",
    "# drop any values with NA\n",
    "train_no = train_no.dropna()\n",
    "test=test.dropna()"
   ]
  },
  {
   "cell_type": "markdown",
   "metadata": {},
   "source": [
    "In selecting predictors, after reading each variable's description, I selected 11 most relevant features in my opinion. They are BATHRM (number of bathrooms), AC (air conditioning in residence), BEDRM (number of bedrooms), EYB (year of the most recent improvement), GBA (gross building area in square feet), GRADE, FIREPLACES (number of fireplaces), CNDTN (condition code), LANDAREA (land area of property), SALEYear (year of most recent sale), and SALE_NUM (sale number)."
   ]
  },
  {
   "cell_type": "code",
   "execution_count": 90,
   "metadata": {},
   "outputs": [],
   "source": [
    "# set outcome: log selling price \n",
    "train_y = train_no[\"LN_PRICE\"]\n",
    "test_y = test[\"LN_PRICE\"]\n",
    "\n",
    "# select predictor variables we will consider for this analysis\n",
    "train_X = train_no[[\"BATHRM\", \"AC\", \"BEDRM\", \"EYB\", \"GBA\", \"GRADE\", 'FIREPLACES', \"CNDTN\", \"LANDAREA\", \"SALEYear\", \"SALE_NUM\"]]\n",
    "\n",
    "# in test data, also seperate year of most recent sale into a column\n",
    "test['SALEYear'] = pd.to_datetime(test[\"SALEDATE\"]).dt.year\n",
    "test_X = test[[\"BATHRM\", \"AC\", \"BEDRM\", \"EYB\", \"GBA\", \"GRADE\", 'FIREPLACES', \"CNDTN\", \"LANDAREA\", \"SALEYear\", \"SALE_NUM\"]]"
   ]
  },
  {
   "cell_type": "code",
   "execution_count": 91,
   "metadata": {},
   "outputs": [
    {
     "data": {
      "text/html": [
       "<div>\n",
       "<style scoped>\n",
       "    .dataframe tbody tr th:only-of-type {\n",
       "        vertical-align: middle;\n",
       "    }\n",
       "\n",
       "    .dataframe tbody tr th {\n",
       "        vertical-align: top;\n",
       "    }\n",
       "\n",
       "    .dataframe thead th {\n",
       "        text-align: right;\n",
       "    }\n",
       "</style>\n",
       "<table border=\"1\" class=\"dataframe\">\n",
       "  <thead>\n",
       "    <tr style=\"text-align: right;\">\n",
       "      <th></th>\n",
       "      <th>BATHRM</th>\n",
       "      <th>AC</th>\n",
       "      <th>BEDRM</th>\n",
       "      <th>EYB</th>\n",
       "      <th>GBA</th>\n",
       "      <th>GRADE</th>\n",
       "      <th>FIREPLACES</th>\n",
       "      <th>CNDTN</th>\n",
       "      <th>LANDAREA</th>\n",
       "      <th>SALEYear</th>\n",
       "      <th>SALE_NUM</th>\n",
       "    </tr>\n",
       "  </thead>\n",
       "  <tbody>\n",
       "    <tr>\n",
       "      <th>0</th>\n",
       "      <td>0.428571</td>\n",
       "      <td>1.0</td>\n",
       "      <td>0.500</td>\n",
       "      <td>0.455556</td>\n",
       "      <td>0.104513</td>\n",
       "      <td>0.363636</td>\n",
       "      <td>0.000000</td>\n",
       "      <td>0.833333</td>\n",
       "      <td>0.108705</td>\n",
       "      <td>0.972222</td>\n",
       "      <td>0.142857</td>\n",
       "    </tr>\n",
       "    <tr>\n",
       "      <th>1</th>\n",
       "      <td>0.285714</td>\n",
       "      <td>1.0</td>\n",
       "      <td>0.375</td>\n",
       "      <td>0.488889</td>\n",
       "      <td>0.126419</td>\n",
       "      <td>0.454545</td>\n",
       "      <td>0.166667</td>\n",
       "      <td>0.833333</td>\n",
       "      <td>0.195755</td>\n",
       "      <td>0.333333</td>\n",
       "      <td>0.000000</td>\n",
       "    </tr>\n",
       "    <tr>\n",
       "      <th>2</th>\n",
       "      <td>0.142857</td>\n",
       "      <td>1.0</td>\n",
       "      <td>0.375</td>\n",
       "      <td>0.266667</td>\n",
       "      <td>0.106888</td>\n",
       "      <td>0.181818</td>\n",
       "      <td>0.000000</td>\n",
       "      <td>0.500000</td>\n",
       "      <td>0.135908</td>\n",
       "      <td>0.916667</td>\n",
       "      <td>0.071429</td>\n",
       "    </tr>\n",
       "    <tr>\n",
       "      <th>3</th>\n",
       "      <td>0.285714</td>\n",
       "      <td>0.0</td>\n",
       "      <td>0.500</td>\n",
       "      <td>0.244444</td>\n",
       "      <td>0.325680</td>\n",
       "      <td>0.363636</td>\n",
       "      <td>0.000000</td>\n",
       "      <td>0.500000</td>\n",
       "      <td>0.101325</td>\n",
       "      <td>0.916667</td>\n",
       "      <td>0.071429</td>\n",
       "    </tr>\n",
       "    <tr>\n",
       "      <th>4</th>\n",
       "      <td>0.428571</td>\n",
       "      <td>1.0</td>\n",
       "      <td>0.625</td>\n",
       "      <td>0.933333</td>\n",
       "      <td>0.345738</td>\n",
       "      <td>0.272727</td>\n",
       "      <td>0.000000</td>\n",
       "      <td>0.666667</td>\n",
       "      <td>0.282590</td>\n",
       "      <td>0.750000</td>\n",
       "      <td>0.000000</td>\n",
       "    </tr>\n",
       "    <tr>\n",
       "      <th>...</th>\n",
       "      <td>...</td>\n",
       "      <td>...</td>\n",
       "      <td>...</td>\n",
       "      <td>...</td>\n",
       "      <td>...</td>\n",
       "      <td>...</td>\n",
       "      <td>...</td>\n",
       "      <td>...</td>\n",
       "      <td>...</td>\n",
       "      <td>...</td>\n",
       "      <td>...</td>\n",
       "    </tr>\n",
       "    <tr>\n",
       "      <th>26847</th>\n",
       "      <td>0.142857</td>\n",
       "      <td>1.0</td>\n",
       "      <td>0.375</td>\n",
       "      <td>0.433333</td>\n",
       "      <td>0.093428</td>\n",
       "      <td>0.272727</td>\n",
       "      <td>0.166667</td>\n",
       "      <td>0.666667</td>\n",
       "      <td>0.032805</td>\n",
       "      <td>0.722222</td>\n",
       "      <td>0.000000</td>\n",
       "    </tr>\n",
       "    <tr>\n",
       "      <th>26848</th>\n",
       "      <td>0.142857</td>\n",
       "      <td>0.0</td>\n",
       "      <td>0.375</td>\n",
       "      <td>0.288889</td>\n",
       "      <td>0.140934</td>\n",
       "      <td>0.181818</td>\n",
       "      <td>0.000000</td>\n",
       "      <td>0.500000</td>\n",
       "      <td>0.086619</td>\n",
       "      <td>0.805556</td>\n",
       "      <td>0.000000</td>\n",
       "    </tr>\n",
       "    <tr>\n",
       "      <th>26849</th>\n",
       "      <td>0.285714</td>\n",
       "      <td>0.0</td>\n",
       "      <td>0.375</td>\n",
       "      <td>0.400000</td>\n",
       "      <td>0.124043</td>\n",
       "      <td>0.181818</td>\n",
       "      <td>0.000000</td>\n",
       "      <td>0.666667</td>\n",
       "      <td>0.211108</td>\n",
       "      <td>0.750000</td>\n",
       "      <td>0.000000</td>\n",
       "    </tr>\n",
       "    <tr>\n",
       "      <th>26850</th>\n",
       "      <td>0.142857</td>\n",
       "      <td>1.0</td>\n",
       "      <td>0.250</td>\n",
       "      <td>0.322222</td>\n",
       "      <td>0.066772</td>\n",
       "      <td>0.272727</td>\n",
       "      <td>0.166667</td>\n",
       "      <td>0.500000</td>\n",
       "      <td>0.018530</td>\n",
       "      <td>0.972222</td>\n",
       "      <td>0.285714</td>\n",
       "    </tr>\n",
       "    <tr>\n",
       "      <th>26851</th>\n",
       "      <td>0.285714</td>\n",
       "      <td>1.0</td>\n",
       "      <td>0.375</td>\n",
       "      <td>0.455556</td>\n",
       "      <td>0.149776</td>\n",
       "      <td>0.363636</td>\n",
       "      <td>0.166667</td>\n",
       "      <td>0.666667</td>\n",
       "      <td>0.068250</td>\n",
       "      <td>0.972222</td>\n",
       "      <td>0.214286</td>\n",
       "    </tr>\n",
       "  </tbody>\n",
       "</table>\n",
       "<p>26852 rows × 11 columns</p>\n",
       "</div>"
      ],
      "text/plain": [
       "         BATHRM   AC  BEDRM       EYB       GBA     GRADE  FIREPLACES  \\\n",
       "0      0.428571  1.0  0.500  0.455556  0.104513  0.363636    0.000000   \n",
       "1      0.285714  1.0  0.375  0.488889  0.126419  0.454545    0.166667   \n",
       "2      0.142857  1.0  0.375  0.266667  0.106888  0.181818    0.000000   \n",
       "3      0.285714  0.0  0.500  0.244444  0.325680  0.363636    0.000000   \n",
       "4      0.428571  1.0  0.625  0.933333  0.345738  0.272727    0.000000   \n",
       "...         ...  ...    ...       ...       ...       ...         ...   \n",
       "26847  0.142857  1.0  0.375  0.433333  0.093428  0.272727    0.166667   \n",
       "26848  0.142857  0.0  0.375  0.288889  0.140934  0.181818    0.000000   \n",
       "26849  0.285714  0.0  0.375  0.400000  0.124043  0.181818    0.000000   \n",
       "26850  0.142857  1.0  0.250  0.322222  0.066772  0.272727    0.166667   \n",
       "26851  0.285714  1.0  0.375  0.455556  0.149776  0.363636    0.166667   \n",
       "\n",
       "          CNDTN  LANDAREA  SALEYear  SALE_NUM  \n",
       "0      0.833333  0.108705  0.972222  0.142857  \n",
       "1      0.833333  0.195755  0.333333  0.000000  \n",
       "2      0.500000  0.135908  0.916667  0.071429  \n",
       "3      0.500000  0.101325  0.916667  0.071429  \n",
       "4      0.666667  0.282590  0.750000  0.000000  \n",
       "...         ...       ...       ...       ...  \n",
       "26847  0.666667  0.032805  0.722222  0.000000  \n",
       "26848  0.500000  0.086619  0.805556  0.000000  \n",
       "26849  0.666667  0.211108  0.750000  0.000000  \n",
       "26850  0.500000  0.018530  0.972222  0.285714  \n",
       "26851  0.666667  0.068250  0.972222  0.214286  \n",
       "\n",
       "[26852 rows x 11 columns]"
      ]
     },
     "execution_count": 91,
     "metadata": {},
     "output_type": "execute_result"
    }
   ],
   "source": [
    "# rescale our training data for now, but we'll put the preprocessing into a modeling pipeline later on\n",
    "scaler = pp.MinMaxScaler()\n",
    "col_names = list(train_X)\n",
    "train_X = scaler.fit_transform(train_X)\n",
    "\n",
    "# Convert back into data frame\n",
    "train_X = pd.DataFrame(train_X,columns=col_names)\n",
    "train_X"
   ]
  },
  {
   "cell_type": "markdown",
   "metadata": {},
   "source": [
    "### Set up cross-validation and run the models\n",
    "The problem that we're working on is a regression problem, we use the following models to try tackle the problem and make predictions\n",
    "\n",
    "- Linear Regression\n",
    "- KNN\n",
    "- Decision Trees\n",
    "- Bagging\n",
    "- Random Forest"
   ]
  },
  {
   "cell_type": "code",
   "execution_count": 92,
   "metadata": {},
   "outputs": [],
   "source": [
    "# use K-fold cross-validation to estimate the test error\n",
    "fold_generator = KFold(n_splits=5, shuffle=True, random_state=111) # use the same data splits for each fold"
   ]
  },
  {
   "cell_type": "code",
   "execution_count": 93,
   "metadata": {},
   "outputs": [],
   "source": [
    "# use mean squared error as our performance metrics\n",
    "use_metrics = [\"neg_mean_squared_error\"]\n",
    "\n",
    "# run Linear Model and calculate perforamnce score\n",
    "lm_scores = cross_validate(LM(),train_X,train_y, cv = fold_generator, scoring =use_metrics)\n",
    "\n",
    "# run KNN and calculate perforamnce score\n",
    "knn_scores = cross_validate(KNN(),train_X,train_y, cv = fold_generator, scoring =use_metrics)\n",
    "\n",
    "# run Decision Trees and calculate perforamnce score\n",
    "dt_scores = cross_validate(DTree(),train_X,train_y, cv = fold_generator, scoring =use_metrics)\n",
    "\n",
    "# run Bagging and calculate perforamnce score\n",
    "bag_scores = cross_validate(Bag(),train_X,train_y, cv = fold_generator, scoring =use_metrics)\n",
    "\n",
    "# run Random Forest and calculate perforamnce score\n",
    "rf_scores = cross_validate(RF(),train_X,train_y, cv = fold_generator, scoring =use_metrics)"
   ]
  },
  {
   "cell_type": "markdown",
   "metadata": {},
   "source": [
    "### Compare model performances"
   ]
  },
  {
   "cell_type": "code",
   "execution_count": 94,
   "metadata": {},
   "outputs": [
    {
     "data": {
      "text/html": [
       "<div>\n",
       "<style scoped>\n",
       "    .dataframe tbody tr th:only-of-type {\n",
       "        vertical-align: middle;\n",
       "    }\n",
       "\n",
       "    .dataframe tbody tr th {\n",
       "        vertical-align: top;\n",
       "    }\n",
       "\n",
       "    .dataframe thead th {\n",
       "        text-align: right;\n",
       "    }\n",
       "</style>\n",
       "<table border=\"1\" class=\"dataframe\">\n",
       "  <thead>\n",
       "    <tr style=\"text-align: right;\">\n",
       "      <th></th>\n",
       "      <th>Model</th>\n",
       "      <th>Mean_squared_error</th>\n",
       "    </tr>\n",
       "  </thead>\n",
       "  <tbody>\n",
       "    <tr>\n",
       "      <th>0</th>\n",
       "      <td>lm</td>\n",
       "      <td>0.224621</td>\n",
       "    </tr>\n",
       "    <tr>\n",
       "      <th>1</th>\n",
       "      <td>lm</td>\n",
       "      <td>0.213468</td>\n",
       "    </tr>\n",
       "    <tr>\n",
       "      <th>2</th>\n",
       "      <td>lm</td>\n",
       "      <td>0.195408</td>\n",
       "    </tr>\n",
       "    <tr>\n",
       "      <th>3</th>\n",
       "      <td>lm</td>\n",
       "      <td>0.200368</td>\n",
       "    </tr>\n",
       "    <tr>\n",
       "      <th>4</th>\n",
       "      <td>lm</td>\n",
       "      <td>0.203702</td>\n",
       "    </tr>\n",
       "    <tr>\n",
       "      <th>5</th>\n",
       "      <td>knn</td>\n",
       "      <td>0.197926</td>\n",
       "    </tr>\n",
       "    <tr>\n",
       "      <th>6</th>\n",
       "      <td>knn</td>\n",
       "      <td>0.192491</td>\n",
       "    </tr>\n",
       "    <tr>\n",
       "      <th>7</th>\n",
       "      <td>knn</td>\n",
       "      <td>0.173995</td>\n",
       "    </tr>\n",
       "    <tr>\n",
       "      <th>8</th>\n",
       "      <td>knn</td>\n",
       "      <td>0.184678</td>\n",
       "    </tr>\n",
       "    <tr>\n",
       "      <th>9</th>\n",
       "      <td>knn</td>\n",
       "      <td>0.182271</td>\n",
       "    </tr>\n",
       "    <tr>\n",
       "      <th>10</th>\n",
       "      <td>dt</td>\n",
       "      <td>0.317067</td>\n",
       "    </tr>\n",
       "    <tr>\n",
       "      <th>11</th>\n",
       "      <td>dt</td>\n",
       "      <td>0.289991</td>\n",
       "    </tr>\n",
       "    <tr>\n",
       "      <th>12</th>\n",
       "      <td>dt</td>\n",
       "      <td>0.299640</td>\n",
       "    </tr>\n",
       "    <tr>\n",
       "      <th>13</th>\n",
       "      <td>dt</td>\n",
       "      <td>0.293283</td>\n",
       "    </tr>\n",
       "    <tr>\n",
       "      <th>14</th>\n",
       "      <td>dt</td>\n",
       "      <td>0.290801</td>\n",
       "    </tr>\n",
       "    <tr>\n",
       "      <th>15</th>\n",
       "      <td>bag</td>\n",
       "      <td>0.179952</td>\n",
       "    </tr>\n",
       "    <tr>\n",
       "      <th>16</th>\n",
       "      <td>bag</td>\n",
       "      <td>0.175182</td>\n",
       "    </tr>\n",
       "    <tr>\n",
       "      <th>17</th>\n",
       "      <td>bag</td>\n",
       "      <td>0.158976</td>\n",
       "    </tr>\n",
       "    <tr>\n",
       "      <th>18</th>\n",
       "      <td>bag</td>\n",
       "      <td>0.172982</td>\n",
       "    </tr>\n",
       "    <tr>\n",
       "      <th>19</th>\n",
       "      <td>bag</td>\n",
       "      <td>0.173282</td>\n",
       "    </tr>\n",
       "    <tr>\n",
       "      <th>20</th>\n",
       "      <td>rf</td>\n",
       "      <td>0.171618</td>\n",
       "    </tr>\n",
       "    <tr>\n",
       "      <th>21</th>\n",
       "      <td>rf</td>\n",
       "      <td>0.164258</td>\n",
       "    </tr>\n",
       "    <tr>\n",
       "      <th>22</th>\n",
       "      <td>rf</td>\n",
       "      <td>0.147415</td>\n",
       "    </tr>\n",
       "    <tr>\n",
       "      <th>23</th>\n",
       "      <td>rf</td>\n",
       "      <td>0.156590</td>\n",
       "    </tr>\n",
       "    <tr>\n",
       "      <th>24</th>\n",
       "      <td>rf</td>\n",
       "      <td>0.156240</td>\n",
       "    </tr>\n",
       "  </tbody>\n",
       "</table>\n",
       "</div>"
      ],
      "text/plain": [
       "   Model  Mean_squared_error\n",
       "0     lm            0.224621\n",
       "1     lm            0.213468\n",
       "2     lm            0.195408\n",
       "3     lm            0.200368\n",
       "4     lm            0.203702\n",
       "5    knn            0.197926\n",
       "6    knn            0.192491\n",
       "7    knn            0.173995\n",
       "8    knn            0.184678\n",
       "9    knn            0.182271\n",
       "10    dt            0.317067\n",
       "11    dt            0.289991\n",
       "12    dt            0.299640\n",
       "13    dt            0.293283\n",
       "14    dt            0.290801\n",
       "15   bag            0.179952\n",
       "16   bag            0.175182\n",
       "17   bag            0.158976\n",
       "18   bag            0.172982\n",
       "19   bag            0.173282\n",
       "20    rf            0.171618\n",
       "21    rf            0.164258\n",
       "22    rf            0.147415\n",
       "23    rf            0.156590\n",
       "24    rf            0.156240"
      ]
     },
     "execution_count": 94,
     "metadata": {},
     "output_type": "execute_result"
    }
   ],
   "source": [
    "# collect all the metrics as a dictionary \n",
    "collect_scores = \\\n",
    "dict(lm = lm_scores['test_neg_mean_squared_error']*-1,\n",
    "     knn = knn_scores['test_neg_mean_squared_error']*-1,\n",
    "     dt = dt_scores['test_neg_mean_squared_error']*-1,\n",
    "     bag = bag_scores['test_neg_mean_squared_error']*-1,\n",
    "     rf = rf_scores['test_neg_mean_squared_error']*-1)\n",
    "\n",
    "# Convert to a data frame and reshape\n",
    "collect_scores = pd.DataFrame(collect_scores).melt(var_name=\"Model\",value_name=\"Mean_squared_error\")\n",
    "collect_scores"
   ]
  },
  {
   "cell_type": "code",
   "execution_count": 95,
   "metadata": {},
   "outputs": [
    {
     "data": {
      "image/png": "[encoded data removed]",
      "text/plain": [
       "<Figure size 960x720 with 1 Axes>"
      ]
     },
     "metadata": {
      "needs_background": "light"
     },
     "output_type": "display_data"
    },
    {
     "data": {
      "text/plain": [
       "<ggplot: (299983972)>"
      ]
     },
     "execution_count": 95,
     "metadata": {},
     "output_type": "execute_result"
    }
   ],
   "source": [
    "# Order the models\n",
    "order = (collect_scores.groupby('Model').mean().sort_values(by=\"Mean_squared_error\").index.tolist())\n",
    "\n",
    "# Plot the performance of the models in terms of MSE distribution\n",
    "(\n",
    "    ggplot(collect_scores,\n",
    "          aes(x=\"Model\",y=\"Mean_squared_error\", fill=\"Model\")) +\n",
    "    geom_boxplot() +\n",
    "    scale_x_discrete(limits=order) +\n",
    "    labs(x=\"Model\",y=\"Mean Squared Error\") +\n",
    "    coord_flip() +\n",
    "    theme_minimal() +\n",
    "    theme(dpi=150)\n",
    ")"
   ]
  },
  {
   "cell_type": "markdown",
   "metadata": {},
   "source": [
    "According to the plot above, the random forest model has the best performance, and bagging has the second best predictions. Noticably, the random forest, bagging, and K-nearest-neighbors all have MSE between 0.15 to 0.2, reflecting good performances generally. With an average MSE of 0.298, the decision tree model's performance is less satisfactory."
   ]
  },
  {
   "cell_type": "markdown",
   "metadata": {},
   "source": [
    "### Tuning Pipeline\n",
    "We can piece together all the tuning steps, including preprocessing, specifying tuning parameters and GridSearch, as one seamless pipeline."
   ]
  },
  {
   "cell_type": "code",
   "execution_count": 96,
   "metadata": {},
   "outputs": [
    {
     "data": {
      "text/plain": [
       "GridSearchCV(cv=KFold(n_splits=5, random_state=111, shuffle=True),\n",
       "             estimator=Pipeline(steps=[('pre_process',\n",
       "                                        ColumnTransformer(transformers=[('num',\n",
       "                                                                         MinMaxScaler(),\n",
       "                                                                         ['BATHRM',\n",
       "                                                                          'AC',\n",
       "                                                                          'BEDRM',\n",
       "                                                                          'EYB',\n",
       "                                                                          'GBA',\n",
       "                                                                          'GRADE',\n",
       "                                                                          'FIREPLACES',\n",
       "                                                                          'CNDTN',\n",
       "                                                                          'LANDAREA',\n",
       "                                                                          'SALEYear',\n",
       "                                                                          'SALE_NUM'])])),\n",
       "                                       ('model', None)]),\n",
       "             n_jobs=4,\n",
       "             param_grid=[{'model': [LinearRegression()]},\n",
       "                         {'model': [KNeighborsRegressor()],\n",
       "                          'model__n_neighbors': [5, 10, 20, 30, 40, 50]},\n",
       "                         {'model': [DecisionTreeRegressor()],\n",
       "                          'model__max_depth': [1, 2, 3, 4, 5]},\n",
       "                         {'model': [BaggingRegressor()]},\n",
       "                         {'model': [RandomForestRegressor()],\n",
       "                          'model__max_depth': [1, 2, 3],\n",
       "                          'model__n_estimators': [100, 500, 1000, 1250]}],\n",
       "             scoring='neg_mean_squared_error')"
      ]
     },
     "execution_count": 96,
     "metadata": {},
     "output_type": "execute_result"
    }
   ],
   "source": [
    "# (1) Set the folds index to ensure comparable samples\n",
    "fold_generator = KFold(n_splits=5, shuffle=True, random_state=111)\n",
    "\n",
    "# (2) Next specify the preprocessing steps\n",
    "preprocess = ColumnTransformer(transformers=[('num', pp.MinMaxScaler(), [\"BATHRM\", \"AC\", \"BEDRM\", \"EYB\", \"GBA\", \"GRADE\", \n",
    "                                                                         'FIREPLACES', \"CNDTN\", \"LANDAREA\", \"SALEYear\", \"SALE_NUM\"])])\n",
    "\n",
    "\n",
    "# (3) Next Let's create our model pipe (note for the model we leave none as a placeholder)\n",
    "pipe = Pipeline(steps=[('pre_process', preprocess),\n",
    "                       ('model',None)])\n",
    "\n",
    "\n",
    "# (4) Specify the models and their repsective tuning parameters. \n",
    "# Note the naming convention here to reference the model key\n",
    "search_space = [\n",
    "    # Linear Model\n",
    "    {'model' : [LM()]},\n",
    "    \n",
    "    # KNN with K tuning param\n",
    "    {'model' : [KNN()],\n",
    "     'model__n_neighbors':[5,10,20,30,40,50]},\n",
    "    \n",
    "    # Decision Tree with the Max Depth Param\n",
    "    {'model': [DTree()],\n",
    "     'model__max_depth':[1,2,3,4,5]},\n",
    "    \n",
    "    # The Bagging decision tree model \n",
    "    {'model': [Bag()]},\n",
    "    \n",
    "    # Random forest with the N Estimators tuning param\n",
    "    {'model' : [RF()],\n",
    "     'model__max_depth':[1,2,3],\n",
    "     'model__n_estimators':[100, 500,1000,1250]},\n",
    "]\n",
    "\n",
    "\n",
    "# (5) Put it all together in the grid search\n",
    "search = GridSearchCV(pipe, search_space, \n",
    "                      cv = fold_generator,\n",
    "                      scoring='neg_mean_squared_error',\n",
    "                      n_jobs=4)\n",
    "\n",
    "# (6) Fit the model to the training data\n",
    "search.fit(train_X,train_y)"
   ]
  },
  {
   "cell_type": "code",
   "execution_count": 97,
   "metadata": {},
   "outputs": [
    {
     "name": "stdout",
     "output_type": "stream",
     "text": [
      "The best fit score is -0.1726273872170401\n",
      "The best model is {'model': BaggingRegressor()}\n"
     ]
    }
   ],
   "source": [
    "#  look at the best fit score from the scan\n",
    "print(\"The best fit score is \" + str(search.best_score_)) # Mean out-of-sample (CV) error\n",
    "\n",
    "\n",
    "# look at the best model\n",
    "print(\"The best model is \" + str(search.best_params_))"
   ]
  },
  {
   "cell_type": "markdown",
   "metadata": {},
   "source": [
    "### Model performances on test data\n",
    "Let's now see how well our best model does on the test data that it wasn't trained on."
   ]
  },
  {
   "cell_type": "code",
   "execution_count": 98,
   "metadata": {},
   "outputs": [],
   "source": [
    "# rescale our training data\n",
    "scaler = pp.MinMaxScaler()\n",
    "col_names = list(test_X)\n",
    "test_X = scaler.fit_transform(test_X)\n",
    "\n",
    "# Convert back into data frame\n",
    "test_X = pd.DataFrame(test_X,columns=col_names)\n",
    "\n",
    "# Predict() method will use the best model out of the scan\n",
    "pred_y = search.predict(test_X)"
   ]
  },
  {
   "cell_type": "code",
   "execution_count": 99,
   "metadata": {},
   "outputs": [
    {
     "data": {
      "text/plain": [
       "0.4598763545105856"
      ]
     },
     "execution_count": 99,
     "metadata": {},
     "output_type": "execute_result"
    }
   ],
   "source": [
    "# check mean_squared_error\n",
    "m.mean_squared_error(test_y,pred_y)"
   ]
  },
  {
   "cell_type": "code",
   "execution_count": 101,
   "metadata": {},
   "outputs": [
    {
     "data": {
      "text/plain": [
       "0.37765507163344414"
      ]
     },
     "execution_count": 101,
     "metadata": {},
     "output_type": "execute_result"
    }
   ],
   "source": [
    "# check r-squared\n",
    "m.r2_score(test_y,pred_y)"
   ]
  },
  {
   "cell_type": "code",
   "execution_count": 102,
   "metadata": {},
   "outputs": [
    {
     "data": {
      "image/png": "[encoded data removed]",
      "text/plain": [
       "<Figure size 1000x700 with 1 Axes>"
      ]
     },
     "metadata": {},
     "output_type": "display_data"
    },
    {
     "data": {
      "text/plain": [
       "<ggplot: (299984086)>"
      ]
     },
     "execution_count": 102,
     "metadata": {},
     "output_type": "execute_result"
    }
   ],
   "source": [
    "# visualize the model accuracy\n",
    "(\n",
    "    ggplot(pd.DataFrame(dict(pred=pred_y,truth=test_y)),\n",
    "          aes(x='pred',y=\"truth\")) +\n",
    "    geom_point(alpha=.75) +\n",
    "    geom_abline(linetype=\"dashed\",color=\"darkred\",size=1) +\n",
    "    theme_bw() +\n",
    "    theme(figure_size=(10,7))\n",
    ")"
   ]
  },
  {
   "cell_type": "code",
   "execution_count": null,
   "metadata": {},
   "outputs": [],
   "source": []
  }
 ],
 "metadata": {
  "kernelspec": {
   "display_name": "Python 3",
   "language": "python",
   "name": "python3"
  },
  "language_info": {
   "codemirror_mode": {
    "name": "ipython",
    "version": 3
   },
   "file_extension": ".py",
   "mimetype": "text/x-python",
   "name": "python",
   "nbconvert_exporter": "python",
   "pygments_lexer": "ipython3",
   "version": "3.8.3"
  }
 },
 "nbformat": 4,
 "nbformat_minor": 4
}
