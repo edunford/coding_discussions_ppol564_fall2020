{
 "cells": [
  {
   "cell_type": "markdown",
   "metadata": {},
   "source": [
    "**Name:** Matt Ring <br>\n",
    "**Date:** 11/14/2020"
   ]
  },
  {
   "cell_type": "markdown",
   "metadata": {},
   "source": [
    "# Imports"
   ]
  },
  {
   "cell_type": "markdown",
   "metadata": {},
   "source": [
    "## Packages"
   ]
  },
  {
   "cell_type": "code",
   "execution_count": 34,
   "metadata": {},
   "outputs": [],
   "source": [
    "# General Data Management Packages\n",
    "import pandas as pd\n",
    "import numpy as np\n",
    "\n",
    "import sklearn\n",
    "\n",
    "# Pre-processing \n",
    "from sklearn import preprocessing as pp \n",
    "\n",
    "# For splits and CV\n",
    "from sklearn.model_selection import train_test_split\n",
    "from sklearn.model_selection import KFold # Cross validation \n",
    "from sklearn.model_selection import cross_validate # Cross validation \n",
    "from sklearn.model_selection import GridSearchCV # Cross validation + param. tuning.\n",
    "\n",
    "# Machine learning methods \n",
    "from sklearn.linear_model import LinearRegression as LM\n",
    "from sklearn.neighbors import KNeighborsRegressor as KNN\n",
    "from sklearn.ensemble import RandomForestRegressor as RF\n",
    "from sklearn.svm import SVR\n",
    "\n",
    "# Visualizations\n",
    "from plotnine import *\n",
    "\n",
    "# For evaluating our model's performance\n",
    "import sklearn.metrics as m"
   ]
  },
  {
   "cell_type": "markdown",
   "metadata": {},
   "source": [
    "## Data"
   ]
  },
  {
   "cell_type": "code",
   "execution_count": 2,
   "metadata": {},
   "outputs": [],
   "source": [
    "# Imports the training and testing data\n",
    "train = pd.read_csv(\"../train_data.csv\")\n",
    "test = pd.read_csv(\"../test_data.csv\")"
   ]
  },
  {
   "cell_type": "code",
   "execution_count": 3,
   "metadata": {},
   "outputs": [
    {
     "data": {
      "text/plain": [
       "Index(['OBJECTID', 'SSL', 'BATHRM', 'HF_BATHRM', 'HEAT', 'HEAT_D', 'AC',\n",
       "       'NUM_UNITS', 'ROOMS', 'BEDRM', 'AYB', 'YR_RMDL', 'EYB', 'STORIES',\n",
       "       'SALEDATE', 'QUALIFIED', 'SALE_NUM', 'GBA', 'BLDG_NUM', 'STYLE',\n",
       "       'STYLE_D', 'STRUCT', 'STRUCT_D', 'GRADE', 'GRADE_D', 'CNDTN', 'CNDTN_D',\n",
       "       'EXTWALL', 'EXTWALL_D', 'ROOF', 'ROOF_D', 'INTWALL', 'INTWALL_D',\n",
       "       'KITCHENS', 'FIREPLACES', 'USECODE', 'LANDAREA', 'GIS_LAST_MOD_DTTM',\n",
       "       'LN_PRICE'],\n",
       "      dtype='object')"
      ]
     },
     "execution_count": 3,
     "metadata": {},
     "output_type": "execute_result"
    }
   ],
   "source": [
    "# A look at all of the columns in the dataset\n",
    "train.columns"
   ]
  },
  {
   "cell_type": "code",
   "execution_count": 4,
   "metadata": {},
   "outputs": [
    {
     "data": {
      "text/html": [
       "<div>\n",
       "<style scoped>\n",
       "    .dataframe tbody tr th:only-of-type {\n",
       "        vertical-align: middle;\n",
       "    }\n",
       "\n",
       "    .dataframe tbody tr th {\n",
       "        vertical-align: top;\n",
       "    }\n",
       "\n",
       "    .dataframe thead th {\n",
       "        text-align: right;\n",
       "    }\n",
       "</style>\n",
       "<table border=\"1\" class=\"dataframe\">\n",
       "  <thead>\n",
       "    <tr style=\"text-align: right;\">\n",
       "      <th></th>\n",
       "      <th>OBJECTID</th>\n",
       "      <th>SSL</th>\n",
       "      <th>BATHRM</th>\n",
       "      <th>HF_BATHRM</th>\n",
       "      <th>HEAT</th>\n",
       "      <th>HEAT_D</th>\n",
       "      <th>AC</th>\n",
       "      <th>NUM_UNITS</th>\n",
       "      <th>ROOMS</th>\n",
       "      <th>BEDRM</th>\n",
       "      <th>...</th>\n",
       "      <th>ROOF</th>\n",
       "      <th>ROOF_D</th>\n",
       "      <th>INTWALL</th>\n",
       "      <th>INTWALL_D</th>\n",
       "      <th>KITCHENS</th>\n",
       "      <th>FIREPLACES</th>\n",
       "      <th>USECODE</th>\n",
       "      <th>LANDAREA</th>\n",
       "      <th>GIS_LAST_MOD_DTTM</th>\n",
       "      <th>LN_PRICE</th>\n",
       "    </tr>\n",
       "  </thead>\n",
       "  <tbody>\n",
       "    <tr>\n",
       "      <th>0</th>\n",
       "      <td>78021</td>\n",
       "      <td>4061N   0085</td>\n",
       "      <td>3.0</td>\n",
       "      <td>1.0</td>\n",
       "      <td>1.0</td>\n",
       "      <td>Forced Air</td>\n",
       "      <td>Y</td>\n",
       "      <td>1.0</td>\n",
       "      <td>9.0</td>\n",
       "      <td>4.0</td>\n",
       "      <td>...</td>\n",
       "      <td>2.0</td>\n",
       "      <td>Built Up</td>\n",
       "      <td>6.0</td>\n",
       "      <td>Hardwood</td>\n",
       "      <td>1.0</td>\n",
       "      <td>0.0</td>\n",
       "      <td>11</td>\n",
       "      <td>2234</td>\n",
       "      <td>2018-07-22T18:01:43.000Z</td>\n",
       "      <td>13.591116</td>\n",
       "    </tr>\n",
       "    <tr>\n",
       "      <th>1</th>\n",
       "      <td>28783</td>\n",
       "      <td>1587    0075</td>\n",
       "      <td>2.0</td>\n",
       "      <td>1.0</td>\n",
       "      <td>7.0</td>\n",
       "      <td>Warm Cool</td>\n",
       "      <td>Y</td>\n",
       "      <td>1.0</td>\n",
       "      <td>7.0</td>\n",
       "      <td>3.0</td>\n",
       "      <td>...</td>\n",
       "      <td>11.0</td>\n",
       "      <td>Slate</td>\n",
       "      <td>6.0</td>\n",
       "      <td>Hardwood</td>\n",
       "      <td>1.0</td>\n",
       "      <td>1.0</td>\n",
       "      <td>12</td>\n",
       "      <td>3850</td>\n",
       "      <td>2018-07-22T18:01:43.000Z</td>\n",
       "      <td>12.730801</td>\n",
       "    </tr>\n",
       "    <tr>\n",
       "      <th>2</th>\n",
       "      <td>35035</td>\n",
       "      <td>2024    0817</td>\n",
       "      <td>2.0</td>\n",
       "      <td>2.0</td>\n",
       "      <td>13.0</td>\n",
       "      <td>Hot Water Rad</td>\n",
       "      <td>Y</td>\n",
       "      <td>1.0</td>\n",
       "      <td>9.0</td>\n",
       "      <td>4.0</td>\n",
       "      <td>...</td>\n",
       "      <td>11.0</td>\n",
       "      <td>Slate</td>\n",
       "      <td>6.0</td>\n",
       "      <td>Hardwood</td>\n",
       "      <td>1.0</td>\n",
       "      <td>1.0</td>\n",
       "      <td>12</td>\n",
       "      <td>7866</td>\n",
       "      <td>2018-07-22T18:01:43.000Z</td>\n",
       "      <td>13.651814</td>\n",
       "    </tr>\n",
       "    <tr>\n",
       "      <th>3</th>\n",
       "      <td>67983</td>\n",
       "      <td>3736    0059</td>\n",
       "      <td>1.0</td>\n",
       "      <td>1.0</td>\n",
       "      <td>7.0</td>\n",
       "      <td>Warm Cool</td>\n",
       "      <td>Y</td>\n",
       "      <td>1.0</td>\n",
       "      <td>6.0</td>\n",
       "      <td>3.0</td>\n",
       "      <td>...</td>\n",
       "      <td>2.0</td>\n",
       "      <td>Built Up</td>\n",
       "      <td>6.0</td>\n",
       "      <td>Hardwood</td>\n",
       "      <td>1.0</td>\n",
       "      <td>0.0</td>\n",
       "      <td>13</td>\n",
       "      <td>2739</td>\n",
       "      <td>2018-07-22T18:01:43.000Z</td>\n",
       "      <td>12.860999</td>\n",
       "    </tr>\n",
       "    <tr>\n",
       "      <th>4</th>\n",
       "      <td>8791</td>\n",
       "      <td>0817    0826</td>\n",
       "      <td>2.0</td>\n",
       "      <td>0.0</td>\n",
       "      <td>13.0</td>\n",
       "      <td>Hot Water Rad</td>\n",
       "      <td>N</td>\n",
       "      <td>1.0</td>\n",
       "      <td>11.0</td>\n",
       "      <td>4.0</td>\n",
       "      <td>...</td>\n",
       "      <td>6.0</td>\n",
       "      <td>Metal- Sms</td>\n",
       "      <td>6.0</td>\n",
       "      <td>Hardwood</td>\n",
       "      <td>1.0</td>\n",
       "      <td>0.0</td>\n",
       "      <td>11</td>\n",
       "      <td>2097</td>\n",
       "      <td>2018-07-22T18:01:43.000Z</td>\n",
       "      <td>14.100690</td>\n",
       "    </tr>\n",
       "  </tbody>\n",
       "</table>\n",
       "<p>5 rows × 39 columns</p>\n",
       "</div>"
      ],
      "text/plain": [
       "   OBJECTID           SSL  BATHRM  HF_BATHRM  HEAT         HEAT_D AC  \\\n",
       "0     78021  4061N   0085     3.0        1.0   1.0     Forced Air  Y   \n",
       "1     28783  1587    0075     2.0        1.0   7.0      Warm Cool  Y   \n",
       "2     35035  2024    0817     2.0        2.0  13.0  Hot Water Rad  Y   \n",
       "3     67983  3736    0059     1.0        1.0   7.0      Warm Cool  Y   \n",
       "4      8791  0817    0826     2.0        0.0  13.0  Hot Water Rad  N   \n",
       "\n",
       "   NUM_UNITS  ROOMS  BEDRM  ...  ROOF      ROOF_D  INTWALL  INTWALL_D  \\\n",
       "0        1.0    9.0    4.0  ...   2.0    Built Up      6.0   Hardwood   \n",
       "1        1.0    7.0    3.0  ...  11.0       Slate      6.0   Hardwood   \n",
       "2        1.0    9.0    4.0  ...  11.0       Slate      6.0   Hardwood   \n",
       "3        1.0    6.0    3.0  ...   2.0    Built Up      6.0   Hardwood   \n",
       "4        1.0   11.0    4.0  ...   6.0  Metal- Sms      6.0   Hardwood   \n",
       "\n",
       "  KITCHENS FIREPLACES  USECODE  LANDAREA         GIS_LAST_MOD_DTTM   LN_PRICE  \n",
       "0      1.0        0.0       11      2234  2018-07-22T18:01:43.000Z  13.591116  \n",
       "1      1.0        1.0       12      3850  2018-07-22T18:01:43.000Z  12.730801  \n",
       "2      1.0        1.0       12      7866  2018-07-22T18:01:43.000Z  13.651814  \n",
       "3      1.0        0.0       13      2739  2018-07-22T18:01:43.000Z  12.860999  \n",
       "4      1.0        0.0       11      2097  2018-07-22T18:01:43.000Z  14.100690  \n",
       "\n",
       "[5 rows x 39 columns]"
      ]
     },
     "execution_count": 4,
     "metadata": {},
     "output_type": "execute_result"
    }
   ],
   "source": [
    "# First 5 rows of the data\n",
    "train.head(5)"
   ]
  },
  {
   "cell_type": "markdown",
   "metadata": {},
   "source": [
    "## Missing Data\n",
    "\n",
    "We need `PRICE` to run predictions with our models, so we will remove all observations without prices (or where `PRICE` == 0). We will also removed the variable `YR_RMDL` earlier as it appears this data is very sparse. Otherwise, only observations with no NAs will be accepted."
   ]
  },
  {
   "cell_type": "code",
   "execution_count": 5,
   "metadata": {},
   "outputs": [
    {
     "data": {
      "text/plain": [
       "OBJECTID                 0\n",
       "SSL                      0\n",
       "BATHRM                   1\n",
       "HF_BATHRM                2\n",
       "HEAT                     1\n",
       "HEAT_D                   1\n",
       "AC                       1\n",
       "NUM_UNITS                1\n",
       "ROOMS                   11\n",
       "BEDRM                    4\n",
       "AYB                      4\n",
       "YR_RMDL              18583\n",
       "EYB                      0\n",
       "STORIES                 29\n",
       "SALEDATE                 0\n",
       "QUALIFIED                0\n",
       "SALE_NUM                 0\n",
       "GBA                      0\n",
       "BLDG_NUM                 0\n",
       "STYLE                    1\n",
       "STYLE_D                  1\n",
       "STRUCT                   1\n",
       "STRUCT_D                 1\n",
       "GRADE                    1\n",
       "GRADE_D                  1\n",
       "CNDTN                    1\n",
       "CNDTN_D                  1\n",
       "EXTWALL                  1\n",
       "EXTWALL_D                1\n",
       "ROOF                     1\n",
       "ROOF_D                   1\n",
       "INTWALL                  1\n",
       "INTWALL_D                1\n",
       "KITCHENS                 2\n",
       "FIREPLACES               1\n",
       "USECODE                  0\n",
       "LANDAREA                 0\n",
       "GIS_LAST_MOD_DTTM        0\n",
       "LN_PRICE                 0\n",
       "dtype: int64"
      ]
     },
     "execution_count": 5,
     "metadata": {},
     "output_type": "execute_result"
    }
   ],
   "source": [
    "# Displays the number of NAs per each column\n",
    "train.isna().sum()"
   ]
  },
  {
   "cell_type": "code",
   "execution_count": 6,
   "metadata": {},
   "outputs": [],
   "source": [
    "# Drops all logged prices that were 0\n",
    "train = train[train[\"LN_PRICE\"] != 0]"
   ]
  },
  {
   "cell_type": "code",
   "execution_count": 7,
   "metadata": {},
   "outputs": [],
   "source": [
    "# Removes all observations where the land area is 0, as this is not possible\n",
    "train = train[train[\"LANDAREA\"] != 0]"
   ]
  },
  {
   "cell_type": "code",
   "execution_count": 8,
   "metadata": {},
   "outputs": [],
   "source": [
    "# Drops the very sparse year remodeled variable\n",
    "train = train.drop(\"YR_RMDL\", axis = 1)"
   ]
  },
  {
   "cell_type": "code",
   "execution_count": 9,
   "metadata": {},
   "outputs": [],
   "source": [
    "# Removes all remaining observations with any NA\n",
    "train = train.dropna()"
   ]
  },
  {
   "cell_type": "markdown",
   "metadata": {},
   "source": [
    "## Splitting\n",
    "Finally, we select our desired input variables and separate them from the output variable, `LN_PRICE`."
   ]
  },
  {
   "cell_type": "code",
   "execution_count": 10,
   "metadata": {},
   "outputs": [],
   "source": [
    "# Extracts the outcome variable, `LN_PRICE`, from both datasets\n",
    "train_y = train[\"LN_PRICE\"]\n",
    "test_y = test[\"LN_PRICE\"]"
   ]
  },
  {
   "cell_type": "markdown",
   "metadata": {},
   "source": [
    "[This](https://dcdatahub.maps.arcgis.com/sharing/rest/content/items/c5fb3fbe4c694a59a6eef7bf5f8bc49a/info/metadata/metadata.xml?format=default&output=html) link was used to determine which variables were important. Variables which were similar or causally related to other variables were removed."
   ]
  },
  {
   "cell_type": "code",
   "execution_count": 11,
   "metadata": {},
   "outputs": [],
   "source": [
    "# Extract only the input variables we will be considering for this analysis\n",
    "train_x = train[[\"BATHRM\", \"AC\", \"BEDRM\", \"EYB\", \"STORIES\",\n",
    "                 \"GBA\", \"STRUCT\", \"GRADE\", \"ROOF\",\n",
    "                 \"KITCHENS\", \"LANDAREA\"]]\n",
    "test_x = train[[\"BATHRM\", \"AC\", \"BEDRM\", \"EYB\", \"STORIES\", \n",
    "                \"GBA\", \"STRUCT\", \"GRADE\", \"ROOF\", \n",
    "                \"KITCHENS\", \"LANDAREA\"]]"
   ]
  },
  {
   "cell_type": "code",
   "execution_count": 12,
   "metadata": {},
   "outputs": [
    {
     "data": {
      "text/html": [
       "<div>\n",
       "<style scoped>\n",
       "    .dataframe tbody tr th:only-of-type {\n",
       "        vertical-align: middle;\n",
       "    }\n",
       "\n",
       "    .dataframe tbody tr th {\n",
       "        vertical-align: top;\n",
       "    }\n",
       "\n",
       "    .dataframe thead th {\n",
       "        text-align: right;\n",
       "    }\n",
       "</style>\n",
       "<table border=\"1\" class=\"dataframe\">\n",
       "  <thead>\n",
       "    <tr style=\"text-align: right;\">\n",
       "      <th></th>\n",
       "      <th>BATHRM</th>\n",
       "      <th>AC</th>\n",
       "      <th>BEDRM</th>\n",
       "      <th>EYB</th>\n",
       "      <th>STORIES</th>\n",
       "      <th>GBA</th>\n",
       "      <th>STRUCT</th>\n",
       "      <th>GRADE</th>\n",
       "      <th>ROOF</th>\n",
       "      <th>KITCHENS</th>\n",
       "      <th>LANDAREA</th>\n",
       "    </tr>\n",
       "  </thead>\n",
       "  <tbody>\n",
       "    <tr>\n",
       "      <th>0</th>\n",
       "      <td>3.0</td>\n",
       "      <td>Y</td>\n",
       "      <td>4.0</td>\n",
       "      <td>1969</td>\n",
       "      <td>2.0</td>\n",
       "      <td>1260</td>\n",
       "      <td>7.0</td>\n",
       "      <td>5.0</td>\n",
       "      <td>2.0</td>\n",
       "      <td>1.0</td>\n",
       "      <td>2234</td>\n",
       "    </tr>\n",
       "    <tr>\n",
       "      <th>1</th>\n",
       "      <td>2.0</td>\n",
       "      <td>Y</td>\n",
       "      <td>3.0</td>\n",
       "      <td>1972</td>\n",
       "      <td>2.0</td>\n",
       "      <td>1426</td>\n",
       "      <td>1.0</td>\n",
       "      <td>6.0</td>\n",
       "      <td>11.0</td>\n",
       "      <td>1.0</td>\n",
       "      <td>3850</td>\n",
       "    </tr>\n",
       "    <tr>\n",
       "      <th>2</th>\n",
       "      <td>2.0</td>\n",
       "      <td>Y</td>\n",
       "      <td>4.0</td>\n",
       "      <td>1980</td>\n",
       "      <td>2.5</td>\n",
       "      <td>2270</td>\n",
       "      <td>1.0</td>\n",
       "      <td>6.0</td>\n",
       "      <td>11.0</td>\n",
       "      <td>1.0</td>\n",
       "      <td>7866</td>\n",
       "    </tr>\n",
       "    <tr>\n",
       "      <th>3</th>\n",
       "      <td>1.0</td>\n",
       "      <td>Y</td>\n",
       "      <td>3.0</td>\n",
       "      <td>1952</td>\n",
       "      <td>2.0</td>\n",
       "      <td>1278</td>\n",
       "      <td>8.0</td>\n",
       "      <td>3.0</td>\n",
       "      <td>2.0</td>\n",
       "      <td>1.0</td>\n",
       "      <td>2739</td>\n",
       "    </tr>\n",
       "    <tr>\n",
       "      <th>4</th>\n",
       "      <td>2.0</td>\n",
       "      <td>N</td>\n",
       "      <td>4.0</td>\n",
       "      <td>1950</td>\n",
       "      <td>2.0</td>\n",
       "      <td>2936</td>\n",
       "      <td>7.0</td>\n",
       "      <td>5.0</td>\n",
       "      <td>6.0</td>\n",
       "      <td>1.0</td>\n",
       "      <td>2097</td>\n",
       "    </tr>\n",
       "  </tbody>\n",
       "</table>\n",
       "</div>"
      ],
      "text/plain": [
       "   BATHRM AC  BEDRM   EYB  STORIES   GBA  STRUCT  GRADE  ROOF  KITCHENS  \\\n",
       "0     3.0  Y    4.0  1969      2.0  1260     7.0    5.0   2.0       1.0   \n",
       "1     2.0  Y    3.0  1972      2.0  1426     1.0    6.0  11.0       1.0   \n",
       "2     2.0  Y    4.0  1980      2.5  2270     1.0    6.0  11.0       1.0   \n",
       "3     1.0  Y    3.0  1952      2.0  1278     8.0    3.0   2.0       1.0   \n",
       "4     2.0  N    4.0  1950      2.0  2936     7.0    5.0   6.0       1.0   \n",
       "\n",
       "   LANDAREA  \n",
       "0      2234  \n",
       "1      3850  \n",
       "2      7866  \n",
       "3      2739  \n",
       "4      2097  "
      ]
     },
     "execution_count": 12,
     "metadata": {},
     "output_type": "execute_result"
    }
   ],
   "source": [
    "# Final set of training variables\n",
    "train_x.head()"
   ]
  },
  {
   "cell_type": "markdown",
   "metadata": {},
   "source": [
    "# Pre-Processing"
   ]
  },
  {
   "cell_type": "markdown",
   "metadata": {},
   "source": [
    "## Input Variables\n",
    "Here we use __ to standardize all non-dummy variables. We also handle missing data values."
   ]
  },
  {
   "cell_type": "code",
   "execution_count": 13,
   "metadata": {},
   "outputs": [],
   "source": [
    "# Change AC from Y or N to 1 or 0\n",
    "AC = np.where(train_x[\"AC\"] == \"Y\", 1, 0)"
   ]
  },
  {
   "cell_type": "code",
   "execution_count": 14,
   "metadata": {},
   "outputs": [
    {
     "name": "stderr",
     "output_type": "stream",
     "text": [
      "<ipython-input-14-e86818bc721c>:2: SettingWithCopyWarning: \n",
      "A value is trying to be set on a copy of a slice from a DataFrame.\n",
      "Try using .loc[row_indexer,col_indexer] = value instead\n",
      "\n",
      "See the caveats in the documentation: https://pandas.pydata.org/pandas-docs/stable/user_guide/indexing.html#returning-a-view-versus-a-copy\n"
     ]
    }
   ],
   "source": [
    "# Some areas differ greatly, so we will log this variable\n",
    "train_x['LANDAREA'] = np.log(train_x['LANDAREA'])"
   ]
  },
  {
   "cell_type": "markdown",
   "metadata": {},
   "source": [
    "### Scaling"
   ]
  },
  {
   "cell_type": "code",
   "execution_count": 15,
   "metadata": {},
   "outputs": [],
   "source": [
    "# Using MinMax Scaler on the data as this will preserve the shape of each variable's distribution\n",
    "scaler = pp.MinMaxScaler ()\n",
    "col_names = list(train_x.drop(\"AC\", axis=1))\n",
    "train_x = scaler.fit_transform(train_x.drop(\"AC\", axis=1))"
   ]
  },
  {
   "cell_type": "code",
   "execution_count": 16,
   "metadata": {},
   "outputs": [],
   "source": [
    "# Convert train_x back into data frame\n",
    "train_x = pd.DataFrame(train_x,columns=col_names)"
   ]
  },
  {
   "cell_type": "code",
   "execution_count": 17,
   "metadata": {},
   "outputs": [],
   "source": [
    "# Re-add in AC and LANDAREA\n",
    "train_x[\"AC\"] = AC"
   ]
  },
  {
   "cell_type": "code",
   "execution_count": 18,
   "metadata": {},
   "outputs": [
    {
     "data": {
      "text/html": [
       "<div>\n",
       "<style scoped>\n",
       "    .dataframe tbody tr th:only-of-type {\n",
       "        vertical-align: middle;\n",
       "    }\n",
       "\n",
       "    .dataframe tbody tr th {\n",
       "        vertical-align: top;\n",
       "    }\n",
       "\n",
       "    .dataframe thead th {\n",
       "        text-align: right;\n",
       "    }\n",
       "</style>\n",
       "<table border=\"1\" class=\"dataframe\">\n",
       "  <thead>\n",
       "    <tr style=\"text-align: right;\">\n",
       "      <th></th>\n",
       "      <th>BATHRM</th>\n",
       "      <th>BEDRM</th>\n",
       "      <th>EYB</th>\n",
       "      <th>STORIES</th>\n",
       "      <th>GBA</th>\n",
       "      <th>STRUCT</th>\n",
       "      <th>GRADE</th>\n",
       "      <th>ROOF</th>\n",
       "      <th>KITCHENS</th>\n",
       "      <th>LANDAREA</th>\n",
       "      <th>AC</th>\n",
       "    </tr>\n",
       "  </thead>\n",
       "  <tbody>\n",
       "    <tr>\n",
       "      <th>0</th>\n",
       "      <td>0.125000</td>\n",
       "      <td>0.074074</td>\n",
       "      <td>0.584746</td>\n",
       "      <td>0.002421</td>\n",
       "      <td>0.079235</td>\n",
       "      <td>0.875</td>\n",
       "      <td>0.416667</td>\n",
       "      <td>0.133333</td>\n",
       "      <td>0.022727</td>\n",
       "      <td>0.345337</td>\n",
       "      <td>1</td>\n",
       "    </tr>\n",
       "    <tr>\n",
       "      <th>1</th>\n",
       "      <td>0.083333</td>\n",
       "      <td>0.055556</td>\n",
       "      <td>0.610169</td>\n",
       "      <td>0.002421</td>\n",
       "      <td>0.089674</td>\n",
       "      <td>0.125</td>\n",
       "      <td>0.500000</td>\n",
       "      <td>0.733333</td>\n",
       "      <td>0.022727</td>\n",
       "      <td>0.425790</td>\n",
       "      <td>1</td>\n",
       "    </tr>\n",
       "    <tr>\n",
       "      <th>2</th>\n",
       "      <td>0.083333</td>\n",
       "      <td>0.074074</td>\n",
       "      <td>0.677966</td>\n",
       "      <td>0.003027</td>\n",
       "      <td>0.142749</td>\n",
       "      <td>0.125</td>\n",
       "      <td>0.500000</td>\n",
       "      <td>0.733333</td>\n",
       "      <td>0.022727</td>\n",
       "      <td>0.531400</td>\n",
       "      <td>1</td>\n",
       "    </tr>\n",
       "    <tr>\n",
       "      <th>3</th>\n",
       "      <td>0.041667</td>\n",
       "      <td>0.055556</td>\n",
       "      <td>0.440678</td>\n",
       "      <td>0.002421</td>\n",
       "      <td>0.080367</td>\n",
       "      <td>1.000</td>\n",
       "      <td>0.250000</td>\n",
       "      <td>0.133333</td>\n",
       "      <td>0.022727</td>\n",
       "      <td>0.375461</td>\n",
       "      <td>1</td>\n",
       "    </tr>\n",
       "    <tr>\n",
       "      <th>4</th>\n",
       "      <td>0.083333</td>\n",
       "      <td>0.074074</td>\n",
       "      <td>0.423729</td>\n",
       "      <td>0.002421</td>\n",
       "      <td>0.184631</td>\n",
       "      <td>0.875</td>\n",
       "      <td>0.416667</td>\n",
       "      <td>0.400000</td>\n",
       "      <td>0.022727</td>\n",
       "      <td>0.335982</td>\n",
       "      <td>0</td>\n",
       "    </tr>\n",
       "  </tbody>\n",
       "</table>\n",
       "</div>"
      ],
      "text/plain": [
       "     BATHRM     BEDRM       EYB   STORIES       GBA  STRUCT     GRADE  \\\n",
       "0  0.125000  0.074074  0.584746  0.002421  0.079235   0.875  0.416667   \n",
       "1  0.083333  0.055556  0.610169  0.002421  0.089674   0.125  0.500000   \n",
       "2  0.083333  0.074074  0.677966  0.003027  0.142749   0.125  0.500000   \n",
       "3  0.041667  0.055556  0.440678  0.002421  0.080367   1.000  0.250000   \n",
       "4  0.083333  0.074074  0.423729  0.002421  0.184631   0.875  0.416667   \n",
       "\n",
       "       ROOF  KITCHENS  LANDAREA  AC  \n",
       "0  0.133333  0.022727  0.345337   1  \n",
       "1  0.733333  0.022727  0.425790   1  \n",
       "2  0.733333  0.022727  0.531400   1  \n",
       "3  0.133333  0.022727  0.375461   1  \n",
       "4  0.400000  0.022727  0.335982   0  "
      ]
     },
     "execution_count": 18,
     "metadata": {},
     "output_type": "execute_result"
    }
   ],
   "source": [
    "# View the standardized data\n",
    "train_x.head()"
   ]
  },
  {
   "cell_type": "markdown",
   "metadata": {},
   "source": [
    "With all of our preprocessing completed, we now have very interpretable data. For non-dummy variables, we interpret this log-linear model as \"a one unit increase in $X_i$, where $X_i$ is a single variable within our data, there is a $\\beta_1$ percent change in `PRICE`, on a scale of 0-1, where $\\beta_1$ is the coefficient associated with $X_i$.\n",
    "\n",
    "For dummy variables, we interpret the coefficients as a difference in means, where the coefficients tell us the percent change in `PRICE` between means."
   ]
  },
  {
   "cell_type": "markdown",
   "metadata": {},
   "source": [
    "# Modeling"
   ]
  },
  {
   "cell_type": "markdown",
   "metadata": {},
   "source": [
    "To compare results across models, we will need to use the same folds."
   ]
  },
  {
   "cell_type": "code",
   "execution_count": 19,
   "metadata": {},
   "outputs": [],
   "source": [
    "# Creates the folds of the training set to be used\n",
    "fold_generator = KFold(n_splits=5, shuffle=True,random_state=111)"
   ]
  },
  {
   "cell_type": "markdown",
   "metadata": {},
   "source": [
    "We'll also use Mean Squared Error (MSE) to compare the results across models."
   ]
  },
  {
   "cell_type": "code",
   "execution_count": 20,
   "metadata": {},
   "outputs": [],
   "source": [
    "# Sets up the scoring metric which we will use\n",
    "use_metrics = [\"neg_mean_squared_error\"]"
   ]
  },
  {
   "cell_type": "markdown",
   "metadata": {},
   "source": [
    "## Random Forest"
   ]
  },
  {
   "cell_type": "markdown",
   "metadata": {},
   "source": [
    "### Grid Search"
   ]
  },
  {
   "cell_type": "code",
   "execution_count": 21,
   "metadata": {},
   "outputs": [],
   "source": [
    "# Sets up the parameters to complete a grid search over\n",
    "rf_tune_params = {'n_estimators':[10, 50, 100, 500, 1000], 'max_depth':[2,3,4,5,6]}"
   ]
  },
  {
   "cell_type": "code",
   "execution_count": 22,
   "metadata": {},
   "outputs": [],
   "source": [
    "# Set up the grid search \n",
    "rf_cv = GridSearchCV(RF(),rf_tune_params,\n",
    "                     cv = fold_generator,\n",
    "                     scoring='neg_mean_squared_error',\n",
    "                     n_jobs=4)"
   ]
  },
  {
   "cell_type": "code",
   "execution_count": 23,
   "metadata": {},
   "outputs": [
    {
     "data": {
      "text/plain": [
       "GridSearchCV(cv=KFold(n_splits=5, random_state=111, shuffle=True),\n",
       "             estimator=RandomForestRegressor(), n_jobs=4,\n",
       "             param_grid={'max_depth': [2, 3, 4, 5, 6],\n",
       "                         'n_estimators': [10, 50, 100, 500, 1000]},\n",
       "             scoring='neg_mean_squared_error')"
      ]
     },
     "execution_count": 23,
     "metadata": {},
     "output_type": "execute_result"
    }
   ],
   "source": [
    "# Fit the model\n",
    "rf_cv.fit(train_x,train_y)"
   ]
  },
  {
   "cell_type": "code",
   "execution_count": 24,
   "metadata": {},
   "outputs": [],
   "source": [
    "# Returns the parameters that produced the minimum mean squared error\n",
    "rf_best_params = rf_cv.best_params_"
   ]
  },
  {
   "cell_type": "markdown",
   "metadata": {},
   "source": [
    "### MSE"
   ]
  },
  {
   "cell_type": "code",
   "execution_count": 25,
   "metadata": {},
   "outputs": [],
   "source": [
    "# Runs a random forest model, varying the number of trees and pruning the depth of said trees\n",
    "rf_scores = cross_validate(RF(n_estimators = rf_best_params['n_estimators'], max_depth = rf_best_params['max_depth']),\n",
    "                           train_x,train_y, cv = fold_generator, scoring =use_metrics)"
   ]
  },
  {
   "cell_type": "markdown",
   "metadata": {},
   "source": [
    "## KNN"
   ]
  },
  {
   "cell_type": "code",
   "execution_count": 26,
   "metadata": {},
   "outputs": [],
   "source": [
    "# Sets up the parameters to complete a grid search over\n",
    "knn_tune_params = {'n_neighbors':[1, 10, 25, 35, 50, 75, 100, 250]}"
   ]
  },
  {
   "cell_type": "code",
   "execution_count": 27,
   "metadata": {},
   "outputs": [],
   "source": [
    "# Runs the grid search \n",
    "knn_cv = GridSearchCV(KNN(),knn_tune_params,\n",
    "                     cv = fold_generator,\n",
    "                     scoring='neg_mean_squared_error',\n",
    "                     n_jobs=4)"
   ]
  },
  {
   "cell_type": "code",
   "execution_count": 28,
   "metadata": {},
   "outputs": [
    {
     "data": {
      "text/plain": [
       "GridSearchCV(cv=KFold(n_splits=5, random_state=111, shuffle=True),\n",
       "             estimator=KNeighborsRegressor(), n_jobs=4,\n",
       "             param_grid={'n_neighbors': [1, 10, 25, 35, 50, 75, 100, 250]},\n",
       "             scoring='neg_mean_squared_error')"
      ]
     },
     "execution_count": 28,
     "metadata": {},
     "output_type": "execute_result"
    }
   ],
   "source": [
    "# Fit the model\n",
    "knn_cv.fit(train_x,train_y)"
   ]
  },
  {
   "cell_type": "code",
   "execution_count": 29,
   "metadata": {},
   "outputs": [],
   "source": [
    "# Returns the parameters that produced the minimum mean squared error\n",
    "knn_best_params = knn_cv.best_params_"
   ]
  },
  {
   "cell_type": "markdown",
   "metadata": {},
   "source": [
    "### MSE"
   ]
  },
  {
   "cell_type": "code",
   "execution_count": 30,
   "metadata": {},
   "outputs": [],
   "source": [
    "# Runs a KNN model, varying the number of neighbors to be assessed\n",
    "knn_scores = cross_validate(KNN(n_neighbors = knn_best_params['n_neighbors']),\n",
    "                            train_x,train_y, cv = fold_generator, scoring =use_metrics)"
   ]
  },
  {
   "cell_type": "markdown",
   "metadata": {},
   "source": [
    "## SVR\n",
    "\n",
    "While we haven't used Support Vector Machines in this class, I figured it would be fun to use one here due to their high performance but low interpretability. The SVR will juxtapose well with Random Forest and KNN in this way.\n",
    "\n",
    "No hyperparameter tuning will be done for the SVR."
   ]
  },
  {
   "cell_type": "code",
   "execution_count": 31,
   "metadata": {},
   "outputs": [],
   "source": [
    "# Runs a basic SVR model\n",
    "svr_scores = cross_validate(SVR(),train_x,train_y, cv = fold_generator, scoring =use_metrics)"
   ]
  },
  {
   "cell_type": "markdown",
   "metadata": {},
   "source": [
    "## LM\n",
    "\n",
    "Linear Regression has no tuning parameters, so no grid search is needed."
   ]
  },
  {
   "cell_type": "code",
   "execution_count": 35,
   "metadata": {},
   "outputs": [],
   "source": [
    "# Runs a basic SVR model\n",
    "lm_scores = cross_validate(LM(),train_x,train_y, cv = fold_generator, scoring =use_metrics)"
   ]
  },
  {
   "cell_type": "markdown",
   "metadata": {},
   "source": [
    "# Results"
   ]
  },
  {
   "cell_type": "markdown",
   "metadata": {},
   "source": [
    "## Scores"
   ]
  },
  {
   "cell_type": "code",
   "execution_count": 36,
   "metadata": {},
   "outputs": [
    {
     "data": {
      "text/html": [
       "<div>\n",
       "<style scoped>\n",
       "    .dataframe tbody tr th:only-of-type {\n",
       "        vertical-align: middle;\n",
       "    }\n",
       "\n",
       "    .dataframe tbody tr th {\n",
       "        vertical-align: top;\n",
       "    }\n",
       "\n",
       "    .dataframe thead th {\n",
       "        text-align: right;\n",
       "    }\n",
       "</style>\n",
       "<table border=\"1\" class=\"dataframe\">\n",
       "  <thead>\n",
       "    <tr style=\"text-align: right;\">\n",
       "      <th></th>\n",
       "      <th>Model</th>\n",
       "      <th>MSE</th>\n",
       "    </tr>\n",
       "  </thead>\n",
       "  <tbody>\n",
       "    <tr>\n",
       "      <th>0</th>\n",
       "      <td>lm</td>\n",
       "      <td>0.418500</td>\n",
       "    </tr>\n",
       "    <tr>\n",
       "      <th>1</th>\n",
       "      <td>lm</td>\n",
       "      <td>0.570865</td>\n",
       "    </tr>\n",
       "    <tr>\n",
       "      <th>2</th>\n",
       "      <td>lm</td>\n",
       "      <td>0.418273</td>\n",
       "    </tr>\n",
       "    <tr>\n",
       "      <th>3</th>\n",
       "      <td>lm</td>\n",
       "      <td>0.414532</td>\n",
       "    </tr>\n",
       "    <tr>\n",
       "      <th>4</th>\n",
       "      <td>lm</td>\n",
       "      <td>0.404728</td>\n",
       "    </tr>\n",
       "    <tr>\n",
       "      <th>5</th>\n",
       "      <td>knn</td>\n",
       "      <td>0.365751</td>\n",
       "    </tr>\n",
       "    <tr>\n",
       "      <th>6</th>\n",
       "      <td>knn</td>\n",
       "      <td>0.360579</td>\n",
       "    </tr>\n",
       "    <tr>\n",
       "      <th>7</th>\n",
       "      <td>knn</td>\n",
       "      <td>0.365641</td>\n",
       "    </tr>\n",
       "    <tr>\n",
       "      <th>8</th>\n",
       "      <td>knn</td>\n",
       "      <td>0.365167</td>\n",
       "    </tr>\n",
       "    <tr>\n",
       "      <th>9</th>\n",
       "      <td>knn</td>\n",
       "      <td>0.353441</td>\n",
       "    </tr>\n",
       "    <tr>\n",
       "      <th>10</th>\n",
       "      <td>rf</td>\n",
       "      <td>0.368653</td>\n",
       "    </tr>\n",
       "    <tr>\n",
       "      <th>11</th>\n",
       "      <td>rf</td>\n",
       "      <td>0.367700</td>\n",
       "    </tr>\n",
       "    <tr>\n",
       "      <th>12</th>\n",
       "      <td>rf</td>\n",
       "      <td>0.376133</td>\n",
       "    </tr>\n",
       "    <tr>\n",
       "      <th>13</th>\n",
       "      <td>rf</td>\n",
       "      <td>0.378204</td>\n",
       "    </tr>\n",
       "    <tr>\n",
       "      <th>14</th>\n",
       "      <td>rf</td>\n",
       "      <td>0.364057</td>\n",
       "    </tr>\n",
       "    <tr>\n",
       "      <th>15</th>\n",
       "      <td>svr</td>\n",
       "      <td>0.384786</td>\n",
       "    </tr>\n",
       "    <tr>\n",
       "      <th>16</th>\n",
       "      <td>svr</td>\n",
       "      <td>0.373682</td>\n",
       "    </tr>\n",
       "    <tr>\n",
       "      <th>17</th>\n",
       "      <td>svr</td>\n",
       "      <td>0.385527</td>\n",
       "    </tr>\n",
       "    <tr>\n",
       "      <th>18</th>\n",
       "      <td>svr</td>\n",
       "      <td>0.382421</td>\n",
       "    </tr>\n",
       "    <tr>\n",
       "      <th>19</th>\n",
       "      <td>svr</td>\n",
       "      <td>0.369803</td>\n",
       "    </tr>\n",
       "  </tbody>\n",
       "</table>\n",
       "</div>"
      ],
      "text/plain": [
       "   Model       MSE\n",
       "0     lm  0.418500\n",
       "1     lm  0.570865\n",
       "2     lm  0.418273\n",
       "3     lm  0.414532\n",
       "4     lm  0.404728\n",
       "5    knn  0.365751\n",
       "6    knn  0.360579\n",
       "7    knn  0.365641\n",
       "8    knn  0.365167\n",
       "9    knn  0.353441\n",
       "10    rf  0.368653\n",
       "11    rf  0.367700\n",
       "12    rf  0.376133\n",
       "13    rf  0.378204\n",
       "14    rf  0.364057\n",
       "15   svr  0.384786\n",
       "16   svr  0.373682\n",
       "17   svr  0.385527\n",
       "18   svr  0.382421\n",
       "19   svr  0.369803"
      ]
     },
     "execution_count": 36,
     "metadata": {},
     "output_type": "execute_result"
    }
   ],
   "source": [
    "## Modified slightly from Dr. Dunford's in-class code\n",
    "\n",
    "# Collect all the metrics we care about as a dictionary \n",
    "collect_scores = \\\n",
    "dict(lm = lm_scores['test_neg_mean_squared_error']*-1,\n",
    "     knn = knn_scores['test_neg_mean_squared_error']*-1,\n",
    "     rf = rf_scores['test_neg_mean_squared_error']*-1,\n",
    "     svr = svr_scores['test_neg_mean_squared_error']*-1)\n",
    "\n",
    "# Convert to a data frame and reshape\n",
    "collect_scores = pd.DataFrame(collect_scores).melt(var_name=\"Model\",value_name=\"MSE\")\n",
    "collect_scores"
   ]
  },
  {
   "cell_type": "code",
   "execution_count": 37,
   "metadata": {},
   "outputs": [
    {
     "data": {
      "image/png": "[encoded data removed]",
      "text/plain": [
       "<Figure size 960x720 with 1 Axes>"
      ]
     },
     "metadata": {
      "needs_background": "light"
     },
     "output_type": "display_data"
    },
    {
     "data": {
      "text/plain": [
       "<ggplot: (132494239594)>"
      ]
     },
     "execution_count": 37,
     "metadata": {},
     "output_type": "execute_result"
    }
   ],
   "source": [
    "## Taken directly from Dr. Dunford's in-class code\n",
    "\n",
    "# Get the order of the models\n",
    "order = (collect_scores.groupby('Model').mean().sort_values(by=\"MSE\").index.tolist())\n",
    "\n",
    "# Plot\n",
    "(\n",
    "    ggplot(collect_scores,\n",
    "          aes(x=\"Model\",y=\"MSE\")) +\n",
    "    geom_boxplot() +\n",
    "    scale_x_discrete(limits=order) +\n",
    "    labs(x=\"Model\",y=\"Mean Squared Error\") +\n",
    "    coord_flip() +\n",
    "    theme_minimal() +\n",
    "    theme(dpi=150)\n",
    ")"
   ]
  },
  {
   "cell_type": "markdown",
   "metadata": {},
   "source": [
    "# Brief Conclusions\n",
    "\n",
    "Between the best models for KNN, RF, and SVR, there is very little difference. Between KNN and RF, for example, the models with the lowest MSE differed by $0.364057 - 0.353441 = 0.010616$. Despite this, KNN still produced the best model overall while SVR's best model was the worst of the three.\n",
    "\n",
    "The most notable results though are from LM. Not only did LM produce the worst best model, it produced an extreme outlier for the worst model and had the largest range of MSE values as such. This is likely due to the use of many variables which are unlikely to be linearly separable, even in a higher dimensional plane.\n",
    "\n",
    "Thus, I would suggest using KNN to analyze this data, although RF might also work. KNN might prove more interpretable as well. One should NOT use SVR due to its slightly worse performance and higher MSE. One should avoid using LM at all costs, as the MSE for LM is unacceptable compared to all other models tested."
   ]
  },
  {
   "cell_type": "code",
   "execution_count": null,
   "metadata": {},
   "outputs": [],
   "source": []
  }
 ],
 "metadata": {
  "kernelspec": {
   "display_name": "Python 3",
   "language": "python",
   "name": "python3"
  },
  "language_info": {
   "codemirror_mode": {
    "name": "ipython",
    "version": 3
   },
   "file_extension": ".py",
   "mimetype": "text/x-python",
   "name": "python",
   "nbconvert_exporter": "python",
   "pygments_lexer": "ipython3",
   "version": "3.8.6"
  }
 },
 "nbformat": 4,
 "nbformat_minor": 4
}
