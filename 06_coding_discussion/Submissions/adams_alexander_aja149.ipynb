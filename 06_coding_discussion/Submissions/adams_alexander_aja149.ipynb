{
 "cells": [
  {
   "cell_type": "markdown",
   "metadata": {},
   "source": [
    "# Coding Discussion 6\n",
    "## Alexander Adams\n",
    "## PPOL564 Data Science 1: Foundations"
   ]
  },
  {
   "cell_type": "code",
   "execution_count": 93,
   "metadata": {},
   "outputs": [],
   "source": [
    "# Data Management/Investigation\n",
    "import pandas as pd\n",
    "import numpy as np\n",
    "import missingno as miss\n",
    "from plotnine import *\n",
    "import matplotlib.pyplot as plt\n",
    "import warnings\n",
    "warnings.filterwarnings(\"ignore\")\n",
    "\n",
    "# For pre-processing data \n",
    "from sklearn import preprocessing as pp \n",
    "from sklearn.compose import ColumnTransformer \n",
    "\n",
    "# For splits and CV\n",
    "from sklearn.model_selection import train_test_split\n",
    "from sklearn.model_selection import KFold # Cross validation \n",
    "from sklearn.model_selection import cross_validate # Cross validation \n",
    "from sklearn.model_selection import GridSearchCV # Cross validation + param. tuning.\n",
    "\n",
    "# Machine learning methods \n",
    "from sklearn.linear_model import LinearRegression as LM\n",
    "from sklearn.neighbors import KNeighborsRegressor as KNN\n",
    "from sklearn.tree import DecisionTreeRegressor as DTree\n",
    "from sklearn import tree # For plotting the decision tree rules\n",
    "from sklearn.ensemble import BaggingRegressor as Bag\n",
    "from sklearn.ensemble import RandomForestRegressor as RF\n",
    "\n",
    "# For evaluating our model's performance\n",
    "import sklearn.metrics as m\n",
    "\n",
    "# Pipeline to combine modeling elements\n",
    "from sklearn.pipeline import Pipeline"
   ]
  },
  {
   "cell_type": "code",
   "execution_count": 94,
   "metadata": {},
   "outputs": [],
   "source": [
    "#Load the training and test data sets\n",
    "train = pd.read_csv('../train_data.csv')\n",
    "test = pd.read_csv('../test_data.csv')"
   ]
  },
  {
   "cell_type": "code",
   "execution_count": 113,
   "metadata": {},
   "outputs": [
    {
     "data": {
      "text/html": [
       "<div>\n",
       "<style scoped>\n",
       "    .dataframe tbody tr th:only-of-type {\n",
       "        vertical-align: middle;\n",
       "    }\n",
       "\n",
       "    .dataframe tbody tr th {\n",
       "        vertical-align: top;\n",
       "    }\n",
       "\n",
       "    .dataframe thead th {\n",
       "        text-align: right;\n",
       "    }\n",
       "</style>\n",
       "<table border=\"1\" class=\"dataframe\">\n",
       "  <thead>\n",
       "    <tr style=\"text-align: right;\">\n",
       "      <th></th>\n",
       "      <th>BEDRM</th>\n",
       "      <th>ROOMS</th>\n",
       "      <th>BATHRM</th>\n",
       "      <th>KITCHENS</th>\n",
       "      <th>HF_BATHRM</th>\n",
       "      <th>FIREPLACES</th>\n",
       "    </tr>\n",
       "  </thead>\n",
       "  <tbody>\n",
       "    <tr>\n",
       "      <th>0</th>\n",
       "      <td>4.0</td>\n",
       "      <td>9.0</td>\n",
       "      <td>3.0</td>\n",
       "      <td>1.0</td>\n",
       "      <td>1.0</td>\n",
       "      <td>0.0</td>\n",
       "    </tr>\n",
       "    <tr>\n",
       "      <th>1</th>\n",
       "      <td>3.0</td>\n",
       "      <td>7.0</td>\n",
       "      <td>2.0</td>\n",
       "      <td>1.0</td>\n",
       "      <td>1.0</td>\n",
       "      <td>1.0</td>\n",
       "    </tr>\n",
       "    <tr>\n",
       "      <th>2</th>\n",
       "      <td>4.0</td>\n",
       "      <td>9.0</td>\n",
       "      <td>2.0</td>\n",
       "      <td>1.0</td>\n",
       "      <td>2.0</td>\n",
       "      <td>1.0</td>\n",
       "    </tr>\n",
       "    <tr>\n",
       "      <th>3</th>\n",
       "      <td>3.0</td>\n",
       "      <td>6.0</td>\n",
       "      <td>1.0</td>\n",
       "      <td>1.0</td>\n",
       "      <td>1.0</td>\n",
       "      <td>0.0</td>\n",
       "    </tr>\n",
       "    <tr>\n",
       "      <th>4</th>\n",
       "      <td>4.0</td>\n",
       "      <td>11.0</td>\n",
       "      <td>2.0</td>\n",
       "      <td>1.0</td>\n",
       "      <td>0.0</td>\n",
       "      <td>0.0</td>\n",
       "    </tr>\n",
       "    <tr>\n",
       "      <th>...</th>\n",
       "      <td>...</td>\n",
       "      <td>...</td>\n",
       "      <td>...</td>\n",
       "      <td>...</td>\n",
       "      <td>...</td>\n",
       "      <td>...</td>\n",
       "    </tr>\n",
       "    <tr>\n",
       "      <th>43585</th>\n",
       "      <td>2.0</td>\n",
       "      <td>5.0</td>\n",
       "      <td>1.0</td>\n",
       "      <td>1.0</td>\n",
       "      <td>0.0</td>\n",
       "      <td>1.0</td>\n",
       "    </tr>\n",
       "    <tr>\n",
       "      <th>43586</th>\n",
       "      <td>3.0</td>\n",
       "      <td>7.0</td>\n",
       "      <td>2.0</td>\n",
       "      <td>1.0</td>\n",
       "      <td>1.0</td>\n",
       "      <td>1.0</td>\n",
       "    </tr>\n",
       "    <tr>\n",
       "      <th>43587</th>\n",
       "      <td>4.0</td>\n",
       "      <td>9.0</td>\n",
       "      <td>2.0</td>\n",
       "      <td>1.0</td>\n",
       "      <td>0.0</td>\n",
       "      <td>2.0</td>\n",
       "    </tr>\n",
       "    <tr>\n",
       "      <th>43588</th>\n",
       "      <td>3.0</td>\n",
       "      <td>6.0</td>\n",
       "      <td>3.0</td>\n",
       "      <td>2.0</td>\n",
       "      <td>1.0</td>\n",
       "      <td>1.0</td>\n",
       "    </tr>\n",
       "    <tr>\n",
       "      <th>43589</th>\n",
       "      <td>4.0</td>\n",
       "      <td>8.0</td>\n",
       "      <td>2.0</td>\n",
       "      <td>2.0</td>\n",
       "      <td>1.0</td>\n",
       "      <td>1.0</td>\n",
       "    </tr>\n",
       "  </tbody>\n",
       "</table>\n",
       "<p>43588 rows × 6 columns</p>\n",
       "</div>"
      ],
      "text/plain": [
       "       BEDRM  ROOMS  BATHRM  KITCHENS  HF_BATHRM  FIREPLACES\n",
       "0        4.0    9.0     3.0       1.0        1.0         0.0\n",
       "1        3.0    7.0     2.0       1.0        1.0         1.0\n",
       "2        4.0    9.0     2.0       1.0        2.0         1.0\n",
       "3        3.0    6.0     1.0       1.0        1.0         0.0\n",
       "4        4.0   11.0     2.0       1.0        0.0         0.0\n",
       "...      ...    ...     ...       ...        ...         ...\n",
       "43585    2.0    5.0     1.0       1.0        0.0         1.0\n",
       "43586    3.0    7.0     2.0       1.0        1.0         1.0\n",
       "43587    4.0    9.0     2.0       1.0        0.0         2.0\n",
       "43588    3.0    6.0     3.0       2.0        1.0         1.0\n",
       "43589    4.0    8.0     2.0       2.0        1.0         1.0\n",
       "\n",
       "[43588 rows x 6 columns]"
      ]
     },
     "execution_count": 113,
     "metadata": {},
     "output_type": "execute_result"
    }
   ],
   "source": [
    "train_X"
   ]
  },
  {
   "cell_type": "markdown",
   "metadata": {},
   "source": [
    "Having loaded the training and test data sets, first I want to check for missing observations."
   ]
  },
  {
   "cell_type": "code",
   "execution_count": 99,
   "metadata": {
    "scrolled": false
   },
   "outputs": [
    {
     "data": {
      "text/plain": [
       "<matplotlib.axes._subplots.AxesSubplot at 0x1c661e24070>"
      ]
     },
     "execution_count": 99,
     "metadata": {},
     "output_type": "execute_result"
    },
    {
     "data": {
      "image/png": "[encoded data removed]",
      "text/plain": [
       "<Figure size 1800x720 with 2 Axes>"
      ]
     },
     "metadata": {
      "needs_background": "light"
     },
     "output_type": "display_data"
    }
   ],
   "source": [
    "miss.matrix(train)"
   ]
  },
  {
   "cell_type": "markdown",
   "metadata": {},
   "source": [
    "It looks like the only predictor with missing observations is the year that a house was remodeled, which makes sense since not all houses have been remodeled."
   ]
  },
  {
   "cell_type": "code",
   "execution_count": 114,
   "metadata": {},
   "outputs": [],
   "source": [
    "# Drop all observations where the outcome is missing \n",
    "train = train[~train.LN_PRICE.isna()]\n",
    "\n",
    "# Only houses that are sold\n",
    "train = train[train.LN_PRICE > 0]"
   ]
  },
  {
   "cell_type": "code",
   "execution_count": 127,
   "metadata": {},
   "outputs": [],
   "source": [
    "train_Y = train['LN_PRICE'] #OUTCOME: log selling price\n",
    "train['GBA'] = np.log(train['GBA']) #Log the area for scaling purposes\n",
    "train_X = train[['BEDRM','ROOMS','BATHRM', 'KITCHENS', 'HF_BATHRM', 'FIREPLACES', 'NUM_UNITS', 'STORIES', 'GBA', 'AYB', 'EYB', 'SALE_NUM', 'GRADE', 'CNDTN']] #PREDICTORS: # of Bedrooms, # of Rooms, # of Kitchens, # of Bathrooms"
   ]
  },
  {
   "cell_type": "markdown",
   "metadata": {},
   "source": [
    "How did I choose which predictors to use? Honestly, I just went with all of the ones which either measured something (like the number of rooms or the year the structure was originally built) or were subjective but ordinal (like grade or condition, where a higher value means a higher grade than a lower value). For the purposes of this assignment, I excluded the categorical, non-ordinal variables (like EXTWALL, which records the material used to construct the exterior walls of a building)."
   ]
  },
  {
   "cell_type": "markdown",
   "metadata": {},
   "source": [
    "Double check for missing observations:"
   ]
  },
  {
   "cell_type": "code",
   "execution_count": null,
   "metadata": {},
   "outputs": [],
   "source": [
    "train_Y.isnull().sum()"
   ]
  },
  {
   "cell_type": "code",
   "execution_count": 132,
   "metadata": {},
   "outputs": [
    {
     "data": {
      "text/plain": [
       "BEDRM         0\n",
       "ROOMS         0\n",
       "BATHRM        0\n",
       "KITCHENS      0\n",
       "HF_BATHRM     0\n",
       "FIREPLACES    0\n",
       "NUM_UNITS     0\n",
       "STORIES       0\n",
       "GBA           0\n",
       "AYB           0\n",
       "EYB           0\n",
       "SALE_NUM      0\n",
       "GRADE         0\n",
       "CNDTN         0\n",
       "dtype: int64"
      ]
     },
     "execution_count": 132,
     "metadata": {},
     "output_type": "execute_result"
    }
   ],
   "source": [
    "train_X.isnull().sum()"
   ]
  },
  {
   "cell_type": "markdown",
   "metadata": {},
   "source": [
    "train_Y has no missing values, as expected. However, train_X is missing a few. I'm going to replace those values with the mean value for that variable."
   ]
  },
  {
   "cell_type": "code",
   "execution_count": 131,
   "metadata": {},
   "outputs": [],
   "source": [
    "#Replace all missing values with the mean\n",
    "train_X = train_X.fillna(train_X.mean())"
   ]
  },
  {
   "cell_type": "code",
   "execution_count": 133,
   "metadata": {},
   "outputs": [
    {
     "data": {
      "text/plain": [
       "BEDRM         0\n",
       "ROOMS         0\n",
       "BATHRM        0\n",
       "KITCHENS      0\n",
       "HF_BATHRM     0\n",
       "FIREPLACES    0\n",
       "NUM_UNITS     0\n",
       "STORIES       0\n",
       "GBA           0\n",
       "AYB           0\n",
       "EYB           0\n",
       "SALE_NUM      0\n",
       "GRADE         0\n",
       "CNDTN         0\n",
       "dtype: int64"
      ]
     },
     "execution_count": 133,
     "metadata": {},
     "output_type": "execute_result"
    }
   ],
   "source": [
    "#Check for missing values again\n",
    "train_X.isnull().sum()"
   ]
  },
  {
   "cell_type": "code",
   "execution_count": 134,
   "metadata": {},
   "outputs": [],
   "source": [
    "#Rescale all variables\n",
    "scaler = pp.MinMaxScaler()\n",
    "col_names = list(train_X)\n",
    "train_X = scaler.fit_transform(train_X)"
   ]
  },
  {
   "cell_type": "code",
   "execution_count": 135,
   "metadata": {},
   "outputs": [],
   "source": [
    "#Turn the scaled variables into a data frame\n",
    "train_X = pd.DataFrame(train_X,columns=col_names)"
   ]
  },
  {
   "cell_type": "markdown",
   "metadata": {},
   "source": [
    "Time to test some different models First, specify a consistent method of cross-fold validation to keep results replicable. Also, define a success metric (in this case, mean squared error). "
   ]
  },
  {
   "cell_type": "code",
   "execution_count": 136,
   "metadata": {},
   "outputs": [],
   "source": [
    "fold_generator = KFold(n_splits=5, shuffle=True,random_state=111)"
   ]
  },
  {
   "cell_type": "code",
   "execution_count": 137,
   "metadata": {},
   "outputs": [],
   "source": [
    "use_metrics = [\"neg_mean_squared_error\"]"
   ]
  },
  {
   "cell_type": "code",
   "execution_count": 138,
   "metadata": {},
   "outputs": [],
   "source": [
    "#Run a linear model\n",
    "lm_scores = cross_validate(LM(),train_X,train_Y, cv = fold_generator, scoring =use_metrics)\n",
    "\n",
    "#Run a K-Nearest Neighbors model\n",
    "knn_scores = cross_validate(KNN(),train_X,train_Y, cv = fold_generator, scoring =use_metrics)\n",
    "\n",
    "#Run a Decision Tree\n",
    "dt_scores = cross_validate(DTree(),train_X,train_Y, cv = fold_generator, scoring =use_metrics)\n",
    "\n",
    "#Run a bagging model\n",
    "bag_scores = cross_validate(Bag(),train_X,train_Y, cv = fold_generator, scoring =use_metrics)\n",
    "\n",
    "#Run a random forest model\n",
    "rf_scores = cross_validate(RF(),train_X,train_Y, cv = fold_generator, scoring =use_metrics)"
   ]
  },
  {
   "cell_type": "markdown",
   "metadata": {},
   "source": [
    "Which model did the best?"
   ]
  },
  {
   "cell_type": "code",
   "execution_count": 145,
   "metadata": {},
   "outputs": [],
   "source": [
    "#Collect all the mean squared errors into a dictionary \n",
    "collect_scores = \\\n",
    "dict(lm = lm_scores['test_neg_mean_squared_error']*-1,\n",
    "     knn = knn_scores['test_neg_mean_squared_error']*-1,\n",
    "     dt = dt_scores['test_neg_mean_squared_error']*-1,\n",
    "     bag = bag_scores['test_neg_mean_squared_error']*-1,\n",
    "     rf = rf_scores['test_neg_mean_squared_error']*-1)\n",
    "\n",
    "#Convert that dictionary into a data frame and make it tidy\n",
    "collect_scores = pd.DataFrame(collect_scores).melt(var_name=\"Model\",value_name=\"MSE\")"
   ]
  },
  {
   "cell_type": "code",
   "execution_count": 146,
   "metadata": {},
   "outputs": [
    {
     "data": {
      "image/png": "[encoded data removed]",
      "text/plain": [
       "<Figure size 960x720 with 1 Axes>"
      ]
     },
     "metadata": {
      "needs_background": "light"
     },
     "output_type": "display_data"
    },
    {
     "data": {
      "text/plain": [
       "<ggplot: (121974095830)>"
      ]
     },
     "execution_count": 146,
     "metadata": {},
     "output_type": "execute_result"
    }
   ],
   "source": [
    "#Order the models by average mean squared error\n",
    "order = (collect_scores.groupby('Model').mean().sort_values(by=\"MSE\").index.tolist())\n",
    "\n",
    "#Show the results as a boxplot\n",
    "(\n",
    "    ggplot(collect_scores,\n",
    "          aes(x=\"Model\",y=\"MSE\")) +\n",
    "    geom_boxplot() +\n",
    "    scale_x_discrete(limits=order) +\n",
    "    labs(x=\"Model\",y=\"Mean Squared Error\") +\n",
    "    coord_flip() +\n",
    "    theme_minimal() +\n",
    "    theme(dpi=150)\n",
    ")"
   ]
  },
  {
   "cell_type": "markdown",
   "metadata": {},
   "source": [
    "At this point, before I do any further tuning of various parameters, the random forest model performs the best of the five models. I am curious as to why the decision tree performed so badly; with an average mean squared error greater than 0.5, it's literally less accurate than flipping a coin.\n",
    "\n",
    "Now, let's see how much more accurate I can make some of these models."
   ]
  },
  {
   "cell_type": "markdown",
   "metadata": {},
   "source": [
    "### Tuning!"
   ]
  },
  {
   "cell_type": "markdown",
   "metadata": {},
   "source": [
    "#### Tune the K-Nearest Neighbors Model"
   ]
  },
  {
   "cell_type": "code",
   "execution_count": 149,
   "metadata": {},
   "outputs": [
    {
     "data": {
      "text/plain": [
       "{'algorithm': 'auto',\n",
       " 'leaf_size': 30,\n",
       " 'metric': 'minkowski',\n",
       " 'metric_params': None,\n",
       " 'n_jobs': None,\n",
       " 'n_neighbors': 5,\n",
       " 'p': 2,\n",
       " 'weights': 'uniform'}"
      ]
     },
     "execution_count": 149,
     "metadata": {},
     "output_type": "execute_result"
    }
   ],
   "source": [
    "#First get the list of parameters for K-Nearest Neighbors\n",
    "KNN().get_params()"
   ]
  },
  {
   "cell_type": "markdown",
   "metadata": {},
   "source": [
    "This is based in nothing but my own thinking, so maybe it's nonsense, but I'm going to try values of K which are related to the size of my data set. There are 43,588 observations in this training data set, so I am going to try values like 44, 88, 132 (approximately 0.001%, 0.002%, and 0.003% of the data set respectively).\n",
    "\n",
    "EDIT: I tried those values, and 44 produced the lowest error. I then reduced the range of K values, and am in the process of determining the optimal value for K for this model and this data.\n",
    "\n",
    "EDIT part 2: I have determined that for this data set and this model, the optimal value for K is 31. Notably, the random forest model outperforms the K nearest neighbors model even when the K value has been optimized."
   ]
  },
  {
   "cell_type": "code",
   "execution_count": 188,
   "metadata": {},
   "outputs": [],
   "source": [
    "knn_tune_params = {'n_neighbors':[28, 29, 30, 31, 32, 33, 34, 35, 36, 37]}"
   ]
  },
  {
   "cell_type": "code",
   "execution_count": 189,
   "metadata": {},
   "outputs": [],
   "source": [
    "#Initialize the GridSearchCV tuner\n",
    "tune_knn = GridSearchCV(KNN(),knn_tune_params,\n",
    "                        cv = fold_generator,\n",
    "                        scoring='neg_mean_squared_error',\n",
    "                        n_jobs=4)"
   ]
  },
  {
   "cell_type": "code",
   "execution_count": 190,
   "metadata": {},
   "outputs": [
    {
     "data": {
      "text/plain": [
       "GridSearchCV(cv=KFold(n_splits=5, random_state=111, shuffle=True),\n",
       "             estimator=KNeighborsRegressor(), n_jobs=4,\n",
       "             param_grid={'n_neighbors': [28, 29, 30, 31, 32, 33, 34, 35, 36,\n",
       "                                         37]},\n",
       "             scoring='neg_mean_squared_error')"
      ]
     },
     "execution_count": 190,
     "metadata": {},
     "output_type": "execute_result"
    }
   ],
   "source": [
    "#Run the model using the new K values\n",
    "tune_knn.fit(train_X,train_y)"
   ]
  },
  {
   "cell_type": "markdown",
   "metadata": {},
   "source": [
    "Which one of these parameters did the best, and how well did it do?"
   ]
  },
  {
   "cell_type": "code",
   "execution_count": 191,
   "metadata": {},
   "outputs": [
    {
     "data": {
      "text/plain": [
       "{'n_neighbors': 31}"
      ]
     },
     "execution_count": 191,
     "metadata": {},
     "output_type": "execute_result"
    }
   ],
   "source": [
    "tune_knn.best_params_"
   ]
  },
  {
   "cell_type": "code",
   "execution_count": 171,
   "metadata": {},
   "outputs": [
    {
     "data": {
      "text/html": [
       "<div>\n",
       "<style scoped>\n",
       "    .dataframe tbody tr th:only-of-type {\n",
       "        vertical-align: middle;\n",
       "    }\n",
       "\n",
       "    .dataframe tbody tr th {\n",
       "        vertical-align: top;\n",
       "    }\n",
       "\n",
       "    .dataframe thead th {\n",
       "        text-align: right;\n",
       "    }\n",
       "</style>\n",
       "<table border=\"1\" class=\"dataframe\">\n",
       "  <thead>\n",
       "    <tr style=\"text-align: right;\">\n",
       "      <th></th>\n",
       "      <th>MSE</th>\n",
       "    </tr>\n",
       "    <tr>\n",
       "      <th>Model</th>\n",
       "      <th></th>\n",
       "    </tr>\n",
       "  </thead>\n",
       "  <tbody>\n",
       "    <tr>\n",
       "      <th>bag</th>\n",
       "      <td>0.297658</td>\n",
       "    </tr>\n",
       "    <tr>\n",
       "      <th>dt</th>\n",
       "      <td>0.508068</td>\n",
       "    </tr>\n",
       "    <tr>\n",
       "      <th>knn</th>\n",
       "      <td>0.315323</td>\n",
       "    </tr>\n",
       "    <tr>\n",
       "      <th>lm</th>\n",
       "      <td>0.341896</td>\n",
       "    </tr>\n",
       "    <tr>\n",
       "      <th>rf</th>\n",
       "      <td>0.274592</td>\n",
       "    </tr>\n",
       "  </tbody>\n",
       "</table>\n",
       "</div>"
      ],
      "text/plain": [
       "            MSE\n",
       "Model          \n",
       "bag    0.297658\n",
       "dt     0.508068\n",
       "knn    0.315323\n",
       "lm     0.341896\n",
       "rf     0.274592"
      ]
     },
     "execution_count": 171,
     "metadata": {},
     "output_type": "execute_result"
    }
   ],
   "source": [
    "#This is a list of the average mean squared errors from before the tuning. If the best score is worse than the original\n",
    "#score for K-Nearest Neighbors, I need to test other values of K.\n",
    "orig_scores = collect_scores.groupby('Model').mean()\n",
    "orig_scores"
   ]
  },
  {
   "cell_type": "code",
   "execution_count": 192,
   "metadata": {},
   "outputs": [
    {
     "data": {
      "text/plain": [
       "-0.2893626344271326"
      ]
     },
     "execution_count": 192,
     "metadata": {},
     "output_type": "execute_result"
    }
   ],
   "source": [
    "tune_knn.best_score_"
   ]
  },
  {
   "cell_type": "markdown",
   "metadata": {},
   "source": [
    "#### Tune the Decision Tree Model"
   ]
  },
  {
   "cell_type": "code",
   "execution_count": 193,
   "metadata": {},
   "outputs": [
    {
     "data": {
      "text/plain": [
       "{'ccp_alpha': 0.0,\n",
       " 'criterion': 'mse',\n",
       " 'max_depth': None,\n",
       " 'max_features': None,\n",
       " 'max_leaf_nodes': None,\n",
       " 'min_impurity_decrease': 0.0,\n",
       " 'min_impurity_split': None,\n",
       " 'min_samples_leaf': 1,\n",
       " 'min_samples_split': 2,\n",
       " 'min_weight_fraction_leaf': 0.0,\n",
       " 'presort': 'deprecated',\n",
       " 'random_state': None,\n",
       " 'splitter': 'best'}"
      ]
     },
     "execution_count": 193,
     "metadata": {},
     "output_type": "execute_result"
    }
   ],
   "source": [
    "#Like before, get the list of parameters\n",
    "DTree().get_params()"
   ]
  },
  {
   "cell_type": "code",
   "execution_count": 194,
   "metadata": {},
   "outputs": [],
   "source": [
    "#Test different depths from 1 to 10\n",
    "tune_dt = GridSearchCV(DTree(),{'max_depth':[i for i in range(10)]},\n",
    "                        cv = fold_generator,\n",
    "                        scoring='neg_mean_squared_error',\n",
    "                        n_jobs=4)"
   ]
  },
  {
   "cell_type": "code",
   "execution_count": 195,
   "metadata": {},
   "outputs": [
    {
     "data": {
      "text/plain": [
       "GridSearchCV(cv=KFold(n_splits=5, random_state=111, shuffle=True),\n",
       "             estimator=DecisionTreeRegressor(), n_jobs=4,\n",
       "             param_grid={'max_depth': [0, 1, 2, 3, 4, 5, 6, 7, 8, 9]},\n",
       "             scoring='neg_mean_squared_error')"
      ]
     },
     "execution_count": 195,
     "metadata": {},
     "output_type": "execute_result"
    }
   ],
   "source": [
    "#Run the tests\n",
    "tune_dt.fit(train_X,train_y)"
   ]
  },
  {
   "cell_type": "code",
   "execution_count": 196,
   "metadata": {},
   "outputs": [
    {
     "data": {
      "text/plain": [
       "{'max_depth': 8}"
      ]
     },
     "execution_count": 196,
     "metadata": {},
     "output_type": "execute_result"
    }
   ],
   "source": [
    "#Figure out which depth level is optimal\n",
    "tune_dt.best_params_"
   ]
  },
  {
   "cell_type": "code",
   "execution_count": 197,
   "metadata": {},
   "outputs": [
    {
     "data": {
      "text/plain": [
       "-0.28819964235068724"
      ]
     },
     "execution_count": 197,
     "metadata": {},
     "output_type": "execute_result"
    }
   ],
   "source": [
    "tune_dt.best_score_"
   ]
  },
  {
   "cell_type": "markdown",
   "metadata": {},
   "source": [
    "Observations at this point: 8 is the optimal depth for the decision tree model for this data, and the mean squared error for a decision tree with a depth level of 8 is actually *less* than the mean squared error for a K-Nearest-Neighbors model with a K value of 31 (the optimal value I found earlier)! The decision tree has now gone from being the least accurate model of these five to the most accurate, just by changing this one parameter to the optimal value. Let's see how the random forest does when it's tuned. "
   ]
  },
  {
   "cell_type": "markdown",
   "metadata": {},
   "source": [
    "#### Tuning the Random Forest Model"
   ]
  },
  {
   "cell_type": "code",
   "execution_count": 198,
   "metadata": {},
   "outputs": [
    {
     "data": {
      "text/plain": [
       "{'bootstrap': True,\n",
       " 'ccp_alpha': 0.0,\n",
       " 'criterion': 'mse',\n",
       " 'max_depth': None,\n",
       " 'max_features': 'auto',\n",
       " 'max_leaf_nodes': None,\n",
       " 'max_samples': None,\n",
       " 'min_impurity_decrease': 0.0,\n",
       " 'min_impurity_split': None,\n",
       " 'min_samples_leaf': 1,\n",
       " 'min_samples_split': 2,\n",
       " 'min_weight_fraction_leaf': 0.0,\n",
       " 'n_estimators': 100,\n",
       " 'n_jobs': None,\n",
       " 'oob_score': False,\n",
       " 'random_state': None,\n",
       " 'verbose': 0,\n",
       " 'warm_start': False}"
      ]
     },
     "execution_count": 198,
     "metadata": {},
     "output_type": "execute_result"
    }
   ],
   "source": [
    "#As before, get the parameter list\n",
    "RF().get_params()"
   ]
  },
  {
   "cell_type": "code",
   "execution_count": 199,
   "metadata": {},
   "outputs": [],
   "source": [
    "#For max features, I changed it to be in accordance with the number of features I am using\n",
    "rf_params = {'max_depth':[1,2,3],\n",
    "             'n_estimators':[100,500,1000],\n",
    "              'max_features': [i for i in range(len(train_X.columns))]} \n",
    "tune_rf = GridSearchCV(RF(),rf_params,\n",
    "                        cv = fold_generator,\n",
    "                        scoring='neg_mean_squared_error',\n",
    "                        n_jobs=4)"
   ]
  },
  {
   "cell_type": "code",
   "execution_count": 229,
   "metadata": {},
   "outputs": [
    {
     "data": {
      "text/plain": [
       "GridSearchCV(cv=KFold(n_splits=5, random_state=111, shuffle=True),\n",
       "             estimator=RandomForestRegressor(), n_jobs=4,\n",
       "             param_grid={'max_depth': [13], 'max_features': [8],\n",
       "                         'n_estimators': [436, 437, 438]},\n",
       "             scoring='neg_mean_squared_error')"
      ]
     },
     "execution_count": 229,
     "metadata": {},
     "output_type": "execute_result"
    }
   ],
   "source": [
    "#Run, forest, run!\n",
    "tune_rf.fit(train_X,train_y) "
   ]
  },
  {
   "cell_type": "code",
   "execution_count": 230,
   "metadata": {},
   "outputs": [
    {
     "data": {
      "text/plain": [
       "{'max_depth': 13, 'max_features': 8, 'n_estimators': 437}"
      ]
     },
     "execution_count": 230,
     "metadata": {},
     "output_type": "execute_result"
    }
   ],
   "source": [
    "tune_rf.best_params_"
   ]
  },
  {
   "cell_type": "code",
   "execution_count": 231,
   "metadata": {},
   "outputs": [
    {
     "data": {
      "text/plain": [
       "-0.25435168654120416"
      ]
     },
     "execution_count": 231,
     "metadata": {},
     "output_type": "execute_result"
    }
   ],
   "source": [
    "tune_rf.best_score_"
   ]
  },
  {
   "cell_type": "markdown",
   "metadata": {},
   "source": [
    "Interestingly, the best values in this test (depth = 3, features = 8, estimators = 500) produced a mean squared error of 0.33809869527227915, which is less accurate than the default one tested above. I'm going to try some different parameters to optimize this model.\n",
    "\n",
    "EDIT 1: A depth of 10, 8 features, and 400 estimators produces a mean squared error of 0.2571681538025678, which is more accurate than any other model so far. Let's see how much further we can optimize.\n",
    "\n",
    "EDIT 2: A depth of 13, 8 features, and 400 estimators produces a mean squared error of 0.2545940945289744.\n",
    "\n",
    "EDIT 3: Ok, the optimal values for the random forest model are a depth of 13, 8 features, and 437 estimators, which produces a mean squared error of 0.25435168654120416. This is more accurate than any other model I have used."
   ]
  },
  {
   "cell_type": "markdown",
   "metadata": {},
   "source": [
    "### Modeling Pipeline"
   ]
  },
  {
   "cell_type": "code",
   "execution_count": 232,
   "metadata": {},
   "outputs": [
    {
     "data": {
      "text/plain": [
       "GridSearchCV(cv=KFold(n_splits=5, random_state=111, shuffle=True),\n",
       "             estimator=Pipeline(steps=[('pre_process',\n",
       "                                        ColumnTransformer(transformers=[('num',\n",
       "                                                                         MinMaxScaler(),\n",
       "                                                                         ['BEDRM',\n",
       "                                                                          'ROOMS',\n",
       "                                                                          'BATHRM',\n",
       "                                                                          'KITCHENS',\n",
       "                                                                          'HF_BATHRM',\n",
       "                                                                          'FIREPLACES',\n",
       "                                                                          'NUM_UNITS',\n",
       "                                                                          'STORIES',\n",
       "                                                                          'GBA',\n",
       "                                                                          'AYB',\n",
       "                                                                          'EYB',\n",
       "                                                                          'SALE_NUM',\n",
       "                                                                          'GRADE',\n",
       "                                                                          'CNDTN'])])),\n",
       "                                       ('model', None)]),\n",
       "             n_jobs=4,\n",
       "             param_grid=[{'model': [LinearReg...ion()]},\n",
       "                         {'model': [KNeighborsRegressor()],\n",
       "                          'model__n_neighbors': [31]},\n",
       "                         {'model': [DecisionTreeRegressor()],\n",
       "                          'model__max_depth': [8]},\n",
       "                         {'model': [BaggingRegressor()]},\n",
       "                         {'model': [RandomForestRegressor(max_depth=13,\n",
       "                                                          max_features=8,\n",
       "                                                          n_estimators=437)],\n",
       "                          'model__max_depth': [13], 'model__max_features': [8],\n",
       "                          'model__n_estimators': [437]}],\n",
       "             scoring='neg_mean_squared_error')"
      ]
     },
     "execution_count": 232,
     "metadata": {},
     "output_type": "execute_result"
    }
   ],
   "source": [
    "#(1) Choose a number of folds and specify a random state\n",
    "fold_generator = KFold(n_splits=5, shuffle=True,random_state=111)\n",
    "\n",
    "#(2) Specify steps to preprocess the data\n",
    "preprocess = ColumnTransformer(transformers=[('num', pp.MinMaxScaler(), ['BEDRM','ROOMS','BATHRM', \n",
    "                                                                         'KITCHENS', 'HF_BATHRM', 'FIREPLACES', \n",
    "                                                                         'NUM_UNITS', 'STORIES', 'GBA', 'AYB', \n",
    "                                                                         'EYB', 'SALE_NUM', 'GRADE', 'CNDTN'])])\n",
    "\n",
    "\n",
    "#(3) Create the model pipe\n",
    "pipe = Pipeline(steps=[('pre_process', preprocess),\n",
    "                       ('model',None)])\n",
    "\n",
    "\n",
    "#(4) Specify the models and their repsective tuning parameters. \n",
    "search_space = [\n",
    "    # Linear Model\n",
    "    {'model' : [LM()]},\n",
    "    \n",
    "    # KNN with K tuning param\n",
    "    {'model' : [KNN()],\n",
    "     'model__n_neighbors':[31]},\n",
    "    \n",
    "    # Decision Tree with the Max Depth Param\n",
    "    {'model': [DTree()],\n",
    "     'model__max_depth':[8]},\n",
    "    \n",
    "    # The Bagging decision tree model \n",
    "    {'model': [Bag()]},\n",
    "    \n",
    "    # Random forest with the N Estimators tuning param\n",
    "    {'model' : [RF()],\n",
    "     'model__max_depth':[13],\n",
    "     'model__max_features':[8],\n",
    "     'model__n_estimators':[437]},\n",
    "]\n",
    "\n",
    "\n",
    "#(5) Combine the search with the pipe\n",
    "search = GridSearchCV(pipe, search_space, \n",
    "                      cv = fold_generator,\n",
    "                      scoring='neg_mean_squared_error',\n",
    "                      n_jobs=4)\n",
    "\n",
    "#(6)Finally, fit the model to the training data\n",
    "search.fit(train_X,train_y)"
   ]
  },
  {
   "cell_type": "code",
   "execution_count": 233,
   "metadata": {},
   "outputs": [
    {
     "data": {
      "text/plain": [
       "-0.2545948670951629"
      ]
     },
     "execution_count": 233,
     "metadata": {},
     "output_type": "execute_result"
    }
   ],
   "source": [
    "#Find the best score:\n",
    "search.best_score_"
   ]
  },
  {
   "cell_type": "code",
   "execution_count": 234,
   "metadata": {},
   "outputs": [
    {
     "data": {
      "text/plain": [
       "{'model': RandomForestRegressor(max_depth=13, max_features=8, n_estimators=437),\n",
       " 'model__max_depth': 13,\n",
       " 'model__max_features': 8,\n",
       " 'model__n_estimators': 437}"
      ]
     },
     "execution_count": 234,
     "metadata": {},
     "output_type": "execute_result"
    }
   ],
   "source": [
    "#Which model does the best?\n",
    "search.best_params_"
   ]
  },
  {
   "cell_type": "markdown",
   "metadata": {},
   "source": [
    "The random forest model is the most accurate. This makes sense given the parameter tuning I did earlier."
   ]
  },
  {
   "cell_type": "markdown",
   "metadata": {},
   "source": [
    "## Run the test data through the pipeline!"
   ]
  },
  {
   "cell_type": "markdown",
   "metadata": {},
   "source": [
    "Now let's see how this works with the test data., First, some pre-pre-processing."
   ]
  },
  {
   "cell_type": "code",
   "execution_count": 235,
   "metadata": {},
   "outputs": [],
   "source": [
    "# Drop all observations where the outcome is missing \n",
    "test = test[~test.LN_PRICE.isna()]\n",
    "\n",
    "# Only houses that are sold\n",
    "test = test[test.LN_PRICE > 0]\n",
    "\n",
    "test_Y = test['LN_PRICE'] #OUTCOME: log selling price\n",
    "test['GBA'] = np.log(test['GBA']) #Log the area for scaling purposes\n",
    "test_X = test[['BEDRM','ROOMS','BATHRM', 'KITCHENS', 'HF_BATHRM', 'FIREPLACES', 'NUM_UNITS', 'STORIES', 'GBA', 'AYB', 'EYB', 'SALE_NUM', 'GRADE', 'CNDTN']] #PREDICTORS: # of Bedrooms, # of Rooms, # of Kitchens, # of Bathrooms"
   ]
  },
  {
   "cell_type": "code",
   "execution_count": 240,
   "metadata": {},
   "outputs": [
    {
     "data": {
      "text/plain": [
       "BEDRM         0\n",
       "ROOMS         2\n",
       "BATHRM        0\n",
       "KITCHENS      0\n",
       "HF_BATHRM     0\n",
       "FIREPLACES    1\n",
       "NUM_UNITS     0\n",
       "STORIES       7\n",
       "GBA           0\n",
       "AYB           1\n",
       "EYB           0\n",
       "SALE_NUM      0\n",
       "GRADE         0\n",
       "CNDTN         0\n",
       "dtype: int64"
      ]
     },
     "execution_count": 240,
     "metadata": {},
     "output_type": "execute_result"
    }
   ],
   "source": [
    "test_X.isnull().sum()"
   ]
  },
  {
   "cell_type": "code",
   "execution_count": 243,
   "metadata": {},
   "outputs": [],
   "source": [
    "test_X = test_X.fillna(test_X.mean())"
   ]
  },
  {
   "cell_type": "code",
   "execution_count": 244,
   "metadata": {},
   "outputs": [
    {
     "data": {
      "text/plain": [
       "BEDRM         0\n",
       "ROOMS         0\n",
       "BATHRM        0\n",
       "KITCHENS      0\n",
       "HF_BATHRM     0\n",
       "FIREPLACES    0\n",
       "NUM_UNITS     0\n",
       "STORIES       0\n",
       "GBA           0\n",
       "AYB           0\n",
       "EYB           0\n",
       "SALE_NUM      0\n",
       "GRADE         0\n",
       "CNDTN         0\n",
       "dtype: int64"
      ]
     },
     "execution_count": 244,
     "metadata": {},
     "output_type": "execute_result"
    }
   ],
   "source": [
    "test_X.isnull().sum()"
   ]
  },
  {
   "cell_type": "markdown",
   "metadata": {},
   "source": [
    "Great, now let's run the test data through the pipeline."
   ]
  },
  {
   "cell_type": "code",
   "execution_count": 246,
   "metadata": {},
   "outputs": [
    {
     "data": {
      "text/plain": [
       "GridSearchCV(cv=KFold(n_splits=5, random_state=111, shuffle=True),\n",
       "             estimator=Pipeline(steps=[('pre_process',\n",
       "                                        ColumnTransformer(transformers=[('num',\n",
       "                                                                         MinMaxScaler(),\n",
       "                                                                         ['BEDRM',\n",
       "                                                                          'ROOMS',\n",
       "                                                                          'BATHRM',\n",
       "                                                                          'KITCHENS',\n",
       "                                                                          'HF_BATHRM',\n",
       "                                                                          'FIREPLACES',\n",
       "                                                                          'NUM_UNITS',\n",
       "                                                                          'STORIES',\n",
       "                                                                          'GBA',\n",
       "                                                                          'AYB',\n",
       "                                                                          'EYB',\n",
       "                                                                          'SALE_NUM',\n",
       "                                                                          'GRADE',\n",
       "                                                                          'CNDTN'])])),\n",
       "                                       ('model', None)]),\n",
       "             n_jobs=4,\n",
       "             param_grid=[{'model': [LinearReg...ion()]},\n",
       "                         {'model': [KNeighborsRegressor()],\n",
       "                          'model__n_neighbors': [31]},\n",
       "                         {'model': [DecisionTreeRegressor()],\n",
       "                          'model__max_depth': [8]},\n",
       "                         {'model': [BaggingRegressor()]},\n",
       "                         {'model': [RandomForestRegressor(max_depth=13,\n",
       "                                                          max_features=8,\n",
       "                                                          n_estimators=437)],\n",
       "                          'model__max_depth': [13], 'model__max_features': [8],\n",
       "                          'model__n_estimators': [437]}],\n",
       "             scoring='neg_mean_squared_error')"
      ]
     },
     "execution_count": 246,
     "metadata": {},
     "output_type": "execute_result"
    }
   ],
   "source": [
    "search.fit(test_X,test_Y)"
   ]
  },
  {
   "cell_type": "markdown",
   "metadata": {},
   "source": [
    "Which model did the best?"
   ]
  },
  {
   "cell_type": "code",
   "execution_count": 247,
   "metadata": {},
   "outputs": [
    {
     "data": {
      "text/plain": [
       "{'model': RandomForestRegressor(max_depth=13, max_features=8, n_estimators=437),\n",
       " 'model__max_depth': 13,\n",
       " 'model__max_features': 8,\n",
       " 'model__n_estimators': 437}"
      ]
     },
     "execution_count": 247,
     "metadata": {},
     "output_type": "execute_result"
    }
   ],
   "source": [
    "search.best_params_"
   ]
  },
  {
   "cell_type": "markdown",
   "metadata": {},
   "source": [
    "The random forest regressor was the most accurate model tested. How accurate was it?"
   ]
  },
  {
   "cell_type": "code",
   "execution_count": 250,
   "metadata": {},
   "outputs": [
    {
     "name": "stdout",
     "output_type": "stream",
     "text": [
      "The Random Forest model produced a mean squared error of 0.259304512253342 when it was applied to the test data.\n"
     ]
    }
   ],
   "source": [
    "print('The Random Forest model produced a mean squared error of', (search.best_score_)*-1, 'when it was applied to the test data.')"
   ]
  }
 ],
 "metadata": {
  "kernelspec": {
   "display_name": "Python 3",
   "language": "python",
   "name": "python3"
  },
  "language_info": {
   "codemirror_mode": {
    "name": "ipython",
    "version": 3
   },
   "file_extension": ".py",
   "mimetype": "text/x-python",
   "name": "python",
   "nbconvert_exporter": "python",
   "pygments_lexer": "ipython3",
   "version": "3.8.3"
  }
 },
 "nbformat": 4,
 "nbformat_minor": 4
}
