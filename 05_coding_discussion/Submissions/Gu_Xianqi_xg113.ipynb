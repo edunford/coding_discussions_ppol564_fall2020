{
 "cells": [
  {
   "cell_type": "code",
   "execution_count": 1,
   "metadata": {},
   "outputs": [],
   "source": [
    "import pandas as pd\n",
    "import numpy as np\n",
    "import pprint as pp \n",
    "import scipy.stats as st \n",
    "\n",
    "# Plotting libraries \n",
    "import matplotlib.pyplot as plt\n",
    "import seaborn as sns\n",
    "from plotnine import *\n",
    "\n",
    "# Silence warnings \n",
    "import warnings\n",
    "warnings.filterwarnings(\"ignore\")\n",
    "\n",
    "from sklearn.naive_bayes import GaussianNB # Classifier \n",
    "import sklearn.metrics as m # Metrics to determine the classification "
   ]
  },
  {
   "cell_type": "markdown",
   "metadata": {},
   "source": [
    "#### Let's first break the data up into a training (1600 entries, 80%) and test dataset (400 entries, 20%) "
   ]
  },
  {
   "cell_type": "code",
   "execution_count": 2,
   "metadata": {},
   "outputs": [],
   "source": [
    "# Set seed\n",
    "np.random.seed(1234)\n",
    "\n",
    "# read in the data file \n",
    "turnout = pd.read_csv('turnout.csv')"
   ]
  },
  {
   "cell_type": "code",
   "execution_count": 3,
   "metadata": {},
   "outputs": [],
   "source": [
    "# train-test split \n",
    "train = turnout.sample(frac = .8).reset_index(drop=True)\n",
    "test = turnout.drop(train.index).reset_index(drop=True)"
   ]
  },
  {
   "cell_type": "code",
   "execution_count": 4,
   "metadata": {},
   "outputs": [
    {
     "name": "stdout",
     "output_type": "stream",
     "text": [
      "Training Data: 1600 \n",
      "Test Data: 400\n"
     ]
    },
    {
     "data": {
      "text/html": [
       "<div>\n",
       "<style scoped>\n",
       "    .dataframe tbody tr th:only-of-type {\n",
       "        vertical-align: middle;\n",
       "    }\n",
       "\n",
       "    .dataframe tbody tr th {\n",
       "        vertical-align: top;\n",
       "    }\n",
       "\n",
       "    .dataframe thead th {\n",
       "        text-align: right;\n",
       "    }\n",
       "</style>\n",
       "<table border=\"1\" class=\"dataframe\">\n",
       "  <thead>\n",
       "    <tr style=\"text-align: right;\">\n",
       "      <th></th>\n",
       "      <th>id</th>\n",
       "      <th>age</th>\n",
       "      <th>educate</th>\n",
       "      <th>income</th>\n",
       "      <th>vote</th>\n",
       "      <th>white</th>\n",
       "    </tr>\n",
       "  </thead>\n",
       "  <tbody>\n",
       "    <tr>\n",
       "      <th>0</th>\n",
       "      <td>1749</td>\n",
       "      <td>78</td>\n",
       "      <td>16.0</td>\n",
       "      <td>1.3131</td>\n",
       "      <td>1</td>\n",
       "      <td>1</td>\n",
       "    </tr>\n",
       "    <tr>\n",
       "      <th>1</th>\n",
       "      <td>935</td>\n",
       "      <td>72</td>\n",
       "      <td>3.0</td>\n",
       "      <td>0.6765</td>\n",
       "      <td>1</td>\n",
       "      <td>0</td>\n",
       "    </tr>\n",
       "    <tr>\n",
       "      <th>2</th>\n",
       "      <td>1034</td>\n",
       "      <td>64</td>\n",
       "      <td>10.0</td>\n",
       "      <td>1.3131</td>\n",
       "      <td>1</td>\n",
       "      <td>1</td>\n",
       "    </tr>\n",
       "    <tr>\n",
       "      <th>3</th>\n",
       "      <td>244</td>\n",
       "      <td>80</td>\n",
       "      <td>8.0</td>\n",
       "      <td>1.1839</td>\n",
       "      <td>1</td>\n",
       "      <td>1</td>\n",
       "    </tr>\n",
       "    <tr>\n",
       "      <th>4</th>\n",
       "      <td>929</td>\n",
       "      <td>19</td>\n",
       "      <td>14.0</td>\n",
       "      <td>2.9072</td>\n",
       "      <td>1</td>\n",
       "      <td>1</td>\n",
       "    </tr>\n",
       "  </tbody>\n",
       "</table>\n",
       "</div>"
      ],
      "text/plain": [
       "     id  age  educate  income  vote  white\n",
       "0  1749   78     16.0  1.3131     1      1\n",
       "1   935   72      3.0  0.6765     1      0\n",
       "2  1034   64     10.0  1.3131     1      1\n",
       "3   244   80      8.0  1.1839     1      1\n",
       "4   929   19     14.0  2.9072     1      1"
      ]
     },
     "execution_count": 4,
     "metadata": {},
     "output_type": "execute_result"
    }
   ],
   "source": [
    "# Print off the split count \n",
    "print(\"Training Data:\",train.shape[0],\n",
    "      \"\\nTest Data:\",test.shape[0])\n",
    "\n",
    "# Look at the head of the data\n",
    "train.head()"
   ]
  },
  {
   "cell_type": "markdown",
   "metadata": {},
   "source": [
    "#### The next step is to build a Naive Bayesian Classifier from scratch that tries to predict whether a respondent will vote in a presidential election or not, pr(Vote==1). We are going to first calculate the probability for people who voted and people who didn't vote. "
   ]
  },
  {
   "cell_type": "code",
   "execution_count": 6,
   "metadata": {},
   "outputs": [
    {
     "name": "stdout",
     "output_type": "stream",
     "text": [
      "\n",
      "Pr(vote = 1): 0.7425\n",
      "Pr(vote = 0): 0.2575\n",
      "\n"
     ]
    }
   ],
   "source": [
    "# Calculate Class Probability \n",
    "N = train.shape[0]\n",
    "\n",
    "# Subset the data by class\n",
    "vote1 = train.query('vote == 1')\n",
    "vote0 = train.query('vote == 0')\n",
    "\n",
    "# Calculate the probability for each class\n",
    "pr_vote1 = vote1.shape[0]/N\n",
    "pr_vote0 = vote0.shape[0]/N\n",
    "\n",
    "# Print the probabilities\n",
    "print(\n",
    "f\"\"\"\n",
    "Pr(vote = 1): {pr_vote1}\n",
    "Pr(vote = 0): {pr_vote0}\n",
    "\"\"\")"
   ]
  },
  {
   "cell_type": "markdown",
   "metadata": {},
   "source": [
    "#### Based on the results, the probability of people who voted in the training dataset is 74.25%. The probability of people who didn't vote in the training dataser is 25.75%. "
   ]
  },
  {
   "cell_type": "markdown",
   "metadata": {},
   "source": [
    "#### Then, we are going to calculate the conditional probabilities for binary predictors given the binary outcome variable 𝑃𝑟( 𝑑𝑎𝑡𝑎 | 𝑐𝑙𝑎𝑠𝑠 ) "
   ]
  },
  {
   "cell_type": "code",
   "execution_count": 7,
   "metadata": {},
   "outputs": [
    {
     "name": "stdout",
     "output_type": "stream",
     "text": [
      "\n",
      "Pr(white = 1 | vote = 1): 0.8686868686868687\n",
      "Pr(white = 0 | vote = 1): 0.13131313131313133\n",
      "Pr(white = 1 | vote = 0): 0.7985436893203883\n",
      "Pr(white = 0 | vote = 0): 0.20145631067961164\n",
      "\n"
     ]
    }
   ],
   "source": [
    "# for people who voted \n",
    "white1_vote1 = vote1.query('white == 1').shape[0]/vote1.shape[0]\n",
    "white0_vote1 = vote1.query('white == 0').shape[0]/vote1.shape[0]\n",
    "\n",
    "# for people who didn't vote \n",
    "white1_vote0 = vote0.query('white == 1').shape[0]/vote0.shape[0]\n",
    "white0_vote0 = vote0.query('white == 0').shape[0]/vote0.shape[0]\n",
    "\n",
    "#print the conditional probabilities \n",
    "print(\n",
    "f\"\"\"\n",
    "Pr(white = 1 | vote = 1): {white1_vote1}\n",
    "Pr(white = 0 | vote = 1): {white0_vote1}\n",
    "Pr(white = 1 | vote = 0): {white1_vote0}\n",
    "Pr(white = 0 | vote = 0): {white0_vote0}\n",
    "\"\"\"\n",
    ")\n"
   ]
  },
  {
   "cell_type": "markdown",
   "metadata": {},
   "source": [
    "#### Based on the conditional probability, for people who voted, 86.87% are white, and 13.13% are not white. For people who didn't vote, 79.85% are white, and 20.15% are not. "
   ]
  },
  {
   "cell_type": "markdown",
   "metadata": {},
   "source": [
    "#### Then, let's move on to build the classifier with the continuous predictors. We are going to use the probability density function for Gaussian (normal) distribution to convert continuous values into probabilities to make predictions. The first step is to collect the mean and standard deviation of each conditional distribution. Let's also include the race indicator since we want to put all the predicators in one graph later. "
   ]
  },
  {
   "cell_type": "code",
   "execution_count": 11,
   "metadata": {},
   "outputs": [
    {
     "name": "stdout",
     "output_type": "stream",
     "text": [
      "{('age', 0): {'mean': 42.601941747572816, 'sd': 19.147825402160812},\n",
      " ('age', 1): {'mean': 46.32491582491583, 'sd': 16.924844588853716},\n",
      " ('educate', 0): {'mean': 10.62864077669903, 'sd': 3.304381091983527},\n",
      " ('educate', 1): {'mean': 12.558922558922559, 'sd': 3.295714127444309},\n",
      " ('income', 0): {'mean': 2.7381618932038836, 'sd': 2.2429913729337625},\n",
      " ('income', 1): {'mean': 4.229461952861947, 'sd': 2.8482089910676964},\n",
      " ('white', 0): {'mean': 0.7985436893203883, 'sd': 0.4015757472901712},\n",
      " ('white', 1): {'mean': 0.8686868686868687, 'sd': 0.3378847322122307}}\n"
     ]
    }
   ],
   "source": [
    "# collect the mean and standard deviation of each conditional distribution\n",
    "dist_locs = \\\n",
    "{\n",
    "    ('age',1):{'mean':vote1.age.mean(),'sd':vote1.age.std()},\n",
    "    ('age',0):{'mean':vote0.age.mean(),'sd':vote0.age.std()},\n",
    "    ('educate',1):{'mean':vote1.educate.mean(),'sd':vote1.educate.std()},\n",
    "    ('educate',0):{'mean':vote0.educate.mean(),'sd':vote0.educate.std()},\n",
    "    ('income',1):{'mean':vote1.income.mean(),'sd':vote1.income.std()},\n",
    "    ('income',0):{'mean':vote0.income.mean(),'sd':vote0.income.std()},\n",
    "    ('white',1):{'mean':vote1.white.mean(),'sd':vote1.white.std()},\n",
    "    ('white',0):{'mean':vote0.white.mean(),'sd':vote0.white.std()}\n",
    "}\n",
    "\n",
    "# print\n",
    "pp.pprint(dist_locs)"
   ]
  },
  {
   "cell_type": "markdown",
   "metadata": {},
   "source": [
    "#### Based on the mean and standard deviation of each conditional distribution, we can observe that the people who are older, more educated, and with higher income tend to vote. There is one thing we need to pay attention to that the standard deviation of age for the whole population in the dataset is higher than that of education level and income level, indicating that the age is less normally distributed and the variation is larger. "
   ]
  },
  {
   "cell_type": "markdown",
   "metadata": {},
   "source": [
    "#### Next, we are going to use the conditonal probability to make a plot. "
   ]
  },
  {
   "cell_type": "code",
   "execution_count": 17,
   "metadata": {},
   "outputs": [
    {
     "data": {
      "image/png": "[encoded data removed]",
      "text/plain": [
       "<Figure size 1500x600 with 1 Axes>"
      ]
     },
     "metadata": {
      "needs_background": "light"
     },
     "output_type": "display_data"
    }
   ],
   "source": [
    "# Plot with seaborn\n",
    "plt.figure(figsize=(10,4),dpi=150)\n",
    "for key in dist_locs.keys():\n",
    "    locs = dist_locs[key]\n",
    "    d = pd.DataFrame([[i,st.norm(locs['mean'], locs['sd']).pdf(i)] \n",
    "                      for i in np.linspace(-10,90)])\n",
    "    ax = sns.lineplot(d[0],d[1],label=f\"{key[0]} where vote = {key[1]}\")"
   ]
  },
  {
   "cell_type": "markdown",
   "metadata": {},
   "source": [
    "#### Now, we visualized all the conditional distributions. Let's create a function to make a prediction of whether people would vote given people's different characteristics "
   ]
  },
  {
   "cell_type": "code",
   "execution_count": 20,
   "metadata": {},
   "outputs": [],
   "source": [
    "def predict(data,dist_locs):\n",
    "    '''\n",
    "    This is a function that predicts which outcome is more likely \n",
    "    for a binary outcome variable given different characteristics\n",
    "    \n",
    "    Args:\n",
    "    It takes in a dataset and a dictionary containing means and standard \n",
    "    deviation of conditional distribution for all the predictors in that dataset \n",
    "    \n",
    "    Returns:\n",
    "    It returns a dataframe that displays the probability of the two possible outcomes \n",
    "    for the binary outcome variables and the predicted result. \n",
    "    '''\n",
    "    \n",
    "    # Create an empty list to store the predictions\n",
    "    store_preds = []\n",
    "    \n",
    "    # Iterate over the dataframe rows as pairs \n",
    "    for i,row in data.iterrows():\n",
    "        \n",
    "        # Get the predictions using a Gaussan distribution\n",
    "        pr_0 = 1; pr_1 = 1\n",
    "        \n",
    "        # for each data point given different characteristics, use the probability density function\n",
    "        # to convert each continuous value into probability and multiply them to get the final probability \n",
    "        for j in range(1,len(row)):\n",
    "            if row.index[j] != \"vote\":\n",
    "                \n",
    "                pr_0 *= st.norm(dist_locs[(row.index[j],0)]['mean'],\n",
    "                                dist_locs[(row.index[j],0)]['sd']).pdf(row.values[j])\n",
    "                pr_1 *= st.norm(dist_locs[(row.index[j],1)]['mean'], \n",
    "                                dist_locs[(row.index[j],1)]['sd']).pdf(row.values[j])\n",
    "            \n",
    "        pr_0 *= pr_vote0\n",
    "        pr_1 *= pr_vote1\n",
    "        \n",
    "        # Assign the class designation to the highest probability\n",
    "        if pr_0 >= pr_1:\n",
    "            class_pred = 0\n",
    "        else:\n",
    "            class_pred = 1\n",
    "            \n",
    "        store_preds.append([pr_0,pr_1,class_pred])\n",
    "        \n",
    "    return pd.DataFrame(store_preds,columns=[\"pr_0\",\"pr_1\",\"pred\"])\n"
   ]
  },
  {
   "cell_type": "markdown",
   "metadata": {},
   "source": [
    "#### Let's use the function with our training dataset to see whether the function works"
   ]
  },
  {
   "cell_type": "code",
   "execution_count": 21,
   "metadata": {},
   "outputs": [
    {
     "data": {
      "text/html": [
       "<div>\n",
       "<style scoped>\n",
       "    .dataframe tbody tr th:only-of-type {\n",
       "        vertical-align: middle;\n",
       "    }\n",
       "\n",
       "    .dataframe tbody tr th {\n",
       "        vertical-align: top;\n",
       "    }\n",
       "\n",
       "    .dataframe thead th {\n",
       "        text-align: right;\n",
       "    }\n",
       "</style>\n",
       "<table border=\"1\" class=\"dataframe\">\n",
       "  <thead>\n",
       "    <tr style=\"text-align: right;\">\n",
       "      <th></th>\n",
       "      <th>pr_0</th>\n",
       "      <th>pr_1</th>\n",
       "      <th>pred</th>\n",
       "    </tr>\n",
       "  </thead>\n",
       "  <tbody>\n",
       "    <tr>\n",
       "      <th>0</th>\n",
       "      <td>3.984875e-06</td>\n",
       "      <td>1.935371e-05</td>\n",
       "      <td>1</td>\n",
       "    </tr>\n",
       "    <tr>\n",
       "      <th>1</th>\n",
       "      <td>2.224761e-07</td>\n",
       "      <td>2.785280e-08</td>\n",
       "      <td>0</td>\n",
       "    </tr>\n",
       "    <tr>\n",
       "      <th>2</th>\n",
       "      <td>4.337782e-05</td>\n",
       "      <td>8.247596e-05</td>\n",
       "      <td>1</td>\n",
       "    </tr>\n",
       "    <tr>\n",
       "      <th>3</th>\n",
       "      <td>8.588786e-06</td>\n",
       "      <td>9.733822e-06</td>\n",
       "      <td>1</td>\n",
       "    </tr>\n",
       "    <tr>\n",
       "      <th>4</th>\n",
       "      <td>2.797497e-05</td>\n",
       "      <td>7.201115e-05</td>\n",
       "      <td>1</td>\n",
       "    </tr>\n",
       "    <tr>\n",
       "      <th>5</th>\n",
       "      <td>2.615106e-06</td>\n",
       "      <td>1.553231e-06</td>\n",
       "      <td>0</td>\n",
       "    </tr>\n",
       "    <tr>\n",
       "      <th>6</th>\n",
       "      <td>5.286035e-05</td>\n",
       "      <td>9.446765e-05</td>\n",
       "      <td>1</td>\n",
       "    </tr>\n",
       "    <tr>\n",
       "      <th>7</th>\n",
       "      <td>1.546110e-05</td>\n",
       "      <td>6.905513e-05</td>\n",
       "      <td>1</td>\n",
       "    </tr>\n",
       "    <tr>\n",
       "      <th>8</th>\n",
       "      <td>3.704909e-05</td>\n",
       "      <td>1.123144e-04</td>\n",
       "      <td>1</td>\n",
       "    </tr>\n",
       "    <tr>\n",
       "      <th>9</th>\n",
       "      <td>3.758902e-05</td>\n",
       "      <td>1.640475e-04</td>\n",
       "      <td>1</td>\n",
       "    </tr>\n",
       "  </tbody>\n",
       "</table>\n",
       "</div>"
      ],
      "text/plain": [
       "           pr_0          pr_1  pred\n",
       "0  3.984875e-06  1.935371e-05     1\n",
       "1  2.224761e-07  2.785280e-08     0\n",
       "2  4.337782e-05  8.247596e-05     1\n",
       "3  8.588786e-06  9.733822e-06     1\n",
       "4  2.797497e-05  7.201115e-05     1\n",
       "5  2.615106e-06  1.553231e-06     0\n",
       "6  5.286035e-05  9.446765e-05     1\n",
       "7  1.546110e-05  6.905513e-05     1\n",
       "8  3.704909e-05  1.123144e-04     1\n",
       "9  3.758902e-05  1.640475e-04     1"
      ]
     },
     "execution_count": 21,
     "metadata": {},
     "output_type": "execute_result"
    }
   ],
   "source": [
    "# Run \n",
    "preds_train = predict(train,dist_locs)\n",
    "\n",
    "# look at the head \n",
    "preds_train.head(10)"
   ]
  },
  {
   "cell_type": "markdown",
   "metadata": {},
   "source": [
    "#### We are also interested in the accuracy of our predictions. Let's examine the predictive accuracy of the training data "
   ]
  },
  {
   "cell_type": "code",
   "execution_count": 22,
   "metadata": {},
   "outputs": [
    {
     "data": {
      "text/plain": [
       "0.725625"
      ]
     },
     "execution_count": 22,
     "metadata": {},
     "output_type": "execute_result"
    }
   ],
   "source": [
    "accuracy_train = sum(train.vote == preds_train.pred)/train.shape[0]\n",
    "accuracy_train"
   ]
  },
  {
   "cell_type": "markdown",
   "metadata": {},
   "source": [
    "#### Let's also try to examine the predictive accuracy of the test data "
   ]
  },
  {
   "cell_type": "code",
   "execution_count": 26,
   "metadata": {},
   "outputs": [
    {
     "data": {
      "text/plain": [
       "0.7125"
      ]
     },
     "execution_count": 26,
     "metadata": {},
     "output_type": "execute_result"
    }
   ],
   "source": [
    "preds_test = predict(test,dist_locs)\n",
    "accuracyTest = sum(test.vote == preds_test.pred)/test.shape[0]\n",
    "accuracyTest"
   ]
  },
  {
   "cell_type": "markdown",
   "metadata": {},
   "source": [
    "#### So, 72.56% of the predictions is accuracy based on the predictive accuracy of the training data. The predictive accuracy of the test data is 0.7125, which is quite high in terms of predictive accuracy. So, this classifier can predict whether a person votes with around 72% accuracy. "
   ]
  },
  {
   "cell_type": "markdown",
   "metadata": {},
   "source": [
    "#### Let's also make a ROC curve to visualize the predictive accuracy "
   ]
  },
  {
   "cell_type": "code",
   "execution_count": 27,
   "metadata": {},
   "outputs": [],
   "source": [
    "# Organize our data real quick so it plugs into the sklearn API easily \n",
    "train_vote = train['vote']\n",
    "train_x = train[['age','educate','income','white']]\n",
    "test_vote = test['vote']\n",
    "test_x = test[['age','educate','income','white']]"
   ]
  },
  {
   "cell_type": "code",
   "execution_count": 28,
   "metadata": {},
   "outputs": [
    {
     "data": {
      "text/plain": [
       "0.7125"
      ]
     },
     "execution_count": 28,
     "metadata": {},
     "output_type": "execute_result"
    }
   ],
   "source": [
    "# Instantiate the model class\n",
    "gnb = GaussianNB()\n",
    "gnb.fit(train_x, train_vote) # Train\n",
    "\n",
    "# Predict \n",
    "vote_pred = gnb.predict(test_x)\n",
    "\n",
    "# Out-of-sample performance \n",
    "m.accuracy_score(test_vote,vote_pred)"
   ]
  },
  {
   "cell_type": "markdown",
   "metadata": {},
   "source": [
    "#### Since we want to generate a ROC curve, we want the model to return probabilities instead of predictions."
   ]
  },
  {
   "cell_type": "code",
   "execution_count": 29,
   "metadata": {},
   "outputs": [
    {
     "data": {
      "text/html": [
       "<div>\n",
       "<style scoped>\n",
       "    .dataframe tbody tr th:only-of-type {\n",
       "        vertical-align: middle;\n",
       "    }\n",
       "\n",
       "    .dataframe tbody tr th {\n",
       "        vertical-align: top;\n",
       "    }\n",
       "\n",
       "    .dataframe thead th {\n",
       "        text-align: right;\n",
       "    }\n",
       "</style>\n",
       "<table border=\"1\" class=\"dataframe\">\n",
       "  <thead>\n",
       "    <tr style=\"text-align: right;\">\n",
       "      <th></th>\n",
       "      <th>0</th>\n",
       "      <th>1</th>\n",
       "    </tr>\n",
       "  </thead>\n",
       "  <tbody>\n",
       "    <tr>\n",
       "      <th>0</th>\n",
       "      <td>0.382004</td>\n",
       "      <td>0.617996</td>\n",
       "    </tr>\n",
       "    <tr>\n",
       "      <th>1</th>\n",
       "      <td>0.089185</td>\n",
       "      <td>0.910815</td>\n",
       "    </tr>\n",
       "    <tr>\n",
       "      <th>2</th>\n",
       "      <td>0.275975</td>\n",
       "      <td>0.724025</td>\n",
       "    </tr>\n",
       "    <tr>\n",
       "      <th>3</th>\n",
       "      <td>0.255162</td>\n",
       "      <td>0.744838</td>\n",
       "    </tr>\n",
       "    <tr>\n",
       "      <th>4</th>\n",
       "      <td>0.036055</td>\n",
       "      <td>0.963945</td>\n",
       "    </tr>\n",
       "    <tr>\n",
       "      <th>...</th>\n",
       "      <td>...</td>\n",
       "      <td>...</td>\n",
       "    </tr>\n",
       "    <tr>\n",
       "      <th>395</th>\n",
       "      <td>0.168330</td>\n",
       "      <td>0.831670</td>\n",
       "    </tr>\n",
       "    <tr>\n",
       "      <th>396</th>\n",
       "      <td>0.274707</td>\n",
       "      <td>0.725293</td>\n",
       "    </tr>\n",
       "    <tr>\n",
       "      <th>397</th>\n",
       "      <td>0.021379</td>\n",
       "      <td>0.978621</td>\n",
       "    </tr>\n",
       "    <tr>\n",
       "      <th>398</th>\n",
       "      <td>0.438499</td>\n",
       "      <td>0.561501</td>\n",
       "    </tr>\n",
       "    <tr>\n",
       "      <th>399</th>\n",
       "      <td>0.351710</td>\n",
       "      <td>0.648290</td>\n",
       "    </tr>\n",
       "  </tbody>\n",
       "</table>\n",
       "<p>400 rows × 2 columns</p>\n",
       "</div>"
      ],
      "text/plain": [
       "            0         1\n",
       "0    0.382004  0.617996\n",
       "1    0.089185  0.910815\n",
       "2    0.275975  0.724025\n",
       "3    0.255162  0.744838\n",
       "4    0.036055  0.963945\n",
       "..        ...       ...\n",
       "395  0.168330  0.831670\n",
       "396  0.274707  0.725293\n",
       "397  0.021379  0.978621\n",
       "398  0.438499  0.561501\n",
       "399  0.351710  0.648290\n",
       "\n",
       "[400 rows x 2 columns]"
      ]
     },
     "execution_count": 29,
     "metadata": {},
     "output_type": "execute_result"
    }
   ],
   "source": [
    "# Generate probabilities \n",
    "probs =  gnb.predict_proba(test_x)\n",
    "\n",
    "# Convert the probabilities into a data frame \n",
    "probs =  pd.DataFrame(probs,columns=gnb.classes_)\n",
    "probs"
   ]
  },
  {
   "cell_type": "code",
   "execution_count": 30,
   "metadata": {},
   "outputs": [],
   "source": [
    "# Generate the False Positive Rate and True Positive Rate Given different thresholds\n",
    "fpr, tpr, thresholds = m.roc_curve(test_vote, probs[1])"
   ]
  },
  {
   "cell_type": "code",
   "execution_count": 31,
   "metadata": {},
   "outputs": [
    {
     "data": {
      "image/png": "[encoded data removed]",
      "text/plain": [
       "<Figure size 700x500 with 1 Axes>"
      ]
     },
     "metadata": {
      "needs_background": "light"
     },
     "output_type": "display_data"
    },
    {
     "data": {
      "text/plain": [
       "<ggplot: (8769787525268)>"
      ]
     },
     "execution_count": 31,
     "metadata": {},
     "output_type": "execute_result"
    }
   ],
   "source": [
    "# Plot the ROC Curve\n",
    "( \n",
    "    ggplot(pd.DataFrame(dict(fpr=fpr,tpr=tpr)),\n",
    "           aes(x=\"fpr\",y=\"tpr\")) +\n",
    "    geom_path(color=\"steelblue\",size=1) +\n",
    "    geom_abline(intercept=0,slope=1,linetype=\"dashed\") +\n",
    "    theme_minimal() +\n",
    "    labs(title=\"ROC Curve\") +\n",
    "    theme(figure_size=(7,5))\n",
    ")"
   ]
  },
  {
   "cell_type": "code",
   "execution_count": 32,
   "metadata": {},
   "outputs": [
    {
     "data": {
      "text/plain": [
       "0.575595238095238"
      ]
     },
     "execution_count": 32,
     "metadata": {},
     "output_type": "execute_result"
    }
   ],
   "source": [
    "# Calculate the AUC score\n",
    "m.roc_auc_score(test_vote,vote_pred)"
   ]
  },
  {
   "cell_type": "markdown",
   "metadata": {},
   "source": [
    "#### The ROC curve does not deviate from the dashed line by a lot, so it can not different true positive and false positive very efficiently. The area under the ROC curve, as suggested by the auc score is 57.5%, which means that it is only a little better than chance (50%)"
   ]
  },
  {
   "cell_type": "markdown",
   "metadata": {},
   "source": [
    "#### Discussion"
   ]
  },
  {
   "cell_type": "markdown",
   "metadata": {},
   "source": [
    "#### The predictive accuracy of our classifier is around 72%, however, the auc is only about 57%. So, our model is just a little bit better than chance. The predictive accuracy is about 0.72, meaning that the classifier can indeed correctly predict the outcome of an observation 72% of the time. So, this model is not perfect but it is better than flip a coin. So, one should be cautious using this model to predict whether a person would vote. "
   ]
  },
  {
   "cell_type": "code",
   "execution_count": null,
   "metadata": {},
   "outputs": [],
   "source": []
  }
 ],
 "metadata": {
  "kernelspec": {
   "display_name": "Python 3",
   "language": "python",
   "name": "python3"
  },
  "language_info": {
   "codemirror_mode": {
    "name": "ipython",
    "version": 3
   },
   "file_extension": ".py",
   "mimetype": "text/x-python",
   "name": "python",
   "nbconvert_exporter": "python",
   "pygments_lexer": "ipython3",
   "version": "3.8.3"
  }
 },
 "nbformat": 4,
 "nbformat_minor": 4
}
