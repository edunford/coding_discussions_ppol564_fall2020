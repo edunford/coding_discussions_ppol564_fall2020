{
 "cells": [
  {
   "cell_type": "code",
   "execution_count": 1,
   "metadata": {},
   "outputs": [],
   "source": [
    "## import packages used in this session \n",
    "import pandas as pd\n",
    "import numpy as np\n",
    "from sklearn.naive_bayes import GaussianNB\n",
    "import sklearn.metrics as m\n",
    "import pprint as pp\n",
    "import scipy.stats as st\n",
    "from plotnine import *\n",
    "# Silence warnings \n",
    "import warnings\n",
    "warnings.filterwarnings(\"ignore\")"
   ]
  },
  {
   "cell_type": "code",
   "execution_count": 2,
   "metadata": {},
   "outputs": [],
   "source": [
    "## import data\n",
    "turnout=pd.read_csv(\"turnout.csv\")"
   ]
  },
  {
   "cell_type": "code",
   "execution_count": 3,
   "metadata": {},
   "outputs": [],
   "source": [
    "## filter and keep relevant columns\n",
    "turnout=turnout.filter([\"age\", \"educate\", \"income\", \"vote\", \"white\"])"
   ]
  },
  {
   "cell_type": "markdown",
   "metadata": {},
   "source": [
    "__Begin by splitting the data into a training and test dataset.__"
   ]
  },
  {
   "cell_type": "code",
   "execution_count": 4,
   "metadata": {},
   "outputs": [
    {
     "name": "stdout",
     "output_type": "stream",
     "text": [
      "1600\n",
      "400\n"
     ]
    }
   ],
   "source": [
    "## split data into training(1600 observations) and test(400 observations)\n",
    "train = turnout.sample(frac=.8).reset_index(drop=True)\n",
    "test = turnout.drop(train.index).reset_index(drop=True)\n",
    "\n",
    "##print shape to confirm split\n",
    "print(train.shape[0])\n",
    "print(test.shape[0])"
   ]
  },
  {
   "cell_type": "markdown",
   "metadata": {},
   "source": [
    "__Then calculate class probabilities: $Pr(class)$__"
   ]
  },
  {
   "cell_type": "code",
   "execution_count": 5,
   "metadata": {},
   "outputs": [
    {
     "name": "stdout",
     "output_type": "stream",
     "text": [
      "0.749375\n",
      "0.250625\n"
     ]
    }
   ],
   "source": [
    "## calculate class probabilities;subset data by class(i.e, voted vs did not vote)\n",
    "vote_1=train.query(\"vote==1\")\n",
    "vote_0=train.query(\"vote==0\")\n",
    "\n",
    "# calculate probability for each class subsetted above\n",
    "pr_vote_1=vote_1.shape[0]/train.shape[0]\n",
    "pr_vote_0=vote_0.shape[0]/train.shape[0]\n",
    "\n",
    "##display probabilities\n",
    "print(pr_vote_1)\n",
    "print(pr_vote_0)"
   ]
  },
  {
   "cell_type": "markdown",
   "metadata": {},
   "source": [
    "__Determine conditional means and standard deviations for the contionous predictors (age, educate, income)__"
   ]
  },
  {
   "cell_type": "code",
   "execution_count": 6,
   "metadata": {},
   "outputs": [
    {
     "name": "stdout",
     "output_type": "stream",
     "text": [
      "{('age', 0): {'mean': 42.71321695760599, 'sd': 18.938586269183645},\n",
      " ('age', 1): {'mean': 46.152627189324434, 'sd': 16.672657863120158},\n",
      " ('educate', 0): {'mean': 10.688279301745636, 'sd': 3.1273131090115474},\n",
      " ('educate', 1): {'mean': 12.623853211009175, 'sd': 3.2619828917057094},\n",
      " ('income', 0): {'mean': 2.859184788029925, 'sd': 2.187211143635431},\n",
      " ('income', 1): {'mean': 4.29256413678065, 'sd': 2.958989953775181}}\n"
     ]
    }
   ],
   "source": [
    "##calculate conditional means and standard deviation for continous predictors (age,educate, income)\n",
    "cond_msdev = \\\n",
    "{(\"age\",1):{'mean':vote_1.age.mean(),'sd':vote_1.age.std()},\n",
    " (\"age\",0):{'mean':vote_0.age.mean(),'sd':vote_0.age.std()},\n",
    " (\"educate\",1):{'mean':vote_1.educate.mean(),'sd':vote_1.educate.std()},\n",
    " (\"educate\",0):{'mean':vote_0.educate.mean(),'sd':vote_0.educate.std()},\n",
    " (\"income\",1):{'mean':vote_1.income.mean(),'sd':vote_1.income.std()},\n",
    " (\"income\",0):{'mean':vote_0.income.mean(),'sd':vote_0.income.std()}\n",
    "}\n",
    "\n",
    "##print conditional means and standard deviation for each continous predictor\n",
    "pp.pprint(cond_msdev)"
   ]
  },
  {
   "cell_type": "markdown",
   "metadata": {},
   "source": [
    "__Use means and standard deviations to determine prediction for when class (i.e, vote)==1 and for when class==0__"
   ]
  },
  {
   "cell_type": "code",
   "execution_count": 7,
   "metadata": {},
   "outputs": [],
   "source": [
    "##generate prediction for when class (i.e, vote)==1\n",
    "age_vote_1=st.norm(cond_msdev[(\"age\",1)]['mean'], cond_msdev[(\"age\",1)]['sd']).pdf(train.age)\n",
    "educ_vote_1=st.norm(cond_msdev[(\"educate\",1)]['mean'], cond_msdev[(\"educate\",1)]['sd']).pdf(train.educate)\n",
    "inc_vote_1=st.norm(cond_msdev[(\"income\",1)]['mean'], cond_msdev[(\"income\",1)]['sd']).pdf(train.income)"
   ]
  },
  {
   "cell_type": "code",
   "execution_count": 8,
   "metadata": {},
   "outputs": [],
   "source": [
    "##generate prediction for when class (i.e, vote)==0\n",
    "age_vote_0=st.norm(cond_msdev[(\"age\",0)]['mean'], cond_msdev[(\"age\",0)]['sd']).pdf(train.age)\n",
    "educ_vote_0=st.norm(cond_msdev[(\"educate\",0)]['mean'], cond_msdev[(\"educate\",0)]['sd']).pdf(train.educate)\n",
    "inc_vote_0=st.norm(cond_msdev[(\"income\",0)]['mean'], cond_msdev[(\"income\",0)]['sd']).pdf(train.income)"
   ]
  },
  {
   "cell_type": "markdown",
   "metadata": {},
   "source": [
    "__Now determine conditional probability for the binary predictor variable (i.e., white) for when the class==1 and for when class==0__"
   ]
  },
  {
   "cell_type": "code",
   "execution_count": 9,
   "metadata": {},
   "outputs": [
    {
     "name": "stdout",
     "output_type": "stream",
     "text": [
      "\n",
      "Pr(white = 1 |vote = 1): 0.878231859883236\n",
      "Pr(white = 0 |vote = 1): 0.12176814011676397\n",
      "Pr(white = 1 |vote = 0): 0.7855361596009975\n",
      "Pr(white = 0 |vote = 0): 0.2144638403990025\n",
      "\n"
     ]
    }
   ],
   "source": [
    "## calculate conditional probability for binary predictor variable (white)\n",
    "#given vote==1\n",
    "white1_vote_1=vote_1.query(\"white==1\").shape[0]/vote_1.shape[0]\n",
    "white0_vote_1=vote_1.query(\"white==0\").shape[0]/vote_1.shape[0]\n",
    "\n",
    "##given vote==0\n",
    "white1_vote_0=vote_0.query(\"white==1\").shape[0]/vote_0.shape[0]\n",
    "white0_vote_0=vote_0.query(\"white==0\").shape[0]/vote_0.shape[0]\n",
    "\n",
    "##print probabilities\n",
    "print(\n",
    "f\"\"\"\n",
    "Pr(white = 1 |vote = 1): {white1_vote_1}\n",
    "Pr(white = 0 |vote = 1): {white0_vote_1}\n",
    "Pr(white = 1 |vote = 0): {white1_vote_0}\n",
    "Pr(white = 0 |vote = 0): {white0_vote_0}\n",
    "\"\"\")"
   ]
  },
  {
   "cell_type": "markdown",
   "metadata": {},
   "source": [
    "__Store conditional probabilities determined above and the class probability into a dataframe__"
   ]
  },
  {
   "cell_type": "code",
   "execution_count": 10,
   "metadata": {},
   "outputs": [],
   "source": [
    "## create a dataframe with the conditional probabilities for the continious predictors \n",
    "df = pd.DataFrame(data=[age_vote_1, educ_vote_1,inc_vote_1,age_vote_0,educ_vote_0,inc_vote_0]).T"
   ]
  },
  {
   "cell_type": "code",
   "execution_count": 11,
   "metadata": {},
   "outputs": [],
   "source": [
    "##rename column headers\n",
    "df.rename(columns={0:'age_vote_1',\n",
    "                          1:'educ_vote_1',\n",
    "                          2:'inc_vote_1',3:'age_vote_0', 4:'educ_vote_0',5:'inc_vote_0'}, \n",
    "                 inplace=True)\n",
    " "
   ]
  },
  {
   "cell_type": "code",
   "execution_count": 12,
   "metadata": {},
   "outputs": [],
   "source": [
    "## add class probability and the conditional proabilities for the binary variable as columns to the dataframe above\n",
    "df=df.assign(white1_vote_1=white1_vote_1, white0_vote_1=white0_vote_1, white1_vote_0=white1_vote_0,white0_vote_0=white0_vote_0,pr_vote_1=pr_vote_1, pr_vote_0=pr_vote_0)"
   ]
  },
  {
   "cell_type": "markdown",
   "metadata": {},
   "source": [
    "__Multiply across columns for when vote==1 and for when vote==2 separately then determine prediction for each observation.__"
   ]
  },
  {
   "cell_type": "code",
   "execution_count": 13,
   "metadata": {},
   "outputs": [],
   "source": [
    "##create column 'pr_1' which will be the probability of vote==1 given conditional probability of our predictors\n",
    "df['pr_1']=df.age_vote_1*df.educ_vote_1*df.inc_vote_1*df.white1_vote_1*df.white0_vote_1*df.pr_vote_1"
   ]
  },
  {
   "cell_type": "code",
   "execution_count": 14,
   "metadata": {},
   "outputs": [],
   "source": [
    "##create column 'pr_0' which will be the probability of vote==0 given conditional probability of our predictors\n",
    "df['pr_0']=df.age_vote_0*df.educ_vote_0*df.inc_vote_0*df.white1_vote_0*df.white0_vote_0*df.pr_vote_0"
   ]
  },
  {
   "cell_type": "code",
   "execution_count": 15,
   "metadata": {},
   "outputs": [],
   "source": [
    "##create new dataframe with just the probabilities of voting and not voting for each observation\n",
    "predic_train=df[['pr_0','pr_1']]"
   ]
  },
  {
   "cell_type": "code",
   "execution_count": 16,
   "metadata": {
    "scrolled": true
   },
   "outputs": [],
   "source": [
    "##create a new column which will represent the class prediction for each observation\n",
    "predic_train.loc[:,'pred'] = np.where(predic_train.loc[:, ('pr_0')]>= predic_train.loc[:, ('pr_1')], 0, 1)"
   ]
  },
  {
   "cell_type": "code",
   "execution_count": 17,
   "metadata": {},
   "outputs": [
    {
     "data": {
      "text/html": [
       "<div>\n",
       "<style scoped>\n",
       "    .dataframe tbody tr th:only-of-type {\n",
       "        vertical-align: middle;\n",
       "    }\n",
       "\n",
       "    .dataframe tbody tr th {\n",
       "        vertical-align: top;\n",
       "    }\n",
       "\n",
       "    .dataframe thead th {\n",
       "        text-align: right;\n",
       "    }\n",
       "</style>\n",
       "<table border=\"1\" class=\"dataframe\">\n",
       "  <thead>\n",
       "    <tr style=\"text-align: right;\">\n",
       "      <th></th>\n",
       "      <th>pr_0</th>\n",
       "      <th>pr_1</th>\n",
       "      <th>pred</th>\n",
       "    </tr>\n",
       "  </thead>\n",
       "  <tbody>\n",
       "    <tr>\n",
       "      <th>0</th>\n",
       "      <td>1.750521e-05</td>\n",
       "      <td>0.000017</td>\n",
       "      <td>0</td>\n",
       "    </tr>\n",
       "    <tr>\n",
       "      <th>1</th>\n",
       "      <td>9.621687e-06</td>\n",
       "      <td>0.000012</td>\n",
       "      <td>1</td>\n",
       "    </tr>\n",
       "    <tr>\n",
       "      <th>2</th>\n",
       "      <td>9.858471e-06</td>\n",
       "      <td>0.000020</td>\n",
       "      <td>1</td>\n",
       "    </tr>\n",
       "    <tr>\n",
       "      <th>3</th>\n",
       "      <td>5.223955e-06</td>\n",
       "      <td>0.000003</td>\n",
       "      <td>0</td>\n",
       "    </tr>\n",
       "    <tr>\n",
       "      <th>4</th>\n",
       "      <td>6.933563e-06</td>\n",
       "      <td>0.000006</td>\n",
       "      <td>0</td>\n",
       "    </tr>\n",
       "    <tr>\n",
       "      <th>...</th>\n",
       "      <td>...</td>\n",
       "      <td>...</td>\n",
       "      <td>...</td>\n",
       "    </tr>\n",
       "    <tr>\n",
       "      <th>1595</th>\n",
       "      <td>3.079873e-09</td>\n",
       "      <td>0.000001</td>\n",
       "      <td>1</td>\n",
       "    </tr>\n",
       "    <tr>\n",
       "      <th>1596</th>\n",
       "      <td>1.029795e-05</td>\n",
       "      <td>0.000022</td>\n",
       "      <td>1</td>\n",
       "    </tr>\n",
       "    <tr>\n",
       "      <th>1597</th>\n",
       "      <td>1.786790e-05</td>\n",
       "      <td>0.000022</td>\n",
       "      <td>1</td>\n",
       "    </tr>\n",
       "    <tr>\n",
       "      <th>1598</th>\n",
       "      <td>1.121832e-05</td>\n",
       "      <td>0.000015</td>\n",
       "      <td>1</td>\n",
       "    </tr>\n",
       "    <tr>\n",
       "      <th>1599</th>\n",
       "      <td>2.156483e-06</td>\n",
       "      <td>0.000013</td>\n",
       "      <td>1</td>\n",
       "    </tr>\n",
       "  </tbody>\n",
       "</table>\n",
       "<p>1600 rows × 3 columns</p>\n",
       "</div>"
      ],
      "text/plain": [
       "              pr_0      pr_1  pred\n",
       "0     1.750521e-05  0.000017     0\n",
       "1     9.621687e-06  0.000012     1\n",
       "2     9.858471e-06  0.000020     1\n",
       "3     5.223955e-06  0.000003     0\n",
       "4     6.933563e-06  0.000006     0\n",
       "...            ...       ...   ...\n",
       "1595  3.079873e-09  0.000001     1\n",
       "1596  1.029795e-05  0.000022     1\n",
       "1597  1.786790e-05  0.000022     1\n",
       "1598  1.121832e-05  0.000015     1\n",
       "1599  2.156483e-06  0.000013     1\n",
       "\n",
       "[1600 rows x 3 columns]"
      ]
     },
     "execution_count": 17,
     "metadata": {},
     "output_type": "execute_result"
    }
   ],
   "source": [
    "##disply dataframe\n",
    "predic_train"
   ]
  },
  {
   "cell_type": "code",
   "execution_count": 18,
   "metadata": {},
   "outputs": [
    {
     "data": {
      "text/plain": [
       "0.714375"
      ]
     },
     "execution_count": 18,
     "metadata": {},
     "output_type": "execute_result"
    }
   ],
   "source": [
    "## determine accuracy of predictions \n",
    "accuracy_train = sum(train.vote == predic_train.pred)/train.shape[0]\n",
    "accuracy_train"
   ]
  },
  {
   "cell_type": "markdown",
   "metadata": {},
   "source": [
    "__Repeat the steps above for the test data and determine predictive accuracy.__"
   ]
  },
  {
   "cell_type": "code",
   "execution_count": 19,
   "metadata": {},
   "outputs": [],
   "source": [
    "## calculate class probabilities;subset data by class(i.e, voted vs did not vote)\n",
    "vote_1=test.query(\"vote==1\")\n",
    "vote_0=test.query(\"vote==0\")\n",
    "\n",
    "# calculate probability for each class subsetted above\n",
    "pr_vote_1=vote_1.shape[0]/test.shape[0]\n",
    "pr_vote_0=vote_0.shape[0]/test.shape[0]"
   ]
  },
  {
   "cell_type": "code",
   "execution_count": 20,
   "metadata": {},
   "outputs": [],
   "source": [
    "##calculate conditional means and standard deviation for continous predictors (age,educate, income)\n",
    "cond_msdev = \\\n",
    "{(\"age\",1):{'mean':vote_1.age.mean(),'sd':vote_1.age.std()},\n",
    " (\"age\",0):{'mean':vote_0.age.mean(),'sd':vote_0.age.std()},\n",
    " (\"educate\",1):{'mean':vote_1.educate.mean(),'sd':vote_1.educate.std()},\n",
    " (\"educate\",0):{'mean':vote_0.educate.mean(),'sd':vote_0.educate.std()},\n",
    " (\"income\",1):{'mean':vote_1.income.mean(),'sd':vote_1.income.std()},\n",
    " (\"income\",0):{'mean':vote_0.income.mean(),'sd':vote_0.income.std()}\n",
    "}"
   ]
  },
  {
   "cell_type": "code",
   "execution_count": 21,
   "metadata": {},
   "outputs": [],
   "source": [
    "##generate prediction for when class (i.e, vote)==1\n",
    "age_vote_1=st.norm(cond_msdev[(\"age\",1)]['mean'], cond_msdev[(\"age\",1)]['sd']).pdf(test.age)\n",
    "educ_vote_1=st.norm(cond_msdev[(\"educate\",1)]['mean'], cond_msdev[(\"educate\",1)]['sd']).pdf(test.educate)\n",
    "inc_vote_1=st.norm(cond_msdev[(\"income\",1)]['mean'], cond_msdev[(\"income\",1)]['sd']).pdf(test.income)"
   ]
  },
  {
   "cell_type": "code",
   "execution_count": 22,
   "metadata": {},
   "outputs": [],
   "source": [
    "##generate prediction for when class (i.e, vote)==0\n",
    "age_vote_0=st.norm(cond_msdev[(\"age\",0)]['mean'], cond_msdev[(\"age\",0)]['sd']).pdf(test.age)\n",
    "educ_vote_0=st.norm(cond_msdev[(\"educate\",0)]['mean'], cond_msdev[(\"educate\",0)]['sd']).pdf(test.educate)\n",
    "inc_vote_0=st.norm(cond_msdev[(\"income\",0)]['mean'], cond_msdev[(\"income\",0)]['sd']).pdf(test.income)"
   ]
  },
  {
   "cell_type": "code",
   "execution_count": 23,
   "metadata": {},
   "outputs": [],
   "source": [
    "## calculate conditional probability for binary predictor variable (white)\n",
    "#given vote==1\n",
    "white1_vote_1=vote_1.query(\"white==1\").shape[0]/vote_1.shape[0]\n",
    "white0_vote_1=vote_1.query(\"white==0\").shape[0]/vote_1.shape[0]\n",
    "\n",
    "##given vote==0\n",
    "white1_vote_0=vote_0.query(\"white==1\").shape[0]/vote_0.shape[0]\n",
    "white0_vote_0=vote_0.query(\"white==0\").shape[0]/vote_0.shape[0]"
   ]
  },
  {
   "cell_type": "code",
   "execution_count": 24,
   "metadata": {},
   "outputs": [],
   "source": [
    "## create a dataframe with the conditional probabilities for the continious predictors \n",
    "df_test = pd.DataFrame(data=[age_vote_1, educ_vote_1,inc_vote_1,age_vote_0,educ_vote_0,inc_vote_0]).T"
   ]
  },
  {
   "cell_type": "code",
   "execution_count": 25,
   "metadata": {},
   "outputs": [],
   "source": [
    "##rename column headers\n",
    "df_test.rename(columns={0:'age_vote_1',\n",
    "                          1:'educ_vote_1',\n",
    "                          2:'inc_vote_1',3:'age_vote_0', 4:'educ_vote_0',5:'inc_vote_0'}, \n",
    "                 inplace=True)\n",
    " "
   ]
  },
  {
   "cell_type": "code",
   "execution_count": 26,
   "metadata": {},
   "outputs": [],
   "source": [
    "## add class probability and the conditional proabilities for the binary variable as columns to the dataframe above\n",
    "df_test=df_test.assign(white1_vote_1=white1_vote_1, white0_vote_1=white0_vote_1, \n",
    "             white1_vote_0=white1_vote_0,white0_vote_0=white0_vote_0,pr_vote_1=pr_vote_1, pr_vote_0=pr_vote_0)"
   ]
  },
  {
   "cell_type": "code",
   "execution_count": 27,
   "metadata": {},
   "outputs": [],
   "source": [
    "##create column 'pr_1' which will be the probability of vote==1 given conditional probability of our predictors\n",
    "df_test['pr_1']=df_test.age_vote_1*df_test.educ_vote_1*df_test.inc_vote_1*df_test.white1_vote_1*df_test.white0_vote_1*df_test.pr_vote_1"
   ]
  },
  {
   "cell_type": "code",
   "execution_count": 28,
   "metadata": {},
   "outputs": [],
   "source": [
    "##create column 'pr_0' which will be the probability of vote==0 given conditional probability of our predictors\n",
    "df_test['pr_0']=df_test.age_vote_0*df_test.educ_vote_0*df_test.inc_vote_0*df_test.white1_vote_0*df_test.white0_vote_0*df_test.pr_vote_0"
   ]
  },
  {
   "cell_type": "code",
   "execution_count": 29,
   "metadata": {},
   "outputs": [],
   "source": [
    "##create new dataframe with just the probabilities of voting and not voting for each observation\n",
    "predic_test=df_test[['pr_0','pr_1']]"
   ]
  },
  {
   "cell_type": "code",
   "execution_count": 30,
   "metadata": {},
   "outputs": [],
   "source": [
    "##create a new column which will represent the class prediction for each observation\n",
    "predic_test.loc[:,'pred'] = np.where(predic_test.loc[:, ('pr_0')]>= predic_test.loc[:, ('pr_1')], 0, 1)"
   ]
  },
  {
   "cell_type": "code",
   "execution_count": 31,
   "metadata": {},
   "outputs": [
    {
     "data": {
      "text/html": [
       "<div>\n",
       "<style scoped>\n",
       "    .dataframe tbody tr th:only-of-type {\n",
       "        vertical-align: middle;\n",
       "    }\n",
       "\n",
       "    .dataframe tbody tr th {\n",
       "        vertical-align: top;\n",
       "    }\n",
       "\n",
       "    .dataframe thead th {\n",
       "        text-align: right;\n",
       "    }\n",
       "</style>\n",
       "<table border=\"1\" class=\"dataframe\">\n",
       "  <thead>\n",
       "    <tr style=\"text-align: right;\">\n",
       "      <th></th>\n",
       "      <th>pr_0</th>\n",
       "      <th>pr_1</th>\n",
       "      <th>pred</th>\n",
       "    </tr>\n",
       "  </thead>\n",
       "  <tbody>\n",
       "    <tr>\n",
       "      <th>0</th>\n",
       "      <td>3.624464e-06</td>\n",
       "      <td>0.000011</td>\n",
       "      <td>1</td>\n",
       "    </tr>\n",
       "    <tr>\n",
       "      <th>1</th>\n",
       "      <td>4.218041e-06</td>\n",
       "      <td>0.000020</td>\n",
       "      <td>1</td>\n",
       "    </tr>\n",
       "    <tr>\n",
       "      <th>2</th>\n",
       "      <td>7.454563e-06</td>\n",
       "      <td>0.000007</td>\n",
       "      <td>0</td>\n",
       "    </tr>\n",
       "    <tr>\n",
       "      <th>3</th>\n",
       "      <td>1.716543e-05</td>\n",
       "      <td>0.000020</td>\n",
       "      <td>1</td>\n",
       "    </tr>\n",
       "    <tr>\n",
       "      <th>4</th>\n",
       "      <td>2.581510e-07</td>\n",
       "      <td>0.000005</td>\n",
       "      <td>1</td>\n",
       "    </tr>\n",
       "    <tr>\n",
       "      <th>...</th>\n",
       "      <td>...</td>\n",
       "      <td>...</td>\n",
       "      <td>...</td>\n",
       "    </tr>\n",
       "    <tr>\n",
       "      <th>395</th>\n",
       "      <td>3.342533e-06</td>\n",
       "      <td>0.000008</td>\n",
       "      <td>1</td>\n",
       "    </tr>\n",
       "    <tr>\n",
       "      <th>396</th>\n",
       "      <td>1.795351e-05</td>\n",
       "      <td>0.000019</td>\n",
       "      <td>1</td>\n",
       "    </tr>\n",
       "    <tr>\n",
       "      <th>397</th>\n",
       "      <td>2.487277e-07</td>\n",
       "      <td>0.000008</td>\n",
       "      <td>1</td>\n",
       "    </tr>\n",
       "    <tr>\n",
       "      <th>398</th>\n",
       "      <td>1.163802e-05</td>\n",
       "      <td>0.000006</td>\n",
       "      <td>0</td>\n",
       "    </tr>\n",
       "    <tr>\n",
       "      <th>399</th>\n",
       "      <td>9.341361e-06</td>\n",
       "      <td>0.000006</td>\n",
       "      <td>0</td>\n",
       "    </tr>\n",
       "  </tbody>\n",
       "</table>\n",
       "<p>400 rows × 3 columns</p>\n",
       "</div>"
      ],
      "text/plain": [
       "             pr_0      pr_1  pred\n",
       "0    3.624464e-06  0.000011     1\n",
       "1    4.218041e-06  0.000020     1\n",
       "2    7.454563e-06  0.000007     0\n",
       "3    1.716543e-05  0.000020     1\n",
       "4    2.581510e-07  0.000005     1\n",
       "..            ...       ...   ...\n",
       "395  3.342533e-06  0.000008     1\n",
       "396  1.795351e-05  0.000019     1\n",
       "397  2.487277e-07  0.000008     1\n",
       "398  1.163802e-05  0.000006     0\n",
       "399  9.341361e-06  0.000006     0\n",
       "\n",
       "[400 rows x 3 columns]"
      ]
     },
     "execution_count": 31,
     "metadata": {},
     "output_type": "execute_result"
    }
   ],
   "source": [
    "##disply dataframe\n",
    "predic_test"
   ]
  },
  {
   "cell_type": "code",
   "execution_count": 32,
   "metadata": {},
   "outputs": [
    {
     "data": {
      "text/plain": [
       "0.68"
      ]
     },
     "execution_count": 32,
     "metadata": {},
     "output_type": "execute_result"
    }
   ],
   "source": [
    "## determine predictive accuracy \n",
    "accuracy_test = sum(test.vote == predic_test.pred)/test.shape[0]\n",
    "accuracy_test"
   ]
  },
  {
   "cell_type": "markdown",
   "metadata": {},
   "source": [
    "The predictive accuracy on the training data is 70.75% while the predictive accuracy on the test data is 68%. The classifier preformed better on the training data than the test data."
   ]
  },
  {
   "cell_type": "markdown",
   "metadata": {},
   "source": [
    "__Use the sklearn.metrics library to calculate the predictive accuracy and the area underneath the ROC curve.__"
   ]
  },
  {
   "cell_type": "code",
   "execution_count": 33,
   "metadata": {},
   "outputs": [],
   "source": [
    "# Organize data so it plugs into the sklearn API easily \n",
    "train_vote = train['vote']\n",
    "train_x = train[['age','educate','income','white']]\n",
    "test_vote = test['vote']\n",
    "test_x = test[['age','educate','income','white']]"
   ]
  },
  {
   "cell_type": "code",
   "execution_count": 34,
   "metadata": {},
   "outputs": [
    {
     "data": {
      "text/plain": [
       "0.705"
      ]
     },
     "execution_count": 34,
     "metadata": {},
     "output_type": "execute_result"
    }
   ],
   "source": [
    "# Instantiate the model class\n",
    "gnb = GaussianNB()\n",
    "gnb.fit(train_x, train_vote) # Train\n",
    "\n",
    "# Predict \n",
    "y_pred = gnb.predict(test_x)\n",
    "\n",
    "#determine predictive accuracy \n",
    "m.accuracy_score(test_vote,y_pred)"
   ]
  },
  {
   "cell_type": "code",
   "execution_count": 35,
   "metadata": {},
   "outputs": [
    {
     "data": {
      "text/plain": [
       "0.5654761904761905"
      ]
     },
     "execution_count": 35,
     "metadata": {},
     "output_type": "execute_result"
    }
   ],
   "source": [
    "##area under ROC curve\n",
    "m.roc_auc_score(test_vote,y_pred)"
   ]
  },
  {
   "cell_type": "markdown",
   "metadata": {},
   "source": [
    "__Generate a ROC curve plot.__"
   ]
  },
  {
   "cell_type": "code",
   "execution_count": 36,
   "metadata": {},
   "outputs": [
    {
     "data": {
      "text/html": [
       "<div>\n",
       "<style scoped>\n",
       "    .dataframe tbody tr th:only-of-type {\n",
       "        vertical-align: middle;\n",
       "    }\n",
       "\n",
       "    .dataframe tbody tr th {\n",
       "        vertical-align: top;\n",
       "    }\n",
       "\n",
       "    .dataframe thead th {\n",
       "        text-align: right;\n",
       "    }\n",
       "</style>\n",
       "<table border=\"1\" class=\"dataframe\">\n",
       "  <thead>\n",
       "    <tr style=\"text-align: right;\">\n",
       "      <th></th>\n",
       "      <th>0</th>\n",
       "      <th>1</th>\n",
       "    </tr>\n",
       "  </thead>\n",
       "  <tbody>\n",
       "    <tr>\n",
       "      <th>0</th>\n",
       "      <td>0.467087</td>\n",
       "      <td>0.532913</td>\n",
       "    </tr>\n",
       "    <tr>\n",
       "      <th>1</th>\n",
       "      <td>0.088575</td>\n",
       "      <td>0.911425</td>\n",
       "    </tr>\n",
       "    <tr>\n",
       "      <th>2</th>\n",
       "      <td>0.260945</td>\n",
       "      <td>0.739055</td>\n",
       "    </tr>\n",
       "    <tr>\n",
       "      <th>3</th>\n",
       "      <td>0.256942</td>\n",
       "      <td>0.743058</td>\n",
       "    </tr>\n",
       "    <tr>\n",
       "      <th>4</th>\n",
       "      <td>0.030675</td>\n",
       "      <td>0.969325</td>\n",
       "    </tr>\n",
       "    <tr>\n",
       "      <th>...</th>\n",
       "      <td>...</td>\n",
       "      <td>...</td>\n",
       "    </tr>\n",
       "    <tr>\n",
       "      <th>395</th>\n",
       "      <td>0.151735</td>\n",
       "      <td>0.848265</td>\n",
       "    </tr>\n",
       "    <tr>\n",
       "      <th>396</th>\n",
       "      <td>0.274367</td>\n",
       "      <td>0.725633</td>\n",
       "    </tr>\n",
       "    <tr>\n",
       "      <th>397</th>\n",
       "      <td>0.017136</td>\n",
       "      <td>0.982864</td>\n",
       "    </tr>\n",
       "    <tr>\n",
       "      <th>398</th>\n",
       "      <td>0.438406</td>\n",
       "      <td>0.561594</td>\n",
       "    </tr>\n",
       "    <tr>\n",
       "      <th>399</th>\n",
       "      <td>0.331285</td>\n",
       "      <td>0.668715</td>\n",
       "    </tr>\n",
       "  </tbody>\n",
       "</table>\n",
       "<p>400 rows × 2 columns</p>\n",
       "</div>"
      ],
      "text/plain": [
       "            0         1\n",
       "0    0.467087  0.532913\n",
       "1    0.088575  0.911425\n",
       "2    0.260945  0.739055\n",
       "3    0.256942  0.743058\n",
       "4    0.030675  0.969325\n",
       "..        ...       ...\n",
       "395  0.151735  0.848265\n",
       "396  0.274367  0.725633\n",
       "397  0.017136  0.982864\n",
       "398  0.438406  0.561594\n",
       "399  0.331285  0.668715\n",
       "\n",
       "[400 rows x 2 columns]"
      ]
     },
     "execution_count": 36,
     "metadata": {},
     "output_type": "execute_result"
    }
   ],
   "source": [
    "##First, we need the model to return probabilities not predictions. \n",
    "probs = gnb.predict_proba(test_x)\n",
    "probs =  pd.DataFrame(probs,columns=gnb.classes_)\n",
    "probs"
   ]
  },
  {
   "cell_type": "code",
   "execution_count": 37,
   "metadata": {},
   "outputs": [],
   "source": [
    "# Generate the False Positive Rate and True Positive Rate Given different thresholds\n",
    "fpr, tpr, thresholds = m.roc_curve(test_vote, probs[1])"
   ]
  },
  {
   "cell_type": "code",
   "execution_count": 38,
   "metadata": {},
   "outputs": [
    {
     "data": {
      "image/png": "[encoded data removed]",
      "text/plain": [
       "<Figure size 700x500 with 1 Axes>"
      ]
     },
     "metadata": {
      "needs_background": "light"
     },
     "output_type": "display_data"
    },
    {
     "data": {
      "text/plain": [
       "<ggplot: (8784112422684)>"
      ]
     },
     "execution_count": 38,
     "metadata": {},
     "output_type": "execute_result"
    }
   ],
   "source": [
    "# Plot the ROC Curve\n",
    "( \n",
    "    ggplot(pd.DataFrame(dict(fpr=fpr,tpr=tpr)),\n",
    "           aes(x=\"fpr\",y=\"tpr\")) +\n",
    "    geom_path(color=\"green\",size=1) +\n",
    "    geom_abline(intercept=0,slope=1,linetype=\"dashed\") +\n",
    "    theme_minimal() +\n",
    "    labs(title=\"ROC Curve\") +\n",
    "    theme(figure_size=(7,5))\n",
    ")"
   ]
  },
  {
   "cell_type": "markdown",
   "metadata": {},
   "source": [
    "Based on the sklearn metrics, the predictive accuracy is approximately 70%. This means that our model will predict whether or not a person voted (given the predictors we have) about 70% of the time. Additionally, the sklearn metrics calculates the AUC to be approximately 0.56--this means this model performs relatively better than a coin flip."
   ]
  }
 ],
 "metadata": {
  "kernelspec": {
   "display_name": "Python 3",
   "language": "python",
   "name": "python3"
  },
  "language_info": {
   "codemirror_mode": {
    "name": "ipython",
    "version": 3
   },
   "file_extension": ".py",
   "mimetype": "text/x-python",
   "name": "python",
   "nbconvert_exporter": "python",
   "pygments_lexer": "ipython3",
   "version": "3.8.3"
  }
 },
 "nbformat": 4,
 "nbformat_minor": 4
}
