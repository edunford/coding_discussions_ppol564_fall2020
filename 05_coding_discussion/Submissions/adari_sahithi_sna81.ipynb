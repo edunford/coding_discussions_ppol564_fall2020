{
 "cells": [
  {
   "cell_type": "markdown",
   "metadata": {},
   "source": [
    "# Coding Discussion No. 5\n",
    "## Name: Sahithi Adari\n",
    "### Date: 11/08/20"
   ]
  },
  {
   "cell_type": "code",
   "execution_count": 2,
   "metadata": {},
   "outputs": [],
   "source": [
    "import pandas as pd\n",
    "import numpy as np\n",
    "\n",
    "# Plotting libraries\n",
    "import matplotlib.pyplot as plt\n",
    "from plotnine import *\n",
    "\n",
    "# Silence warnings\n",
    "import warnings\n",
    "warnings.filterwarnings(\"ignore\")\n",
    "\n",
    "from sklearn.naive_bayes import GaussianNB\n",
    "import sklearn.metrics as m"
   ]
  },
  {
   "cell_type": "code",
   "execution_count": 3,
   "metadata": {},
   "outputs": [],
   "source": [
    "#Reading & renaming the CVS file and dropping the 'id' column\n",
    "turnout = pd.read_csv(\"turnout.csv\")\n",
    "turnout = turnout.drop(['id'], axis = 1)"
   ]
  },
  {
   "cell_type": "code",
   "execution_count": 4,
   "metadata": {},
   "outputs": [],
   "source": [
    "#Taking a random sample of 1600 rows and rearranging the columns\n",
    "training = turnout.sample(n=1600).reset_index(drop = True)\n",
    "training = training[['vote', 'white', 'age', 'educate', 'income']]"
   ]
  },
  {
   "cell_type": "code",
   "execution_count": 5,
   "metadata": {},
   "outputs": [],
   "source": [
    "#Saving the remaining 400 rows and rearranging the columns\n",
    "test = pd.concat([turnout,training]).drop_duplicates(keep=False).reset_index(drop = True)\n",
    "test = test[['vote', 'white', 'age', 'educate', 'income']]"
   ]
  },
  {
   "cell_type": "markdown",
   "metadata": {},
   "source": [
    "In this next section I decided to plot the 3 continuous variables (“educate”, “income”, and “age”) in order to determine their respective distributions."
   ]
  },
  {
   "cell_type": "code",
   "execution_count": 6,
   "metadata": {},
   "outputs": [
    {
     "data": {
      "text/plain": [
       "(array([208., 304., 275., 194., 176., 170., 115.,  96.,  53.,   9.]),\n",
       " array([18. , 25.7, 33.4, 41.1, 48.8, 56.5, 64.2, 71.9, 79.6, 87.3, 95. ]),\n",
       " <BarContainer object of 10 artists>)"
      ]
     },
     "execution_count": 6,
     "metadata": {},
     "output_type": "execute_result"
    },
    {
     "data": {
      "image/png": "[encoded data removed]",
      "text/plain": [
       "<Figure size 432x288 with 1 Axes>"
      ]
     },
     "metadata": {
      "needs_background": "light"
     },
     "output_type": "display_data"
    }
   ],
   "source": [
    "#Histogram of age\n",
    "plt.hist(training.age)"
   ]
  },
  {
   "cell_type": "code",
   "execution_count": 7,
   "metadata": {},
   "outputs": [
    {
     "data": {
      "text/plain": [
       "(array([ 11.,  13.,  34.,  65., 179., 168., 643., 196., 207.,  84.]),\n",
       " array([ 0. ,  1.9,  3.8,  5.7,  7.6,  9.5, 11.4, 13.3, 15.2, 17.1, 19. ]),\n",
       " <BarContainer object of 10 artists>)"
      ]
     },
     "execution_count": 7,
     "metadata": {},
     "output_type": "execute_result"
    },
    {
     "data": {
      "image/png": "[encoded data removed]",
      "text/plain": [
       "<Figure size 432x288 with 1 Axes>"
      ]
     },
     "metadata": {
      "needs_background": "light"
     },
     "output_type": "display_data"
    }
   ],
   "source": [
    "#Histogram of education\n",
    "plt.hist(training.educate)"
   ]
  },
  {
   "cell_type": "code",
   "execution_count": 8,
   "metadata": {},
   "outputs": [
    {
     "data": {
      "text/plain": [
       "(array([338., 415., 332., 202., 128.,  96.,  22.,  45.,  14.,   8.]),\n",
       " array([ 0.     ,  1.49247,  2.98494,  4.47741,  5.96988,  7.46235,\n",
       "         8.95482, 10.44729, 11.93976, 13.43223, 14.9247 ]),\n",
       " <BarContainer object of 10 artists>)"
      ]
     },
     "execution_count": 8,
     "metadata": {},
     "output_type": "execute_result"
    },
    {
     "data": {
      "image/png": "[encoded data removed]",
      "text/plain": [
       "<Figure size 432x288 with 1 Axes>"
      ]
     },
     "metadata": {
      "needs_background": "light"
     },
     "output_type": "display_data"
    }
   ],
   "source": [
    "#Histogram of income\n",
    "plt.hist(training.income)"
   ]
  },
  {
   "cell_type": "markdown",
   "metadata": {},
   "source": [
    "Given that the continuous data is not normally distributed, I decided to categorize the 3 variables for easier analysis as it is easier to work with discrete data rather than a contineous one. \n",
    "\n",
    "The first thing I did was to create a new funtion that would modify our dataframe with continuous data into a dataframe with categorical data."
   ]
  },
  {
   "cell_type": "code",
   "execution_count": 11,
   "metadata": {},
   "outputs": [],
   "source": [
    "#Created a funtion that will take a dataset and categorize the continuous variables\n",
    "def new_dta(data, outcome_var = \"\", exclude = \"\"):\n",
    "    '''\n",
    "    Takes a dataframe with binary and continuous variables and converts it into a dataframe with discrete values. The\n",
    "    function does this by cutting the continuous data into 5 equally spaced bins, relabelling the old values with\n",
    "    these new bin values (e.g. anyone with the age of 18 - 22 can be given the age value of 0 instead of\n",
    "    their actual age), and saving these new columns onto a different dataframe.\n",
    "    \n",
    "    It also copies the binary columns as is to this new dataframe, and changes the datatype of the new categorial\n",
    "    columns into 'int64'.\n",
    "\n",
    "    Args:\n",
    "        data (dataframe): the dataframe to be analyzed\n",
    "        \n",
    "        outcome_var (column title): a binary column to be excluded from categorizing\n",
    "       \n",
    "        exclude (column title): a binary column to be excluded from categorizing\n",
    "\n",
    "    Returns:\n",
    "        new (dataframe): dataframe with discrete values only\n",
    "    '''\n",
    "    new = pd.DataFrame()\n",
    "    for v in data.columns: #Created a for loop to go through all the columns of the dataframe\n",
    "        if v != exclude and v != outcome_var: #Excluded both binary columns\n",
    "            new[v+\"_bin\"] = pd.cut(data[v], 5, labels = [\"0\", \"1\", \"2\", \"3\", \"4\"]) #Cut the continuous data into 5, equally, spaced bins\n",
    "            new[v+\"_bin\"] = new[v+\"_bin\"].astype('int64') #Changed the datatype of these new columns\n",
    "        else: \n",
    "            new[v] = data[v]\n",
    "    return new"
   ]
  },
  {
   "cell_type": "markdown",
   "metadata": {},
   "source": [
    "This second function would calculate the class and conditional probabilities of the new categorical dataframe."
   ]
  },
  {
   "cell_type": "code",
   "execution_count": 13,
   "metadata": {},
   "outputs": [],
   "source": [
    "#Created a function that would take a dataset and calculate the class and conditional probabilites of the dataset\n",
    "def calc_probs(data, outcome_var = \"\", exclude = \"\"):\n",
    "    '''\n",
    "    Function calculates the class and conditional probabilities of the binary and categorial data by using a dictionary\n",
    "    with tuple keys. It calculate the conditional probability, for the categorical data, by determining the probability\n",
    "    of vote per the 5 categorical values. (I.e Pr(votes|age category = 0))\n",
    "    \n",
    "    Args:\n",
    "    data (dataframe): the dataframe to be analyzed\n",
    "\n",
    "    outcome_var (column title): a binary column to excluded from analysis as it is the outcome column\n",
    "\n",
    "    exclude (column title): a binary column to excluded from categorizing\n",
    "\n",
    "    Returns:\n",
    "        edited (dataframe), class_probs (dictionary), cond_probs (dictionary): a dataframe of the categorized data,\n",
    "        a dictionary of the class probabilites, and a dictionary of the conditional probabilites\n",
    "    '''\n",
    "    class_probs = {}\n",
    "    cond_probs = {}\n",
    "    edited = new_dta(data, outcome_var, exclude) #Passed the \"new_dta\" function\n",
    "    column_names = [v for v in edited.columns if v != outcome_var] #Located all columns that are not the outcome\n",
    "    for y, d in edited.groupby(outcome_var):\n",
    "        class_probs.update({y: d.shape[0]/edited.shape[0]}) #Calculated the class probabilities\n",
    "        for v in column_names: #Created a for loop to go down each column\n",
    "            values = list(edited[v].unique()) #Created a list of the unique values in each column\n",
    "            for x in values: #Created a for loop to calculate the probability of voting per unique column values\n",
    "                pr = (d[d[v] == x].shape[0]) / (edited[edited[v] == x].shape[0])\n",
    "                cond_probs[(v,x,y)] = pr #Saved the calculated probability into a dictionary\n",
    "    return edited, class_probs, cond_probs"
   ]
  },
  {
   "cell_type": "code",
   "execution_count": 15,
   "metadata": {},
   "outputs": [],
   "source": [
    "#Created a function that calculate a prediction of voting behavior based on the demographic variables\n",
    "def predict(data, outcome_var = \"\", exclude = \"\"):\n",
    "    '''\n",
    "    Function calculates the conditional probability of whether they voted or not based on the demographic variables\n",
    "    presented in the dataset. It then returns both the probabilities and the most likely situation (whether a person\n",
    "    voted or not). \n",
    "    \n",
    "    Args:\n",
    "    data (dataframe): the dataframe to be analyzed\n",
    "\n",
    "    outcome_var (column title): a binary column to excluded from analysis as it is the outcome column\n",
    "\n",
    "    exclude (column title): a binary column to excluded from categorizing\n",
    "\n",
    "    Returns:\n",
    "        Dataframe: a dataframe \n",
    "    '''\n",
    "    store_preds = [] #Created an empty list\n",
    "    predict_dta, class_probs, cond_probs = calc_probs(data, outcome_var, exclude) #Passed the \"calc_probs\" function\n",
    "    for i,row in predict_dta.iterrows():\n",
    "        pr_1 = 1; pr_0 = 1\n",
    "        for j in range(1,len(row.index)): #Calculated the conditional probability of each row\n",
    "            pr_0 *= cond_probs[(row.index[j],row.values[j],0)]\n",
    "            pr_1 *= cond_probs[(row.index[j],row.values[j],1)]     \n",
    "        pr_0 *= class_probs[0] \n",
    "        pr_1 *= class_probs[1]\n",
    "        store_preds.append([pr_0,pr_1,max([(pr_0,0),(pr_1,1)])[1]])\n",
    "    return pd.DataFrame(store_preds,columns=[\"pr_0\",\"pr_1\",\"pred\"])"
   ]
  },
  {
   "cell_type": "code",
   "execution_count": 18,
   "metadata": {},
   "outputs": [],
   "source": [
    "#Results\n",
    "preds = predict(training, outcome_var = \"vote\", exclude = \"white\")"
   ]
  },
  {
   "cell_type": "code",
   "execution_count": 19,
   "metadata": {},
   "outputs": [
    {
     "data": {
      "text/plain": [
       "0.740625"
      ]
     },
     "execution_count": 19,
     "metadata": {},
     "output_type": "execute_result"
    }
   ],
   "source": [
    "#Accuracy of prediction\n",
    "accuracy = sum(training.vote == preds.pred)/training.shape[0]\n",
    "accuracy"
   ]
  },
  {
   "cell_type": "code",
   "execution_count": 20,
   "metadata": {},
   "outputs": [
    {
     "data": {
      "text/plain": [
       "0.7666666666666667"
      ]
     },
     "execution_count": 20,
     "metadata": {},
     "output_type": "execute_result"
    }
   ],
   "source": [
    "#Testing accuracy\n",
    "test_preds = predict(test, outcome_var = \"vote\", exclude = \"white\")\n",
    "test_accuracy = sum(test.vote == test_preds.pred)/test.shape[0]\n",
    "test_accuracy"
   ]
  },
  {
   "cell_type": "code",
   "execution_count": 21,
   "metadata": {},
   "outputs": [],
   "source": [
    "#Organized the data in order to plug into the sklearn API easily\n",
    "train_vote = training['vote']\n",
    "train_other = training[['white', 'age', 'educate', 'income']]\n",
    "test_vote = test['vote']\n",
    "test_other = test[['white', 'age', 'educate', 'income']]"
   ]
  },
  {
   "cell_type": "code",
   "execution_count": 22,
   "metadata": {},
   "outputs": [
    {
     "data": {
      "text/plain": [
       "0.7256410256410256"
      ]
     },
     "execution_count": 22,
     "metadata": {},
     "output_type": "execute_result"
    }
   ],
   "source": [
    "#Instantiate the model class\n",
    "gnb = GaussianNB()\n",
    "gnb.fit(train_other, train_vote) # Train\n",
    "\n",
    "# Predict \n",
    "y_pred = gnb.predict(test_other)\n",
    "\n",
    "# Out-of-sample performance \n",
    "m.accuracy_score(test_vote,y_pred)"
   ]
  },
  {
   "cell_type": "code",
   "execution_count": 23,
   "metadata": {},
   "outputs": [
    {
     "data": {
      "text/html": [
       "<div>\n",
       "<style scoped>\n",
       "    .dataframe tbody tr th:only-of-type {\n",
       "        vertical-align: middle;\n",
       "    }\n",
       "\n",
       "    .dataframe tbody tr th {\n",
       "        vertical-align: top;\n",
       "    }\n",
       "\n",
       "    .dataframe thead th {\n",
       "        text-align: right;\n",
       "    }\n",
       "</style>\n",
       "<table border=\"1\" class=\"dataframe\">\n",
       "  <thead>\n",
       "    <tr style=\"text-align: right;\">\n",
       "      <th></th>\n",
       "      <th>0</th>\n",
       "      <th>1</th>\n",
       "    </tr>\n",
       "  </thead>\n",
       "  <tbody>\n",
       "    <tr>\n",
       "      <th>0</th>\n",
       "      <td>0.245118</td>\n",
       "      <td>0.754882</td>\n",
       "    </tr>\n",
       "    <tr>\n",
       "      <th>1</th>\n",
       "      <td>0.190520</td>\n",
       "      <td>0.809480</td>\n",
       "    </tr>\n",
       "    <tr>\n",
       "      <th>2</th>\n",
       "      <td>0.243826</td>\n",
       "      <td>0.756174</td>\n",
       "    </tr>\n",
       "    <tr>\n",
       "      <th>3</th>\n",
       "      <td>0.720039</td>\n",
       "      <td>0.279961</td>\n",
       "    </tr>\n",
       "    <tr>\n",
       "      <th>4</th>\n",
       "      <td>0.218539</td>\n",
       "      <td>0.781461</td>\n",
       "    </tr>\n",
       "    <tr>\n",
       "      <th>...</th>\n",
       "      <td>...</td>\n",
       "      <td>...</td>\n",
       "    </tr>\n",
       "    <tr>\n",
       "      <th>385</th>\n",
       "      <td>0.193426</td>\n",
       "      <td>0.806574</td>\n",
       "    </tr>\n",
       "    <tr>\n",
       "      <th>386</th>\n",
       "      <td>0.068611</td>\n",
       "      <td>0.931389</td>\n",
       "    </tr>\n",
       "    <tr>\n",
       "      <th>387</th>\n",
       "      <td>0.053458</td>\n",
       "      <td>0.946542</td>\n",
       "    </tr>\n",
       "    <tr>\n",
       "      <th>388</th>\n",
       "      <td>0.804886</td>\n",
       "      <td>0.195114</td>\n",
       "    </tr>\n",
       "    <tr>\n",
       "      <th>389</th>\n",
       "      <td>0.396127</td>\n",
       "      <td>0.603873</td>\n",
       "    </tr>\n",
       "  </tbody>\n",
       "</table>\n",
       "<p>390 rows × 2 columns</p>\n",
       "</div>"
      ],
      "text/plain": [
       "            0         1\n",
       "0    0.245118  0.754882\n",
       "1    0.190520  0.809480\n",
       "2    0.243826  0.756174\n",
       "3    0.720039  0.279961\n",
       "4    0.218539  0.781461\n",
       "..        ...       ...\n",
       "385  0.193426  0.806574\n",
       "386  0.068611  0.931389\n",
       "387  0.053458  0.946542\n",
       "388  0.804886  0.195114\n",
       "389  0.396127  0.603873\n",
       "\n",
       "[390 rows x 2 columns]"
      ]
     },
     "execution_count": 23,
     "metadata": {},
     "output_type": "execute_result"
    }
   ],
   "source": [
    "#Created a model to return probabilites not predictions\n",
    "probs = gnb.predict_proba(test_other)\n",
    "probs =  pd.DataFrame(probs,columns=gnb.classes_)\n",
    "probs"
   ]
  },
  {
   "cell_type": "code",
   "execution_count": 24,
   "metadata": {},
   "outputs": [],
   "source": [
    "#Generated the False Positive Rate and True Positive Rate Given different thresholds\n",
    "fpr, tpr, thresholds = m.roc_curve(test_vote, probs[1])"
   ]
  },
  {
   "cell_type": "code",
   "execution_count": 25,
   "metadata": {
    "scrolled": true
   },
   "outputs": [
    {
     "data": {
      "image/png": "[encoded data removed]",
      "text/plain": [
       "<Figure size 700x500 with 1 Axes>"
      ]
     },
     "metadata": {
      "needs_background": "light"
     },
     "output_type": "display_data"
    },
    {
     "data": {
      "text/plain": [
       "<ggplot: (307919879)>"
      ]
     },
     "execution_count": 25,
     "metadata": {},
     "output_type": "execute_result"
    }
   ],
   "source": [
    "#Plotted the ROC curve\n",
    "( \n",
    "    ggplot(pd.DataFrame(dict(fpr=fpr,tpr=tpr)),\n",
    "           aes(x=\"fpr\",y=\"tpr\")) +\n",
    "    geom_path(color=\"steelblue\",size=1) +\n",
    "    geom_abline(intercept=0,slope=1,linetype=\"dashed\") +\n",
    "    theme_minimal() +\n",
    "    labs(title=\"ROC Curve\") +\n",
    "    theme(figure_size=(7,5))\n",
    ")"
   ]
  }
 ],
 "metadata": {
  "kernelspec": {
   "display_name": "Python 3",
   "language": "python",
   "name": "python3"
  },
  "language_info": {
   "codemirror_mode": {
    "name": "ipython",
    "version": 3
   },
   "file_extension": ".py",
   "mimetype": "text/x-python",
   "name": "python",
   "nbconvert_exporter": "python",
   "pygments_lexer": "ipython3",
   "version": "3.8.5"
  }
 },
 "nbformat": 4,
 "nbformat_minor": 4
}
