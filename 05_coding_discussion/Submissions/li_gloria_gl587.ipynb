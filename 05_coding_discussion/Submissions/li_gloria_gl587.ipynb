{
 "cells": [
  {
   "cell_type": "code",
   "execution_count": 1,
   "metadata": {},
   "outputs": [],
   "source": [
    "import pandas as pd\n",
    "import numpy as np\n",
    "import pprint as pp # for printing\n",
    "import scipy.stats as st # for Normal PDF\n",
    "\n",
    "# Plotting libraries \n",
    "import matplotlib.pyplot as plt\n",
    "import seaborn as sns\n",
    "from plotnine import *\n",
    "\n",
    "#\n",
    "from sklearn.naive_bayes import GaussianNB # Classifier \n",
    "import sklearn.metrics as m # Metrics to determine the classification \n",
    "from sklearn.metrics import classification_report, confusion_matrix\n",
    "\n",
    "# Silence warnings \n",
    "import warnings\n",
    "warnings.filterwarnings(\"ignore\")"
   ]
  },
  {
   "cell_type": "code",
   "execution_count": 2,
   "metadata": {},
   "outputs": [],
   "source": [
    "# read in the turnout data\n",
    "turnout = pd.read_csv(\"../turnout.csv\")"
   ]
  },
  {
   "cell_type": "markdown",
   "metadata": {},
   "source": [
    "### First, I will split my data into training and test subsets."
   ]
  },
  {
   "cell_type": "code",
   "execution_count": 3,
   "metadata": {},
   "outputs": [],
   "source": [
    "# Train-Test split (just using Pandas)\n",
    "train = turnout.sample(frac=.8).reset_index(drop=True)\n",
    "test = turnout.drop(train.index).reset_index(drop=True)"
   ]
  },
  {
   "cell_type": "code",
   "execution_count": 4,
   "metadata": {},
   "outputs": [
    {
     "data": {
      "text/plain": [
       "(1600, 400)"
      ]
     },
     "execution_count": 4,
     "metadata": {},
     "output_type": "execute_result"
    }
   ],
   "source": [
    "# test to make sure they are split correctly\n",
    "train.shape[0], test.shape[0]"
   ]
  },
  {
   "cell_type": "code",
   "execution_count": 5,
   "metadata": {},
   "outputs": [],
   "source": [
    "# rename columns and drop id column\n",
    "cols = train.columns.tolist()\n",
    "new_cols = ['vote','age', 'educate', 'income','white']\n",
    "\n",
    "# rearrange and set new columns\n",
    "train = train[new_cols]\n",
    "test = test[new_cols]"
   ]
  },
  {
   "cell_type": "code",
   "execution_count": 6,
   "metadata": {},
   "outputs": [
    {
     "data": {
      "text/html": [
       "<div>\n",
       "<style scoped>\n",
       "    .dataframe tbody tr th:only-of-type {\n",
       "        vertical-align: middle;\n",
       "    }\n",
       "\n",
       "    .dataframe tbody tr th {\n",
       "        vertical-align: top;\n",
       "    }\n",
       "\n",
       "    .dataframe thead th {\n",
       "        text-align: right;\n",
       "    }\n",
       "</style>\n",
       "<table border=\"1\" class=\"dataframe\">\n",
       "  <thead>\n",
       "    <tr style=\"text-align: right;\">\n",
       "      <th></th>\n",
       "      <th>vote</th>\n",
       "      <th>age</th>\n",
       "      <th>educate</th>\n",
       "      <th>income</th>\n",
       "      <th>white</th>\n",
       "    </tr>\n",
       "  </thead>\n",
       "  <tbody>\n",
       "    <tr>\n",
       "      <th>0</th>\n",
       "      <td>1</td>\n",
       "      <td>74</td>\n",
       "      <td>4.0</td>\n",
       "      <td>1.3257</td>\n",
       "      <td>1</td>\n",
       "    </tr>\n",
       "    <tr>\n",
       "      <th>1</th>\n",
       "      <td>1</td>\n",
       "      <td>42</td>\n",
       "      <td>12.0</td>\n",
       "      <td>8.7220</td>\n",
       "      <td>1</td>\n",
       "    </tr>\n",
       "    <tr>\n",
       "      <th>2</th>\n",
       "      <td>1</td>\n",
       "      <td>47</td>\n",
       "      <td>16.0</td>\n",
       "      <td>6.7838</td>\n",
       "      <td>1</td>\n",
       "    </tr>\n",
       "    <tr>\n",
       "      <th>3</th>\n",
       "      <td>1</td>\n",
       "      <td>44</td>\n",
       "      <td>12.0</td>\n",
       "      <td>8.7220</td>\n",
       "      <td>1</td>\n",
       "    </tr>\n",
       "    <tr>\n",
       "      <th>4</th>\n",
       "      <td>1</td>\n",
       "      <td>56</td>\n",
       "      <td>17.0</td>\n",
       "      <td>11.3918</td>\n",
       "      <td>1</td>\n",
       "    </tr>\n",
       "  </tbody>\n",
       "</table>\n",
       "</div>"
      ],
      "text/plain": [
       "   vote  age  educate   income  white\n",
       "0     1   74      4.0   1.3257      1\n",
       "1     1   42     12.0   8.7220      1\n",
       "2     1   47     16.0   6.7838      1\n",
       "3     1   44     12.0   8.7220      1\n",
       "4     1   56     17.0  11.3918      1"
      ]
     },
     "execution_count": 6,
     "metadata": {},
     "output_type": "execute_result"
    }
   ],
   "source": [
    "train.head()"
   ]
  },
  {
   "cell_type": "markdown",
   "metadata": {},
   "source": [
    "### Then, I build the Bayesian classifier for continuous predictors. "
   ]
  },
  {
   "cell_type": "markdown",
   "metadata": {},
   "source": [
    "$$Pr(class | data) = Pr( x_1| class)\\times Pr( x_2| class) \\times \\dots \\times  Pr(class)$$"
   ]
  },
  {
   "cell_type": "markdown",
   "metadata": {},
   "source": [
    "There are two potential outcomes, or classes: Vote == 0 and Vote == 1. Below are the probabilities of each."
   ]
  },
  {
   "cell_type": "code",
   "execution_count": 7,
   "metadata": {},
   "outputs": [
    {
     "name": "stdout",
     "output_type": "stream",
     "text": [
      "\n",
      "Pr(vote = 1): 0.74875\n",
      "Pr(vote = 0): 0.25125\n",
      "\n"
     ]
    }
   ],
   "source": [
    "# get total number of training observations\n",
    "N = train.shape[0]\n",
    "\n",
    "# subset data by class a.k.a. whether someone voted\n",
    "vt1 = train.query(\"vote == 1\")\n",
    "vt0 = train.query(\"vote == 0\")\n",
    "\n",
    "# Calculate the probability for each class\n",
    "pr_vt1 = vt1.shape[0]/N\n",
    "pr_vt0 = vt0.shape[0]/N\n",
    "\n",
    "# Print the overall probabilities of each class \n",
    "print(\n",
    "f\"\"\"\n",
    "Pr(vote = 1): {pr_vt1}\n",
    "Pr(vote = 0): {pr_vt0}\n",
    "\"\"\")"
   ]
  },
  {
   "cell_type": "code",
   "execution_count": 8,
   "metadata": {},
   "outputs": [
    {
     "name": "stdout",
     "output_type": "stream",
     "text": [
      "{('age', 0): {'mean': 42.72139303482587, 'sd': 19.070991930592108},\n",
      " ('age', 1): {'mean': 45.99415692821369, 'sd': 16.948665899459737},\n",
      " ('educate', 0): {'mean': 10.54726368159204, 'sd': 3.3038562785555605},\n",
      " ('educate', 1): {'mean': 12.492070116861436, 'sd': 3.2450945777905518},\n",
      " ('income', 0): {'mean': 2.854818159203981, 'sd': 2.323745483741833},\n",
      " ('income', 1): {'mean': 4.264254340567612, 'sd': 2.9060434653982696},\n",
      " ('white', 0): {'mean': 0.7686567164179104, 'sd': 0.4222167914941512},\n",
      " ('white', 1): {'mean': 0.8731218697829716, 'sd': 0.3329754020721955}}\n"
     ]
    }
   ],
   "source": [
    "# Collect the mean and standard dev. of each conditional distribution\n",
    "dist_locs = \\\n",
    "{(\"age\",1):{'mean':vt1.age.mean(),'sd':vt1.age.std()},\n",
    " (\"age\",0):{'mean':vt0.age.mean(),'sd':vt0.age.std()},\n",
    " (\"educate\",1):{'mean':vt1.educate.mean(),'sd':vt1.educate.std()},\n",
    " (\"educate\",0):{'mean':vt0.educate.mean(),'sd':vt0.educate.std()},\n",
    " (\"income\",1):{'mean':vt1.income.mean(),'sd':vt1.income.std()},\n",
    " (\"income\",0):{'mean':vt0.income.mean(),'sd':vt0.income.std()},\n",
    " (\"white\",1):{'mean':vt1.white.mean(),'sd':vt1.white.std()},\n",
    " (\"white\",0):{'mean':vt0.white.mean(),'sd':vt0.white.std()},\n",
    "}\n",
    "\n",
    "# Print\n",
    "pp.pprint(dist_locs)"
   ]
  },
  {
   "cell_type": "markdown",
   "metadata": {},
   "source": [
    "Basically, the first entry in this dictionary reads: the average age for non-voters in our data was 42, with a standard deviation of 19 years. Below, we will visualize the conditional distributions based on these predictor variable subsets."
   ]
  },
  {
   "cell_type": "code",
   "execution_count": 9,
   "metadata": {},
   "outputs": [],
   "source": [
    "# Plot with seaborn\n",
    "#plt.figure(figsize=(10,4),dpi=150)\n",
    "#for key in dist_locs.keys():\n",
    "#    locs = dist_locs[key]\n",
    "#    d = pd.DataFrame([[i,st.norm(locs['mean'], locs['sd']).pdf(i)]\n",
    "#                     for i in np.linspace(-3,40)])\n",
    "#    ax = sns.lineplot(d[0],d[1],label=f\"{key[0]} where vote = {key[1]}\")"
   ]
  },
  {
   "cell_type": "markdown",
   "metadata": {},
   "source": [
    "### Now, let's try predicting some values with our Naive Bayes classifier and see how accurate our model is."
   ]
  },
  {
   "cell_type": "markdown",
   "metadata": {},
   "source": [
    "First, we will look at how this works with a single observation: the first row in our training data."
   ]
  },
  {
   "cell_type": "code",
   "execution_count": 10,
   "metadata": {},
   "outputs": [
    {
     "name": "stdout",
     "output_type": "stream",
     "text": [
      "1.0 42.0 12.0 8.722000000000001 1.0\n"
     ]
    }
   ],
   "source": [
    "# this is the single observation we will try to predict\n",
    "vote,age,educate,income,white = train.iloc[1,:]\n",
    "print(vote,age,educate,income,white)"
   ]
  },
  {
   "cell_type": "markdown",
   "metadata": {},
   "source": [
    "I need to add in the other predictors and make white a binary variable."
   ]
  },
  {
   "cell_type": "code",
   "execution_count": 11,
   "metadata": {},
   "outputs": [
    {
     "name": "stdout",
     "output_type": "stream",
     "text": [
      "\n",
      "    Pr(y == 1| X): 9.825762147603859e-05\n",
      "    Pr(y == 0| X): 3.317578252411109e-06\n",
      "\n"
     ]
    }
   ],
   "source": [
    "# Prediction for the vote class - need to add other predictors \n",
    "a = st.norm(dist_locs[(\"age\",1)]['mean'], dist_locs[(\"age\",1)]['sd']).pdf(age)\n",
    "b = st.norm(dist_locs[(\"educate\",1)]['mean'], dist_locs[(\"educate\",1)]['sd']).pdf(educate)\n",
    "c = st.norm(dist_locs[(\"income\",1)]['mean'], dist_locs[(\"income\",1)]['sd']).pdf(income)\n",
    "d = st.norm(dist_locs[(\"white\",1)]['mean'], dist_locs[(\"white\",1)]['sd']).pdf(white)\n",
    "e = pr_vt1\n",
    "\n",
    "# this is the same we did before, multiply all the classes together\n",
    "pr_1 = a * b * c * d * e\n",
    "\n",
    "# Prediction for the did not vote class \n",
    "a = st.norm(dist_locs[(\"age\",0)]['mean'], dist_locs[(\"age\",0)]['sd']).pdf(age)\n",
    "b = st.norm(dist_locs[(\"educate\",0)]['mean'], dist_locs[(\"educate\",0)]['sd']).pdf(educate)\n",
    "c = st.norm(dist_locs[(\"income\",0)]['mean'], dist_locs[(\"income\",0)]['sd']).pdf(income)\n",
    "d = st.norm(dist_locs[(\"white\",0)]['mean'], dist_locs[(\"white\",0)]['sd']).pdf(white)\n",
    "e = pr_vt0\n",
    "\n",
    "pr_0 = a * b * c * d * e\n",
    "\n",
    "print(\n",
    "f'''\n",
    "    Pr(y == 1| X): {pr_1}\n",
    "    Pr(y == 0| X): {pr_0}\n",
    "''')"
   ]
  },
  {
   "cell_type": "markdown",
   "metadata": {},
   "source": [
    "Since the probability of voting for these variables is larger than the probability of not voting, we predict that the person voted (and in fact they did). We want to do this same process for many other indiviudals in our data, so we make it a function below."
   ]
  },
  {
   "cell_type": "code",
   "execution_count": 12,
   "metadata": {},
   "outputs": [],
   "source": [
    "def predict(data,dist_locs):\n",
    "    ''''''\n",
    "    store_preds = []\n",
    "    for i,row in data.iterrows():\n",
    "        \n",
    "        # Get the predictions using a Gaussan distribution\n",
    "        pr_0 = 1; pr_1 = 1 # Use 1 here so it doesn't default to 0 upon multiplication \n",
    "        for j in range(1,len(row)):\n",
    "            # this loop will take the conditional probability for each variable in the given row \n",
    "            # and multiply them to create our final probability for that class|data\n",
    "            pr_0 *= st.norm(dist_locs[(row.index[j],0)]['mean'],\n",
    "                            dist_locs[(row.index[j],0)]['sd']).pdf(row.values[j])\n",
    "            pr_1 *= st.norm(dist_locs[(row.index[j],1)]['mean'], \n",
    "                            dist_locs[(row.index[j],1)]['sd']).pdf(row.values[j])\n",
    "        pr_0 *= pr_vt0\n",
    "        pr_1 *= pr_vt1\n",
    "        \n",
    "        # Assign the class designation to the highest probability\n",
    "        if pr_0 >= pr_1:\n",
    "            class_pred = 0\n",
    "        else:\n",
    "            class_pred = 1\n",
    "            \n",
    "        store_preds.append([pr_0,pr_1,class_pred])\n",
    "        \n",
    "    return pd.DataFrame(store_preds,columns=[\"pr_0\",\"pr_1\",\"pred\"])\n",
    "\n",
    "# Run\n",
    "preds_train = predict(train,dist_locs)"
   ]
  },
  {
   "cell_type": "code",
   "execution_count": 13,
   "metadata": {},
   "outputs": [
    {
     "data": {
      "text/plain": [
       "0.7325"
      ]
     },
     "execution_count": 13,
     "metadata": {},
     "output_type": "execute_result"
    }
   ],
   "source": [
    "# calculate the predictive accuracy on training data\n",
    "accuracy_train = sum(train.vote == preds_train.pred)/train.shape[0]\n",
    "accuracy_train"
   ]
  },
  {
   "cell_type": "code",
   "execution_count": 14,
   "metadata": {},
   "outputs": [
    {
     "data": {
      "text/plain": [
       "0.7025"
      ]
     },
     "execution_count": 14,
     "metadata": {},
     "output_type": "execute_result"
    }
   ],
   "source": [
    "# calculate predictive accuracy on test data\n",
    "preds_test = predict(test,dist_locs)\n",
    "accuracy_test = sum(test.vote == preds_test.pred)/test.shape[0]\n",
    "accuracy_test"
   ]
  },
  {
   "cell_type": "markdown",
   "metadata": {},
   "source": [
    "Our predictive accuracy on our training data with this simple classifier is about 73% and on our test data it is about 71%."
   ]
  },
  {
   "cell_type": "markdown",
   "metadata": {},
   "source": [
    "### We can compare our method to the one in Sklearn."
   ]
  },
  {
   "cell_type": "code",
   "execution_count": 16,
   "metadata": {},
   "outputs": [],
   "source": [
    "# Organize our data real quick so it plugs into the sklearn API easily \n",
    "train_y = train['vote']\n",
    "train_x = train[['age','educate','income','white']]\n",
    "test_y = test['vote']\n",
    "test_x = test[['age','educate','income','white']]"
   ]
  },
  {
   "cell_type": "code",
   "execution_count": 17,
   "metadata": {},
   "outputs": [
    {
     "data": {
      "text/plain": [
       "0.7025"
      ]
     },
     "execution_count": 17,
     "metadata": {},
     "output_type": "execute_result"
    }
   ],
   "source": [
    "# Instantiate the model class using Gaussian for continuous variables \n",
    "gnb = GaussianNB()\n",
    "gnb.fit(train_x, train_y) # Train\n",
    "\n",
    "# Predict \n",
    "y_pred = gnb.predict(test_x)\n",
    "\n",
    "# Out-of-sample performance \n",
    "m.accuracy_score(test_y,y_pred)"
   ]
  },
  {
   "cell_type": "markdown",
   "metadata": {},
   "source": [
    "It's the same! Quick note: I may be able to get more accurate results by classifying white as a binary predictor in the future."
   ]
  },
  {
   "cell_type": "code",
   "execution_count": 18,
   "metadata": {},
   "outputs": [
    {
     "data": {
      "text/html": [
       "<div>\n",
       "<style scoped>\n",
       "    .dataframe tbody tr th:only-of-type {\n",
       "        vertical-align: middle;\n",
       "    }\n",
       "\n",
       "    .dataframe tbody tr th {\n",
       "        vertical-align: top;\n",
       "    }\n",
       "\n",
       "    .dataframe thead th {\n",
       "        text-align: right;\n",
       "    }\n",
       "</style>\n",
       "<table border=\"1\" class=\"dataframe\">\n",
       "  <thead>\n",
       "    <tr style=\"text-align: right;\">\n",
       "      <th></th>\n",
       "      <th>Predicted Negative</th>\n",
       "      <th>Predicted Positive</th>\n",
       "    </tr>\n",
       "  </thead>\n",
       "  <tbody>\n",
       "    <tr>\n",
       "      <th>Actual Negative</th>\n",
       "      <td>25</td>\n",
       "      <td>95</td>\n",
       "    </tr>\n",
       "    <tr>\n",
       "      <th>Actual Positive</th>\n",
       "      <td>24</td>\n",
       "      <td>256</td>\n",
       "    </tr>\n",
       "  </tbody>\n",
       "</table>\n",
       "</div>"
      ],
      "text/plain": [
       "                 Predicted Negative  Predicted Positive\n",
       "Actual Negative                  25                  95\n",
       "Actual Positive                  24                 256"
      ]
     },
     "execution_count": 18,
     "metadata": {},
     "output_type": "execute_result"
    }
   ],
   "source": [
    "# Generate a confusion matrix of how our predictions turned out\n",
    "pd.DataFrame(confusion_matrix(test_y, y_pred), \n",
    "             columns=['Predicted Negative', 'Predicted Positive'], \n",
    "             index=['Actual Negative', 'Actual Positive'])"
   ]
  },
  {
   "cell_type": "markdown",
   "metadata": {},
   "source": [
    "### To take a look at our performance visually, we generate a ROC (Receiver Operating Characteristic) curve."
   ]
  },
  {
   "cell_type": "code",
   "execution_count": 19,
   "metadata": {},
   "outputs": [
    {
     "data": {
      "text/html": [
       "<div>\n",
       "<style scoped>\n",
       "    .dataframe tbody tr th:only-of-type {\n",
       "        vertical-align: middle;\n",
       "    }\n",
       "\n",
       "    .dataframe tbody tr th {\n",
       "        vertical-align: top;\n",
       "    }\n",
       "\n",
       "    .dataframe thead th {\n",
       "        text-align: right;\n",
       "    }\n",
       "</style>\n",
       "<table border=\"1\" class=\"dataframe\">\n",
       "  <thead>\n",
       "    <tr style=\"text-align: right;\">\n",
       "      <th></th>\n",
       "      <th>0</th>\n",
       "      <th>1</th>\n",
       "    </tr>\n",
       "  </thead>\n",
       "  <tbody>\n",
       "    <tr>\n",
       "      <th>0</th>\n",
       "      <td>0.465028</td>\n",
       "      <td>0.534972</td>\n",
       "    </tr>\n",
       "    <tr>\n",
       "      <th>1</th>\n",
       "      <td>0.088505</td>\n",
       "      <td>0.911495</td>\n",
       "    </tr>\n",
       "    <tr>\n",
       "      <th>2</th>\n",
       "      <td>0.242673</td>\n",
       "      <td>0.757327</td>\n",
       "    </tr>\n",
       "    <tr>\n",
       "      <th>3</th>\n",
       "      <td>0.225165</td>\n",
       "      <td>0.774835</td>\n",
       "    </tr>\n",
       "    <tr>\n",
       "      <th>4</th>\n",
       "      <td>0.040214</td>\n",
       "      <td>0.959786</td>\n",
       "    </tr>\n",
       "    <tr>\n",
       "      <th>...</th>\n",
       "      <td>...</td>\n",
       "      <td>...</td>\n",
       "    </tr>\n",
       "    <tr>\n",
       "      <th>395</th>\n",
       "      <td>0.146078</td>\n",
       "      <td>0.853922</td>\n",
       "    </tr>\n",
       "    <tr>\n",
       "      <th>396</th>\n",
       "      <td>0.240733</td>\n",
       "      <td>0.759267</td>\n",
       "    </tr>\n",
       "    <tr>\n",
       "      <th>397</th>\n",
       "      <td>0.023556</td>\n",
       "      <td>0.976444</td>\n",
       "    </tr>\n",
       "    <tr>\n",
       "      <th>398</th>\n",
       "      <td>0.389778</td>\n",
       "      <td>0.610222</td>\n",
       "    </tr>\n",
       "    <tr>\n",
       "      <th>399</th>\n",
       "      <td>0.314088</td>\n",
       "      <td>0.685912</td>\n",
       "    </tr>\n",
       "  </tbody>\n",
       "</table>\n",
       "<p>400 rows × 2 columns</p>\n",
       "</div>"
      ],
      "text/plain": [
       "            0         1\n",
       "0    0.465028  0.534972\n",
       "1    0.088505  0.911495\n",
       "2    0.242673  0.757327\n",
       "3    0.225165  0.774835\n",
       "4    0.040214  0.959786\n",
       "..        ...       ...\n",
       "395  0.146078  0.853922\n",
       "396  0.240733  0.759267\n",
       "397  0.023556  0.976444\n",
       "398  0.389778  0.610222\n",
       "399  0.314088  0.685912\n",
       "\n",
       "[400 rows x 2 columns]"
      ]
     },
     "execution_count": 19,
     "metadata": {},
     "output_type": "execute_result"
    }
   ],
   "source": [
    "# make breakdown of probabilities for either class\n",
    "probs = gnb.predict_proba(test_x)\n",
    "probs =  pd.DataFrame(probs,columns=gnb.classes_)\n",
    "probs"
   ]
  },
  {
   "cell_type": "code",
   "execution_count": 20,
   "metadata": {},
   "outputs": [],
   "source": [
    "# Generate the False Positive Rate and True Positive Rate Given different thresholds\n",
    "fpr, tpr, thresholds = m.roc_curve(test_y, probs[1])"
   ]
  },
  {
   "cell_type": "code",
   "execution_count": 21,
   "metadata": {},
   "outputs": [
    {
     "data": {
      "image/png": "[encoded data removed]",
      "text/plain": [
       "<Figure size 700x500 with 1 Axes>"
      ]
     },
     "metadata": {
      "needs_background": "light"
     },
     "output_type": "display_data"
    },
    {
     "data": {
      "text/plain": [
       "<ggplot: (8770677331505)>"
      ]
     },
     "execution_count": 21,
     "metadata": {},
     "output_type": "execute_result"
    }
   ],
   "source": [
    "# Plot the ROC Curve\n",
    "( \n",
    "    ggplot(pd.DataFrame(dict(fpr=fpr,tpr=tpr)),\n",
    "           aes(x=\"fpr\",y=\"tpr\")) +\n",
    "    geom_path(color=\"steelblue\",size=1) +\n",
    "    geom_abline(intercept=0,slope=1,linetype=\"dashed\") +\n",
    "    theme_minimal() +\n",
    "    labs(title=\"ROC Curve\", x = \"False Positive Rate\", y = \"True Positive Rate\") +\n",
    "    theme(figure_size=(7,5))\n",
    ")"
   ]
  },
  {
   "cell_type": "code",
   "execution_count": 22,
   "metadata": {},
   "outputs": [
    {
     "data": {
      "text/plain": [
       "0.5613095238095238"
      ]
     },
     "execution_count": 22,
     "metadata": {},
     "output_type": "execute_result"
    }
   ],
   "source": [
    "# calculate the ROC auc score, which runs from 0 to 1 \n",
    "m.roc_auc_score(test_y,y_pred)"
   ]
  },
  {
   "cell_type": "markdown",
   "metadata": {},
   "source": [
    "This ROC curve looks pretty flat, indicating that it is not the best at distinguishing between the positive and negative classes in our test data. Our area under the curve of 56.5% is *slightly* better than coin flip odds of 50%."
   ]
  },
  {
   "cell_type": "markdown",
   "metadata": {},
   "source": [
    "## Discussion"
   ]
  },
  {
   "cell_type": "markdown",
   "metadata": {},
   "source": [
    "As we can see, our construction of the Naive Bayes classifier yielded the same accuracy as the Sklearn implementation. The accuracy of our model was about 71%, but the AUC was 57%, indicating that our model only performs slightly better than a coin flip. The ROC curve tells us how well our model separates our classes of voting and not voting, and it is lower than our accuracy because we classified the classes based on probabilities seen in the training data but that doesn't necessarily reflect the actual breakdown of these classes in real life. It doesn't make much of a difference to use the white variable as a continuous variable here, but in the future, I will include it as a binary one. "
   ]
  }
 ],
 "metadata": {
  "kernelspec": {
   "display_name": "Python 3",
   "language": "python",
   "name": "python3"
  },
  "language_info": {
   "codemirror_mode": {
    "name": "ipython",
    "version": 3
   },
   "file_extension": ".py",
   "mimetype": "text/x-python",
   "name": "python",
   "nbconvert_exporter": "python",
   "pygments_lexer": "ipython3",
   "version": "3.7.6"
  }
 },
 "nbformat": 4,
 "nbformat_minor": 4
}
