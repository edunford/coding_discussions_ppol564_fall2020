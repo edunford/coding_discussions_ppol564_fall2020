{
 "cells": [
  {
   "cell_type": "markdown",
   "metadata": {},
   "source": [
    "## Coding Discussion 05 - Week 11\n",
    "### 8 November 2020\n",
    "#### Kryslette Bunyi"
   ]
  },
  {
   "cell_type": "markdown",
   "metadata": {},
   "source": [
    "# Instructions\n",
    "\n",
    "**Can we predict whether someone will vote or not?**\n",
    "\n",
    "In the discussion folder, you'll find the `turnout.csv` data, which was drawn from the 2012 National Election Survey. The data records the age, education level (of total years in school), income, race (caucasian or not), and past voting record (i.e. whether or not the respondent voted in the 2012 Presidential election). The sample is composed of 2000 individual respondents. \n",
    "\n",
    "Please break the data up into a training (1600 entries, 80%) and test dataset (400 entries, 20%). \n",
    "\n",
    "Build a Naive Bayesian Classifier from scratch that tries to predict whether a respondent will vote in a presidential election or not, pr(Vote==1). The classifier must be built from scratch. Do not use a third party ML or statistical package. \n",
    "\n",
    "Run your algorithm and see how it predicts on the test data. Use the `sklearn.metrics` library to calculate the predictive accuracy and the area underneath the ROC curve. \n",
    "\n",
    "Does your model perform better than chance (i.e. coin flip)?\n",
    "\n",
    "When completing this answer, be sure to: \n",
    "\n",
    "- comment on all your code\n",
    "- provide a narrative for what you're doing\n",
    "- summarize your results and findings"
   ]
  },
  {
   "cell_type": "code",
   "execution_count": 1,
   "metadata": {},
   "outputs": [],
   "source": [
    "# Load needed packages\n",
    "import pandas as pd\n",
    "import numpy as np\n",
    "import pprint as pp #for printing\n",
    "import scipy.stats as st #for Normal PDF\n",
    "import matplotlib.pyplot as plt\n",
    "import seaborn as sns\n",
    "from plotnine import *"
   ]
  },
  {
   "cell_type": "code",
   "execution_count": 2,
   "metadata": {},
   "outputs": [
    {
     "data": {
      "text/html": [
       "<div>\n",
       "<style scoped>\n",
       "    .dataframe tbody tr th:only-of-type {\n",
       "        vertical-align: middle;\n",
       "    }\n",
       "\n",
       "    .dataframe tbody tr th {\n",
       "        vertical-align: top;\n",
       "    }\n",
       "\n",
       "    .dataframe thead th {\n",
       "        text-align: right;\n",
       "    }\n",
       "</style>\n",
       "<table border=\"1\" class=\"dataframe\">\n",
       "  <thead>\n",
       "    <tr style=\"text-align: right;\">\n",
       "      <th></th>\n",
       "      <th>id</th>\n",
       "      <th>age</th>\n",
       "      <th>educate</th>\n",
       "      <th>income</th>\n",
       "      <th>vote</th>\n",
       "      <th>white</th>\n",
       "    </tr>\n",
       "  </thead>\n",
       "  <tbody>\n",
       "    <tr>\n",
       "      <th>0</th>\n",
       "      <td>1</td>\n",
       "      <td>60</td>\n",
       "      <td>14.0</td>\n",
       "      <td>3.3458</td>\n",
       "      <td>1</td>\n",
       "      <td>1</td>\n",
       "    </tr>\n",
       "    <tr>\n",
       "      <th>1</th>\n",
       "      <td>2</td>\n",
       "      <td>51</td>\n",
       "      <td>10.0</td>\n",
       "      <td>1.8561</td>\n",
       "      <td>0</td>\n",
       "      <td>1</td>\n",
       "    </tr>\n",
       "    <tr>\n",
       "      <th>2</th>\n",
       "      <td>3</td>\n",
       "      <td>24</td>\n",
       "      <td>12.0</td>\n",
       "      <td>0.6304</td>\n",
       "      <td>0</td>\n",
       "      <td>1</td>\n",
       "    </tr>\n",
       "    <tr>\n",
       "      <th>3</th>\n",
       "      <td>4</td>\n",
       "      <td>38</td>\n",
       "      <td>8.0</td>\n",
       "      <td>3.4183</td>\n",
       "      <td>1</td>\n",
       "      <td>1</td>\n",
       "    </tr>\n",
       "    <tr>\n",
       "      <th>4</th>\n",
       "      <td>5</td>\n",
       "      <td>25</td>\n",
       "      <td>12.0</td>\n",
       "      <td>2.7852</td>\n",
       "      <td>1</td>\n",
       "      <td>1</td>\n",
       "    </tr>\n",
       "  </tbody>\n",
       "</table>\n",
       "</div>"
      ],
      "text/plain": [
       "   id  age  educate  income  vote  white\n",
       "0   1   60     14.0  3.3458     1      1\n",
       "1   2   51     10.0  1.8561     0      1\n",
       "2   3   24     12.0  0.6304     0      1\n",
       "3   4   38      8.0  3.4183     1      1\n",
       "4   5   25     12.0  2.7852     1      1"
      ]
     },
     "execution_count": 2,
     "metadata": {},
     "output_type": "execute_result"
    }
   ],
   "source": [
    "# Read in data\n",
    "turnout = pd.read_csv(\"turnout.csv\")\n",
    "\n",
    "# Preview data\n",
    "turnout.head()"
   ]
  },
  {
   "cell_type": "code",
   "execution_count": 3,
   "metadata": {},
   "outputs": [
    {
     "name": "stdout",
     "output_type": "stream",
     "text": [
      "Training Data: 1600 \n",
      "Test Data: 400\n"
     ]
    }
   ],
   "source": [
    "# Set seed\n",
    "np.random.seed(123)\n",
    "\n",
    "# Split into training and test datasets\n",
    "train = turnout.sample(frac=.8).reset_index(drop=True)\n",
    "test = turnout.drop(train.index).reset_index(drop=True)\n",
    "\n",
    "# Verify the sizes of the datasets\n",
    "print(\"Training Data:\",train.shape[0],\n",
    "      \"\\nTest Data:\",test.shape[0])"
   ]
  },
  {
   "cell_type": "markdown",
   "metadata": {},
   "source": [
    "### Calculate Class Probabilities: $Pr(class)$"
   ]
  },
  {
   "cell_type": "code",
   "execution_count": 4,
   "metadata": {
    "scrolled": true
   },
   "outputs": [
    {
     "name": "stdout",
     "output_type": "stream",
     "text": [
      "\n",
      "Training Dataset:\n",
      "Pr(vote = 1): 0.744375\n",
      "Pr(vote = 0): 0.255625\n",
      "\n"
     ]
    }
   ],
   "source": [
    "# Store training sample size\n",
    "N = train.shape[0]\n",
    "\n",
    "# Subset the data by class\n",
    "vote1 = train.query(\"vote == 1\")\n",
    "vote0 = train.query(\"vote == 0\")\n",
    "\n",
    "# Calculate the probability for each class\n",
    "pr_vote_1 = vote1.shape[0]/N\n",
    "pr_vote_0 = vote0.shape[0]/N\n",
    "\n",
    "# Print the probabilities\n",
    "print(\n",
    "f\"\"\"\n",
    "Training Dataset:\n",
    "Pr(vote = 1): {pr_vote_1}\n",
    "Pr(vote = 0): {pr_vote_0}\n",
    "\"\"\")"
   ]
  },
  {
   "cell_type": "code",
   "execution_count": 5,
   "metadata": {},
   "outputs": [
    {
     "data": {
      "text/plain": [
       "{0: 0.255625, 1: 0.744375}"
      ]
     },
     "execution_count": 5,
     "metadata": {},
     "output_type": "execute_result"
    }
   ],
   "source": [
    "# Store class probabilities into dictionary\n",
    "class_probs = {0:pr_vote_0,1:pr_vote_1}\n",
    "class_probs"
   ]
  },
  {
   "cell_type": "markdown",
   "metadata": {},
   "source": [
    "### Calculate Conditional Probabilities $Pr(data | class)$"
   ]
  },
  {
   "cell_type": "markdown",
   "metadata": {},
   "source": [
    "#### Binary Predictors"
   ]
  },
  {
   "cell_type": "code",
   "execution_count": 6,
   "metadata": {
    "scrolled": true
   },
   "outputs": [
    {
     "name": "stdout",
     "output_type": "stream",
     "text": [
      "\n",
      "Pr(white = 1 |vote = 1): 0.8723761544920235\n",
      "Pr(white = 0 |vote = 1): 0.12762384550797648\n",
      "Pr(white = 1 |vote = 0): 0.7897310513447433\n",
      "Pr(white = 0 |vote = 0): 0.21026894865525672\n",
      "\n"
     ]
    }
   ],
   "source": [
    "# For predictor \"white\"\n",
    "white1_vote1 = vote1.query(\"white == 1\").shape[0]/vote1.shape[0]\n",
    "white0_vote1 = vote1.query(\"white == 0\").shape[0]/vote1.shape[0]\n",
    "white1_vote0 = vote0.query(\"white == 1\").shape[0]/vote0.shape[0]\n",
    "white0_vote0 = vote0.query(\"white == 0\").shape[0]/vote0.shape[0]\n",
    "\n",
    "print(\n",
    "f\"\"\"\n",
    "Pr(white = 1 |vote = 1): {white1_vote1}\n",
    "Pr(white = 0 |vote = 1): {white0_vote1}\n",
    "Pr(white = 1 |vote = 0): {white1_vote0}\n",
    "Pr(white = 0 |vote = 0): {white0_vote0}\n",
    "\"\"\")"
   ]
  },
  {
   "cell_type": "code",
   "execution_count": 7,
   "metadata": {},
   "outputs": [
    {
     "name": "stdout",
     "output_type": "stream",
     "text": [
      "{('white', 0, 0): 0.2102689486552567,\n",
      " ('white', 0, 1): 0.12762384550797645,\n",
      " ('white', 1, 0): 0.7897310513447433,\n",
      " ('white', 1, 1): 0.8723761544920235}\n"
     ]
    }
   ],
   "source": [
    "# Store conditional probabilities into dictionary\n",
    "cond_probs = {}\n",
    "# iterate through the class outcomes\n",
    "for vote_val,subset in train.groupby(\"vote\"): \n",
    "    # calculate conditional probabilities given each class\n",
    "    pr = subset[\"white\"].sum()/subset.shape[0]\n",
    "    cond_probs[(\"white\",1,vote_val)] = pr \n",
    "    cond_probs[(\"white\",0,vote_val)] = 1 - pr\n",
    "\n",
    "pp.pprint(cond_probs)"
   ]
  },
  {
   "cell_type": "markdown",
   "metadata": {},
   "source": [
    "#### Continuous Predictors"
   ]
  },
  {
   "cell_type": "code",
   "execution_count": 8,
   "metadata": {},
   "outputs": [
    {
     "name": "stdout",
     "output_type": "stream",
     "text": [
      "{('age', 0): {'mean': 42.75061124694376, 'sd': 18.8781283829491},\n",
      " ('age', 1): {'mean': 46.17044500419815, 'sd': 16.751831698772214},\n",
      " ('educate', 0): {'mean': 10.62836185819071, 'sd': 3.144794563899187},\n",
      " ('educate', 1): {'mean': 12.563811922753988, 'sd': 3.313411795406922},\n",
      " ('income', 0): {'mean': 2.7642088019559896, 'sd': 2.129945763720976},\n",
      " ('income', 1): {'mean': 4.251116288832915, 'sd': 2.9178548707903462}}\n"
     ]
    }
   ],
   "source": [
    "# Collect the mean and standard dev. of each conditional distribution\n",
    "dist_locs = \\\n",
    "{(\"age\",1):{'mean':vote1.age.mean(),'sd':vote1.age.std()},\n",
    " (\"age\",0):{'mean':vote0.age.mean(),'sd':vote0.age.std()},\n",
    " (\"educate\",1):{'mean':vote1.educate.mean(),'sd':vote1.educate.std()},\n",
    " (\"educate\",0):{'mean':vote0.educate.mean(),'sd':vote0.educate.std()},\n",
    " (\"income\",1):{'mean':vote1.income.mean(),'sd':vote1.income.std()},\n",
    " (\"income\",0):{'mean':vote0.income.mean(),'sd':vote0.income.std()}\n",
    "}\n",
    "\n",
    "# Print\n",
    "pp.pprint(dist_locs)"
   ]
  },
  {
   "cell_type": "code",
   "execution_count": 9,
   "metadata": {
    "scrolled": false
   },
   "outputs": [
    {
     "data": {
      "image/png": "[encoded data removed]",
      "text/plain": [
       "<Figure size 1500x600 with 1 Axes>"
      ]
     },
     "metadata": {
      "needs_background": "light"
     },
     "output_type": "display_data"
    }
   ],
   "source": [
    "# Plot conditional distributions\n",
    "plt.figure(figsize=(10,4),dpi=150)\n",
    "for key in dist_locs.keys():\n",
    "    locs = dist_locs[key]\n",
    "    d = pd.DataFrame([[i,st.norm(locs['mean'], locs['sd']).pdf(i)] \n",
    "                      for i in np.linspace(-10,100)])\n",
    "    ax = sns.lineplot(d[0],d[1],label=f\"{key[0]} where y = {key[1]}\")\n",
    "    ax.set_title(\"Conditional Distributions of Continuous Predictors for Turnout Training Data\")\n",
    "    ax.set(xlabel=\"Value of Continuous Predictor\",ylabel=\"Probability\")"
   ]
  },
  {
   "cell_type": "markdown",
   "metadata": {},
   "source": [
    "### Generate Predictions"
   ]
  },
  {
   "cell_type": "markdown",
   "metadata": {},
   "source": [
    "#### Training Data"
   ]
  },
  {
   "cell_type": "code",
   "execution_count": 10,
   "metadata": {},
   "outputs": [
    {
     "data": {
      "text/html": [
       "<div>\n",
       "<style scoped>\n",
       "    .dataframe tbody tr th:only-of-type {\n",
       "        vertical-align: middle;\n",
       "    }\n",
       "\n",
       "    .dataframe tbody tr th {\n",
       "        vertical-align: top;\n",
       "    }\n",
       "\n",
       "    .dataframe thead th {\n",
       "        text-align: right;\n",
       "    }\n",
       "</style>\n",
       "<table border=\"1\" class=\"dataframe\">\n",
       "  <thead>\n",
       "    <tr style=\"text-align: right;\">\n",
       "      <th></th>\n",
       "      <th>pr_0</th>\n",
       "      <th>pr_1</th>\n",
       "      <th>pred</th>\n",
       "    </tr>\n",
       "  </thead>\n",
       "  <tbody>\n",
       "    <tr>\n",
       "      <th>0</th>\n",
       "      <td>0.000054</td>\n",
       "      <td>0.000172</td>\n",
       "      <td>1</td>\n",
       "    </tr>\n",
       "    <tr>\n",
       "      <th>1</th>\n",
       "      <td>0.000001</td>\n",
       "      <td>0.000003</td>\n",
       "      <td>1</td>\n",
       "    </tr>\n",
       "    <tr>\n",
       "      <th>2</th>\n",
       "      <td>0.000004</td>\n",
       "      <td>0.000012</td>\n",
       "      <td>1</td>\n",
       "    </tr>\n",
       "    <tr>\n",
       "      <th>3</th>\n",
       "      <td>0.000002</td>\n",
       "      <td>0.000008</td>\n",
       "      <td>1</td>\n",
       "    </tr>\n",
       "    <tr>\n",
       "      <th>4</th>\n",
       "      <td>0.000040</td>\n",
       "      <td>0.000127</td>\n",
       "      <td>1</td>\n",
       "    </tr>\n",
       "    <tr>\n",
       "      <th>...</th>\n",
       "      <td>...</td>\n",
       "      <td>...</td>\n",
       "      <td>...</td>\n",
       "    </tr>\n",
       "    <tr>\n",
       "      <th>1595</th>\n",
       "      <td>0.000056</td>\n",
       "      <td>0.000182</td>\n",
       "      <td>1</td>\n",
       "    </tr>\n",
       "    <tr>\n",
       "      <th>1596</th>\n",
       "      <td>0.000017</td>\n",
       "      <td>0.000054</td>\n",
       "      <td>1</td>\n",
       "    </tr>\n",
       "    <tr>\n",
       "      <th>1597</th>\n",
       "      <td>0.000044</td>\n",
       "      <td>0.000140</td>\n",
       "      <td>1</td>\n",
       "    </tr>\n",
       "    <tr>\n",
       "      <th>1598</th>\n",
       "      <td>0.000081</td>\n",
       "      <td>0.000260</td>\n",
       "      <td>1</td>\n",
       "    </tr>\n",
       "    <tr>\n",
       "      <th>1599</th>\n",
       "      <td>0.000075</td>\n",
       "      <td>0.000241</td>\n",
       "      <td>1</td>\n",
       "    </tr>\n",
       "  </tbody>\n",
       "</table>\n",
       "<p>1600 rows × 3 columns</p>\n",
       "</div>"
      ],
      "text/plain": [
       "          pr_0      pr_1  pred\n",
       "0     0.000054  0.000172     1\n",
       "1     0.000001  0.000003     1\n",
       "2     0.000004  0.000012     1\n",
       "3     0.000002  0.000008     1\n",
       "4     0.000040  0.000127     1\n",
       "...        ...       ...   ...\n",
       "1595  0.000056  0.000182     1\n",
       "1596  0.000017  0.000054     1\n",
       "1597  0.000044  0.000140     1\n",
       "1598  0.000081  0.000260     1\n",
       "1599  0.000075  0.000241     1\n",
       "\n",
       "[1600 rows x 3 columns]"
      ]
     },
     "execution_count": 10,
     "metadata": {},
     "output_type": "execute_result"
    }
   ],
   "source": [
    "# Initialize list of predictions\n",
    "store_preds = []\n",
    "\n",
    "# Predict outputs for training dataset\n",
    "for i,row in train.iterrows():\n",
    "    # Set class probabilities as starting point\n",
    "    pr_0 = class_probs[0]\n",
    "    pr_1 = class_probs[1]  \n",
    "    \n",
    "    for j in row.index:\n",
    "        if (j == \"id\") or (j == \"vote\"):\n",
    "            continue\n",
    "        \n",
    "        if j == \"white\":\n",
    "            # Compute conditional probability for binary predictor\n",
    "            pr_0 *= cond_probs[(j,row[j],0)]\n",
    "            pr_1 *= cond_probs[(j,row[j],1)]\n",
    "        \n",
    "        else:\n",
    "            # Compute conditional probabilities for continuous predictor\n",
    "            pr_0 *= st.norm(dist_locs[(j,0)]['mean'],dist_locs[(j,0)]['sd']).pdf(row[j]) \n",
    "            pr_1 *= st.norm(dist_locs[(j,0)]['mean'],dist_locs[(j,0)]['sd']).pdf(row[j]) \n",
    "            \n",
    "    # Assign the class designation to the highest probability\n",
    "    if pr_0 >= pr_1:\n",
    "        class_pred = 0\n",
    "    else:\n",
    "        class_pred = 1\n",
    "    \n",
    "    # Store probability of each outcome and predicted outcome\n",
    "    store_preds.append([pr_0,pr_1,max([(pr_0,0),(pr_1,1)])[1]])\n",
    "\n",
    "# Print predictions\n",
    "train_pred = pd.DataFrame(store_preds,columns=[\"pr_0\",\"pr_1\",\"pred\"])\n",
    "train_pred"
   ]
  },
  {
   "cell_type": "code",
   "execution_count": 11,
   "metadata": {},
   "outputs": [
    {
     "data": {
      "text/plain": [
       "0.744375"
      ]
     },
     "execution_count": 11,
     "metadata": {},
     "output_type": "execute_result"
    }
   ],
   "source": [
    "# Preliminarily calculate predictive accuracy\n",
    "accuracy_train = sum(train.vote == train_pred.pred)/train.shape[0]\n",
    "accuracy_train"
   ]
  },
  {
   "cell_type": "markdown",
   "metadata": {},
   "source": [
    "#### Test Data"
   ]
  },
  {
   "cell_type": "code",
   "execution_count": 12,
   "metadata": {},
   "outputs": [
    {
     "data": {
      "text/html": [
       "<div>\n",
       "<style scoped>\n",
       "    .dataframe tbody tr th:only-of-type {\n",
       "        vertical-align: middle;\n",
       "    }\n",
       "\n",
       "    .dataframe tbody tr th {\n",
       "        vertical-align: top;\n",
       "    }\n",
       "\n",
       "    .dataframe thead th {\n",
       "        text-align: right;\n",
       "    }\n",
       "</style>\n",
       "<table border=\"1\" class=\"dataframe\">\n",
       "  <thead>\n",
       "    <tr style=\"text-align: right;\">\n",
       "      <th></th>\n",
       "      <th>pr_0</th>\n",
       "      <th>pr_1</th>\n",
       "      <th>pred</th>\n",
       "    </tr>\n",
       "  </thead>\n",
       "  <tbody>\n",
       "    <tr>\n",
       "      <th>0</th>\n",
       "      <td>0.000004</td>\n",
       "      <td>0.000008</td>\n",
       "      <td>1</td>\n",
       "    </tr>\n",
       "    <tr>\n",
       "      <th>1</th>\n",
       "      <td>0.000020</td>\n",
       "      <td>0.000063</td>\n",
       "      <td>1</td>\n",
       "    </tr>\n",
       "    <tr>\n",
       "      <th>2</th>\n",
       "      <td>0.000030</td>\n",
       "      <td>0.000098</td>\n",
       "      <td>1</td>\n",
       "    </tr>\n",
       "    <tr>\n",
       "      <th>3</th>\n",
       "      <td>0.000079</td>\n",
       "      <td>0.000255</td>\n",
       "      <td>1</td>\n",
       "    </tr>\n",
       "    <tr>\n",
       "      <th>4</th>\n",
       "      <td>0.000001</td>\n",
       "      <td>0.000004</td>\n",
       "      <td>1</td>\n",
       "    </tr>\n",
       "    <tr>\n",
       "      <th>...</th>\n",
       "      <td>...</td>\n",
       "      <td>...</td>\n",
       "      <td>...</td>\n",
       "    </tr>\n",
       "    <tr>\n",
       "      <th>395</th>\n",
       "      <td>0.000015</td>\n",
       "      <td>0.000049</td>\n",
       "      <td>1</td>\n",
       "    </tr>\n",
       "    <tr>\n",
       "      <th>396</th>\n",
       "      <td>0.000083</td>\n",
       "      <td>0.000266</td>\n",
       "      <td>1</td>\n",
       "    </tr>\n",
       "    <tr>\n",
       "      <th>397</th>\n",
       "      <td>0.000001</td>\n",
       "      <td>0.000004</td>\n",
       "      <td>1</td>\n",
       "    </tr>\n",
       "    <tr>\n",
       "      <th>398</th>\n",
       "      <td>0.000054</td>\n",
       "      <td>0.000173</td>\n",
       "      <td>1</td>\n",
       "    </tr>\n",
       "    <tr>\n",
       "      <th>399</th>\n",
       "      <td>0.000040</td>\n",
       "      <td>0.000129</td>\n",
       "      <td>1</td>\n",
       "    </tr>\n",
       "  </tbody>\n",
       "</table>\n",
       "<p>400 rows × 3 columns</p>\n",
       "</div>"
      ],
      "text/plain": [
       "         pr_0      pr_1  pred\n",
       "0    0.000004  0.000008     1\n",
       "1    0.000020  0.000063     1\n",
       "2    0.000030  0.000098     1\n",
       "3    0.000079  0.000255     1\n",
       "4    0.000001  0.000004     1\n",
       "..        ...       ...   ...\n",
       "395  0.000015  0.000049     1\n",
       "396  0.000083  0.000266     1\n",
       "397  0.000001  0.000004     1\n",
       "398  0.000054  0.000173     1\n",
       "399  0.000040  0.000129     1\n",
       "\n",
       "[400 rows x 3 columns]"
      ]
     },
     "execution_count": 12,
     "metadata": {},
     "output_type": "execute_result"
    }
   ],
   "source": [
    "# Initialize list of predictions\n",
    "store_preds = []\n",
    "\n",
    "# Predict outputs for training dataset\n",
    "for i,row in test.iterrows():\n",
    "    # Set class probabilities as starting point\n",
    "    pr_0 = class_probs[0]\n",
    "    pr_1 = class_probs[1]  \n",
    "    \n",
    "    for j in row.index:\n",
    "        if (j == \"id\") or (j == \"vote\"):\n",
    "            continue\n",
    "        \n",
    "        if j == \"white\":\n",
    "            # Compute conditional probability for binary predictor\n",
    "            pr_0 *= cond_probs[(j,row[j],0)]\n",
    "            pr_1 *= cond_probs[(j,row[j],1)]\n",
    "        \n",
    "        else:\n",
    "            # Compute conditional probabilities for continuous predictor\n",
    "            pr_0 *= st.norm(dist_locs[(j,0)]['mean'],dist_locs[(j,0)]['sd']).pdf(row[j]) \n",
    "            pr_1 *= st.norm(dist_locs[(j,0)]['mean'],dist_locs[(j,0)]['sd']).pdf(row[j]) \n",
    "            \n",
    "    # Assign the class designation to the highest probability\n",
    "    if pr_0 >= pr_1:\n",
    "        class_pred = 0\n",
    "    else:\n",
    "        class_pred = 1\n",
    "    \n",
    "    # Store probability of each outcome and predicted outcome\n",
    "    store_preds.append([pr_0,pr_1,max([(pr_0,0),(pr_1,1)])[1]])\n",
    "\n",
    "# Print predictions\n",
    "test_pred = pd.DataFrame(store_preds,columns=[\"pr_0\",\"pr_1\",\"pred\"])\n",
    "test_pred"
   ]
  },
  {
   "cell_type": "code",
   "execution_count": 13,
   "metadata": {},
   "outputs": [
    {
     "data": {
      "text/plain": [
       "0.7"
      ]
     },
     "execution_count": 13,
     "metadata": {},
     "output_type": "execute_result"
    }
   ],
   "source": [
    "# Calculate predictive accuracy\n",
    "accuracy_test = sum(test.vote == test_pred.pred)/test.shape[0]\n",
    "accuracy_test"
   ]
  },
  {
   "cell_type": "markdown",
   "metadata": {},
   "source": [
    "### Calculate Predictive Accuracy using `sklearn.metrics`"
   ]
  },
  {
   "cell_type": "code",
   "execution_count": 14,
   "metadata": {},
   "outputs": [],
   "source": [
    "# Prepare data to be fed into sklearn.metrics\n",
    "train_y = train['vote']\n",
    "train_x = train[['age','educate','income','white']]\n",
    "test_y = test['vote']\n",
    "test_x = test[['age','educate','income','white']]"
   ]
  },
  {
   "cell_type": "code",
   "execution_count": 15,
   "metadata": {},
   "outputs": [
    {
     "data": {
      "text/plain": [
       "0.71"
      ]
     },
     "execution_count": 15,
     "metadata": {},
     "output_type": "execute_result"
    }
   ],
   "source": [
    "from sklearn.naive_bayes import GaussianNB # Classifier \n",
    "import sklearn.metrics as m # Metrics to determine the classification \n",
    "\n",
    "# Create moniker for model class\n",
    "gnb = GaussianNB()\n",
    "\n",
    "# Use training data to fit values\n",
    "gnb.fit(train_x, train_y)\n",
    "\n",
    "# Predict \n",
    "y_pred = gnb.predict(test_x)\n",
    "\n",
    "# Calculate predictive accuracy of the test data\n",
    "m.accuracy_score(test_y,y_pred)"
   ]
  },
  {
   "cell_type": "markdown",
   "metadata": {},
   "source": [
    "#### Area under the Receiver Operating Characteristic (ROC) curve"
   ]
  },
  {
   "cell_type": "code",
   "execution_count": 16,
   "metadata": {},
   "outputs": [
    {
     "data": {
      "text/plain": [
       "0.5714285714285714"
      ]
     },
     "execution_count": 16,
     "metadata": {},
     "output_type": "execute_result"
    }
   ],
   "source": [
    "# Calculate predictive accuracy of test data\n",
    "m.roc_auc_score(test_y,y_pred)"
   ]
  },
  {
   "cell_type": "code",
   "execution_count": 17,
   "metadata": {},
   "outputs": [
    {
     "data": {
      "text/html": [
       "<div>\n",
       "<style scoped>\n",
       "    .dataframe tbody tr th:only-of-type {\n",
       "        vertical-align: middle;\n",
       "    }\n",
       "\n",
       "    .dataframe tbody tr th {\n",
       "        vertical-align: top;\n",
       "    }\n",
       "\n",
       "    .dataframe thead th {\n",
       "        text-align: right;\n",
       "    }\n",
       "</style>\n",
       "<table border=\"1\" class=\"dataframe\">\n",
       "  <thead>\n",
       "    <tr style=\"text-align: right;\">\n",
       "      <th></th>\n",
       "      <th>0</th>\n",
       "      <th>1</th>\n",
       "    </tr>\n",
       "  </thead>\n",
       "  <tbody>\n",
       "    <tr>\n",
       "      <th>0</th>\n",
       "      <td>0.417308</td>\n",
       "      <td>0.582692</td>\n",
       "    </tr>\n",
       "    <tr>\n",
       "      <th>1</th>\n",
       "      <td>0.084880</td>\n",
       "      <td>0.915120</td>\n",
       "    </tr>\n",
       "    <tr>\n",
       "      <th>2</th>\n",
       "      <td>0.279069</td>\n",
       "      <td>0.720931</td>\n",
       "    </tr>\n",
       "    <tr>\n",
       "      <th>3</th>\n",
       "      <td>0.268680</td>\n",
       "      <td>0.731320</td>\n",
       "    </tr>\n",
       "    <tr>\n",
       "      <th>4</th>\n",
       "      <td>0.025347</td>\n",
       "      <td>0.974653</td>\n",
       "    </tr>\n",
       "    <tr>\n",
       "      <th>...</th>\n",
       "      <td>...</td>\n",
       "      <td>...</td>\n",
       "    </tr>\n",
       "    <tr>\n",
       "      <th>395</th>\n",
       "      <td>0.158396</td>\n",
       "      <td>0.841604</td>\n",
       "    </tr>\n",
       "    <tr>\n",
       "      <th>396</th>\n",
       "      <td>0.288806</td>\n",
       "      <td>0.711194</td>\n",
       "    </tr>\n",
       "    <tr>\n",
       "      <th>397</th>\n",
       "      <td>0.014993</td>\n",
       "      <td>0.985007</td>\n",
       "    </tr>\n",
       "    <tr>\n",
       "      <th>398</th>\n",
       "      <td>0.453210</td>\n",
       "      <td>0.546790</td>\n",
       "    </tr>\n",
       "    <tr>\n",
       "      <th>399</th>\n",
       "      <td>0.351275</td>\n",
       "      <td>0.648725</td>\n",
       "    </tr>\n",
       "  </tbody>\n",
       "</table>\n",
       "<p>400 rows × 2 columns</p>\n",
       "</div>"
      ],
      "text/plain": [
       "            0         1\n",
       "0    0.417308  0.582692\n",
       "1    0.084880  0.915120\n",
       "2    0.279069  0.720931\n",
       "3    0.268680  0.731320\n",
       "4    0.025347  0.974653\n",
       "..        ...       ...\n",
       "395  0.158396  0.841604\n",
       "396  0.288806  0.711194\n",
       "397  0.014993  0.985007\n",
       "398  0.453210  0.546790\n",
       "399  0.351275  0.648725\n",
       "\n",
       "[400 rows x 2 columns]"
      ]
     },
     "execution_count": 17,
     "metadata": {},
     "output_type": "execute_result"
    }
   ],
   "source": [
    "# Compute probabilities of each outcome for each observation\n",
    "probs = gnb.predict_proba(test_x)\n",
    "probs =  pd.DataFrame(probs,columns=gnb.classes_)\n",
    "probs"
   ]
  },
  {
   "cell_type": "code",
   "execution_count": 18,
   "metadata": {},
   "outputs": [],
   "source": [
    "# Generate the False Positive Rate and True Positive Rate using different thresholds\n",
    "fpr, tpr, thresholds = m.roc_curve(test_y, probs[1])"
   ]
  },
  {
   "cell_type": "code",
   "execution_count": 19,
   "metadata": {},
   "outputs": [
    {
     "data": {
      "image/png": "[encoded data removed]",
      "text/plain": [
       "<Figure size 700x500 with 1 Axes>"
      ]
     },
     "metadata": {},
     "output_type": "display_data"
    },
    {
     "data": {
      "text/plain": [
       "<ggplot: (-9223371871290934304)>"
      ]
     },
     "execution_count": 19,
     "metadata": {},
     "output_type": "execute_result"
    }
   ],
   "source": [
    "# Plot the ROC Curve\n",
    "( \n",
    "    ggplot(pd.DataFrame(dict(fpr=fpr,tpr=tpr)),\n",
    "           aes(x=\"fpr\",y=\"tpr\")) +\n",
    "    geom_path(color=\"red\",size=1) +\n",
    "    geom_abline(intercept=0,slope=1,linetype=\"dashed\",color=\"gray\") +\n",
    "    theme_light() +\n",
    "    labs(title=\"ROC Curve on Turnout Test Data\",x=\"False Positive Rate\",y=\"True Positive Rate\") +\n",
    "    theme(figure_size=(7,5))\n",
    ")"
   ]
  },
  {
   "cell_type": "markdown",
   "metadata": {},
   "source": [
    "### Analysis of Results"
   ]
  },
  {
   "cell_type": "markdown",
   "metadata": {},
   "source": [
    "As computed previously, our model's accuracy score on test data is 0.7 while the area under the ROC curve (AUC) is 0.57. While the accuracy score indicates the percentage of the test data that we predicted correctly, the AUC shows the probability that our model will be able to correctly distinguish between voters and non-voters. By this measure, our model appears slightly better than a coin flip.\n",
    "\n",
    "The above ROC curve illustrates the trade-off that our model makes between correctly identifying voters and incorrectly tagging non-voters as voters. Our model consistently registers True Positive Rates greater than False Positive Rates. This affirms that the model performs better than chance, i.e. a coin flip. Using a coin flip for prediction yields an ROC curve hovering around the 45 degree reference line (as shown in the Annex)."
   ]
  },
  {
   "cell_type": "markdown",
   "metadata": {},
   "source": [
    "***"
   ]
  },
  {
   "cell_type": "markdown",
   "metadata": {},
   "source": [
    "## ANNEX\n",
    "#### Coin Flip"
   ]
  },
  {
   "cell_type": "code",
   "execution_count": 20,
   "metadata": {},
   "outputs": [
    {
     "data": {
      "text/html": [
       "<div>\n",
       "<style scoped>\n",
       "    .dataframe tbody tr th:only-of-type {\n",
       "        vertical-align: middle;\n",
       "    }\n",
       "\n",
       "    .dataframe tbody tr th {\n",
       "        vertical-align: top;\n",
       "    }\n",
       "\n",
       "    .dataframe thead th {\n",
       "        text-align: right;\n",
       "    }\n",
       "</style>\n",
       "<table border=\"1\" class=\"dataframe\">\n",
       "  <thead>\n",
       "    <tr style=\"text-align: right;\">\n",
       "      <th></th>\n",
       "      <th>pr_0</th>\n",
       "      <th>pr_1</th>\n",
       "      <th>pred</th>\n",
       "    </tr>\n",
       "  </thead>\n",
       "  <tbody>\n",
       "    <tr>\n",
       "      <th>0</th>\n",
       "      <td>0.918185</td>\n",
       "      <td>0.081815</td>\n",
       "      <td>0</td>\n",
       "    </tr>\n",
       "    <tr>\n",
       "      <th>1</th>\n",
       "      <td>0.078086</td>\n",
       "      <td>0.921914</td>\n",
       "      <td>1</td>\n",
       "    </tr>\n",
       "    <tr>\n",
       "      <th>2</th>\n",
       "      <td>0.852417</td>\n",
       "      <td>0.147583</td>\n",
       "      <td>0</td>\n",
       "    </tr>\n",
       "    <tr>\n",
       "      <th>3</th>\n",
       "      <td>0.673779</td>\n",
       "      <td>0.326221</td>\n",
       "      <td>0</td>\n",
       "    </tr>\n",
       "    <tr>\n",
       "      <th>4</th>\n",
       "      <td>0.055319</td>\n",
       "      <td>0.944681</td>\n",
       "      <td>1</td>\n",
       "    </tr>\n",
       "    <tr>\n",
       "      <th>...</th>\n",
       "      <td>...</td>\n",
       "      <td>...</td>\n",
       "      <td>...</td>\n",
       "    </tr>\n",
       "    <tr>\n",
       "      <th>395</th>\n",
       "      <td>0.024511</td>\n",
       "      <td>0.975489</td>\n",
       "      <td>1</td>\n",
       "    </tr>\n",
       "    <tr>\n",
       "      <th>396</th>\n",
       "      <td>0.094765</td>\n",
       "      <td>0.905235</td>\n",
       "      <td>1</td>\n",
       "    </tr>\n",
       "    <tr>\n",
       "      <th>397</th>\n",
       "      <td>0.650948</td>\n",
       "      <td>0.349052</td>\n",
       "      <td>0</td>\n",
       "    </tr>\n",
       "    <tr>\n",
       "      <th>398</th>\n",
       "      <td>0.163448</td>\n",
       "      <td>0.836552</td>\n",
       "      <td>1</td>\n",
       "    </tr>\n",
       "    <tr>\n",
       "      <th>399</th>\n",
       "      <td>0.258843</td>\n",
       "      <td>0.741157</td>\n",
       "      <td>1</td>\n",
       "    </tr>\n",
       "  </tbody>\n",
       "</table>\n",
       "<p>400 rows × 3 columns</p>\n",
       "</div>"
      ],
      "text/plain": [
       "         pr_0      pr_1  pred\n",
       "0    0.918185  0.081815     0\n",
       "1    0.078086  0.921914     1\n",
       "2    0.852417  0.147583     0\n",
       "3    0.673779  0.326221     0\n",
       "4    0.055319  0.944681     1\n",
       "..        ...       ...   ...\n",
       "395  0.024511  0.975489     1\n",
       "396  0.094765  0.905235     1\n",
       "397  0.650948  0.349052     0\n",
       "398  0.163448  0.836552     1\n",
       "399  0.258843  0.741157     1\n",
       "\n",
       "[400 rows x 3 columns]"
      ]
     },
     "execution_count": 20,
     "metadata": {},
     "output_type": "execute_result"
    }
   ],
   "source": [
    "# Initialize list of predictions\n",
    "store_preds = []\n",
    "\n",
    "# Predict outputs for training dataset\n",
    "for i,row in test.iterrows():\n",
    "    # Generate random number\n",
    "    pr_0 = np.random.uniform(0,1)\n",
    "    pr_1 = 1 - pr_0\n",
    "            \n",
    "    # Assign the class designation to the highest probability\n",
    "    if pr_0 >= pr_1:\n",
    "        class_pred = 0\n",
    "    else:\n",
    "        class_pred = 1\n",
    "    \n",
    "    # Store probability of each outcome and predicted outcome\n",
    "    store_preds.append([pr_0,pr_1,max([(pr_0,0),(pr_1,1)])[1]])\n",
    "\n",
    "# Print predictions\n",
    "coin_pred = pd.DataFrame(store_preds,columns=[\"pr_0\",\"pr_1\",\"pred\"])\n",
    "coin_pred"
   ]
  },
  {
   "cell_type": "code",
   "execution_count": 21,
   "metadata": {
    "scrolled": true
   },
   "outputs": [
    {
     "data": {
      "text/plain": [
       "0.51"
      ]
     },
     "execution_count": 21,
     "metadata": {},
     "output_type": "execute_result"
    }
   ],
   "source": [
    "# Preliminarily calculate predictive accuracy\n",
    "accuracy_coin = sum(test.vote == coin_pred.pred)/test.shape[0]\n",
    "accuracy_coin"
   ]
  },
  {
   "cell_type": "markdown",
   "metadata": {},
   "source": [
    "### Calculate Predictive Accuracy using `sklearn.metrics`"
   ]
  },
  {
   "cell_type": "code",
   "execution_count": 22,
   "metadata": {},
   "outputs": [],
   "source": [
    "# Prepare data to be fed into sklearn.metrics\n",
    "train_y = train['vote']\n",
    "train_x = train[['age','educate','income','white']]\n",
    "test_y = test['vote']\n",
    "test_x = test[['age','educate','income','white']]"
   ]
  },
  {
   "cell_type": "markdown",
   "metadata": {},
   "source": [
    "#### Accuracy classification score"
   ]
  },
  {
   "cell_type": "code",
   "execution_count": 23,
   "metadata": {},
   "outputs": [
    {
     "data": {
      "text/plain": [
       "0.51"
      ]
     },
     "execution_count": 23,
     "metadata": {},
     "output_type": "execute_result"
    }
   ],
   "source": [
    "from sklearn.naive_bayes import GaussianNB # Classifier \n",
    "import sklearn.metrics as m # Metrics to determine the classification \n",
    "\n",
    "# Create moniker for model class\n",
    "gnb = GaussianNB()\n",
    "\n",
    "# Use training data to fit values\n",
    "gnb.fit(train_x, train_y)\n",
    "\n",
    "# Predict \n",
    "y_pred = gnb.predict(test_x)\n",
    "\n",
    "# Calculate predictive accuracy of the test data\n",
    "m.accuracy_score(test_y,coin_pred[\"pred\"])"
   ]
  },
  {
   "cell_type": "markdown",
   "metadata": {},
   "source": [
    "#### Area under the Receiver Operating Characteristic (ROC) curve"
   ]
  },
  {
   "cell_type": "code",
   "execution_count": 24,
   "metadata": {},
   "outputs": [
    {
     "data": {
      "text/plain": [
       "0.5166666666666667"
      ]
     },
     "execution_count": 24,
     "metadata": {},
     "output_type": "execute_result"
    }
   ],
   "source": [
    "# Calculate predictive accuracy of test data\n",
    "m.roc_auc_score(test_y,coin_pred[\"pred\"])"
   ]
  },
  {
   "cell_type": "code",
   "execution_count": 25,
   "metadata": {},
   "outputs": [],
   "source": [
    "# Generate the False Positive Rate and True Positive Rate using different thresholds\n",
    "fpr, tpr, thresholds = m.roc_curve(test_y, coin_pred[\"pr_1\"])"
   ]
  },
  {
   "cell_type": "code",
   "execution_count": 28,
   "metadata": {},
   "outputs": [
    {
     "data": {
      "image/png": "[encoded data removed]",
      "text/plain": [
       "<Figure size 700x500 with 1 Axes>"
      ]
     },
     "metadata": {},
     "output_type": "display_data"
    },
    {
     "data": {
      "text/plain": [
       "<ggplot: (-9223371871291110876)>"
      ]
     },
     "execution_count": 28,
     "metadata": {},
     "output_type": "execute_result"
    }
   ],
   "source": [
    "# Plot the ROC Curve\n",
    "( \n",
    "    ggplot(pd.DataFrame(dict(fpr=fpr,tpr=tpr)),\n",
    "           aes(x=\"fpr\",y=\"tpr\")) +\n",
    "    geom_path(color=\"red\",size=1) +\n",
    "    geom_abline(intercept=0,slope=1,linetype=\"dashed\",color=\"gray\") +\n",
    "    theme_light() +\n",
    "    labs(title=\"ROC Curve on Turnout Test Data of a Coin Flip\",x=\"False Positive Rate\",y=\"True Positive Rate\") +\n",
    "    theme(figure_size=(7,5))\n",
    ")"
   ]
  }
 ],
 "metadata": {
  "kernelspec": {
   "display_name": "Python 3",
   "language": "python",
   "name": "python3"
  },
  "language_info": {
   "codemirror_mode": {
    "name": "ipython",
    "version": 3
   },
   "file_extension": ".py",
   "mimetype": "text/x-python",
   "name": "python",
   "nbconvert_exporter": "python",
   "pygments_lexer": "ipython3",
   "version": "3.7.6"
  }
 },
 "nbformat": 4,
 "nbformat_minor": 4
}
