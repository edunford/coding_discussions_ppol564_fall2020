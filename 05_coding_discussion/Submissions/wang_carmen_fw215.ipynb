{
 "cells": [
  {
   "cell_type": "markdown",
   "metadata": {},
   "source": [
    "#### Coding Discussion 5\n",
    "Carmen Wang "
   ]
  },
  {
   "cell_type": "code",
   "execution_count": 71,
   "metadata": {},
   "outputs": [],
   "source": [
    "import pandas as pd\n",
    "import numpy as np\n",
    "import scipy.stats as st\n",
    "import pprint as pp \n",
    "import warnings\n",
    "warnings.filterwarnings(\"ignore\")\n",
    "import seaborn as sns \n",
    "import matplotlib.pyplot as plt\n",
    "from plotnine import * \n",
    "from sklearn.naive_bayes import GaussianNB # Classifier \n",
    "import sklearn.metrics as m"
   ]
  },
  {
   "cell_type": "code",
   "execution_count": 2,
   "metadata": {},
   "outputs": [
    {
     "data": {
      "text/html": [
       "<div>\n",
       "<style scoped>\n",
       "    .dataframe tbody tr th:only-of-type {\n",
       "        vertical-align: middle;\n",
       "    }\n",
       "\n",
       "    .dataframe tbody tr th {\n",
       "        vertical-align: top;\n",
       "    }\n",
       "\n",
       "    .dataframe thead th {\n",
       "        text-align: right;\n",
       "    }\n",
       "</style>\n",
       "<table border=\"1\" class=\"dataframe\">\n",
       "  <thead>\n",
       "    <tr style=\"text-align: right;\">\n",
       "      <th></th>\n",
       "      <th>id</th>\n",
       "      <th>age</th>\n",
       "      <th>educate</th>\n",
       "      <th>income</th>\n",
       "      <th>vote</th>\n",
       "      <th>white</th>\n",
       "    </tr>\n",
       "  </thead>\n",
       "  <tbody>\n",
       "    <tr>\n",
       "      <th>0</th>\n",
       "      <td>1</td>\n",
       "      <td>60</td>\n",
       "      <td>14.0</td>\n",
       "      <td>3.3458</td>\n",
       "      <td>1</td>\n",
       "      <td>1</td>\n",
       "    </tr>\n",
       "    <tr>\n",
       "      <th>1</th>\n",
       "      <td>2</td>\n",
       "      <td>51</td>\n",
       "      <td>10.0</td>\n",
       "      <td>1.8561</td>\n",
       "      <td>0</td>\n",
       "      <td>1</td>\n",
       "    </tr>\n",
       "    <tr>\n",
       "      <th>2</th>\n",
       "      <td>3</td>\n",
       "      <td>24</td>\n",
       "      <td>12.0</td>\n",
       "      <td>0.6304</td>\n",
       "      <td>0</td>\n",
       "      <td>1</td>\n",
       "    </tr>\n",
       "    <tr>\n",
       "      <th>3</th>\n",
       "      <td>4</td>\n",
       "      <td>38</td>\n",
       "      <td>8.0</td>\n",
       "      <td>3.4183</td>\n",
       "      <td>1</td>\n",
       "      <td>1</td>\n",
       "    </tr>\n",
       "    <tr>\n",
       "      <th>4</th>\n",
       "      <td>5</td>\n",
       "      <td>25</td>\n",
       "      <td>12.0</td>\n",
       "      <td>2.7852</td>\n",
       "      <td>1</td>\n",
       "      <td>1</td>\n",
       "    </tr>\n",
       "    <tr>\n",
       "      <th>...</th>\n",
       "      <td>...</td>\n",
       "      <td>...</td>\n",
       "      <td>...</td>\n",
       "      <td>...</td>\n",
       "      <td>...</td>\n",
       "      <td>...</td>\n",
       "    </tr>\n",
       "    <tr>\n",
       "      <th>1995</th>\n",
       "      <td>1996</td>\n",
       "      <td>26</td>\n",
       "      <td>16.0</td>\n",
       "      <td>3.3834</td>\n",
       "      <td>0</td>\n",
       "      <td>1</td>\n",
       "    </tr>\n",
       "    <tr>\n",
       "      <th>1996</th>\n",
       "      <td>1997</td>\n",
       "      <td>34</td>\n",
       "      <td>12.0</td>\n",
       "      <td>2.9170</td>\n",
       "      <td>1</td>\n",
       "      <td>1</td>\n",
       "    </tr>\n",
       "    <tr>\n",
       "      <th>1997</th>\n",
       "      <td>1998</td>\n",
       "      <td>51</td>\n",
       "      <td>16.0</td>\n",
       "      <td>7.8949</td>\n",
       "      <td>1</td>\n",
       "      <td>1</td>\n",
       "    </tr>\n",
       "    <tr>\n",
       "      <th>1998</th>\n",
       "      <td>1999</td>\n",
       "      <td>22</td>\n",
       "      <td>10.0</td>\n",
       "      <td>2.4811</td>\n",
       "      <td>0</td>\n",
       "      <td>1</td>\n",
       "    </tr>\n",
       "    <tr>\n",
       "      <th>1999</th>\n",
       "      <td>2000</td>\n",
       "      <td>59</td>\n",
       "      <td>10.0</td>\n",
       "      <td>0.5523</td>\n",
       "      <td>0</td>\n",
       "      <td>1</td>\n",
       "    </tr>\n",
       "  </tbody>\n",
       "</table>\n",
       "<p>2000 rows × 6 columns</p>\n",
       "</div>"
      ],
      "text/plain": [
       "        id  age  educate  income  vote  white\n",
       "0        1   60     14.0  3.3458     1      1\n",
       "1        2   51     10.0  1.8561     0      1\n",
       "2        3   24     12.0  0.6304     0      1\n",
       "3        4   38      8.0  3.4183     1      1\n",
       "4        5   25     12.0  2.7852     1      1\n",
       "...    ...  ...      ...     ...   ...    ...\n",
       "1995  1996   26     16.0  3.3834     0      1\n",
       "1996  1997   34     12.0  2.9170     1      1\n",
       "1997  1998   51     16.0  7.8949     1      1\n",
       "1998  1999   22     10.0  2.4811     0      1\n",
       "1999  2000   59     10.0  0.5523     0      1\n",
       "\n",
       "[2000 rows x 6 columns]"
      ]
     },
     "execution_count": 2,
     "metadata": {},
     "output_type": "execute_result"
    }
   ],
   "source": [
    "#import data \n",
    "dta = pd.read_csv('turnout.csv')\n",
    "dta"
   ]
  },
  {
   "cell_type": "code",
   "execution_count": 73,
   "metadata": {},
   "outputs": [],
   "source": [
    "#set seed to generate random sample \n",
    "np.random.seed(1234)\n",
    "\n",
    "#split the data into training and testing data \n",
    "\n",
    "training = dta.sample(frac=0.8).reset_index(drop=True)\n",
    "testing = dta.drop(training.index).reset_index(drop=True)"
   ]
  },
  {
   "cell_type": "code",
   "execution_count": 74,
   "metadata": {},
   "outputs": [
    {
     "name": "stdout",
     "output_type": "stream",
     "text": [
      "(1600, 6) (400, 6)\n"
     ]
    }
   ],
   "source": [
    "#count the split \n",
    "print(training.shape, testing.shape)"
   ]
  },
  {
   "cell_type": "code",
   "execution_count": 75,
   "metadata": {},
   "outputs": [
    {
     "name": "stdout",
     "output_type": "stream",
     "text": [
      "\n",
      "Pr(vote = 0): 0.2575\n",
      "Pr(vote = 1): 0.7425\n",
      "\n"
     ]
    }
   ],
   "source": [
    "#calculate class probability \n",
    "N = training.shape[0]\n",
    "\n",
    "vote0 = training.query(\"vote == 0\")\n",
    "vote1 = training.query(\"vote == 1\")\n",
    "\n",
    "pr_v_0 = vote0.shape[0]/N\n",
    "pr_v_1 = vote1.shape[0]/N\n",
    "\n",
    "print(\n",
    "f\"\"\"\n",
    "Pr(vote = 0): {pr_v_0}\n",
    "Pr(vote = 1): {pr_v_1}\n",
    "\"\"\")"
   ]
  },
  {
   "cell_type": "code",
   "execution_count": 76,
   "metadata": {},
   "outputs": [],
   "source": [
    "#ID won't be used for prediction\n",
    "training.drop('id', axis = 1, inplace = True)\n",
    "testing.drop('id', axis = 1, inplace = True)"
   ]
  },
  {
   "cell_type": "markdown",
   "metadata": {},
   "source": [
    "#### Conditional Probability\n",
    "- $Pr(white = 1 | vote = 1)$\n",
    "- $Pr(white = 0 | vote = 1)$\n",
    "- $Pr(white = 1 | vote = 0)$\n",
    "- $Pr(white = 0 | vote = 0)$\n"
   ]
  },
  {
   "cell_type": "code",
   "execution_count": 77,
   "metadata": {},
   "outputs": [
    {
     "name": "stdout",
     "output_type": "stream",
     "text": [
      "\n",
      "Pr(white = 1|vote = 1): 0.8686868686868687\n",
      "Pr(white = 0|vote = 1): 0.13131313131313133\n",
      "Pr(white = 1|vote = 1): 0.7985436893203883\n",
      "Pr(white = 0|vote = 0): 0.20145631067961164\n",
      "\n"
     ]
    }
   ],
   "source": [
    "#given vote = 1\n",
    "\n",
    "pr_w1_v1 = vote1.query(\"white == 1\").shape[0]/vote1.shape[0]\n",
    "pr_w0_v1 = vote1.query(\"white == 0\").shape[0]/vote1.shape[0]\n",
    "pr_w1_v0 = vote0.query(\"white == 1\").shape[0]/vote0.shape[0]\n",
    "pr_w0_v0 = vote0.query(\"white == 0\").shape[0]/vote0.shape[0]\n",
    "\n",
    "print(\n",
    "f\"\"\"\n",
    "Pr(white = 1|vote = 1): {pr_w1_v1}\n",
    "Pr(white = 0|vote = 1): {pr_w0_v1}\n",
    "Pr(white = 1|vote = 1): {pr_w1_v0}\n",
    "Pr(white = 0|vote = 0): {pr_w0_v0}\n",
    "\"\"\"\n",
    ")"
   ]
  },
  {
   "cell_type": "code",
   "execution_count": 79,
   "metadata": {},
   "outputs": [],
   "source": [
    "white_pr = \\\n",
    "{('white', 1, 1): pr_w1_v1,\n",
    " ('white', 0, 1): pr_w0_v1,\n",
    " ('white', 1, 0): pr_w1_v0,\n",
    " ('white', 0, 0): pr_w0_v0\n",
    "}"
   ]
  },
  {
   "cell_type": "markdown",
   "metadata": {},
   "source": [
    "#### continuous variable "
   ]
  },
  {
   "cell_type": "code",
   "execution_count": 80,
   "metadata": {},
   "outputs": [
    {
     "name": "stdout",
     "output_type": "stream",
     "text": [
      "{('age', 0): {'mean': 42.601941747572816, 'sd': 19.147825402160812},\n",
      " ('age', 1): {'mean': 46.32491582491583, 'sd': 16.924844588853727},\n",
      " ('educate', 0): {'mean': 10.62864077669903, 'sd': 3.3043810919835317},\n",
      " ('educate', 1): {'mean': 12.558922558922559, 'sd': 3.2957141274443202},\n",
      " ('income', 0): {'mean': 2.738161893203883, 'sd': 2.242991372933763},\n",
      " ('income', 1): {'mean': 4.229461952861953, 'sd': 2.848208991067699}}\n"
     ]
    }
   ],
   "source": [
    "#calculate mean and stdv for each continuous variable \n",
    "\n",
    "dist_locs = \\\n",
    "{(\"age\",1):{'mean':vote1.age.mean(),'sd':vote1.age.std()},\n",
    " (\"age\",0):{'mean':vote0.age.mean(),'sd':vote0.age.std()},\n",
    " (\"educate\",1):{'mean':vote1.educate.mean(),'sd':vote1.educate.std()},\n",
    " (\"educate\",0):{'mean':vote0.educate.mean(),'sd':vote0.educate.std()},\n",
    " (\"income\",1):{'mean':vote1.income.mean(),'sd':vote1.income.std()},\n",
    " (\"income\",0):{'mean':vote0.income.mean(),'sd':vote0.income.std()},\n",
    "}\n",
    "\n",
    "\n",
    "pp.pprint(dist_locs)"
   ]
  },
  {
   "cell_type": "code",
   "execution_count": 81,
   "metadata": {},
   "outputs": [
    {
     "data": {
      "text/plain": [
       "Text(0, 0.5, 'Distribution')"
      ]
     },
     "execution_count": 81,
     "metadata": {},
     "output_type": "execute_result"
    },
    {
     "data": {
      "image/png": "[encoded data removed]",
      "text/plain": [
       "<Figure size 1500x600 with 1 Axes>"
      ]
     },
     "metadata": {
      "needs_background": "light"
     },
     "output_type": "display_data"
    }
   ],
   "source": [
    "#plot the conditional distribution\n",
    "\n",
    "plt.figure(figsize=(10,4),dpi=150)\n",
    "for key in dist_locs.keys():\n",
    "    locs = dist_locs[key]\n",
    "    d = pd.DataFrame([[i,st.norm(locs['mean'], locs['sd']).pdf(i)] \n",
    "                      for i in np.linspace(-20,100)])\n",
    "    ax = sns.lineplot(d[0],d[1],label=f\"{key[0]} where vote = {key[1]}\")\n",
    "plt.title(\"Conditional Distribution for continuous variables\")\n",
    "plt.xlabel(\"Countinues variables\")\n",
    "plt.ylabel(\"Distribution\")"
   ]
  },
  {
   "cell_type": "markdown",
   "metadata": {},
   "source": [
    "#### Prediction \n",
    "Outcome:\n",
    "- $Pr(vote = 1 | X)$\n",
    "- $Pr(vote = 0 | X)$"
   ]
  },
  {
   "cell_type": "code",
   "execution_count": 82,
   "metadata": {},
   "outputs": [],
   "source": [
    "def predict(data,dist_locs, binary, binary_pr):\n",
    "    '''\n",
    "    Function:    predict an outcome \n",
    "    Aurgument:   data: data input for prediction\n",
    "                 dist_locs: dictionary of conditional probability of continuous variables \n",
    "                 binary: a list of binary variable(s)\n",
    "                 binary_pr: dictionary of conditional probability of the binary variable(s)\n",
    "    '''\n",
    "    store_preds = []\n",
    "    for i,row in data.iterrows():\n",
    "        \n",
    "        #initialize the class probability \n",
    "        pr_0 = 1; pr_1 = 1\n",
    "        for j in range(1,len(row)):\n",
    "            \n",
    "            if row.index[j] in binary:\n",
    "                    pr_0 *= binary_pr[(row.index[j],row.values[j],0)]\n",
    "                    pr_1 *= binary_pr[(row.index[j],row.values[j],1)] \n",
    "            #for continuous variables \n",
    "            else: \n",
    "                    pr_0 *= st.norm(dist_locs[(row.index[j],0)]['mean'],dist_locs[(row.index[j],0)]['sd']).pdf(row.values[j])\n",
    "                    pr_1 *= st.norm(dist_locs[(row.index[j],1)]['mean'], dist_locs[(row.index[j],1)]['sd']).pdf(row.values[j])\n",
    "        pr_0 *= pr_v_0\n",
    "        pr_1 *= pr_v_1\n",
    "        \n",
    "        # Assign the class designation to the highest probability\n",
    "        if pr_0 >= pr_1:\n",
    "            class_pred = 0\n",
    "        else:\n",
    "            class_pred = 1\n",
    "            \n",
    "        store_preds.append([pr_0,pr_1,class_pred])\n",
    "        \n",
    "    return pd.DataFrame(store_preds,columns=[\"pr_0\",\"pr_1\",\"pred\"])\n",
    "\n",
    "# Run the function \n",
    "preds_train = predict(training.drop(\"vote\", axis = 1), dist_locs, ['white'], white_pr)"
   ]
  },
  {
   "cell_type": "code",
   "execution_count": 55,
   "metadata": {},
   "outputs": [
    {
     "data": {
      "text/html": [
       "<div>\n",
       "<style scoped>\n",
       "    .dataframe tbody tr th:only-of-type {\n",
       "        vertical-align: middle;\n",
       "    }\n",
       "\n",
       "    .dataframe tbody tr th {\n",
       "        vertical-align: top;\n",
       "    }\n",
       "\n",
       "    .dataframe thead th {\n",
       "        text-align: right;\n",
       "    }\n",
       "</style>\n",
       "<table border=\"1\" class=\"dataframe\">\n",
       "  <thead>\n",
       "    <tr style=\"text-align: right;\">\n",
       "      <th></th>\n",
       "      <th>pr_0</th>\n",
       "      <th>pr_1</th>\n",
       "      <th>pred</th>\n",
       "    </tr>\n",
       "  </thead>\n",
       "  <tbody>\n",
       "    <tr>\n",
       "      <th>0</th>\n",
       "      <td>0.000963</td>\n",
       "      <td>0.003754</td>\n",
       "      <td>1</td>\n",
       "    </tr>\n",
       "    <tr>\n",
       "      <th>1</th>\n",
       "      <td>0.000051</td>\n",
       "      <td>0.000011</td>\n",
       "      <td>0</td>\n",
       "    </tr>\n",
       "    <tr>\n",
       "      <th>2</th>\n",
       "      <td>0.003544</td>\n",
       "      <td>0.004789</td>\n",
       "      <td>1</td>\n",
       "    </tr>\n",
       "    <tr>\n",
       "      <th>3</th>\n",
       "      <td>0.002531</td>\n",
       "      <td>0.002372</td>\n",
       "      <td>0</td>\n",
       "    </tr>\n",
       "    <tr>\n",
       "      <th>4</th>\n",
       "      <td>0.002616</td>\n",
       "      <td>0.008924</td>\n",
       "      <td>1</td>\n",
       "    </tr>\n",
       "    <tr>\n",
       "      <th>5</th>\n",
       "      <td>0.000372</td>\n",
       "      <td>0.000165</td>\n",
       "      <td>0</td>\n",
       "    </tr>\n",
       "    <tr>\n",
       "      <th>6</th>\n",
       "      <td>0.003906</td>\n",
       "      <td>0.008219</td>\n",
       "      <td>1</td>\n",
       "    </tr>\n",
       "    <tr>\n",
       "      <th>7</th>\n",
       "      <td>0.001142</td>\n",
       "      <td>0.006008</td>\n",
       "      <td>1</td>\n",
       "    </tr>\n",
       "    <tr>\n",
       "      <th>8</th>\n",
       "      <td>0.001829</td>\n",
       "      <td>0.003999</td>\n",
       "      <td>1</td>\n",
       "    </tr>\n",
       "    <tr>\n",
       "      <th>9</th>\n",
       "      <td>0.002200</td>\n",
       "      <td>0.009923</td>\n",
       "      <td>1</td>\n",
       "    </tr>\n",
       "  </tbody>\n",
       "</table>\n",
       "</div>"
      ],
      "text/plain": [
       "       pr_0      pr_1  pred\n",
       "0  0.000963  0.003754     1\n",
       "1  0.000051  0.000011     0\n",
       "2  0.003544  0.004789     1\n",
       "3  0.002531  0.002372     0\n",
       "4  0.002616  0.008924     1\n",
       "5  0.000372  0.000165     0\n",
       "6  0.003906  0.008219     1\n",
       "7  0.001142  0.006008     1\n",
       "8  0.001829  0.003999     1\n",
       "9  0.002200  0.009923     1"
      ]
     },
     "execution_count": 55,
     "metadata": {},
     "output_type": "execute_result"
    }
   ],
   "source": [
    "preds_train.head(10)"
   ]
  },
  {
   "cell_type": "code",
   "execution_count": 57,
   "metadata": {},
   "outputs": [
    {
     "data": {
      "text/plain": [
       "0.73125"
      ]
     },
     "execution_count": 57,
     "metadata": {},
     "output_type": "execute_result"
    }
   ],
   "source": [
    "#acuracy for training data\n",
    "accuracy_train = sum(training.vote == preds_train.pred)/training.shape[0]\n",
    "accuracy_train"
   ]
  },
  {
   "cell_type": "code",
   "execution_count": 60,
   "metadata": {},
   "outputs": [
    {
     "data": {
      "text/plain": [
       "0.7075"
      ]
     },
     "execution_count": 60,
     "metadata": {},
     "output_type": "execute_result"
    }
   ],
   "source": [
    "#accuracy for testing data \n",
    "preds_test = predict(testing.drop(\"vote\", axis = 1), dist_locs, ['white'], white_pr)\n",
    "accuracy_test = sum(testing.vote == preds_test.pred)/testing.shape[0]\n",
    "accuracy_test"
   ]
  },
  {
   "cell_type": "markdown",
   "metadata": {},
   "source": [
    "####  `sklearn` implementation "
   ]
  },
  {
   "cell_type": "code",
   "execution_count": 65,
   "metadata": {},
   "outputs": [
    {
     "data": {
      "text/plain": [
       "0.7125"
      ]
     },
     "execution_count": 65,
     "metadata": {},
     "output_type": "execute_result"
    }
   ],
   "source": [
    "train_y = training['vote']\n",
    "train_x = training[['age','educate','income','white']]\n",
    "test_y = testing['vote']\n",
    "test_x = testing[['age','educate','income','white']]\n",
    "\n",
    "gnb = GaussianNB()\n",
    "gnb.fit(train_x, train_y) # Train\n",
    "\n",
    "# Predict \n",
    "y_pred = gnb.predict(test_x)\n",
    "\n",
    "# Out-of-sample performance \n",
    "m.accuracy_score(test_y,y_pred)"
   ]
  },
  {
   "cell_type": "code",
   "execution_count": 66,
   "metadata": {},
   "outputs": [
    {
     "data": {
      "text/plain": [
       "0.575595238095238"
      ]
     },
     "execution_count": 66,
     "metadata": {},
     "output_type": "execute_result"
    }
   ],
   "source": [
    "m.roc_auc_score(test_y,y_pred)"
   ]
  },
  {
   "cell_type": "code",
   "execution_count": 84,
   "metadata": {},
   "outputs": [
    {
     "data": {
      "text/html": [
       "<div>\n",
       "<style scoped>\n",
       "    .dataframe tbody tr th:only-of-type {\n",
       "        vertical-align: middle;\n",
       "    }\n",
       "\n",
       "    .dataframe tbody tr th {\n",
       "        vertical-align: top;\n",
       "    }\n",
       "\n",
       "    .dataframe thead th {\n",
       "        text-align: right;\n",
       "    }\n",
       "</style>\n",
       "<table border=\"1\" class=\"dataframe\">\n",
       "  <thead>\n",
       "    <tr style=\"text-align: right;\">\n",
       "      <th></th>\n",
       "      <th>0</th>\n",
       "      <th>1</th>\n",
       "    </tr>\n",
       "  </thead>\n",
       "  <tbody>\n",
       "    <tr>\n",
       "      <th>0</th>\n",
       "      <td>0.382004</td>\n",
       "      <td>0.617996</td>\n",
       "    </tr>\n",
       "    <tr>\n",
       "      <th>1</th>\n",
       "      <td>0.089185</td>\n",
       "      <td>0.910815</td>\n",
       "    </tr>\n",
       "    <tr>\n",
       "      <th>2</th>\n",
       "      <td>0.275975</td>\n",
       "      <td>0.724025</td>\n",
       "    </tr>\n",
       "    <tr>\n",
       "      <th>3</th>\n",
       "      <td>0.255162</td>\n",
       "      <td>0.744838</td>\n",
       "    </tr>\n",
       "    <tr>\n",
       "      <th>4</th>\n",
       "      <td>0.036055</td>\n",
       "      <td>0.963945</td>\n",
       "    </tr>\n",
       "    <tr>\n",
       "      <th>...</th>\n",
       "      <td>...</td>\n",
       "      <td>...</td>\n",
       "    </tr>\n",
       "    <tr>\n",
       "      <th>395</th>\n",
       "      <td>0.168330</td>\n",
       "      <td>0.831670</td>\n",
       "    </tr>\n",
       "    <tr>\n",
       "      <th>396</th>\n",
       "      <td>0.274707</td>\n",
       "      <td>0.725293</td>\n",
       "    </tr>\n",
       "    <tr>\n",
       "      <th>397</th>\n",
       "      <td>0.021379</td>\n",
       "      <td>0.978621</td>\n",
       "    </tr>\n",
       "    <tr>\n",
       "      <th>398</th>\n",
       "      <td>0.438499</td>\n",
       "      <td>0.561501</td>\n",
       "    </tr>\n",
       "    <tr>\n",
       "      <th>399</th>\n",
       "      <td>0.351710</td>\n",
       "      <td>0.648290</td>\n",
       "    </tr>\n",
       "  </tbody>\n",
       "</table>\n",
       "<p>400 rows × 2 columns</p>\n",
       "</div>"
      ],
      "text/plain": [
       "            0         1\n",
       "0    0.382004  0.617996\n",
       "1    0.089185  0.910815\n",
       "2    0.275975  0.724025\n",
       "3    0.255162  0.744838\n",
       "4    0.036055  0.963945\n",
       "..        ...       ...\n",
       "395  0.168330  0.831670\n",
       "396  0.274707  0.725293\n",
       "397  0.021379  0.978621\n",
       "398  0.438499  0.561501\n",
       "399  0.351710  0.648290\n",
       "\n",
       "[400 rows x 2 columns]"
      ]
     },
     "execution_count": 84,
     "metadata": {},
     "output_type": "execute_result"
    }
   ],
   "source": [
    "#to plot ROC curve\n",
    "#get the probability \n",
    "probs = gnb.predict_proba(test_x)\n",
    "probs =  pd.DataFrame(probs,columns=gnb.classes_)\n",
    "probs\n"
   ]
  },
  {
   "cell_type": "code",
   "execution_count": 85,
   "metadata": {},
   "outputs": [
    {
     "data": {
      "image/png": "[encoded data removed]",
      "text/plain": [
       "<Figure size 700x500 with 1 Axes>"
      ]
     },
     "metadata": {
      "needs_background": "light"
     },
     "output_type": "display_data"
    },
    {
     "data": {
      "text/plain": [
       "<ggplot: (-9223371913239109593)>"
      ]
     },
     "execution_count": 85,
     "metadata": {},
     "output_type": "execute_result"
    }
   ],
   "source": [
    "fpr, tpr, thresholds = m.roc_curve(test_y, probs[1])\n",
    "( \n",
    "    ggplot(pd.DataFrame(dict(fpr=fpr,tpr=tpr)),\n",
    "           aes(x=\"fpr\",y=\"tpr\")) +\n",
    "    geom_path(color=\"steelblue\",size=1) +\n",
    "    geom_abline(intercept=0,slope=1,linetype=\"dashed\") +\n",
    "    theme_minimal() +\n",
    "    labs(title=\"ROC Curve\") +\n",
    "    theme(figure_size=(7,5))\n",
    ")"
   ]
  },
  {
   "cell_type": "markdown",
   "metadata": {},
   "source": [
    "#### Summary \n",
    "\n",
    "Our model has an accuracy rate of 70.75% in the testing data. Generally speaking, the model makes pretty good predictions, and our model is better than chance. \n",
    "\n",
    "AUC score is 57.56%, which is slightly over 50%. In the other words, the prediction is not less than a satisfactory level. \n"
   ]
  }
 ],
 "metadata": {
  "kernelspec": {
   "display_name": "Python 3",
   "language": "python",
   "name": "python3"
  },
  "language_info": {
   "codemirror_mode": {
    "name": "ipython",
    "version": 3
   },
   "file_extension": ".py",
   "mimetype": "text/x-python",
   "name": "python",
   "nbconvert_exporter": "python",
   "pygments_lexer": "ipython3",
   "version": "3.6.3"
  }
 },
 "nbformat": 4,
 "nbformat_minor": 4
}
