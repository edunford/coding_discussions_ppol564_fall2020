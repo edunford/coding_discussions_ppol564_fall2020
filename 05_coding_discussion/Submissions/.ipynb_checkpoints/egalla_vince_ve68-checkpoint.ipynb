{
 "cells": [
  {
   "cell_type": "markdown",
   "metadata": {},
   "source": [
    "# Coding Discussion 05\n",
    "## Vince Egalla (ve68)\n",
    "\n",
    "**Can we predict whether someone will vote or not?**\n",
    "\n",
    "In the discussion folder, you'll find the `turnout.csv` data, which was drawn from the 2012 National Election Survey. The data records the age, eduction level (of total years in school), income, race (caucasian or not), and past voting record (i.e. whether or not the respondent voted in the 2012 Presidential election). The sample is composed of 2000 individual respondents. \n",
    "\n",
    "Please break the data up into a training (1600 entries, 80%) and test dataset (400 entries, 20%). \n",
    "\n",
    "Build a Naive Bayesian Classifier from scratch that tries to predict whether a respondent will vote in a presidential election or not, pr(Vote==1). The classifier must be built from scratch. Do not use a third party ML or statistical package. \n",
    "\n",
    "Run your algorithm and see how it predicts on the test data. Use the `sklearn.metrics` library to calculate the predictive accuracy and the area underneath the ROC curve. \n",
    "\n",
    "Does your model perform better than chance (i.e. coin flip)?\n",
    "\n",
    "When completing this answer, be sure to: \n",
    "\n",
    "- comment on all your code\n",
    "- provide a narrative for what you're doing\n",
    "- summarize your results and findings"
   ]
  },
  {
   "cell_type": "markdown",
   "metadata": {},
   "source": [
    "## Dependencies"
   ]
  },
  {
   "cell_type": "code",
   "execution_count": 175,
   "metadata": {},
   "outputs": [],
   "source": [
    "import pandas as pd\n",
    "import numpy as np\n",
    "import pprint as pp\n",
    "import scipy.stats as st\n",
    "\n",
    "from sklearn.naive_bayes import GaussianNB # Classifier \n",
    "import sklearn.metrics as m # Metrics to determine the classification \n",
    "\n",
    "from plotnine import *"
   ]
  },
  {
   "cell_type": "code",
   "execution_count": 6,
   "metadata": {},
   "outputs": [
    {
     "data": {
      "text/html": [
       "<div>\n",
       "<style scoped>\n",
       "    .dataframe tbody tr th:only-of-type {\n",
       "        vertical-align: middle;\n",
       "    }\n",
       "\n",
       "    .dataframe tbody tr th {\n",
       "        vertical-align: top;\n",
       "    }\n",
       "\n",
       "    .dataframe thead th {\n",
       "        text-align: right;\n",
       "    }\n",
       "</style>\n",
       "<table border=\"1\" class=\"dataframe\">\n",
       "  <thead>\n",
       "    <tr style=\"text-align: right;\">\n",
       "      <th></th>\n",
       "      <th>id</th>\n",
       "      <th>age</th>\n",
       "      <th>educate</th>\n",
       "      <th>income</th>\n",
       "      <th>vote</th>\n",
       "      <th>white</th>\n",
       "    </tr>\n",
       "  </thead>\n",
       "  <tbody>\n",
       "    <tr>\n",
       "      <th>0</th>\n",
       "      <td>1</td>\n",
       "      <td>60</td>\n",
       "      <td>14.0</td>\n",
       "      <td>3.3458</td>\n",
       "      <td>1</td>\n",
       "      <td>1</td>\n",
       "    </tr>\n",
       "    <tr>\n",
       "      <th>1</th>\n",
       "      <td>2</td>\n",
       "      <td>51</td>\n",
       "      <td>10.0</td>\n",
       "      <td>1.8561</td>\n",
       "      <td>0</td>\n",
       "      <td>1</td>\n",
       "    </tr>\n",
       "    <tr>\n",
       "      <th>2</th>\n",
       "      <td>3</td>\n",
       "      <td>24</td>\n",
       "      <td>12.0</td>\n",
       "      <td>0.6304</td>\n",
       "      <td>0</td>\n",
       "      <td>1</td>\n",
       "    </tr>\n",
       "    <tr>\n",
       "      <th>3</th>\n",
       "      <td>4</td>\n",
       "      <td>38</td>\n",
       "      <td>8.0</td>\n",
       "      <td>3.4183</td>\n",
       "      <td>1</td>\n",
       "      <td>1</td>\n",
       "    </tr>\n",
       "    <tr>\n",
       "      <th>4</th>\n",
       "      <td>5</td>\n",
       "      <td>25</td>\n",
       "      <td>12.0</td>\n",
       "      <td>2.7852</td>\n",
       "      <td>1</td>\n",
       "      <td>1</td>\n",
       "    </tr>\n",
       "  </tbody>\n",
       "</table>\n",
       "</div>"
      ],
      "text/plain": [
       "   id  age  educate  income  vote  white\n",
       "0   1   60     14.0  3.3458     1      1\n",
       "1   2   51     10.0  1.8561     0      1\n",
       "2   3   24     12.0  0.6304     0      1\n",
       "3   4   38      8.0  3.4183     1      1\n",
       "4   5   25     12.0  2.7852     1      1"
      ]
     },
     "execution_count": 6,
     "metadata": {},
     "output_type": "execute_result"
    }
   ],
   "source": [
    "## Load turnout.csv\n",
    "dta = pd.read_csv(\"../turnout.csv\")\n",
    "\n",
    "## Check data\n",
    "dta.head()"
   ]
  },
  {
   "cell_type": "code",
   "execution_count": 9,
   "metadata": {},
   "outputs": [],
   "source": [
    "## Set seed\n",
    "np.random.seed(94)\n",
    "\n",
    "## Split into test and training\n",
    "train = dta.sample(frac=.8).reset_index(drop=True)\n",
    "test = dta.drop(train.index).reset_index(drop=True)"
   ]
  },
  {
   "cell_type": "code",
   "execution_count": 10,
   "metadata": {},
   "outputs": [
    {
     "name": "stdout",
     "output_type": "stream",
     "text": [
      "Training Data: 1600 \n",
      "Test Data: 400\n"
     ]
    },
    {
     "data": {
      "text/html": [
       "<div>\n",
       "<style scoped>\n",
       "    .dataframe tbody tr th:only-of-type {\n",
       "        vertical-align: middle;\n",
       "    }\n",
       "\n",
       "    .dataframe tbody tr th {\n",
       "        vertical-align: top;\n",
       "    }\n",
       "\n",
       "    .dataframe thead th {\n",
       "        text-align: right;\n",
       "    }\n",
       "</style>\n",
       "<table border=\"1\" class=\"dataframe\">\n",
       "  <thead>\n",
       "    <tr style=\"text-align: right;\">\n",
       "      <th></th>\n",
       "      <th>id</th>\n",
       "      <th>age</th>\n",
       "      <th>educate</th>\n",
       "      <th>income</th>\n",
       "      <th>vote</th>\n",
       "      <th>white</th>\n",
       "    </tr>\n",
       "  </thead>\n",
       "  <tbody>\n",
       "    <tr>\n",
       "      <th>0</th>\n",
       "      <td>871</td>\n",
       "      <td>24</td>\n",
       "      <td>16.0</td>\n",
       "      <td>4.4876</td>\n",
       "      <td>0</td>\n",
       "      <td>1</td>\n",
       "    </tr>\n",
       "    <tr>\n",
       "      <th>1</th>\n",
       "      <td>1294</td>\n",
       "      <td>59</td>\n",
       "      <td>12.0</td>\n",
       "      <td>1.4974</td>\n",
       "      <td>1</td>\n",
       "      <td>1</td>\n",
       "    </tr>\n",
       "    <tr>\n",
       "      <th>2</th>\n",
       "      <td>1445</td>\n",
       "      <td>57</td>\n",
       "      <td>17.0</td>\n",
       "      <td>4.8901</td>\n",
       "      <td>1</td>\n",
       "      <td>0</td>\n",
       "    </tr>\n",
       "    <tr>\n",
       "      <th>3</th>\n",
       "      <td>1058</td>\n",
       "      <td>35</td>\n",
       "      <td>8.0</td>\n",
       "      <td>3.5800</td>\n",
       "      <td>0</td>\n",
       "      <td>1</td>\n",
       "    </tr>\n",
       "    <tr>\n",
       "      <th>4</th>\n",
       "      <td>1136</td>\n",
       "      <td>48</td>\n",
       "      <td>12.0</td>\n",
       "      <td>8.3565</td>\n",
       "      <td>1</td>\n",
       "      <td>1</td>\n",
       "    </tr>\n",
       "  </tbody>\n",
       "</table>\n",
       "</div>"
      ],
      "text/plain": [
       "     id  age  educate  income  vote  white\n",
       "0   871   24     16.0  4.4876     0      1\n",
       "1  1294   59     12.0  1.4974     1      1\n",
       "2  1445   57     17.0  4.8901     1      0\n",
       "3  1058   35      8.0  3.5800     0      1\n",
       "4  1136   48     12.0  8.3565     1      1"
      ]
     },
     "execution_count": 10,
     "metadata": {},
     "output_type": "execute_result"
    }
   ],
   "source": [
    "## Print off the split count \n",
    "print(\"Training Data:\",train.shape[0],\n",
    "      \"\\nTest Data:\",test.shape[0])\n",
    "\n",
    "## Check training data\n",
    "train.head()"
   ]
  },
  {
   "cell_type": "code",
   "execution_count": 14,
   "metadata": {},
   "outputs": [
    {
     "name": "stdout",
     "output_type": "stream",
     "text": [
      "\n",
      "Pr(vote = 1): 0.748125\n",
      "Pr(vote = 0): 0.251875\n",
      "\n"
     ]
    }
   ],
   "source": [
    "## Training set count\n",
    "n = train.shape[0]\n",
    "\n",
    "## Subset by class (vote)\n",
    "vote0 = train.query(\"vote==0\")\n",
    "vote1 = train.query(\"vote==1\")\n",
    "\n",
    "## Calculate class probabilities\n",
    "pr_vote0 = vote0.shape[0]/n\n",
    "pr_vote1 = vote1.shape[0]/n\n",
    "\n",
    "# Print the probabilities\n",
    "print(\n",
    "f\"\"\"\n",
    "Pr(vote = 1): {pr_vote1}\n",
    "Pr(vote = 0): {pr_vote0}\n",
    "\"\"\")"
   ]
  },
  {
   "cell_type": "code",
   "execution_count": 28,
   "metadata": {},
   "outputs": [
    {
     "name": "stdout",
     "output_type": "stream",
     "text": [
      "2000\n",
      "95\n",
      "19.0\n",
      "14.9247\n",
      "1\n",
      "['id', 'age', 'educate', 'income', 'white']\n"
     ]
    }
   ],
   "source": [
    "## Preliminary checks on variables\n",
    "vars = [v for v in train.columns if v != \"vote\"]\n",
    "    \n",
    "for var in vars:\n",
    "    print(max(train[var]))\n",
    "    \n",
    "print(vars)"
   ]
  },
  {
   "cell_type": "code",
   "execution_count": 88,
   "metadata": {},
   "outputs": [
    {
     "name": "stdout",
     "output_type": "stream",
     "text": [
      "\n",
      "Discrete: ['white']\n",
      "Continuous: ['id', 'age', 'educate', 'income']\n",
      "\n"
     ]
    }
   ],
   "source": [
    "## Split explanatory variables into discrete (binary) and continuous\n",
    "discrete = []\n",
    "continuous = []\n",
    "\n",
    "## Loop through variables\n",
    "for var in [v for v in train.columns if v != \"vote\"]:\n",
    "    ## If the max value is 1 and the range is 1, the value is binary and treated as discrete\n",
    "    if max(train[var]) == 1 and (max(train[var]) - min(train[var])) == 1:\n",
    "        discrete.append(var)\n",
    "    ## Otherwise it is classified as continious\n",
    "    else:\n",
    "        continuous.append(var)\n",
    "\n",
    "## Check variables\n",
    "print(\n",
    "f\"\"\"\n",
    "Discrete: {discrete}\n",
    "Continuous: {continuous}\n",
    "\"\"\")"
   ]
  },
  {
   "cell_type": "code",
   "execution_count": 90,
   "metadata": {},
   "outputs": [
    {
     "name": "stdout",
     "output_type": "stream",
     "text": [
      "class probabilities\n",
      "\n",
      "{0: 0.251875, 1: 0.748125}\n",
      "\n",
      "\n",
      "conditional probabilities\n",
      "\n",
      "{('white', 0, 0): 0.21836228287841186,\n",
      " ('white', 0, 1): 0.1278195488721805,\n",
      " ('white', 1, 0): 0.7816377171215881,\n",
      " ('white', 1, 1): 0.8721804511278195}\n"
     ]
    }
   ],
   "source": [
    "def calc_probs(data,outcome_var):\n",
    "    '''\n",
    "    GOAL: Calculate conditional probabilities of discrete variables\n",
    "    INPUT: Dataset and specified class variable\n",
    "    OUTPUT: Class probabilities and condtional probabilities of discrete variables\n",
    "    '''\n",
    "    ## Create empty dctionaries\n",
    "    class_probs = {};cond_probs = {}\n",
    "\n",
    "    # iterate through the discrete class outcomes\n",
    "    for y, d in data.groupby(outcome_var): \n",
    "        # calculate the class probabilities\n",
    "        class_probs.update({y: d.shape[0]/data.shape[0]})\n",
    "        \n",
    "        for v in discrete:\n",
    "            # calculate the conditional probabilities for each variable given the class.\n",
    "            pr = d[v].sum()/d.shape[0]\n",
    "            cond_probs[(v,1,y)] = pr \n",
    "            cond_probs[(v,0,y)] = 1 - pr\n",
    "            \n",
    "    return class_probs, cond_probs\n",
    "\n",
    "# Run\n",
    "class_probs, cond_probs = calc_probs(train,outcome_var= \"vote\")\n",
    "\n",
    "# Print\n",
    "print(\"class probabilities\",end=\"\\n\\n\")\n",
    "pp.pprint(class_probs)\n",
    "print(\"\\n\")\n",
    "print(\"conditional probabilities\",end=\"\\n\\n\")\n",
    "pp.pprint(cond_probs)"
   ]
  },
  {
   "cell_type": "code",
   "execution_count": 189,
   "metadata": {},
   "outputs": [
    {
     "data": {
      "text/html": [
       "<div>\n",
       "<style scoped>\n",
       "    .dataframe tbody tr th:only-of-type {\n",
       "        vertical-align: middle;\n",
       "    }\n",
       "\n",
       "    .dataframe tbody tr th {\n",
       "        vertical-align: top;\n",
       "    }\n",
       "\n",
       "    .dataframe thead th {\n",
       "        text-align: right;\n",
       "    }\n",
       "</style>\n",
       "<table border=\"1\" class=\"dataframe\">\n",
       "  <thead>\n",
       "    <tr style=\"text-align: right;\">\n",
       "      <th></th>\n",
       "      <th>pr_0</th>\n",
       "      <th>pr_1</th>\n",
       "      <th>prediction</th>\n",
       "    </tr>\n",
       "  </thead>\n",
       "  <tbody>\n",
       "    <tr>\n",
       "      <th>0</th>\n",
       "      <td>0.000010</td>\n",
       "      <td>0.000061</td>\n",
       "      <td>1</td>\n",
       "    </tr>\n",
       "    <tr>\n",
       "      <th>1</th>\n",
       "      <td>0.000051</td>\n",
       "      <td>0.000125</td>\n",
       "      <td>1</td>\n",
       "    </tr>\n",
       "    <tr>\n",
       "      <th>2</th>\n",
       "      <td>0.000002</td>\n",
       "      <td>0.000012</td>\n",
       "      <td>1</td>\n",
       "    </tr>\n",
       "    <tr>\n",
       "      <th>3</th>\n",
       "      <td>0.000055</td>\n",
       "      <td>0.000078</td>\n",
       "      <td>1</td>\n",
       "    </tr>\n",
       "    <tr>\n",
       "      <th>4</th>\n",
       "      <td>0.000003</td>\n",
       "      <td>0.000089</td>\n",
       "      <td>1</td>\n",
       "    </tr>\n",
       "  </tbody>\n",
       "</table>\n",
       "</div>"
      ],
      "text/plain": [
       "       pr_0      pr_1  prediction\n",
       "0  0.000010  0.000061           1\n",
       "1  0.000051  0.000125           1\n",
       "2  0.000002  0.000012           1\n",
       "3  0.000055  0.000078           1\n",
       "4  0.000003  0.000089           1"
      ]
     },
     "execution_count": 189,
     "metadata": {},
     "output_type": "execute_result"
    }
   ],
   "source": [
    "def predict(data,class_probs,cond_probs,outcome_var= \"\"):\n",
    "    '''\n",
    "    GOAL: Predict the outcome based on conditional probabilities of all discrete and continuous variables in the data\n",
    "    INPUT: Training data set, class probabilities, conditional probabilities of discrete variables, and outcome variable\n",
    "    OUTPUT: Table containing conditional probabilites for outcome and prediction for class based on observations\n",
    "    '''\n",
    "    ## Create empty list to store probabilities and prediction\n",
    "    store_preds = []\n",
    "    \n",
    "    ## Split data by class for continuous predictions\n",
    "    y1 = data.query(outcome_var + \" == 1\")\n",
    "    y0 = data.query(outcome_var + \" == 0\")\n",
    "    \n",
    "    ## Loop through all observations\n",
    "    for i,row in data.iterrows():\n",
    "        ## Establish baseline probabilities\n",
    "        pr_1 = 1; pr_0 = 1\n",
    "        \n",
    "        ## Loop through each variable per row\n",
    "        for j in range(1,len(row.index)):\n",
    "            \n",
    "            ## If the variable is discrete, then multiple respective class probabilities from cond_probs\n",
    "            if row.index[j] in discrete:\n",
    "                \n",
    "                pr_0 *= cond_probs[(row.index[j],row.values[j],0)]\n",
    "                pr_1 *= cond_probs[(row.index[j],row.values[j],1)]\n",
    "            \n",
    "            ## If the variable is continious, then multiple respective class probabilities from conditional mean/standard deviation\n",
    "            if row.index[j] in continuous:\n",
    "                ## variable name\n",
    "                v = row.index[j]\n",
    "                \n",
    "                ## Mean and Standard deviation of the variable\n",
    "                dist_locs = \\\n",
    "                {(v,1):{'mean':y1[v].mean(),'sd':y1[v].std()},\n",
    "                 (v,0):{'mean':y0[v].mean(),'sd':y0[v].std()},\n",
    "                }\n",
    "\n",
    "                # Prediction for the 1 class\n",
    "                cont_pr_1 = st.norm(dist_locs[(v,1)]['mean'], dist_locs[(v,1)]['sd']).pdf(data.iloc[i,j])\n",
    "\n",
    "                # Prediction for the 0 class\n",
    "                cont_pr_0 = st.norm(dist_locs[(v,0)]['mean'], dist_locs[(v,0)]['sd']).pdf(data.iloc[i,j])\n",
    "\n",
    "                pr_0 *= cont_pr_0\n",
    "                pr_1 *= cont_pr_1\n",
    "        \n",
    "        ## Multiple cumulative conditional probabilities with the class probability\n",
    "        pr_0 *= class_probs[0]\n",
    "        pr_1 *= class_probs[1]\n",
    "        \n",
    "        ## Append prediction of obseration to the prediction table\n",
    "        store_preds.append([pr_0,pr_1,max([(pr_0,0),(pr_1,1)])[1]])\n",
    "    \n",
    "    ## Convert to pandas data frame\n",
    "    prediction_table = pd.DataFrame(store_preds,columns=[\"pr_0\",\"pr_1\",\"prediction\"])\n",
    "    \n",
    "    return prediction_table\n",
    "\n",
    "## Run predictions on training data set\n",
    "preds = predict(train, class_probs, cond_probs, outcome_var= \"vote\")\n",
    "\n",
    "## Check predictions\n",
    "preds.head()"
   ]
  },
  {
   "cell_type": "code",
   "execution_count": 155,
   "metadata": {},
   "outputs": [
    {
     "data": {
      "text/plain": [
       "count    1600.000000\n",
       "mean        0.885000\n",
       "std         0.319122\n",
       "min         0.000000\n",
       "25%         1.000000\n",
       "50%         1.000000\n",
       "75%         1.000000\n",
       "max         1.000000\n",
       "Name: pred, dtype: float64"
      ]
     },
     "execution_count": 155,
     "metadata": {},
     "output_type": "execute_result"
    }
   ],
   "source": [
    "## Check statistics of prediction flag\n",
    "preds.pred.describe().T"
   ]
  },
  {
   "cell_type": "code",
   "execution_count": 158,
   "metadata": {},
   "outputs": [
    {
     "data": {
      "text/plain": [
       "0.744375"
      ]
     },
     "execution_count": 158,
     "metadata": {},
     "output_type": "execute_result"
    }
   ],
   "source": [
    "## Calculate accuracy of Naive Bayesian Classifier\n",
    "accuracy_train = sum(train.vote == preds.pred)/train.shape[0]\n",
    "\n",
    "## Check value\n",
    "accuracy_train"
   ]
  },
  {
   "cell_type": "code",
   "execution_count": 168,
   "metadata": {},
   "outputs": [
    {
     "data": {
      "text/plain": [
       "['white', 'id', 'age', 'educate', 'income']"
      ]
     },
     "execution_count": 168,
     "metadata": {},
     "output_type": "execute_result"
    }
   ],
   "source": [
    "## Create list of x variables for subsetting\n",
    "x = discrete + continuous\n",
    "\n",
    "## Verify list\n",
    "x"
   ]
  },
  {
   "cell_type": "code",
   "execution_count": 169,
   "metadata": {},
   "outputs": [],
   "source": [
    "## Organize values for sklearn API\n",
    "train_y = train['vote']\n",
    "train_x = train[x]\n",
    "test_y = test['vote']\n",
    "test_x = test[x]"
   ]
  },
  {
   "cell_type": "code",
   "execution_count": 171,
   "metadata": {},
   "outputs": [
    {
     "data": {
      "text/plain": [
       "0.705"
      ]
     },
     "execution_count": 171,
     "metadata": {},
     "output_type": "execute_result"
    }
   ],
   "source": [
    "## Instantiate the model class\n",
    "gnb = GaussianNB()\n",
    "gnb.fit(train_x, train_y) # Train\n",
    "\n",
    "## Predict \n",
    "y_pred = gnb.predict(test_x)\n",
    "\n",
    "## Calculate accuracy of training model on test data\n",
    "m.accuracy_score(test_y,y_pred)"
   ]
  },
  {
   "cell_type": "code",
   "execution_count": 176,
   "metadata": {},
   "outputs": [
    {
     "data": {
      "text/plain": [
       "0.575"
      ]
     },
     "execution_count": 176,
     "metadata": {},
     "output_type": "execute_result"
    }
   ],
   "source": [
    "## Alternative performance metric - Compute area under the ROC score\n",
    "m.roc_auc_score(test_y,y_pred)"
   ]
  },
  {
   "cell_type": "code",
   "execution_count": 177,
   "metadata": {},
   "outputs": [
    {
     "data": {
      "text/html": [
       "<div>\n",
       "<style scoped>\n",
       "    .dataframe tbody tr th:only-of-type {\n",
       "        vertical-align: middle;\n",
       "    }\n",
       "\n",
       "    .dataframe tbody tr th {\n",
       "        vertical-align: top;\n",
       "    }\n",
       "\n",
       "    .dataframe thead th {\n",
       "        text-align: right;\n",
       "    }\n",
       "</style>\n",
       "<table border=\"1\" class=\"dataframe\">\n",
       "  <thead>\n",
       "    <tr style=\"text-align: right;\">\n",
       "      <th></th>\n",
       "      <th>0</th>\n",
       "      <th>1</th>\n",
       "    </tr>\n",
       "  </thead>\n",
       "  <tbody>\n",
       "    <tr>\n",
       "      <th>0</th>\n",
       "      <td>0.467219</td>\n",
       "      <td>0.532781</td>\n",
       "    </tr>\n",
       "    <tr>\n",
       "      <th>1</th>\n",
       "      <td>0.097348</td>\n",
       "      <td>0.902652</td>\n",
       "    </tr>\n",
       "    <tr>\n",
       "      <th>2</th>\n",
       "      <td>0.291209</td>\n",
       "      <td>0.708791</td>\n",
       "    </tr>\n",
       "    <tr>\n",
       "      <th>3</th>\n",
       "      <td>0.271014</td>\n",
       "      <td>0.728986</td>\n",
       "    </tr>\n",
       "    <tr>\n",
       "      <th>4</th>\n",
       "      <td>0.037699</td>\n",
       "      <td>0.962301</td>\n",
       "    </tr>\n",
       "    <tr>\n",
       "      <th>...</th>\n",
       "      <td>...</td>\n",
       "      <td>...</td>\n",
       "    </tr>\n",
       "    <tr>\n",
       "      <th>395</th>\n",
       "      <td>0.186322</td>\n",
       "      <td>0.813678</td>\n",
       "    </tr>\n",
       "    <tr>\n",
       "      <th>396</th>\n",
       "      <td>0.308232</td>\n",
       "      <td>0.691768</td>\n",
       "    </tr>\n",
       "    <tr>\n",
       "      <th>397</th>\n",
       "      <td>0.024139</td>\n",
       "      <td>0.975861</td>\n",
       "    </tr>\n",
       "    <tr>\n",
       "      <th>398</th>\n",
       "      <td>0.473343</td>\n",
       "      <td>0.526657</td>\n",
       "    </tr>\n",
       "    <tr>\n",
       "      <th>399</th>\n",
       "      <td>0.383451</td>\n",
       "      <td>0.616549</td>\n",
       "    </tr>\n",
       "  </tbody>\n",
       "</table>\n",
       "<p>400 rows × 2 columns</p>\n",
       "</div>"
      ],
      "text/plain": [
       "            0         1\n",
       "0    0.467219  0.532781\n",
       "1    0.097348  0.902652\n",
       "2    0.291209  0.708791\n",
       "3    0.271014  0.728986\n",
       "4    0.037699  0.962301\n",
       "..        ...       ...\n",
       "395  0.186322  0.813678\n",
       "396  0.308232  0.691768\n",
       "397  0.024139  0.975861\n",
       "398  0.473343  0.526657\n",
       "399  0.383451  0.616549\n",
       "\n",
       "[400 rows x 2 columns]"
      ]
     },
     "execution_count": 177,
     "metadata": {},
     "output_type": "execute_result"
    }
   ],
   "source": [
    "## Return probabilities rather than predictions for ROC curve plot\n",
    "probs = gnb.predict_proba(test_x)\n",
    "probs = pd.DataFrame(probs,columns=gnb.classes_)\n",
    "probs"
   ]
  },
  {
   "cell_type": "code",
   "execution_count": 178,
   "metadata": {},
   "outputs": [],
   "source": [
    "## Generate the False Positive Rate and True Positive Rate Given different thresholds\n",
    "fpr, tpr, thresholds = m.roc_curve(test_y, probs[1])"
   ]
  },
  {
   "cell_type": "code",
   "execution_count": 187,
   "metadata": {},
   "outputs": [
    {
     "data": {
      "image/png": "[encoded data removed]",
      "text/plain": [
       "<Figure size 640x480 with 1 Axes>"
      ]
     },
     "metadata": {},
     "output_type": "display_data"
    },
    {
     "data": {
      "text/plain": [
       "<ggplot: (171162206311)>"
      ]
     },
     "execution_count": 187,
     "metadata": {},
     "output_type": "execute_result"
    }
   ],
   "source": [
    "## Plot the ROC Curve\n",
    "( \n",
    "    ggplot(pd.DataFrame(dict(fpr=fpr,tpr=tpr)),\n",
    "        aes(x=\"fpr\",y=\"tpr\")) +\n",
    "        geom_path(color=\"steelblue\",size=1) +\n",
    "        geom_abline(intercept=0,slope=1,linetype=\"dashed\") +\n",
    "        theme_minimal() +\n",
    "        labs(title=\"Receiver Operating Characteristic Curve\", x= \"False Positive Rate\", y= \"True Positive Rate\") +\n",
    "        theme(figure_size=(7,3)) + \n",
    "        theme_bw()\n",
    ")"
   ]
  },
  {
   "cell_type": "code",
   "execution_count": 190,
   "metadata": {},
   "outputs": [
    {
     "data": {
      "text/plain": [
       "0.7036904761904761"
      ]
     },
     "execution_count": 190,
     "metadata": {},
     "output_type": "execute_result"
    }
   ],
   "source": [
    "## Calculation of the area under the ROC curve (slightly different)\n",
    "m.auc(fpr,tpr)"
   ]
  },
  {
   "cell_type": "markdown",
   "metadata": {},
   "source": [
    "## Does your model perform better than chance (i.e. coin flip)?\n",
    "\n",
    "The model based on the training data set was able to predict whether an individual would vote with 74.4% of accuracy. This is explicitly better than a fair coinflip (50-50 odds). When the training model is applied to the test data set, accuracy drops to 70.5%, slightly lower but still better than pure chance. Alternatively, the performance of this model can be measured with the area under the Receiver Operating Characteristc curve, which evaluates how well the model can distinguish between classes. From prediction sctores, the area calculated under the ROC curve (roc_auc_score) is 0.575. While the area calculated under the ROC curve itself is 0.704. A higher area under the curve indicates better performance."
   ]
  }
 ],
 "metadata": {
  "kernelspec": {
   "display_name": "Python 3",
   "language": "python",
   "name": "python3"
  },
  "language_info": {
   "codemirror_mode": {
    "name": "ipython",
    "version": 3
   },
   "file_extension": ".py",
   "mimetype": "text/x-python",
   "name": "python",
   "nbconvert_exporter": "python",
   "pygments_lexer": "ipython3",
   "version": "3.8.5"
  }
 },
 "nbformat": 4,
 "nbformat_minor": 4
}
