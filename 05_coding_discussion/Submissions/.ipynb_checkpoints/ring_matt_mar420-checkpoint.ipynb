{
 "cells": [
  {
   "cell_type": "markdown",
   "metadata": {},
   "source": [
    "# Imports"
   ]
  },
  {
   "cell_type": "markdown",
   "metadata": {},
   "source": [
    "## Packages"
   ]
  },
  {
   "cell_type": "code",
   "execution_count": 60,
   "metadata": {},
   "outputs": [],
   "source": [
    "# Used to split the data into training and testing\n",
    "from sklearn.model_selection import train_test_split\n",
    "\n",
    "# For printing\n",
    "import pprint as pp\n",
    "\n",
    "# Creates notmal probability density functions (PDFs)\n",
    "import scipy.stats as st\n",
    "\n",
    "# Used to assess the accuracy and AUC for our Naive Bayes Classifier\n",
    "import sklearn.metrics as m\n",
    "\n",
    "# Used to plot the ROC curve at the very end of this coding discussion\n",
    "from plotnine import *\n",
    "\n",
    "# General, frequently used packages\n",
    "import pandas as pd\n",
    "import numpy as np"
   ]
  },
  {
   "cell_type": "markdown",
   "metadata": {},
   "source": [
    "## Data"
   ]
  },
  {
   "cell_type": "code",
   "execution_count": 2,
   "metadata": {},
   "outputs": [],
   "source": [
    "# Imports the voter turnout data \n",
    "df = pd.read_csv(\"../turnout.csv\")"
   ]
  },
  {
   "cell_type": "code",
   "execution_count": 3,
   "metadata": {},
   "outputs": [
    {
     "data": {
      "text/html": [
       "<div>\n",
       "<style scoped>\n",
       "    .dataframe tbody tr th:only-of-type {\n",
       "        vertical-align: middle;\n",
       "    }\n",
       "\n",
       "    .dataframe tbody tr th {\n",
       "        vertical-align: top;\n",
       "    }\n",
       "\n",
       "    .dataframe thead th {\n",
       "        text-align: right;\n",
       "    }\n",
       "</style>\n",
       "<table border=\"1\" class=\"dataframe\">\n",
       "  <thead>\n",
       "    <tr style=\"text-align: right;\">\n",
       "      <th></th>\n",
       "      <th>id</th>\n",
       "      <th>age</th>\n",
       "      <th>educate</th>\n",
       "      <th>income</th>\n",
       "      <th>vote</th>\n",
       "      <th>white</th>\n",
       "    </tr>\n",
       "  </thead>\n",
       "  <tbody>\n",
       "    <tr>\n",
       "      <th>1815</th>\n",
       "      <td>1816</td>\n",
       "      <td>41</td>\n",
       "      <td>9.0</td>\n",
       "      <td>4.6408</td>\n",
       "      <td>1</td>\n",
       "      <td>1</td>\n",
       "    </tr>\n",
       "    <tr>\n",
       "      <th>698</th>\n",
       "      <td>699</td>\n",
       "      <td>26</td>\n",
       "      <td>12.0</td>\n",
       "      <td>1.6049</td>\n",
       "      <td>0</td>\n",
       "      <td>1</td>\n",
       "    </tr>\n",
       "    <tr>\n",
       "      <th>1844</th>\n",
       "      <td>1845</td>\n",
       "      <td>79</td>\n",
       "      <td>16.0</td>\n",
       "      <td>1.9045</td>\n",
       "      <td>1</td>\n",
       "      <td>1</td>\n",
       "    </tr>\n",
       "    <tr>\n",
       "      <th>1853</th>\n",
       "      <td>1854</td>\n",
       "      <td>29</td>\n",
       "      <td>12.0</td>\n",
       "      <td>5.9469</td>\n",
       "      <td>1</td>\n",
       "      <td>1</td>\n",
       "    </tr>\n",
       "    <tr>\n",
       "      <th>539</th>\n",
       "      <td>540</td>\n",
       "      <td>63</td>\n",
       "      <td>12.0</td>\n",
       "      <td>0.9689</td>\n",
       "      <td>1</td>\n",
       "      <td>1</td>\n",
       "    </tr>\n",
       "  </tbody>\n",
       "</table>\n",
       "</div>"
      ],
      "text/plain": [
       "        id  age  educate  income  vote  white\n",
       "1815  1816   41      9.0  4.6408     1      1\n",
       "698    699   26     12.0  1.6049     0      1\n",
       "1844  1845   79     16.0  1.9045     1      1\n",
       "1853  1854   29     12.0  5.9469     1      1\n",
       "539    540   63     12.0  0.9689     1      1"
      ]
     },
     "execution_count": 3,
     "metadata": {},
     "output_type": "execute_result"
    }
   ],
   "source": [
    "# Display 5 random entries in the dataset\n",
    "df.sample(5)"
   ]
  },
  {
   "cell_type": "markdown",
   "metadata": {},
   "source": [
    "# Train-Test Split"
   ]
  },
  {
   "cell_type": "markdown",
   "metadata": {},
   "source": [
    "We need to split our data before creating our model. For the purposes of this assignment, we will be splitting 80% of the data into a training set and the other 20% into a test set."
   ]
  },
  {
   "cell_type": "code",
   "execution_count": 15,
   "metadata": {},
   "outputs": [
    {
     "data": {
      "text/html": [
       "<div>\n",
       "<style scoped>\n",
       "    .dataframe tbody tr th:only-of-type {\n",
       "        vertical-align: middle;\n",
       "    }\n",
       "\n",
       "    .dataframe tbody tr th {\n",
       "        vertical-align: top;\n",
       "    }\n",
       "\n",
       "    .dataframe thead th {\n",
       "        text-align: right;\n",
       "    }\n",
       "</style>\n",
       "<table border=\"1\" class=\"dataframe\">\n",
       "  <thead>\n",
       "    <tr style=\"text-align: right;\">\n",
       "      <th></th>\n",
       "      <th>age</th>\n",
       "      <th>educate</th>\n",
       "      <th>income</th>\n",
       "      <th>vote</th>\n",
       "      <th>white</th>\n",
       "    </tr>\n",
       "  </thead>\n",
       "  <tbody>\n",
       "    <tr>\n",
       "      <th>579</th>\n",
       "      <td>54</td>\n",
       "      <td>17.0</td>\n",
       "      <td>10.0376</td>\n",
       "      <td>1</td>\n",
       "      <td>1</td>\n",
       "    </tr>\n",
       "    <tr>\n",
       "      <th>999</th>\n",
       "      <td>52</td>\n",
       "      <td>10.0</td>\n",
       "      <td>3.4183</td>\n",
       "      <td>1</td>\n",
       "      <td>1</td>\n",
       "    </tr>\n",
       "    <tr>\n",
       "      <th>430</th>\n",
       "      <td>30</td>\n",
       "      <td>13.0</td>\n",
       "      <td>1.1046</td>\n",
       "      <td>0</td>\n",
       "      <td>1</td>\n",
       "    </tr>\n",
       "    <tr>\n",
       "      <th>496</th>\n",
       "      <td>52</td>\n",
       "      <td>12.0</td>\n",
       "      <td>4.6408</td>\n",
       "      <td>1</td>\n",
       "      <td>1</td>\n",
       "    </tr>\n",
       "    <tr>\n",
       "      <th>913</th>\n",
       "      <td>33</td>\n",
       "      <td>10.0</td>\n",
       "      <td>1.5788</td>\n",
       "      <td>1</td>\n",
       "      <td>0</td>\n",
       "    </tr>\n",
       "  </tbody>\n",
       "</table>\n",
       "</div>"
      ],
      "text/plain": [
       "     age  educate   income  vote  white\n",
       "579   54     17.0  10.0376     1      1\n",
       "999   52     10.0   3.4183     1      1\n",
       "430   30     13.0   1.1046     0      1\n",
       "496   52     12.0   4.6408     1      1\n",
       "913   33     10.0   1.5788     1      0"
      ]
     },
     "execution_count": 15,
     "metadata": {},
     "output_type": "execute_result"
    }
   ],
   "source": [
    "# Train-Test split where 80% is training data and 20% is testing\n",
    "# Dropping \"id\" as it is not a predictive variable but a marker of the observation's placement in the dataset's order\n",
    "train = df.sample(frac=.8).reset_index(drop=True).drop([\"id\"], axis=1)\n",
    "test = df.drop(train.index).reset_index(drop=True).drop([\"id\"], axis=1)\n",
    "\n",
    "# Sample the training data\n",
    "train.sample(5)"
   ]
  },
  {
   "cell_type": "markdown",
   "metadata": {},
   "source": [
    "# Naive Bayesian Classifier"
   ]
  },
  {
   "cell_type": "markdown",
   "metadata": {},
   "source": [
    "First, we need to determine the class probabilities, i.e. how common is it for someone to vote and for someone to not vote in general."
   ]
  },
  {
   "cell_type": "code",
   "execution_count": 17,
   "metadata": {},
   "outputs": [
    {
     "name": "stdout",
     "output_type": "stream",
     "text": [
      "\n",
      "Pr(vote = 1): 0.743125\n",
      "Pr(vote = 0): 0.256875\n",
      "\n"
     ]
    }
   ],
   "source": [
    "# Saves the number of training observations as N\n",
    "N = train.shape[0]\n",
    "\n",
    "# Subset the data by whether an individual voted or not\n",
    "vote1 = train.query(\"vote == 1\")\n",
    "vote0 = train.query(\"vote == 0\")\n",
    "\n",
    "# Calculate the probability for each class\n",
    "pr_vote_1 = vote1.shape[0]/N\n",
    "pr_vote_0 = vote0.shape[0]/N\n",
    "\n",
    "# Print the class probabilities\n",
    "print(\n",
    "f\"\"\"\n",
    "Pr(vote = 1): {pr_vote_1}\n",
    "Pr(vote = 0): {pr_vote_0}\n",
    "\"\"\")"
   ]
  },
  {
   "cell_type": "markdown",
   "metadata": {},
   "source": [
    "An almost 3:1 split between voting and not voting. This means that if our model simply predicted that everyone votes, it would be 74% accurate."
   ]
  },
  {
   "cell_type": "code",
   "execution_count": 31,
   "metadata": {},
   "outputs": [],
   "source": [
    "# Creates a list where the zero index is the class probability that vote = 0, \n",
    "# and the first index is class probability that vote = 1\n",
    "class_probs = [pr_vote_0, pr_vote_1]"
   ]
  },
  {
   "cell_type": "markdown",
   "metadata": {},
   "source": [
    "## Binary Variable (White)"
   ]
  },
  {
   "cell_type": "markdown",
   "metadata": {},
   "source": [
    "Below we will determine the probability that someone votes based on the only binary variable in our data, \"white\". From here we can develop conditional probabilities of the probability someone is white given whether or not they vote. These will be used when predicting class later on."
   ]
  },
  {
   "cell_type": "code",
   "execution_count": 19,
   "metadata": {},
   "outputs": [
    {
     "name": "stdout",
     "output_type": "stream",
     "text": [
      "\n",
      "Pr(white = 1 |vote = 1): 0.8713204373423045\n",
      "Pr(white = 0 |vote = 1): 0.12867956265769553\n",
      "Pr(white = 1 |vote = 0): 0.7883211678832117\n",
      "Pr(white = 0 |vote = 0): 0.2116788321167883\n",
      "\n"
     ]
    }
   ],
   "source": [
    "# Given vote == 1\n",
    "w1_v1 = vote1.query(\"white == 1\").shape[0]/vote1.shape[0]\n",
    "w0_v1 = vote1.query(\"white == 0\").shape[0]/vote1.shape[0]\n",
    "\n",
    "# Given vote == 0\n",
    "w1_v0 = vote0.query(\"white == 1\").shape[0]/vote0.shape[0]\n",
    "w0_v0 = vote0.query(\"white == 0\").shape[0]/vote0.shape[0]\n",
    "\n",
    "# Print the conditional probabilities for \"white\"\n",
    "print(\n",
    "f\"\"\"\n",
    "Pr(white = 1 |vote = 1): {w1_v1}\n",
    "Pr(white = 0 |vote = 1): {w0_v1}\n",
    "Pr(white = 1 |vote = 0): {w1_v0}\n",
    "Pr(white = 0 |vote = 0): {w0_v0}\n",
    "\"\"\")"
   ]
  },
  {
   "cell_type": "markdown",
   "metadata": {},
   "source": [
    "Shown above are the conditional probabilities which will be used in our Naive Bayes Classifier. It appears that the probability of white is higher given that one does or does not vote, albeit slightly higher given one votes. This is important, as there are likely far more white people in our dataset than non-white people, which could impact our results."
   ]
  },
  {
   "cell_type": "code",
   "execution_count": 32,
   "metadata": {},
   "outputs": [],
   "source": [
    "# Creates the conditional probabilities variable\n",
    "# The first number in the tuple is whether someone is white, \n",
    "# and the second variable is whether they vote\n",
    "cond_probs = {('white', 0, 0): w0_v0,\n",
    " ('white', 0, 1): w0_v1,\n",
    " ('white', 1, 0): w1_v0,\n",
    " ('white', 1, 1): w1_v1\n",
    "}"
   ]
  },
  {
   "cell_type": "markdown",
   "metadata": {},
   "source": [
    "## Continuous Variables"
   ]
  },
  {
   "cell_type": "markdown",
   "metadata": {},
   "source": [
    "Finally, we will determine the distributions for each continuous variable given whether or not someone votes. These will be used to assign probabilities based on a normal distribution. An example of how this information will be used to construct probabilities is coded at the end of this section."
   ]
  },
  {
   "cell_type": "code",
   "execution_count": 22,
   "metadata": {},
   "outputs": [
    {
     "name": "stdout",
     "output_type": "stream",
     "text": [
      "{('age', 0): {'mean': 43.17031630170316, 'sd': 19.237671241024938},\n",
      " ('age', 1): {'mean': 46.42977291841884, 'sd': 16.91112105048275},\n",
      " ('educate', 0): {'mean': 10.643552311435522, 'sd': 3.224914600353615},\n",
      " ('educate', 1): {'mean': 12.521026072329688, 'sd': 3.337935503331938},\n",
      " ('income', 0): {'mean': 2.8039654501216544, 'sd': 2.242633271407277},\n",
      " ('income', 1): {'mean': 4.284949789739277, 'sd': 2.9591047035905684}}\n"
     ]
    }
   ],
   "source": [
    "# Collect the mean and standard dev. of each conditional distribution\n",
    "dist_locs = \\\n",
    "{(\"age\",1):{'mean':vote1.age.mean(),'sd':vote1.age.std()},\n",
    " (\"age\",0):{'mean':vote0.age.mean(),'sd':vote0.age.std()},\n",
    " (\"educate\",1):{'mean':vote1.educate.mean(),'sd':vote1.educate.std()},\n",
    " (\"educate\",0):{'mean':vote0.educate.mean(),'sd':vote0.educate.std()},\n",
    " (\"income\",1):{'mean':vote1.income.mean(),'sd':vote1.income.std()},\n",
    " (\"income\",0):{'mean':vote0.income.mean(),'sd':vote0.income.std()},\n",
    "}\n",
    "\n",
    "# Print the components of the distributions\n",
    "pp.pprint(dist_locs)"
   ]
  },
  {
   "cell_type": "markdown",
   "metadata": {},
   "source": [
    "Example: The mean age of someone who votes is 46, and the standard deviation is 17. Conversely, the mean age of someone who does NOT vote is 43, with a standard deviation of 19. We can then take the age of an individual, say 47, and determine the likelihood that observation would be found in either distribution. The likelihood this person is a voter or non-voter is calculated below using code."
   ]
  },
  {
   "cell_type": "code",
   "execution_count": 56,
   "metadata": {},
   "outputs": [],
   "source": [
    "pr_non_voter = st.norm(dist_locs[(\"age\",0)]['mean'],\n",
    "                       dist_locs[(\"age\",0)]['sd']).pdf(47)\n",
    "pr_voter = st.norm(dist_locs[(\"age\",1)]['mean'],\n",
    "                   dist_locs[(\"age\",1)]['sd']).pdf(47)"
   ]
  },
  {
   "cell_type": "code",
   "execution_count": 59,
   "metadata": {},
   "outputs": [
    {
     "name": "stdout",
     "output_type": "stream",
     "text": [
      "Probability a 47 year old would vote: 2.36\n"
     ]
    }
   ],
   "source": [
    "print(\"Probability a 47 year old would vote: \" + str(round(pr_voter*100,2)))"
   ]
  },
  {
   "cell_type": "code",
   "execution_count": 58,
   "metadata": {},
   "outputs": [
    {
     "name": "stdout",
     "output_type": "stream",
     "text": [
      "Probability a 47 year old would vote: 2.03\n"
     ]
    }
   ],
   "source": [
    "print(\"Probability a 47 year old would vote: \" + str(round(pr_non_voter*100,2)))"
   ]
  },
  {
   "cell_type": "markdown",
   "metadata": {},
   "source": [
    "Therefore we assume that this person would vote, based only on their age."
   ]
  },
  {
   "cell_type": "markdown",
   "metadata": {},
   "source": [
    "# Model"
   ]
  },
  {
   "cell_type": "markdown",
   "metadata": {},
   "source": [
    "With all of our probabilities stored, we can begin the process of predicting whether someone votes or not."
   ]
  },
  {
   "cell_type": "markdown",
   "metadata": {},
   "source": [
    "## Predictions"
   ]
  },
  {
   "cell_type": "markdown",
   "metadata": {},
   "source": [
    "Predictions will be made using this following Naive Bayes Classifier equation, which makes the important assumption that all features are independent of one another.\n",
    "\n",
    "$$Pr(class | data) = Pr( x_1| class)\\times Pr( x_2| class) \\times \\dots \\times  Pr(class)$$\n",
    "\n",
    "In practice, we will take each observation, determine the probability for either class, and choose the class with the highest probability. This entails calculating the probability of finding each feature given a particular class, calculating the product of these values, and then multiplying by the likelihood of finding each class."
   ]
  },
  {
   "cell_type": "code",
   "execution_count": 36,
   "metadata": {},
   "outputs": [],
   "source": [
    "# Predicts the class of a binary variable based on both binary and continuous variables\n",
    "def predict(data, class_probs, cond_probs, dist_locs, binaries):\n",
    "    '''\n",
    "    This function takes in training data, without the outcome variable,\n",
    "    and makes a prediction as to the outcome variable\n",
    "    \n",
    "    Inputs:\n",
    "    data - Training data as a pandas dataframe, not including the outcome variable\n",
    "    class_probs - A dictionary including the probability that the training data is either class\n",
    "    cond_probs - A dictionary including the probability that the outcome variable is either class\n",
    "                 given a binary variable's value\n",
    "    dist_locs - A dictionary including the probability that the outcome variable is either class\n",
    "                given a continous variable's value\n",
    "    binaries - A list of which variables are binary, thereby allowing us to adjust\n",
    "               how each probability is calculated\n",
    "    '''\n",
    "    \n",
    "    # Creates a list in which to store predictions\n",
    "    store_preds = []\n",
    "    \n",
    "    # Iterates over each row in the data\n",
    "    for i,row in data.iterrows():\n",
    "        \n",
    "        # Initializes the probabilities of each binary class to 1\n",
    "        pr_1 = 1; pr_0 = 1\n",
    "        \n",
    "        # Iterates over each variable in the given row\n",
    "        for j in range(0,len(row.index)):\n",
    "            \n",
    "                # Determines whether the variable is a binary variable or not\n",
    "                if row.index[j] in binaries:\n",
    "                    \n",
    "                    # Multiplies the probability for each class by the probability of \n",
    "                    # finding a particular value of this feature given the class label\n",
    "                    pr_0 *= cond_probs[(row.index[j],row.values[j],0)]\n",
    "                    pr_1 *= cond_probs[(row.index[j],row.values[j],1)] \n",
    "                else:\n",
    "                    \n",
    "                    # Multiplies the probability for each class by the probability of \n",
    "                    # finding a particular value of this feature given the class label\n",
    "                    pr_0 *= st.norm(dist_locs[(row.index[j],0)]['mean'],\n",
    "                            dist_locs[(row.index[j],0)]['sd']).pdf(row.values[j])\n",
    "                    pr_1 *= st.norm(dist_locs[(row.index[j],1)]['mean'], \n",
    "                            dist_locs[(row.index[j],1)]['sd']).pdf(row.values[j])\n",
    "        \n",
    "        # Mutliplies by the probability of finding each class in general\n",
    "        pr_0 *= class_probs[0]\n",
    "        pr_1 *= class_probs[1]\n",
    "                    \n",
    "        # Picks the highest probability between either class\n",
    "        if pr_0 >= pr_1:\n",
    "            class_pred = 0\n",
    "        else:\n",
    "            class_pred = 1   \n",
    "            \n",
    "        # Stores the probabilities for each class and prediction as a list, \n",
    "        # then appends to the list of predictions            \n",
    "        store_preds.append([pr_0,pr_1,class_pred])\n",
    "        \n",
    "    # Returns the probabilities and predictions as a dataframe\n",
    "    return pd.DataFrame(store_preds,columns=[\"pr_0\",\"pr_1\",\"pred\"])"
   ]
  },
  {
   "cell_type": "code",
   "execution_count": 28,
   "metadata": {},
   "outputs": [],
   "source": [
    "# Sets up a list of which variables are binaries\n",
    "binaries = [\"white\"]"
   ]
  },
  {
   "cell_type": "code",
   "execution_count": 38,
   "metadata": {},
   "outputs": [],
   "source": [
    "# Run predictions on the training data\n",
    "df_predictions = predict(train.drop(\"vote\", axis = 1), class_probs, cond_probs, dist_locs, binaries)"
   ]
  },
  {
   "cell_type": "code",
   "execution_count": 44,
   "metadata": {},
   "outputs": [
    {
     "data": {
      "text/html": [
       "<div>\n",
       "<style scoped>\n",
       "    .dataframe tbody tr th:only-of-type {\n",
       "        vertical-align: middle;\n",
       "    }\n",
       "\n",
       "    .dataframe tbody tr th {\n",
       "        vertical-align: top;\n",
       "    }\n",
       "\n",
       "    .dataframe thead th {\n",
       "        text-align: right;\n",
       "    }\n",
       "</style>\n",
       "<table border=\"1\" class=\"dataframe\">\n",
       "  <thead>\n",
       "    <tr style=\"text-align: right;\">\n",
       "      <th></th>\n",
       "      <th>pr_0</th>\n",
       "      <th>pr_1</th>\n",
       "      <th>pred</th>\n",
       "    </tr>\n",
       "  </thead>\n",
       "  <tbody>\n",
       "    <tr>\n",
       "      <th>530</th>\n",
       "      <td>0.000004</td>\n",
       "      <td>0.000010</td>\n",
       "      <td>1</td>\n",
       "    </tr>\n",
       "    <tr>\n",
       "      <th>962</th>\n",
       "      <td>0.000006</td>\n",
       "      <td>0.000110</td>\n",
       "      <td>1</td>\n",
       "    </tr>\n",
       "    <tr>\n",
       "      <th>42</th>\n",
       "      <td>0.000029</td>\n",
       "      <td>0.000198</td>\n",
       "      <td>1</td>\n",
       "    </tr>\n",
       "    <tr>\n",
       "      <th>1592</th>\n",
       "      <td>0.000019</td>\n",
       "      <td>0.000016</td>\n",
       "      <td>0</td>\n",
       "    </tr>\n",
       "    <tr>\n",
       "      <th>1187</th>\n",
       "      <td>0.000004</td>\n",
       "      <td>0.000016</td>\n",
       "      <td>1</td>\n",
       "    </tr>\n",
       "    <tr>\n",
       "      <th>336</th>\n",
       "      <td>0.000010</td>\n",
       "      <td>0.000021</td>\n",
       "      <td>1</td>\n",
       "    </tr>\n",
       "    <tr>\n",
       "      <th>1180</th>\n",
       "      <td>0.000044</td>\n",
       "      <td>0.000106</td>\n",
       "      <td>1</td>\n",
       "    </tr>\n",
       "    <tr>\n",
       "      <th>1103</th>\n",
       "      <td>0.000076</td>\n",
       "      <td>0.000237</td>\n",
       "      <td>1</td>\n",
       "    </tr>\n",
       "    <tr>\n",
       "      <th>665</th>\n",
       "      <td>0.000075</td>\n",
       "      <td>0.000127</td>\n",
       "      <td>1</td>\n",
       "    </tr>\n",
       "    <tr>\n",
       "      <th>1447</th>\n",
       "      <td>0.000007</td>\n",
       "      <td>0.000004</td>\n",
       "      <td>0</td>\n",
       "    </tr>\n",
       "  </tbody>\n",
       "</table>\n",
       "</div>"
      ],
      "text/plain": [
       "          pr_0      pr_1  pred\n",
       "530   0.000004  0.000010     1\n",
       "962   0.000006  0.000110     1\n",
       "42    0.000029  0.000198     1\n",
       "1592  0.000019  0.000016     0\n",
       "1187  0.000004  0.000016     1\n",
       "336   0.000010  0.000021     1\n",
       "1180  0.000044  0.000106     1\n",
       "1103  0.000076  0.000237     1\n",
       "665   0.000075  0.000127     1\n",
       "1447  0.000007  0.000004     0"
      ]
     },
     "execution_count": 44,
     "metadata": {},
     "output_type": "execute_result"
    }
   ],
   "source": [
    "# View a sample of the predictions we have generated\n",
    "df_predictions.sample(10)"
   ]
  },
  {
   "cell_type": "markdown",
   "metadata": {},
   "source": [
    "It appears our model \"works\" in the roughest sense - it makes predictons. Now we'll asses how well our model works."
   ]
  },
  {
   "cell_type": "markdown",
   "metadata": {},
   "source": [
    "## Performance"
   ]
  },
  {
   "cell_type": "markdown",
   "metadata": {},
   "source": [
    "We'll be assessing the accuracy and AUC of our model. The accuracy is a simply measure of how often our model predicts the right class. The AUC value is "
   ]
  },
  {
   "cell_type": "code",
   "execution_count": 47,
   "metadata": {},
   "outputs": [],
   "source": [
    "# Put the data into a format which sklearn can interpret\n",
    "train_y = train['vote']\n",
    "train_x = train.drop([\"vote\"], axis=1)\n",
    "test_y = test['vote']\n",
    "test_x = test.drop([\"vote\"], axis=1)"
   ]
  },
  {
   "cell_type": "code",
   "execution_count": 53,
   "metadata": {},
   "outputs": [],
   "source": [
    "# Runs the model on the testing data\n",
    "df_predictions_test = predict(test.drop(\"vote\", axis = 1), class_probs, cond_probs, dist_locs, binaries)\n",
    "\n",
    "# Extracts the predictions from our results\n",
    "y_pred = df_predictions_test[\"pred\"]"
   ]
  },
  {
   "cell_type": "code",
   "execution_count": 54,
   "metadata": {},
   "outputs": [
    {
     "data": {
      "text/plain": [
       "0.71"
      ]
     },
     "execution_count": 54,
     "metadata": {},
     "output_type": "execute_result"
    }
   ],
   "source": [
    "# Out-of-sample performance \n",
    "m.accuracy_score(test_y, y_pred)"
   ]
  },
  {
   "cell_type": "markdown",
   "metadata": {},
   "source": [
    "This accuracy is not terrible but also not great. Of all predictions, 71% were correct. This sounds good, but keep in mind that simply predicting that everyone voted would return an accuracy of 74%. By that measure then, we should simply predict that everyone votes instead of using this model.\n",
    "\n",
    "Note though that always predicting that someone votes would make our false positive rate 100%. If we are hoping to find those who do not vote as opposed to simply predicting accurately, then always predicting that someone voted would make for a terrible model."
   ]
  },
  {
   "cell_type": "code",
   "execution_count": 55,
   "metadata": {},
   "outputs": [
    {
     "data": {
      "text/plain": [
       "0.569047619047619"
      ]
     },
     "execution_count": 55,
     "metadata": {},
     "output_type": "execute_result"
    }
   ],
   "source": [
    "# Area under the ROC curve\n",
    "m.roc_auc_score(test_y,y_pred)"
   ]
  },
  {
   "cell_type": "markdown",
   "metadata": {},
   "source": [
    "This is a pretty poor AUC. At 0.57, our model only barely predicts better than using a coin flip (AUC = 0.50)."
   ]
  },
  {
   "cell_type": "code",
   "execution_count": 65,
   "metadata": {},
   "outputs": [
    {
     "data": {
      "text/html": [
       "<div>\n",
       "<style scoped>\n",
       "    .dataframe tbody tr th:only-of-type {\n",
       "        vertical-align: middle;\n",
       "    }\n",
       "\n",
       "    .dataframe tbody tr th {\n",
       "        vertical-align: top;\n",
       "    }\n",
       "\n",
       "    .dataframe thead th {\n",
       "        text-align: right;\n",
       "    }\n",
       "</style>\n",
       "<table border=\"1\" class=\"dataframe\">\n",
       "  <thead>\n",
       "    <tr style=\"text-align: right;\">\n",
       "      <th></th>\n",
       "      <th>0.0</th>\n",
       "      <th>1.0</th>\n",
       "    </tr>\n",
       "  </thead>\n",
       "  <tbody>\n",
       "    <tr>\n",
       "      <th>113</th>\n",
       "      <td>0.000062</td>\n",
       "      <td>0.000234</td>\n",
       "    </tr>\n",
       "    <tr>\n",
       "      <th>114</th>\n",
       "      <td>0.000018</td>\n",
       "      <td>0.000077</td>\n",
       "    </tr>\n",
       "    <tr>\n",
       "      <th>268</th>\n",
       "      <td>0.000001</td>\n",
       "      <td>0.000033</td>\n",
       "    </tr>\n",
       "    <tr>\n",
       "      <th>96</th>\n",
       "      <td>0.000011</td>\n",
       "      <td>0.000021</td>\n",
       "    </tr>\n",
       "    <tr>\n",
       "      <th>166</th>\n",
       "      <td>0.000020</td>\n",
       "      <td>0.000024</td>\n",
       "    </tr>\n",
       "  </tbody>\n",
       "</table>\n",
       "</div>"
      ],
      "text/plain": [
       "          0.0       1.0\n",
       "113  0.000062  0.000234\n",
       "114  0.000018  0.000077\n",
       "268  0.000001  0.000033\n",
       "96   0.000011  0.000021\n",
       "166  0.000020  0.000024"
      ]
     },
     "execution_count": 65,
     "metadata": {},
     "output_type": "execute_result"
    }
   ],
   "source": [
    "probs = df_predictions_test[[\"pr_0\", \"pr_1\"]].rename({\"pr_0\":0.0, \"pr_1\":1.0}, axis = 'columns')\n",
    "probs.sample(5)"
   ]
  },
  {
   "cell_type": "code",
   "execution_count": 66,
   "metadata": {},
   "outputs": [],
   "source": [
    "# Generate the False Positive Rate and True Positive Rate Given different thresholds\n",
    "fpr, tpr, thresholds = m.roc_curve(test_y, probs[1])"
   ]
  },
  {
   "cell_type": "code",
   "execution_count": 67,
   "metadata": {},
   "outputs": [
    {
     "data": {
      "image/png": "[encoded data removed]",
      "text/plain": [
       "<Figure size 700x500 with 1 Axes>"
      ]
     },
     "metadata": {
      "needs_background": "light"
     },
     "output_type": "display_data"
    },
    {
     "data": {
      "text/plain": [
       "<ggplot: (108346074227)>"
      ]
     },
     "execution_count": 67,
     "metadata": {},
     "output_type": "execute_result"
    }
   ],
   "source": [
    "# Plot the ROC Curve\n",
    "( \n",
    "    ggplot(pd.DataFrame(dict(fpr=fpr,tpr=tpr)),\n",
    "           aes(x=\"fpr\",y=\"tpr\")) +\n",
    "    geom_path(color=\"steelblue\",size=1) +\n",
    "    geom_abline(intercept=0,slope=1,linetype=\"dashed\") +\n",
    "    theme_minimal() +\n",
    "    labs(title=\"ROC Curve\") +\n",
    "    theme(figure_size=(7,5))\n",
    ")"
   ]
  },
  {
   "cell_type": "markdown",
   "metadata": {},
   "source": [
    "The above visualization shows just how closely our predictions are to random choices. The $45^o$ line shows what random choices would return. Our line skims just barely along the top of the $45^o$ line, even dipping below from time to time."
   ]
  },
  {
   "cell_type": "markdown",
   "metadata": {},
   "source": [
    "# Summary\n",
    "\n",
    "Accuracy: 0.71 <br>\n",
    "AUC: 0.57 <br>\n",
    "\n",
    "Our model predicts moderately better than chance, but not by much, as our AUC is only 0.57. Our model's accuracy is 0.71, meaning that our model predicts correctly the class of an observation 71% of the time. This accuracy is slightly lower than the accuracy from a model which returns only that an individual has voted, as 74% of the people in this data voted. \n",
    "\n",
    "As one would likely be using this model to find those least likely to vote, using a model which only predicts that people vote would be irresponsible. While this model is not perfect, it is better than both chance in terms of AUC and a constant model (only predicting someone voted) in terms of utility."
   ]
  },
  {
   "cell_type": "code",
   "execution_count": null,
   "metadata": {},
   "outputs": [],
   "source": []
  }
 ],
 "metadata": {
  "kernelspec": {
   "display_name": "Python 3",
   "language": "python",
   "name": "python3"
  },
  "language_info": {
   "codemirror_mode": {
    "name": "ipython",
    "version": 3
   },
   "file_extension": ".py",
   "mimetype": "text/x-python",
   "name": "python",
   "nbconvert_exporter": "python",
   "pygments_lexer": "ipython3",
   "version": "3.8.6"
  }
 },
 "nbformat": 4,
 "nbformat_minor": 4
}
