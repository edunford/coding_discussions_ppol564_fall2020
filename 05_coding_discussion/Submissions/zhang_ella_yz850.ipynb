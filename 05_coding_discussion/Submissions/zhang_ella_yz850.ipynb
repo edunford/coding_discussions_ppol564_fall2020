{
 "cells": [
  {
   "cell_type": "markdown",
   "metadata": {},
   "source": [
    "# Coding Discussion 05\n",
    "### Ella Zhang"
   ]
  },
  {
   "cell_type": "markdown",
   "metadata": {},
   "source": [
    "## Preparation"
   ]
  },
  {
   "cell_type": "code",
   "execution_count": 1,
   "metadata": {},
   "outputs": [],
   "source": [
    "import pandas as pd\n",
    "import numpy as np\n",
    "import pprint as pp # for printing\n",
    "import scipy.stats as st # for Normal PDF\n",
    "\n",
    "# Plotting libraries \n",
    "import matplotlib.pyplot as plt\n",
    "import seaborn as sns\n",
    "from plotnine import *\n",
    "\n",
    "# Silence warnings \n",
    "import warnings\n",
    "warnings.filterwarnings(\"ignore\")"
   ]
  },
  {
   "cell_type": "markdown",
   "metadata": {},
   "source": [
    "Below is a dataset that records the age, eduction level (of total years in school), income, race (caucasian or not), and past voting record (i.e. whether or not the respondent voted in the 2012 Presidential election)."
   ]
  },
  {
   "cell_type": "code",
   "execution_count": 2,
   "metadata": {},
   "outputs": [
    {
     "data": {
      "text/html": [
       "<div>\n",
       "<style scoped>\n",
       "    .dataframe tbody tr th:only-of-type {\n",
       "        vertical-align: middle;\n",
       "    }\n",
       "\n",
       "    .dataframe tbody tr th {\n",
       "        vertical-align: top;\n",
       "    }\n",
       "\n",
       "    .dataframe thead th {\n",
       "        text-align: right;\n",
       "    }\n",
       "</style>\n",
       "<table border=\"1\" class=\"dataframe\">\n",
       "  <thead>\n",
       "    <tr style=\"text-align: right;\">\n",
       "      <th></th>\n",
       "      <th>vote</th>\n",
       "      <th>age</th>\n",
       "      <th>educate</th>\n",
       "      <th>income</th>\n",
       "      <th>white</th>\n",
       "    </tr>\n",
       "  </thead>\n",
       "  <tbody>\n",
       "    <tr>\n",
       "      <th>0</th>\n",
       "      <td>1</td>\n",
       "      <td>60</td>\n",
       "      <td>14.0</td>\n",
       "      <td>3.3458</td>\n",
       "      <td>1</td>\n",
       "    </tr>\n",
       "    <tr>\n",
       "      <th>1</th>\n",
       "      <td>0</td>\n",
       "      <td>51</td>\n",
       "      <td>10.0</td>\n",
       "      <td>1.8561</td>\n",
       "      <td>1</td>\n",
       "    </tr>\n",
       "    <tr>\n",
       "      <th>2</th>\n",
       "      <td>0</td>\n",
       "      <td>24</td>\n",
       "      <td>12.0</td>\n",
       "      <td>0.6304</td>\n",
       "      <td>1</td>\n",
       "    </tr>\n",
       "    <tr>\n",
       "      <th>3</th>\n",
       "      <td>1</td>\n",
       "      <td>38</td>\n",
       "      <td>8.0</td>\n",
       "      <td>3.4183</td>\n",
       "      <td>1</td>\n",
       "    </tr>\n",
       "    <tr>\n",
       "      <th>4</th>\n",
       "      <td>1</td>\n",
       "      <td>25</td>\n",
       "      <td>12.0</td>\n",
       "      <td>2.7852</td>\n",
       "      <td>1</td>\n",
       "    </tr>\n",
       "  </tbody>\n",
       "</table>\n",
       "</div>"
      ],
      "text/plain": [
       "   vote  age  educate  income  white\n",
       "0     1   60     14.0  3.3458      1\n",
       "1     0   51     10.0  1.8561      1\n",
       "2     0   24     12.0  0.6304      1\n",
       "3     1   38      8.0  3.4183      1\n",
       "4     1   25     12.0  2.7852      1"
      ]
     },
     "execution_count": 2,
     "metadata": {},
     "output_type": "execute_result"
    }
   ],
   "source": [
    "# Read in the data\n",
    "turnout = pd.read_csv(\"../turnout.csv\")\n",
    "\n",
    "# Drop id column and reorder columns\n",
    "turnout = turnout[[\"vote\",\"age\",\"educate\",\"income\",\"white\"]]\n",
    "\n",
    "# Look at the head of the data\n",
    "turnout.head()"
   ]
  },
  {
   "cell_type": "markdown",
   "metadata": {},
   "source": [
    "## Train-Test Split\n",
    "The sample is composed of 2000 individual respondents. Break the data up into a training (1600 entries, 80%) and test dataset (400 entries, 20%)."
   ]
  },
  {
   "cell_type": "code",
   "execution_count": 3,
   "metadata": {},
   "outputs": [
    {
     "name": "stdout",
     "output_type": "stream",
     "text": [
      "Training Data: 1600 \n",
      "Test Data: 400\n"
     ]
    },
    {
     "data": {
      "text/html": [
       "<div>\n",
       "<style scoped>\n",
       "    .dataframe tbody tr th:only-of-type {\n",
       "        vertical-align: middle;\n",
       "    }\n",
       "\n",
       "    .dataframe tbody tr th {\n",
       "        vertical-align: top;\n",
       "    }\n",
       "\n",
       "    .dataframe thead th {\n",
       "        text-align: right;\n",
       "    }\n",
       "</style>\n",
       "<table border=\"1\" class=\"dataframe\">\n",
       "  <thead>\n",
       "    <tr style=\"text-align: right;\">\n",
       "      <th></th>\n",
       "      <th>vote</th>\n",
       "      <th>age</th>\n",
       "      <th>educate</th>\n",
       "      <th>income</th>\n",
       "      <th>white</th>\n",
       "    </tr>\n",
       "  </thead>\n",
       "  <tbody>\n",
       "    <tr>\n",
       "      <th>0</th>\n",
       "      <td>1</td>\n",
       "      <td>78</td>\n",
       "      <td>16.0</td>\n",
       "      <td>1.3131</td>\n",
       "      <td>1</td>\n",
       "    </tr>\n",
       "    <tr>\n",
       "      <th>1</th>\n",
       "      <td>1</td>\n",
       "      <td>72</td>\n",
       "      <td>3.0</td>\n",
       "      <td>0.6765</td>\n",
       "      <td>0</td>\n",
       "    </tr>\n",
       "    <tr>\n",
       "      <th>2</th>\n",
       "      <td>1</td>\n",
       "      <td>64</td>\n",
       "      <td>10.0</td>\n",
       "      <td>1.3131</td>\n",
       "      <td>1</td>\n",
       "    </tr>\n",
       "    <tr>\n",
       "      <th>3</th>\n",
       "      <td>1</td>\n",
       "      <td>80</td>\n",
       "      <td>8.0</td>\n",
       "      <td>1.1839</td>\n",
       "      <td>1</td>\n",
       "    </tr>\n",
       "    <tr>\n",
       "      <th>4</th>\n",
       "      <td>1</td>\n",
       "      <td>19</td>\n",
       "      <td>14.0</td>\n",
       "      <td>2.9072</td>\n",
       "      <td>1</td>\n",
       "    </tr>\n",
       "  </tbody>\n",
       "</table>\n",
       "</div>"
      ],
      "text/plain": [
       "   vote  age  educate  income  white\n",
       "0     1   78     16.0  1.3131      1\n",
       "1     1   72      3.0  0.6765      0\n",
       "2     1   64     10.0  1.3131      1\n",
       "3     1   80      8.0  1.1839      1\n",
       "4     1   19     14.0  2.9072      1"
      ]
     },
     "execution_count": 3,
     "metadata": {},
     "output_type": "execute_result"
    }
   ],
   "source": [
    "# Set seed\n",
    "np.random.seed(1234)\n",
    "\n",
    "# Train-Test split\n",
    "train = turnout.sample(frac=.8).reset_index(drop=True)\n",
    "test = turnout.drop(train.index).reset_index(drop=True)\n",
    "\n",
    "# Print off the split count \n",
    "print(\"Training Data:\",train.shape[0],\n",
    "      \"\\nTest Data:\",test.shape[0])\n",
    "\n",
    "# Look at the head of the data\n",
    "train.head()"
   ]
  },
  {
   "cell_type": "markdown",
   "metadata": {},
   "source": [
    "## Naive Bayesian Classifier"
   ]
  },
  {
   "cell_type": "markdown",
   "metadata": {},
   "source": [
    "### Calculate Class Probabilities: $Pr(Class)$\n",
    "(i.e. whether a respondent will vote in a presidential election or not)"
   ]
  },
  {
   "cell_type": "code",
   "execution_count": 4,
   "metadata": {},
   "outputs": [
    {
     "name": "stdout",
     "output_type": "stream",
     "text": [
      "\n",
      "Pr(vote = 1): 0.7425\n",
      "Pr(vote = 0): 0.2575\n",
      "\n"
     ]
    }
   ],
   "source": [
    "N = train.shape[0]\n",
    "\n",
    "# Subset the data by class\n",
    "vote1 = train.query(\"vote == 1\")\n",
    "vote0 = train.query(\"vote == 0\")\n",
    "\n",
    "# Calculate the probability for each class\n",
    "pr_vote_1 = vote1.shape[0]/N\n",
    "pr_vote_0 = vote0.shape[0]/N\n",
    "\n",
    "# Print the probabilities\n",
    "print(\n",
    "f\"\"\"\n",
    "Pr(vote = 1): {pr_vote_1}\n",
    "Pr(vote = 0): {pr_vote_0}\n",
    "\"\"\")"
   ]
  },
  {
   "cell_type": "markdown",
   "metadata": {},
   "source": [
    "### Calculate the Conditional Probabilities: $Pr(data|class)$\n",
    "### Binary Predictors\n",
    "* $Pr(white=1|vote=1)$\n",
    "* $Pr(white=0|vote=1)$\n",
    "* $Pr(white=1|vote=0)$\n",
    "* $Pr(white=0|vote=0)$"
   ]
  },
  {
   "cell_type": "code",
   "execution_count": 5,
   "metadata": {},
   "outputs": [
    {
     "name": "stdout",
     "output_type": "stream",
     "text": [
      "\n",
      "Pr(white = 1 |vote = 1): 0.8686868686868687\n",
      "Pr(white = 0 |vote = 1): 0.13131313131313133\n",
      "Pr(white = 1 |vote = 0): 0.7985436893203883\n",
      "Pr(white = 0 |vote = 0): 0.20145631067961164\n",
      "\n"
     ]
    }
   ],
   "source": [
    "# Given vote == 1\n",
    "white1_vote1 = vote1.query(\"white == 1\").shape[0]/vote1.shape[0]\n",
    "white0_vote1 = vote1.query(\"white == 0\").shape[0]/vote1.shape[0]\n",
    "\n",
    "# Given vote == 0\n",
    "white1_vote0 = vote0.query(\"white == 1\").shape[0]/vote0.shape[0]\n",
    "white0_vote0 = vote0.query(\"white == 0\").shape[0]/vote0.shape[0]\n",
    "\n",
    "print(\n",
    "f\"\"\"\n",
    "Pr(white = 1 |vote = 1): {white1_vote1}\n",
    "Pr(white = 0 |vote = 1): {white0_vote1}\n",
    "Pr(white = 1 |vote = 0): {white1_vote0}\n",
    "Pr(white = 0 |vote = 0): {white0_vote0}\n",
    "\"\"\")"
   ]
  },
  {
   "cell_type": "code",
   "execution_count": 6,
   "metadata": {},
   "outputs": [
    {
     "name": "stdout",
     "output_type": "stream",
     "text": [
      "{('white', 0, 0): 0.20145631067961164,\n",
      " ('white', 0, 1): 0.13131313131313133,\n",
      " ('white', 1, 0): 0.7985436893203883,\n",
      " ('white', 1, 1): 0.8686868686868687}\n"
     ]
    }
   ],
   "source": [
    "# Collect the conditional probabilities\n",
    "cond_prob = \\\n",
    "{(\"white\",1,1):white1_vote1,\n",
    " (\"white\",0,1):white0_vote1,\n",
    " (\"white\",1,0):white1_vote0,\n",
    " (\"white\",0,0):white0_vote0\n",
    "}\n",
    "\n",
    "# Print\n",
    "pp.pprint(cond_prob)"
   ]
  },
  {
   "cell_type": "markdown",
   "metadata": {},
   "source": [
    "### Continuous Predictors\n",
    "Calculate the conditional mean and standard deviation for each value of the outcome."
   ]
  },
  {
   "cell_type": "code",
   "execution_count": 7,
   "metadata": {},
   "outputs": [
    {
     "name": "stdout",
     "output_type": "stream",
     "text": [
      "{('age', 0): {'mean': 42.601941747572816, 'sd': 19.147825402160812},\n",
      " ('age', 1): {'mean': 46.32491582491583, 'sd': 16.924844588853727},\n",
      " ('educate', 0): {'mean': 10.62864077669903, 'sd': 3.3043810919835317},\n",
      " ('educate', 1): {'mean': 12.558922558922559, 'sd': 3.2957141274443202},\n",
      " ('income', 0): {'mean': 2.738161893203883, 'sd': 2.242991372933763},\n",
      " ('income', 1): {'mean': 4.229461952861953, 'sd': 2.848208991067699}}\n"
     ]
    }
   ],
   "source": [
    "# Collect the mean and standard deviation of each conditional distribution\n",
    "dist_locs = \\\n",
    "{(\"age\",1):{'mean':vote1.age.mean(),'sd':vote1.age.std()},\n",
    " (\"age\",0):{'mean':vote0.age.mean(),'sd':vote0.age.std()},\n",
    " (\"educate\",1):{'mean':vote1.educate.mean(),'sd':vote1.educate.std()},\n",
    " (\"educate\",0):{'mean':vote0.educate.mean(),'sd':vote0.educate.std()},\n",
    " (\"income\",1):{'mean':vote1.income.mean(),'sd':vote1.income.std()},\n",
    " (\"income\",0):{'mean':vote0.income.mean(),'sd':vote0.income.std()}\n",
    "}\n",
    "\n",
    "# Print\n",
    "pp.pprint(dist_locs)"
   ]
  },
  {
   "cell_type": "markdown",
   "metadata": {},
   "source": [
    "View what these different conditional distributions look like."
   ]
  },
  {
   "cell_type": "code",
   "execution_count": 8,
   "metadata": {},
   "outputs": [
    {
     "data": {
      "image/png": "[encoded data removed]",
      "text/plain": [
       "<Figure size 1500x600 with 1 Axes>"
      ]
     },
     "metadata": {
      "needs_background": "light"
     },
     "output_type": "display_data"
    }
   ],
   "source": [
    "# Plot with seaborn\n",
    "plt.figure(figsize=(10,4),dpi=150)\n",
    "for key in dist_locs.keys():\n",
    "    locs = dist_locs[key]\n",
    "    d = pd.DataFrame([[i,st.norm(locs['mean'], locs['sd']).pdf(i)] \n",
    "                      for i in np.linspace(-10,90)])\n",
    "    ax = sns.lineplot(d[0],d[1],label=f\"{key[0]} where vote = {key[1]}\")"
   ]
  },
  {
   "cell_type": "markdown",
   "metadata": {},
   "source": [
    "Try predicting a single observation."
   ]
  },
  {
   "cell_type": "code",
   "execution_count": 9,
   "metadata": {},
   "outputs": [
    {
     "name": "stdout",
     "output_type": "stream",
     "text": [
      "1.0 23.0 12.0 2.1319 1.0\n"
     ]
    }
   ],
   "source": [
    "vote,age,educate,income,white = train.iloc[6,:]\n",
    "print(vote,age,educate,income,white)"
   ]
  },
  {
   "cell_type": "code",
   "execution_count": 10,
   "metadata": {},
   "outputs": [
    {
     "name": "stdout",
     "output_type": "stream",
     "text": [
      "\n",
      "    Pr(vote == 1| X): 7.495521325143518e-05\n",
      "    Pr(vote == 0| X): 4.818756601730137e-05\n",
      "\n"
     ]
    }
   ],
   "source": [
    "# Prediction for the 1 class\n",
    "a = st.norm(dist_locs[(\"age\",1)]['mean'], dist_locs[(\"age\",1)]['sd']).pdf(age)\n",
    "b = st.norm(dist_locs[(\"educate\",1)]['mean'], dist_locs[(\"educate\",1)]['sd']).pdf(educate)\n",
    "c = st.norm(dist_locs[(\"income\",1)]['mean'], dist_locs[(\"income\",1)]['sd']).pdf(income)\n",
    "d = white1_vote1\n",
    "e = pr_vote_1\n",
    "pr_1 = a * b * c * d * e\n",
    "\n",
    "# Prediction for the 0 class\n",
    "a = st.norm(dist_locs[(\"age\",0)]['mean'], dist_locs[(\"age\",0)]['sd']).pdf(age)\n",
    "b = st.norm(dist_locs[(\"educate\",0)]['mean'], dist_locs[(\"educate\",0)]['sd']).pdf(educate)\n",
    "c = st.norm(dist_locs[(\"income\",0)]['mean'], dist_locs[(\"income\",0)]['sd']).pdf(income)\n",
    "d = white1_vote0\n",
    "e = pr_vote_0\n",
    "pr_0 = a * b * c * d * e\n",
    "\n",
    "print(\n",
    "f'''\n",
    "    Pr(vote == 1| X): {pr_1}\n",
    "    Pr(vote == 0| X): {pr_0}\n",
    "''')"
   ]
  },
  {
   "cell_type": "markdown",
   "metadata": {},
   "source": [
    "0.0075% is greater than 0.0048%, so we predict that vote = 1."
   ]
  },
  {
   "cell_type": "markdown",
   "metadata": {},
   "source": [
    "Calculate the predictions for multiple continuous variables."
   ]
  },
  {
   "cell_type": "code",
   "execution_count": 11,
   "metadata": {},
   "outputs": [],
   "source": [
    "def predict(data,binary,cond_prob,dist_locs):\n",
    "    \"\"\"\n",
    "    This function calculates the conditional probabilities into each class and returns both the probabilities and the most likely class.\n",
    "    \n",
    "    Args:\n",
    "        data (dataframe): dataframe of the training data\n",
    "        binary (list): list of the binary variable names\n",
    "        cond_prob (dict): dictionary containing the conditional probabilities for binary predictors\n",
    "        dist_locs (dict): dictionary containing the conditional mean and standard deviation of each conditional distribution\n",
    "    \n",
    "    Returns:\n",
    "        dict: dictionary containing the predictions\n",
    "    \"\"\"\n",
    "    \n",
    "    # Create an empty list to store the predictions\n",
    "    store_preds = []\n",
    "    \n",
    "    for i,row in data.iterrows():\n",
    "        # Initialize the probabilities to 1\n",
    "        pr_0 = 1; pr_1 = 1\n",
    "        \n",
    "        for j in range(1,len(row)):\n",
    "            if row.index[j] in binary: # binary variable\n",
    "                pr_0 *= cond_prob[row.index[j],row.values[j],0]\n",
    "                pr_1 *= cond_prob[row.index[j],row.values[j],1]\n",
    "            else: # continuous variable\n",
    "                # Get the predictions using a Gaussan distribution\n",
    "                pr_0 *= st.norm(dist_locs[(row.index[j],0)]['mean'],\n",
    "                                dist_locs[(row.index[j],0)]['sd']).pdf(row.values[j])\n",
    "                pr_1 *= st.norm(dist_locs[(row.index[j],1)]['mean'], \n",
    "                                dist_locs[(row.index[j],1)]['sd']).pdf(row.values[j])\n",
    "        \n",
    "        # Multiply by the class probabilities\n",
    "        pr_0 *= pr_vote_0\n",
    "        pr_1 *= pr_vote_1\n",
    "        \n",
    "        # Assign the class designation to the highest probability\n",
    "        if pr_0 >= pr_1:\n",
    "            class_pred = 0\n",
    "        else:\n",
    "            class_pred = 1\n",
    "        \n",
    "        # Append the predictions to the list\n",
    "        store_preds.append([pr_0,pr_1,class_pred])\n",
    "        \n",
    "    return pd.DataFrame(store_preds,columns=[\"pr_0\",\"pr_1\",\"pred\"])\n",
    "\n",
    "# Run\n",
    "binary = [\"white\"]\n",
    "preds_train = predict(train,binary,cond_prob,dist_locs)"
   ]
  },
  {
   "cell_type": "code",
   "execution_count": 12,
   "metadata": {},
   "outputs": [
    {
     "data": {
      "text/html": [
       "<div>\n",
       "<style scoped>\n",
       "    .dataframe tbody tr th:only-of-type {\n",
       "        vertical-align: middle;\n",
       "    }\n",
       "\n",
       "    .dataframe tbody tr th {\n",
       "        vertical-align: top;\n",
       "    }\n",
       "\n",
       "    .dataframe thead th {\n",
       "        text-align: right;\n",
       "    }\n",
       "</style>\n",
       "<table border=\"1\" class=\"dataframe\">\n",
       "  <thead>\n",
       "    <tr style=\"text-align: right;\">\n",
       "      <th></th>\n",
       "      <th>pr_0</th>\n",
       "      <th>pr_1</th>\n",
       "      <th>pred</th>\n",
       "    </tr>\n",
       "  </thead>\n",
       "  <tbody>\n",
       "    <tr>\n",
       "      <th>0</th>\n",
       "      <td>3.632617e-06</td>\n",
       "      <td>1.535617e-05</td>\n",
       "      <td>1</td>\n",
       "    </tr>\n",
       "    <tr>\n",
       "      <th>1</th>\n",
       "      <td>3.258162e-07</td>\n",
       "      <td>8.439931e-08</td>\n",
       "      <td>0</td>\n",
       "    </tr>\n",
       "    <tr>\n",
       "      <th>2</th>\n",
       "      <td>3.954328e-05</td>\n",
       "      <td>6.544042e-05</td>\n",
       "      <td>1</td>\n",
       "    </tr>\n",
       "    <tr>\n",
       "      <th>3</th>\n",
       "      <td>7.829549e-06</td>\n",
       "      <td>7.723286e-06</td>\n",
       "      <td>0</td>\n",
       "    </tr>\n",
       "    <tr>\n",
       "      <th>4</th>\n",
       "      <td>2.550202e-05</td>\n",
       "      <td>5.713713e-05</td>\n",
       "      <td>1</td>\n",
       "    </tr>\n",
       "    <tr>\n",
       "      <th>5</th>\n",
       "      <td>2.383934e-06</td>\n",
       "      <td>1.232408e-06</td>\n",
       "      <td>0</td>\n",
       "    </tr>\n",
       "    <tr>\n",
       "      <th>6</th>\n",
       "      <td>4.818757e-05</td>\n",
       "      <td>7.495521e-05</td>\n",
       "      <td>1</td>\n",
       "    </tr>\n",
       "    <tr>\n",
       "      <th>7</th>\n",
       "      <td>1.409436e-05</td>\n",
       "      <td>5.479169e-05</td>\n",
       "      <td>1</td>\n",
       "    </tr>\n",
       "    <tr>\n",
       "      <th>8</th>\n",
       "      <td>3.377400e-05</td>\n",
       "      <td>8.911569e-05</td>\n",
       "      <td>1</td>\n",
       "    </tr>\n",
       "    <tr>\n",
       "      <th>9</th>\n",
       "      <td>3.426620e-05</td>\n",
       "      <td>1.301632e-04</td>\n",
       "      <td>1</td>\n",
       "    </tr>\n",
       "  </tbody>\n",
       "</table>\n",
       "</div>"
      ],
      "text/plain": [
       "           pr_0          pr_1  pred\n",
       "0  3.632617e-06  1.535617e-05     1\n",
       "1  3.258162e-07  8.439931e-08     0\n",
       "2  3.954328e-05  6.544042e-05     1\n",
       "3  7.829549e-06  7.723286e-06     0\n",
       "4  2.550202e-05  5.713713e-05     1\n",
       "5  2.383934e-06  1.232408e-06     0\n",
       "6  4.818757e-05  7.495521e-05     1\n",
       "7  1.409436e-05  5.479169e-05     1\n",
       "8  3.377400e-05  8.911569e-05     1\n",
       "9  3.426620e-05  1.301632e-04     1"
      ]
     },
     "execution_count": 12,
     "metadata": {},
     "output_type": "execute_result"
    }
   ],
   "source": [
    "# Predicted output\n",
    "preds_train.head(10)"
   ]
  },
  {
   "cell_type": "markdown",
   "metadata": {},
   "source": [
    "Examine the predictive accuracy of the training data."
   ]
  },
  {
   "cell_type": "code",
   "execution_count": 13,
   "metadata": {},
   "outputs": [
    {
     "data": {
      "text/plain": [
       "0.736875"
      ]
     },
     "execution_count": 13,
     "metadata": {},
     "output_type": "execute_result"
    }
   ],
   "source": [
    "accuracy_train = sum(train.vote == preds_train.pred)/train.shape[0]\n",
    "accuracy_train"
   ]
  },
  {
   "cell_type": "markdown",
   "metadata": {},
   "source": [
    "Examine the predictive accuracy of the test data."
   ]
  },
  {
   "cell_type": "code",
   "execution_count": 14,
   "metadata": {},
   "outputs": [
    {
     "data": {
      "text/plain": [
       "0.715"
      ]
     },
     "execution_count": 14,
     "metadata": {},
     "output_type": "execute_result"
    }
   ],
   "source": [
    "preds_test = predict(test,binary,cond_prob,dist_locs)\n",
    "accuracy_test = sum(test.vote == preds_test.pred)/test.shape[0]\n",
    "accuracy_test"
   ]
  },
  {
   "cell_type": "markdown",
   "metadata": {},
   "source": [
    "The predictive accuracy of the training data is 73.7% and the predictive accuracy of the test data is 71.5%."
   ]
  },
  {
   "cell_type": "markdown",
   "metadata": {},
   "source": [
    "## `sklearn` Implementation"
   ]
  },
  {
   "cell_type": "code",
   "execution_count": 15,
   "metadata": {},
   "outputs": [],
   "source": [
    "# Organize our data real quick so it plugs into the sklearn API easily \n",
    "train_y = train[\"vote\"]\n",
    "train_x = train[[\"age\",\"educate\",\"income\",\"white\"]]\n",
    "test_y = test[\"vote\"]\n",
    "test_x = test[[\"age\",\"educate\",\"income\",\"white\"]]"
   ]
  },
  {
   "cell_type": "code",
   "execution_count": 16,
   "metadata": {},
   "outputs": [
    {
     "data": {
      "text/plain": [
       "0.7125"
      ]
     },
     "execution_count": 16,
     "metadata": {},
     "output_type": "execute_result"
    }
   ],
   "source": [
    "from sklearn.naive_bayes import GaussianNB # Classifier \n",
    "import sklearn.metrics as m # Metrics to determine the classification \n",
    "\n",
    "# Instantiate the model class\n",
    "gnb = GaussianNB()\n",
    "gnb.fit(train_x, train_y) # Train\n",
    "\n",
    "# Predict \n",
    "y_pred = gnb.predict(test_x)\n",
    "\n",
    "# Out-of-sample performance \n",
    "m.accuracy_score(test_y,y_pred)"
   ]
  },
  {
   "cell_type": "markdown",
   "metadata": {},
   "source": [
    "Consider alternative performance metrics."
   ]
  },
  {
   "cell_type": "code",
   "execution_count": 17,
   "metadata": {},
   "outputs": [
    {
     "data": {
      "text/plain": [
       "0.575595238095238"
      ]
     },
     "execution_count": 17,
     "metadata": {},
     "output_type": "execute_result"
    }
   ],
   "source": [
    "m.roc_auc_score(test_y,y_pred)"
   ]
  },
  {
   "cell_type": "markdown",
   "metadata": {},
   "source": [
    "Generate a ROC curve plot. First, we need the model to return probabilities not predictions."
   ]
  },
  {
   "cell_type": "code",
   "execution_count": 18,
   "metadata": {},
   "outputs": [
    {
     "data": {
      "text/html": [
       "<div>\n",
       "<style scoped>\n",
       "    .dataframe tbody tr th:only-of-type {\n",
       "        vertical-align: middle;\n",
       "    }\n",
       "\n",
       "    .dataframe tbody tr th {\n",
       "        vertical-align: top;\n",
       "    }\n",
       "\n",
       "    .dataframe thead th {\n",
       "        text-align: right;\n",
       "    }\n",
       "</style>\n",
       "<table border=\"1\" class=\"dataframe\">\n",
       "  <thead>\n",
       "    <tr style=\"text-align: right;\">\n",
       "      <th></th>\n",
       "      <th>0</th>\n",
       "      <th>1</th>\n",
       "    </tr>\n",
       "  </thead>\n",
       "  <tbody>\n",
       "    <tr>\n",
       "      <th>0</th>\n",
       "      <td>0.382004</td>\n",
       "      <td>0.617996</td>\n",
       "    </tr>\n",
       "    <tr>\n",
       "      <th>1</th>\n",
       "      <td>0.089185</td>\n",
       "      <td>0.910815</td>\n",
       "    </tr>\n",
       "    <tr>\n",
       "      <th>2</th>\n",
       "      <td>0.275975</td>\n",
       "      <td>0.724025</td>\n",
       "    </tr>\n",
       "    <tr>\n",
       "      <th>3</th>\n",
       "      <td>0.255162</td>\n",
       "      <td>0.744838</td>\n",
       "    </tr>\n",
       "    <tr>\n",
       "      <th>4</th>\n",
       "      <td>0.036055</td>\n",
       "      <td>0.963945</td>\n",
       "    </tr>\n",
       "    <tr>\n",
       "      <th>...</th>\n",
       "      <td>...</td>\n",
       "      <td>...</td>\n",
       "    </tr>\n",
       "    <tr>\n",
       "      <th>395</th>\n",
       "      <td>0.168330</td>\n",
       "      <td>0.831670</td>\n",
       "    </tr>\n",
       "    <tr>\n",
       "      <th>396</th>\n",
       "      <td>0.274707</td>\n",
       "      <td>0.725293</td>\n",
       "    </tr>\n",
       "    <tr>\n",
       "      <th>397</th>\n",
       "      <td>0.021379</td>\n",
       "      <td>0.978621</td>\n",
       "    </tr>\n",
       "    <tr>\n",
       "      <th>398</th>\n",
       "      <td>0.438499</td>\n",
       "      <td>0.561501</td>\n",
       "    </tr>\n",
       "    <tr>\n",
       "      <th>399</th>\n",
       "      <td>0.351710</td>\n",
       "      <td>0.648290</td>\n",
       "    </tr>\n",
       "  </tbody>\n",
       "</table>\n",
       "<p>400 rows × 2 columns</p>\n",
       "</div>"
      ],
      "text/plain": [
       "            0         1\n",
       "0    0.382004  0.617996\n",
       "1    0.089185  0.910815\n",
       "2    0.275975  0.724025\n",
       "3    0.255162  0.744838\n",
       "4    0.036055  0.963945\n",
       "..        ...       ...\n",
       "395  0.168330  0.831670\n",
       "396  0.274707  0.725293\n",
       "397  0.021379  0.978621\n",
       "398  0.438499  0.561501\n",
       "399  0.351710  0.648290\n",
       "\n",
       "[400 rows x 2 columns]"
      ]
     },
     "execution_count": 18,
     "metadata": {},
     "output_type": "execute_result"
    }
   ],
   "source": [
    "probs = gnb.predict_proba(test_x)\n",
    "probs = pd.DataFrame(probs,columns=gnb.classes_)\n",
    "probs"
   ]
  },
  {
   "cell_type": "code",
   "execution_count": 19,
   "metadata": {},
   "outputs": [],
   "source": [
    "# Generate the False Positive Rate and True Positive Rate given different thresholds\n",
    "fpr, tpr, thresholds = m.roc_curve(test_y, probs[1])"
   ]
  },
  {
   "cell_type": "code",
   "execution_count": 20,
   "metadata": {},
   "outputs": [
    {
     "data": {
      "image/png": "[encoded data removed]",
      "text/plain": [
       "<Figure size 700x500 with 1 Axes>"
      ]
     },
     "metadata": {
      "needs_background": "light"
     },
     "output_type": "display_data"
    },
    {
     "data": {
      "text/plain": [
       "<ggplot: (273074411)>"
      ]
     },
     "execution_count": 20,
     "metadata": {},
     "output_type": "execute_result"
    }
   ],
   "source": [
    "# Plot the ROC Curve\n",
    "( \n",
    "    ggplot(pd.DataFrame(dict(fpr=fpr,tpr=tpr)),\n",
    "           aes(x=\"fpr\",y=\"tpr\")) +\n",
    "    geom_path(color=\"steelblue\",size=1) +\n",
    "    geom_abline(intercept=0,slope=1,linetype=\"dashed\") +\n",
    "    theme_minimal() +\n",
    "    labs(title=\"ROC Curve\") +\n",
    "    theme(figure_size=(7,5))\n",
    ")"
   ]
  },
  {
   "cell_type": "markdown",
   "metadata": {},
   "source": [
    "## Summary\n",
    "The accuray of our model is 0.7125, indicating that the model predicts the right class at about 71% chance. However, the AUC is only 0.575, which measures how true positive rate and false positive rate trade off. The AUC here suggests that our model predicts slightly better than flipping a coin. "
   ]
  }
 ],
 "metadata": {
  "kernelspec": {
   "display_name": "Python 3",
   "language": "python",
   "name": "python3"
  },
  "language_info": {
   "codemirror_mode": {
    "name": "ipython",
    "version": 3
   },
   "file_extension": ".py",
   "mimetype": "text/x-python",
   "name": "python",
   "nbconvert_exporter": "python",
   "pygments_lexer": "ipython3",
   "version": "3.8.5"
  }
 },
 "nbformat": 4,
 "nbformat_minor": 4
}
