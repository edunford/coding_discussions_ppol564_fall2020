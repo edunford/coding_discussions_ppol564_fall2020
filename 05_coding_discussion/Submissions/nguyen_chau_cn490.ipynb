{
 "cells": [
  {
   "cell_type": "code",
   "execution_count": 1,
   "metadata": {
    "jupyter": {
     "outputs_hidden": false,
     "source_hidden": false
    },
    "nteract": {
     "transient": {
      "deleting": false
     }
    }
   },
   "outputs": [],
   "source": [
    "import pandas as pd\n",
    "import numpy as np\n",
    "import pprint as pp # for printing\n",
    "import scipy.stats as st # for Normal PDF\n",
    "import os\n",
    "# Plotting libraries\n",
    "import matplotlib.pyplot as plt\n",
    "import seaborn as sns\n",
    "from plotnine import *\n",
    "\n",
    "# Silence warnings\n",
    "import warnings\n",
    "warnings.filterwarnings(\"ignore\")\n"
   ]
  },
  {
   "cell_type": "markdown",
   "metadata": {
    "nteract": {
     "transient": {
      "deleting": false
     }
    }
   },
   "source": [
    "# Coding Discussion 5\n",
    " Chau Nguyen\n"
   ]
  },
  {
   "cell_type": "markdown",
   "metadata": {},
   "source": [
    "### General cleaning"
   ]
  },
  {
   "cell_type": "code",
   "execution_count": 2,
   "metadata": {
    "jupyter": {
     "outputs_hidden": false,
     "source_hidden": false
    },
    "nteract": {
     "transient": {
      "deleting": false
     }
    }
   },
   "outputs": [],
   "source": [
    "# Read in the turnout data\n",
    "turnout_data = pd.read_csv(\"../turnout.csv\")"
   ]
  },
  {
   "cell_type": "code",
   "execution_count": 3,
   "metadata": {
    "jupyter": {
     "outputs_hidden": false,
     "source_hidden": false
    },
    "nteract": {
     "transient": {
      "deleting": false
     }
    }
   },
   "outputs": [
    {
     "data": {
      "text/html": [
       "<div>\n",
       "<style scoped>\n",
       "    .dataframe tbody tr th:only-of-type {\n",
       "        vertical-align: middle;\n",
       "    }\n",
       "\n",
       "    .dataframe tbody tr th {\n",
       "        vertical-align: top;\n",
       "    }\n",
       "\n",
       "    .dataframe thead th {\n",
       "        text-align: right;\n",
       "    }\n",
       "</style>\n",
       "<table border=\"1\" class=\"dataframe\">\n",
       "  <thead>\n",
       "    <tr style=\"text-align: right;\">\n",
       "      <th></th>\n",
       "      <th>mean</th>\n",
       "      <th>std</th>\n",
       "      <th>min</th>\n",
       "      <th>max</th>\n",
       "    </tr>\n",
       "  </thead>\n",
       "  <tbody>\n",
       "    <tr>\n",
       "      <th>id</th>\n",
       "      <td>1000.50</td>\n",
       "      <td>577.49</td>\n",
       "      <td>1.0</td>\n",
       "      <td>2000.00</td>\n",
       "    </tr>\n",
       "    <tr>\n",
       "      <th>age</th>\n",
       "      <td>45.30</td>\n",
       "      <td>17.52</td>\n",
       "      <td>17.0</td>\n",
       "      <td>95.00</td>\n",
       "    </tr>\n",
       "    <tr>\n",
       "      <th>educate</th>\n",
       "      <td>12.07</td>\n",
       "      <td>3.37</td>\n",
       "      <td>0.0</td>\n",
       "      <td>19.00</td>\n",
       "    </tr>\n",
       "    <tr>\n",
       "      <th>income</th>\n",
       "      <td>3.89</td>\n",
       "      <td>2.83</td>\n",
       "      <td>0.0</td>\n",
       "      <td>14.92</td>\n",
       "    </tr>\n",
       "    <tr>\n",
       "      <th>vote</th>\n",
       "      <td>0.75</td>\n",
       "      <td>0.44</td>\n",
       "      <td>0.0</td>\n",
       "      <td>1.00</td>\n",
       "    </tr>\n",
       "    <tr>\n",
       "      <th>white</th>\n",
       "      <td>0.85</td>\n",
       "      <td>0.35</td>\n",
       "      <td>0.0</td>\n",
       "      <td>1.00</td>\n",
       "    </tr>\n",
       "  </tbody>\n",
       "</table>\n",
       "</div>"
      ],
      "text/plain": [
       "            mean     std   min      max\n",
       "id       1000.50  577.49   1.0  2000.00\n",
       "age        45.30   17.52  17.0    95.00\n",
       "educate    12.07    3.37   0.0    19.00\n",
       "income      3.89    2.83   0.0    14.92\n",
       "vote        0.75    0.44   0.0     1.00\n",
       "white       0.85    0.35   0.0     1.00"
      ]
     },
     "execution_count": 3,
     "metadata": {},
     "output_type": "execute_result"
    }
   ],
   "source": [
    "# Print summary statistics\n",
    "np.round(turnout_data.describe(), 2).T[['mean', 'std', 'min', 'max']]"
   ]
  },
  {
   "cell_type": "markdown",
   "metadata": {
    "nteract": {
     "transient": {
      "deleting": false
     }
    }
   },
   "source": [
    "There is one 17 year old voter in the dataset but let's leave it in because the data is from a pre-election & post-election interview."
   ]
  },
  {
   "cell_type": "markdown",
   "metadata": {},
   "source": [
    "#### Split the dataset up"
   ]
  },
  {
   "cell_type": "code",
   "execution_count": 4,
   "metadata": {
    "jupyter": {
     "outputs_hidden": false,
     "source_hidden": false
    },
    "nteract": {
     "transient": {
      "deleting": false
     }
    }
   },
   "outputs": [
    {
     "name": "stdout",
     "output_type": "stream",
     "text": [
      "Training Data: 1600 \n",
      "Test Data: 400\n"
     ]
    }
   ],
   "source": [
    "# Split data into train/ test:\n",
    "train = turnout_data.sample(frac=.8).reset_index(drop=True)\n",
    "\n",
    "test = turnout_data.drop(train.index).reset_index(drop=True)\n",
    "\n",
    "# Print off the split count\n",
    "print(\"Training Data:\",train.shape[0],\n",
    "      \"\\nTest Data:\",test.shape[0])"
   ]
  },
  {
   "cell_type": "code",
   "execution_count": 5,
   "metadata": {},
   "outputs": [
    {
     "data": {
      "text/html": [
       "<div>\n",
       "<style scoped>\n",
       "    .dataframe tbody tr th:only-of-type {\n",
       "        vertical-align: middle;\n",
       "    }\n",
       "\n",
       "    .dataframe tbody tr th {\n",
       "        vertical-align: top;\n",
       "    }\n",
       "\n",
       "    .dataframe thead th {\n",
       "        text-align: right;\n",
       "    }\n",
       "</style>\n",
       "<table border=\"1\" class=\"dataframe\">\n",
       "  <thead>\n",
       "    <tr style=\"text-align: right;\">\n",
       "      <th></th>\n",
       "      <th>id</th>\n",
       "      <th>age</th>\n",
       "      <th>educate</th>\n",
       "      <th>income</th>\n",
       "      <th>vote</th>\n",
       "      <th>white</th>\n",
       "    </tr>\n",
       "  </thead>\n",
       "  <tbody>\n",
       "    <tr>\n",
       "      <th>0</th>\n",
       "      <td>1170</td>\n",
       "      <td>53</td>\n",
       "      <td>14.0</td>\n",
       "      <td>11.2351</td>\n",
       "      <td>1</td>\n",
       "      <td>1</td>\n",
       "    </tr>\n",
       "    <tr>\n",
       "      <th>1</th>\n",
       "      <td>1462</td>\n",
       "      <td>24</td>\n",
       "      <td>16.0</td>\n",
       "      <td>2.9170</td>\n",
       "      <td>1</td>\n",
       "      <td>1</td>\n",
       "    </tr>\n",
       "    <tr>\n",
       "      <th>2</th>\n",
       "      <td>767</td>\n",
       "      <td>43</td>\n",
       "      <td>10.0</td>\n",
       "      <td>4.4312</td>\n",
       "      <td>1</td>\n",
       "      <td>1</td>\n",
       "    </tr>\n",
       "    <tr>\n",
       "      <th>3</th>\n",
       "      <td>1005</td>\n",
       "      <td>46</td>\n",
       "      <td>12.0</td>\n",
       "      <td>3.4183</td>\n",
       "      <td>1</td>\n",
       "      <td>1</td>\n",
       "    </tr>\n",
       "    <tr>\n",
       "      <th>4</th>\n",
       "      <td>1784</td>\n",
       "      <td>64</td>\n",
       "      <td>14.0</td>\n",
       "      <td>3.3458</td>\n",
       "      <td>1</td>\n",
       "      <td>1</td>\n",
       "    </tr>\n",
       "  </tbody>\n",
       "</table>\n",
       "</div>"
      ],
      "text/plain": [
       "     id  age  educate   income  vote  white\n",
       "0  1170   53     14.0  11.2351     1      1\n",
       "1  1462   24     16.0   2.9170     1      1\n",
       "2   767   43     10.0   4.4312     1      1\n",
       "3  1005   46     12.0   3.4183     1      1\n",
       "4  1784   64     14.0   3.3458     1      1"
      ]
     },
     "execution_count": 5,
     "metadata": {},
     "output_type": "execute_result"
    }
   ],
   "source": [
    "# Look at the head of the data\n",
    "train.head()"
   ]
  },
  {
   "cell_type": "code",
   "execution_count": 6,
   "metadata": {},
   "outputs": [],
   "source": [
    "# Drop the id column in both datasets:\n",
    "train = train.drop(columns=[\"id\"])\n",
    "test = test.drop(columns=[\"id\"])"
   ]
  },
  {
   "cell_type": "markdown",
   "metadata": {},
   "source": [
    "## Part 1: Build Naive Bayesian Classifier with Binary Predictor"
   ]
  },
  {
   "cell_type": "code",
   "execution_count": 7,
   "metadata": {
    "jupyter": {
     "outputs_hidden": false,
     "source_hidden": false
    },
    "nteract": {
     "transient": {
      "deleting": false
     }
    }
   },
   "outputs": [],
   "source": [
    "# Number of observations in the training data\n",
    "N = train.shape[0]\n",
    "\n",
    "# Subset the data by whether someone voted or not\n",
    "vote1 = train.query(\"vote == 1\")\n",
    "vote0 = train.query(\"vote == 0\")\n",
    "\n",
    "train.query(\"vote ==1\").shape[0]/train.shape[0]\n",
    "\n",
    "# Calculate the probability:\n",
    "pr_vote_1 = vote1.shape[0]/N\n",
    "pr_vote_0 = vote0.shape[0]/N"
   ]
  },
  {
   "cell_type": "markdown",
   "metadata": {},
   "source": [
    "#### $Pr(\\text{Vote})$ is the prior probability of someone voting."
   ]
  },
  {
   "cell_type": "code",
   "execution_count": 8,
   "metadata": {},
   "outputs": [
    {
     "name": "stdout",
     "output_type": "stream",
     "text": [
      "\n",
      "Pr(vote = 1): 0.745\n",
      "Pr(vote = 0): 0.255\n",
      "\n"
     ]
    }
   ],
   "source": [
    "# Print the probabilities\n",
    "print(\n",
    "f\"\"\"\n",
    "Pr(vote = 1): {pr_vote_1}\n",
    "Pr(vote = 0): {pr_vote_0}\n",
    "\"\"\")"
   ]
  },
  {
   "cell_type": "markdown",
   "metadata": {
    "nteract": {
     "transient": {
      "deleting": false
     }
    }
   },
   "source": [
    "#### Observation: The probability that someone in the training dataset vote is around 75%."
   ]
  },
  {
   "cell_type": "markdown",
   "metadata": {
    "nteract": {
     "transient": {
      "deleting": false
     }
    }
   },
   "source": [
    "In the data, \"white\" is a binary variable. We subset the training data into 2 separate bins - voter and non-voter, and find the percentage of white in each bin. \n",
    "\n",
    "#### $Pr(\\text{White|Vote})$\n",
    "This gives us the $Pr(\\text{White|Vote})$, which is the conditional probability of \"White\" given \"Vote\"."
   ]
  },
  {
   "cell_type": "code",
   "execution_count": 9,
   "metadata": {
    "jupyter": {
     "outputs_hidden": false,
     "source_hidden": false
    },
    "nteract": {
     "transient": {
      "deleting": false
     }
    }
   },
   "outputs": [],
   "source": [
    "#Given vote == 1\n",
    "w1_vote1 = vote1.query(\"white == 1\").shape[0]/vote1.shape[0]\n",
    "w0_vote1 = vote1.query(\"white == 0\").shape[0]/vote1.shape[0]\n",
    "#Given vote == 0\n",
    "w1_vote0 = vote0.query(\"white == 1\").shape[0]/vote0.shape[0]\n",
    "w0_vote0 = vote0.query(\"white == 0\").shape[0]/vote0.shape[0]"
   ]
  },
  {
   "cell_type": "code",
   "execution_count": 10,
   "metadata": {
    "jupyter": {
     "outputs_hidden": false,
     "source_hidden": false
    },
    "nteract": {
     "transient": {
      "deleting": false
     }
    }
   },
   "outputs": [
    {
     "name": "stdout",
     "output_type": "stream",
     "text": [
      "\n",
      "Pr(white = 1| vote = 1): 0.87751677852349\n",
      "Pr(white = 0| vote = 1): 0.12248322147651007\n",
      "Pr(white = 1| vote = 0): 0.7794117647058824\n",
      "Pr(white = 0| vote = 0): 0.22058823529411764\n",
      "\n"
     ]
    }
   ],
   "source": [
    "print(\n",
    "f\"\"\"\n",
    "Pr(white = 1| vote = 1): {w1_vote1}\n",
    "Pr(white = 0| vote = 1): {w0_vote1}\n",
    "Pr(white = 1| vote = 0): {w1_vote0}\n",
    "Pr(white = 0| vote = 0): {w0_vote0}\n",
    "\"\"\")"
   ]
  },
  {
   "cell_type": "markdown",
   "metadata": {
    "nteract": {
     "transient": {
      "deleting": false
     }
    }
   },
   "source": [
    "##### Make a prediction\n",
    "We want to predict whether someone will vote or not, given their race. This means we want to find\n",
    "\n",
    "$Pr(\\text{Vote|White})$ - the posterior probability, or the updated probability of Vote given White."
   ]
  },
  {
   "cell_type": "code",
   "execution_count": 11,
   "metadata": {
    "jupyter": {
     "outputs_hidden": false,
     "source_hidden": false
    },
    "nteract": {
     "transient": {
      "deleting": false
     }
    }
   },
   "outputs": [
    {
     "name": "stdout",
     "output_type": "stream",
     "text": [
      "\n",
      "Pr(vote = 1) = 0.65375\n",
      "Pr(vote = 0) = 0.19875\n",
      "\n"
     ]
    }
   ],
   "source": [
    "# If white == 1\n",
    "prob_w_vote1 = w1_vote1 * pr_vote_1\n",
    "prob_w_vote0 = w1_vote0 * pr_vote_0\n",
    "print(f\"\"\"\n",
    "Pr(vote = 1) = {prob_w_vote1}\n",
    "Pr(vote = 0) = {prob_w_vote0}\n",
    "\"\"\")"
   ]
  },
  {
   "cell_type": "markdown",
   "metadata": {
    "nteract": {
     "transient": {
      "deleting": false
     }
    }
   },
   "source": [
    "0.656 is larger than 0.196, so we predict that **a white person would vote.**"
   ]
  },
  {
   "cell_type": "code",
   "execution_count": 12,
   "metadata": {
    "jupyter": {
     "outputs_hidden": false,
     "source_hidden": false
    },
    "nteract": {
     "transient": {
      "deleting": false
     }
    }
   },
   "outputs": [
    {
     "name": "stdout",
     "output_type": "stream",
     "text": [
      "\n",
      "Pr(vote = 1) = 0.09125\n",
      "Pr(vote = 0) = 0.05625\n",
      "\n"
     ]
    }
   ],
   "source": [
    "# If white == 0 \n",
    "prob_nw_vote1 = w0_vote1 * pr_vote_1\n",
    "prob_nw_vote0 = w0_vote0 * pr_vote_0\n",
    "\n",
    "print(f\"\"\"\n",
    "Pr(vote = 1) = {prob_nw_vote1}\n",
    "Pr(vote = 0) = {prob_nw_vote0}\n",
    "\"\"\")"
   ]
  },
  {
   "cell_type": "markdown",
   "metadata": {
    "nteract": {
     "transient": {
      "deleting": false
     }
    }
   },
   "source": [
    "0.0906 is larger than 0.0513, so we predict that **a non-white person would also vote.**\n",
    "\n",
    "If we only use $Pr(\\text{Vote|White})$ to make a prediction, we will always predict that a person would vote and be correct 75% of the time (because 75% of the training dataset are voters).\n",
    "\n",
    "I now build a funciton that calculates the class probability $Pr(\\text{Vote})$ and conditional probabilities $Pr(\\text{White|Vote})$ similar to the calculations above."
   ]
  },
  {
   "cell_type": "code",
   "execution_count": 13,
   "metadata": {
    "jupyter": {
     "outputs_hidden": false,
     "source_hidden": false
    },
    "nteract": {
     "transient": {
      "deleting": false
     }
    }
   },
   "outputs": [],
   "source": [
    "# Define function calc_probs\n",
    "\n",
    "def calc_probs(data, outcome_var=\"\"):\n",
    "    '''\n",
    "    Function calculates the class and conditional probabilities in\n",
    "    the binary data.\n",
    "\n",
    "    Args: 1) dataset\n",
    "          2) outcome_var: the outcome we want to predict\n",
    "    Returns: A dictionary containing 1) The class probabilities of the outcome vars \n",
    "            and 2) The conditional probabilities of each variable given the class\n",
    "    '''\n",
    "    # Generate empty dictionary containers.\n",
    "    class_probs = {};cond_probs = {}\n",
    "    # Locate all variables that are not the outcome.\n",
    "    vars = [v for v in data.columns if v != outcome_var]\n",
    "    # iterate through the class outcomes\n",
    "    for y, d in data.groupby(outcome_var):\n",
    "        # calculate the class probabilities\n",
    "        class_probs.update({y: d.shape[0]/data.shape[0]})\n",
    "        for v in vars:\n",
    "            # calculate the conditional probabilities for each variable given the class.\n",
    "            pr = d[v].sum()/d.shape[0]\n",
    "            cond_probs[(v,1,y)] = pr\n",
    "            cond_probs[(v,0,y)] = 1 - pr\n",
    "    return class_probs, cond_probs"
   ]
  },
  {
   "cell_type": "code",
   "execution_count": 14,
   "metadata": {
    "jupyter": {
     "outputs_hidden": false,
     "source_hidden": false
    },
    "nteract": {
     "transient": {
      "deleting": false
     }
    }
   },
   "outputs": [
    {
     "name": "stdout",
     "output_type": "stream",
     "text": [
      "class probabilities\n",
      "\n",
      "{0: 0.255, 1: 0.745}\n",
      "\n",
      "\n",
      "conditional probabilities\n",
      "\n",
      "{('white', 0, 0): 0.22058823529411764,\n",
      " ('white', 0, 1): 0.12248322147651003,\n",
      " ('white', 1, 0): 0.7794117647058824,\n",
      " ('white', 1, 1): 0.87751677852349}\n"
     ]
    }
   ],
   "source": [
    "# Run it, saving values for class_probs and cond_probs to be used later\n",
    "\n",
    "class_probs, cond_probs = calc_probs(train[[\"white\",\"vote\"]], outcome_var = \"vote\")\n",
    "# Print\n",
    "print(\"class probabilities\",end=\"\\n\\n\")\n",
    "pp.pprint(class_probs)\n",
    "print(\"\\n\")\n",
    "print(\"conditional probabilities\",end=\"\\n\\n\")\n",
    "pp.pprint(cond_probs)"
   ]
  },
  {
   "cell_type": "code",
   "execution_count": 15,
   "metadata": {
    "jupyter": {
     "outputs_hidden": false,
     "source_hidden": false
    },
    "nteract": {
     "transient": {
      "deleting": false
     }
    }
   },
   "outputs": [],
   "source": [
    "# Build predict_binary function\n",
    "def predict_binary(data,class_probs,cond_probs):\n",
    "    '''\n",
    "    This function calculates the conditional probability for membership into each class.\n",
    "    Then returns both probabilities, together with the most likely class.\n",
    "    '''\n",
    "    store_preds = []\n",
    "    for i,row in data.iterrows():\n",
    "        pr_1 = 1; pr_0 = 1\n",
    "        for j in range(0,len(row.index)):\n",
    "            #print(row.index[j])\n",
    "            pr_0 *= cond_probs[(row.index[j],row.values[j],0)]\n",
    "            pr_1 *= cond_probs[(row.index[j],row.values[j],1)]\n",
    "        pr_0 *= class_probs[0]\n",
    "        pr_1 *= class_probs[1]\n",
    "        store_preds.append([pr_0,pr_1,max([(pr_0,0),(pr_1,1)])[1]])\n",
    "\n",
    "    return pd.DataFrame(store_preds,columns=[\"pr_0\",\"pr_1\",\"pred\"])"
   ]
  },
  {
   "cell_type": "code",
   "execution_count": 16,
   "metadata": {
    "jupyter": {
     "outputs_hidden": false,
     "source_hidden": false
    },
    "nteract": {
     "transient": {
      "deleting": false
     }
    }
   },
   "outputs": [
    {
     "data": {
      "text/plain": [
       "array([1])"
      ]
     },
     "execution_count": 16,
     "metadata": {},
     "output_type": "execute_result"
    }
   ],
   "source": [
    "# Run the predict_binary function on the white column of the training dataset\n",
    "preds_train_binary = predict_binary(train[[\"white\"]], class_probs, cond_probs)\n",
    "# Check the prediction for voter\n",
    "preds_train_binary.pred.unique()"
   ]
  },
  {
   "cell_type": "markdown",
   "metadata": {},
   "source": [
    "There is only one value pred==1 in in preds_train_binary, meaning that the predict_binary function predicts that people in the training dataset would vote 100% of the time."
   ]
  },
  {
   "cell_type": "markdown",
   "metadata": {},
   "source": [
    "### Binary Predictor: Test for accuracy "
   ]
  },
  {
   "cell_type": "code",
   "execution_count": 17,
   "metadata": {},
   "outputs": [
    {
     "data": {
      "text/plain": [
       "0.745"
      ]
     },
     "execution_count": 17,
     "metadata": {},
     "output_type": "execute_result"
    }
   ],
   "source": [
    "# Examine the predictive accuracy of the training data\n",
    "accuracy_train_binary = sum(train.vote == preds_train_binary.pred)/train.shape[0]\n",
    "accuracy_train_binary"
   ]
  },
  {
   "cell_type": "code",
   "execution_count": 18,
   "metadata": {},
   "outputs": [
    {
     "data": {
      "text/plain": [
       "0.7"
      ]
     },
     "execution_count": 18,
     "metadata": {},
     "output_type": "execute_result"
    }
   ],
   "source": [
    "preds_test_binary = predict_binary(test[[\"white\"]], class_probs, cond_probs)\n",
    "accuracy_test_binary = sum(test.vote == preds_test_binary.pred)/test.shape[0]\n",
    "accuracy_test_binary"
   ]
  },
  {
   "cell_type": "markdown",
   "metadata": {
    "nteract": {
     "transient": {
      "deleting": false
     }
    }
   },
   "source": [
    "**Observation:** On the training dataset, the predictive accuracy is about 75%, which is what we expected because 75% of the dataset is voter, and the simple binary predictor predicted that 100% of the training dataset would vote. "
   ]
  },
  {
   "cell_type": "markdown",
   "metadata": {
    "nteract": {
     "transient": {
      "deleting": false
     }
    }
   },
   "source": [
    "## Part 2: Build Naive Bayesian Classifier with Continuous Predictors\n",
    "In the data, age, educate, and income are all continuous predictors. We need to  calculate the conditional mean and standard deviation for each value of the outcome, then calculate the predictions from there for any one of our continuous variables.\n",
    "\n"
   ]
  },
  {
   "cell_type": "code",
   "execution_count": 19,
   "metadata": {
    "jupyter": {
     "outputs_hidden": false,
     "source_hidden": false
    },
    "nteract": {
     "transient": {
      "deleting": false
     }
    }
   },
   "outputs": [
    {
     "name": "stdout",
     "output_type": "stream",
     "text": [
      "{('age', 0): {'mean': 43.181372549019606, 'sd': 19.145798958714156},\n",
      " ('age', 1): {'mean': 46.23322147651007, 'sd': 17.01363024549987},\n",
      " ('educate', 0): {'mean': 10.595588235294118, 'sd': 3.2706618054696603},\n",
      " ('educate', 1): {'mean': 12.568372483221477, 'sd': 3.29314705108937},\n",
      " ('income', 0): {'mean': 2.7510441176470586, 'sd': 2.2720795201882082},\n",
      " ('income', 1): {'mean': 4.152318624161074, 'sd': 2.838093473987771}}\n"
     ]
    }
   ],
   "source": [
    "# Collect the mean and SD of each conditional distribution\n",
    "dist_locs = \\\n",
    "{(\"age\", 1): {\"mean\":vote1.age.mean(),'sd':vote1.age.std()},\n",
    "(\"age\", 0): {\"mean\":vote0.age.mean(),'sd':vote0.age.std()},\n",
    "(\"income\", 1): {\"mean\":vote1.income.mean(),'sd':vote1.income.std()},\n",
    "(\"income\", 0): {\"mean\":vote0.income.mean(),'sd':vote0.income.std()},\n",
    "(\"educate\", 1): {\"mean\":vote1.educate.mean(),'sd':vote1.educate.std()},\n",
    "(\"educate\", 0): {\"mean\":vote0.educate.mean(),'sd':vote0.educate.std()}\n",
    "}\n",
    "\n",
    "# Print\n",
    "pp.pprint(dist_locs)"
   ]
  },
  {
   "cell_type": "markdown",
   "metadata": {},
   "source": [
    "Now, let's try to predict whether an 18 year old whose education is 12 and income is 4 would vote or not."
   ]
  },
  {
   "cell_type": "code",
   "execution_count": 20,
   "metadata": {
    "jupyter": {
     "outputs_hidden": false,
     "source_hidden": false
    },
    "nteract": {
     "transient": {
      "deleting": false
     }
    }
   },
   "outputs": [],
   "source": [
    "# Probability that the hypothetical person would vote:\n",
    "\n",
    "pr_non_voter = (st.norm(dist_locs[(\"age\",0)]['mean'],\n",
    "                       dist_locs[(\"age\",0)]['sd']).pdf(18) *\n",
    "                st.norm(dist_locs[(\"educate\",0)]['mean'],\n",
    "                       dist_locs[(\"educate\"),0]['sd']).pdf(12) *\n",
    "                st.norm(dist_locs[(\"income\",0)]['mean'],\n",
    "                       dist_locs[(\"income\"),0]['sd']).pdf(4) *\n",
    "                pr_vote_0\n",
    "               )\n",
    "\n",
    "# Probability that the hypothetical person not would vote:\n",
    "pr_voter = (st.norm(dist_locs[(\"age\",1)]['mean'],\n",
    "                       dist_locs[(\"age\",1)]['sd']).pdf(18) *\n",
    "                st.norm(dist_locs[(\"educate\",1)]['mean'],\n",
    "                       dist_locs[(\"educate\"),1]['sd']).pdf(12) *\n",
    "                st.norm(dist_locs[(\"income\",1)]['mean'],\n",
    "                       dist_locs[(\"income\"),1]['sd']).pdf(4) *\n",
    "                pr_vote_1\n",
    "               )"
   ]
  },
  {
   "cell_type": "code",
   "execution_count": 21,
   "metadata": {
    "jupyter": {
     "outputs_hidden": false,
     "source_hidden": false
    },
    "nteract": {
     "transient": {
      "deleting": false
     }
    }
   },
   "outputs": [
    {
     "name": "stdout",
     "output_type": "stream",
     "text": [
      "Probability this person would vote: 0.00738559\n",
      "Probability this person would not vote: 0.00375708\n"
     ]
    }
   ],
   "source": [
    "print(\"Probability this person would vote: \" + str(round(pr_voter*100,8)))\n",
    "print(\"Probability this person would not vote: \" + str(round(pr_non_voter*100,8)))"
   ]
  },
  {
   "cell_type": "markdown",
   "metadata": {
    "nteract": {
     "transient": {
      "deleting": false
     }
    }
   },
   "source": [
    "0.00726 > 0.00399, so we predict that this hypothetical person would vote.\n",
    "\n",
    "Now, we build a function to calculate the conditional probability for continuous predictors."
   ]
  },
  {
   "cell_type": "code",
   "execution_count": 22,
   "metadata": {},
   "outputs": [],
   "source": [
    "# Definite function predict_cont to calculate the conditional probabilities of continuous predictor and get binary prediction\n",
    "def predict_cont(data,dist_locs):\n",
    "    '''\n",
    "    This function use the probability density function for normal distribution to convert continuous values into probabibilities\n",
    "    Args: 1) dataset\n",
    "        2) dist_locs: dictionary of each conditional distribution for the continuous variables, calculated above\n",
    "    Returns: Probability of vote == 0, Probability of vote == 1, and prediction whether the person would vote or not\n",
    "    '''\n",
    "    store_preds = []\n",
    "    for i, row in data.iterrows():\n",
    "\n",
    "        # Get the predictions using a Gaussan distribution\n",
    "        pr_0 = 1; pr_1 = 1\n",
    "\n",
    "        for j in range(0,len(row)):\n",
    "            pr_0 *= st.norm(dist_locs[(row.index[j],0)]['mean'],\n",
    "                            dist_locs[(row.index[j],0)]['sd']).pdf(row.values[j])\n",
    "            pr_1 *= st.norm(dist_locs[(row.index[j],1)]['mean'],\n",
    "                            dist_locs[(row.index[j],1)]['sd']).pdf(row.values[j])\n",
    "\n",
    "        # Multiplies by the probability of finding each class\n",
    "        pr_0 *= pr_vote_0\n",
    "        pr_1 *= pr_vote_1\n",
    "\n",
    "        # Assign the class designation to the highest probability\n",
    "        if pr_0 >= pr_1:\n",
    "            class_pred = 0\n",
    "        else:\n",
    "            class_pred = 1\n",
    "\n",
    "        store_preds.append([pr_0.round(6),pr_1.round(6),class_pred])\n",
    "\n",
    "    return pd.DataFrame(store_preds,columns=[\"pr_0\",\"pr_1\",\"pred\"])"
   ]
  },
  {
   "cell_type": "code",
   "execution_count": 23,
   "metadata": {},
   "outputs": [
    {
     "data": {
      "text/html": [
       "<div>\n",
       "<style scoped>\n",
       "    .dataframe tbody tr th:only-of-type {\n",
       "        vertical-align: middle;\n",
       "    }\n",
       "\n",
       "    .dataframe tbody tr th {\n",
       "        vertical-align: top;\n",
       "    }\n",
       "\n",
       "    .dataframe thead th {\n",
       "        text-align: right;\n",
       "    }\n",
       "</style>\n",
       "<table border=\"1\" class=\"dataframe\">\n",
       "  <thead>\n",
       "    <tr style=\"text-align: right;\">\n",
       "      <th></th>\n",
       "      <th>age</th>\n",
       "      <th>educate</th>\n",
       "      <th>income</th>\n",
       "    </tr>\n",
       "  </thead>\n",
       "  <tbody>\n",
       "    <tr>\n",
       "      <th>0</th>\n",
       "      <td>18</td>\n",
       "      <td>12</td>\n",
       "      <td>4</td>\n",
       "    </tr>\n",
       "  </tbody>\n",
       "</table>\n",
       "</div>"
      ],
      "text/plain": [
       "   age  educate  income\n",
       "0   18       12       4"
      ]
     },
     "execution_count": 23,
     "metadata": {},
     "output_type": "execute_result"
    }
   ],
   "source": [
    "# This is a 1-row dataset of the hypothetical 18-year-old voter above\n",
    "pd.DataFrame(np.array([[18,12,4]]), columns = [\"age\",\"educate\",\"income\"])"
   ]
  },
  {
   "cell_type": "code",
   "execution_count": 24,
   "metadata": {},
   "outputs": [
    {
     "data": {
      "text/html": [
       "<div>\n",
       "<style scoped>\n",
       "    .dataframe tbody tr th:only-of-type {\n",
       "        vertical-align: middle;\n",
       "    }\n",
       "\n",
       "    .dataframe tbody tr th {\n",
       "        vertical-align: top;\n",
       "    }\n",
       "\n",
       "    .dataframe thead th {\n",
       "        text-align: right;\n",
       "    }\n",
       "</style>\n",
       "<table border=\"1\" class=\"dataframe\">\n",
       "  <thead>\n",
       "    <tr style=\"text-align: right;\">\n",
       "      <th></th>\n",
       "      <th>pr_0</th>\n",
       "      <th>pr_1</th>\n",
       "      <th>pred</th>\n",
       "    </tr>\n",
       "  </thead>\n",
       "  <tbody>\n",
       "    <tr>\n",
       "      <th>0</th>\n",
       "      <td>0.000038</td>\n",
       "      <td>0.000074</td>\n",
       "      <td>1</td>\n",
       "    </tr>\n",
       "  </tbody>\n",
       "</table>\n",
       "</div>"
      ],
      "text/plain": [
       "       pr_0      pr_1  pred\n",
       "0  0.000038  0.000074     1"
      ]
     },
     "execution_count": 24,
     "metadata": {},
     "output_type": "execute_result"
    }
   ],
   "source": [
    "# Run predict_cont on the hypothetical dataset\n",
    "predict_cont(pd.DataFrame(np.array([[18,12,4]]), columns = [\"age\",\"educate\",\"income\"]),dist_locs)"
   ]
  },
  {
   "cell_type": "markdown",
   "metadata": {},
   "source": [
    "**Observation:** The function predict_cont() also predicts that the hypothetical 18 year-old would vote, and the probabilities of vote & no-vote are the same as if we calculate it by hand.\n",
    "\n",
    "### Continuous Predictor: Test for accuracy"
   ]
  },
  {
   "cell_type": "code",
   "execution_count": 25,
   "metadata": {},
   "outputs": [],
   "source": [
    "# Run pred_cont() on the whole training dataset\n",
    "preds_train_cont = predict_cont(train[[\"age\",\"educate\",\"income\"]], dist_locs)"
   ]
  },
  {
   "cell_type": "code",
   "execution_count": 26,
   "metadata": {},
   "outputs": [
    {
     "data": {
      "text/plain": [
       "0.743125"
      ]
     },
     "execution_count": 26,
     "metadata": {},
     "output_type": "execute_result"
    }
   ],
   "source": [
    "# Examine the predictive accuracy of the training data\n",
    "accuracy_train_cont = sum(train.vote == preds_train_cont.pred)/train.shape[0]\n",
    "\n",
    "accuracy_train_cont"
   ]
  },
  {
   "cell_type": "markdown",
   "metadata": {},
   "source": [
    "Accuracy is also around 75% with the continuous predictors."
   ]
  },
  {
   "cell_type": "markdown",
   "metadata": {
    "nteract": {
     "transient": {
      "deleting": false
     }
    }
   },
   "source": [
    "## Part 3: Build Naive Bayesian Classifier with Binary and Continuous Predictors\n",
    "\n",
    "Now, we put together what we learned in part 1 and part 2 into one function."
   ]
  },
  {
   "cell_type": "code",
   "execution_count": 27,
   "metadata": {
    "jupyter": {
     "outputs_hidden": false,
     "source_hidden": false
    },
    "nteract": {
     "transient": {
      "deleting": false
     }
    }
   },
   "outputs": [],
   "source": [
    "# Define function predict\n",
    "def predict(data,class_probs,cond_probs,dist_locs):\n",
    "    '''\n",
    "    Args: 1) dataset\n",
    "        2) class_probs: probability that someone vote or not, defined above\n",
    "        3) cond_probs: probability that someone vote or not depending on a binary predictor, which is \"white\" in this case, also defined above\n",
    "        4) dist_locs: dictionary of each conditional distribution for the continuous variables\n",
    "    \n",
    "    Returns: Probability of vote == 0, Probability of vote == 1, and prediction whether the person would vote or not\n",
    "    '''\n",
    "    store_preds = []\n",
    "    for i, row in data.iterrows():\n",
    "\n",
    "        # Get the predictions using a Gaussan distribution\n",
    "        pr_0 = 1; pr_1 = 1\n",
    "\n",
    "        for j in range(0,len(row)):\n",
    "\n",
    "                # First, filter out the \"vote\" column\n",
    "                if row.index[j] != \"vote\":\n",
    "\n",
    "                    # If the column is \"white\" (which is a binary dummy variable)\n",
    "                    # Then multiply the probability of each class (vote0 and vote1) by the conditional probability\n",
    "                   \n",
    "                    if row.index[j] == \"white\":\n",
    "                        pr_0 *= cond_probs[(row.index[j],row.values[j],0)]\n",
    "                        pr_1 *= cond_probs[(row.index[j],row.values[j],1)]\n",
    "\n",
    "                    # If the column is not \"white\"\n",
    "                    # Then use mean and sd to get the prediction for each class\n",
    "                    if row.index[j] != \"white\":\n",
    "                        pr_0 *= st.norm(dist_locs[(row.index[j],0)]['mean'],\n",
    "                                dist_locs[(row.index[j],0)]['sd']).pdf(row.values[j])\n",
    "                        pr_1 *= st.norm(dist_locs[(row.index[j],1)]['mean'],\n",
    "                                dist_locs[(row.index[j],1)]['sd']).pdf(row.values[j])\n",
    "\n",
    "        # Multiplies by the probability of finding each class\n",
    "        # This is the same formula to calculate pr_vote_0 and pr_vote_1 above\n",
    "        pr_0 *= data.query(\"vote == 0\").shape[0]/data.shape[0]\n",
    "        pr_1 *= data.query(\"vote == 1\").shape[0]/data.shape[0]\n",
    "\n",
    "        # Assign the class designation to the highest probability\n",
    "        if pr_0 >= pr_1:\n",
    "            class_pred = 0\n",
    "        else:\n",
    "            class_pred = 1\n",
    "\n",
    "        store_preds.append([pr_0.round(6),pr_1.round(6),class_pred])\n",
    "\n",
    "    return pd.DataFrame(store_preds,columns=[\"pr_0\",\"pr_1\",\"pred\"])\n"
   ]
  },
  {
   "cell_type": "code",
   "execution_count": 28,
   "metadata": {
    "jupyter": {
     "outputs_hidden": false,
     "source_hidden": false
    },
    "nteract": {
     "transient": {
      "deleting": false
     }
    }
   },
   "outputs": [],
   "source": [
    "# Run it on the training data\n",
    "preds_train = predict(train,class_probs,cond_probs,dist_locs)"
   ]
  },
  {
   "cell_type": "code",
   "execution_count": 29,
   "metadata": {},
   "outputs": [
    {
     "data": {
      "text/plain": [
       "array([1, 0])"
      ]
     },
     "execution_count": 29,
     "metadata": {},
     "output_type": "execute_result"
    }
   ],
   "source": [
    "# Check the values in the pred array to see if we got vote AND non-vote predictions\n",
    "preds_train.pred.unique()"
   ]
  },
  {
   "cell_type": "code",
   "execution_count": 30,
   "metadata": {},
   "outputs": [
    {
     "data": {
      "text/plain": [
       "0.73875"
      ]
     },
     "execution_count": 30,
     "metadata": {},
     "output_type": "execute_result"
    }
   ],
   "source": [
    "accuracy_train = sum(train.vote == preds_train.pred)/train.shape[0]\n",
    "accuracy_train"
   ]
  },
  {
   "cell_type": "markdown",
   "metadata": {},
   "source": [
    "**Observation:** The combined predictor function is also accurate around 75% of the time. \n",
    "\n",
    "This is actually not great, because if we predicted that a person would always vote, we would also get around 75% accuracy from this data set."
   ]
  },
  {
   "cell_type": "code",
   "execution_count": 31,
   "metadata": {},
   "outputs": [],
   "source": [
    "# Run it on the test data\n",
    "preds_test = predict(test, class_probs, cond_probs, dist_locs)"
   ]
  },
  {
   "cell_type": "code",
   "execution_count": 32,
   "metadata": {},
   "outputs": [
    {
     "data": {
      "text/plain": [
       "array([1, 0])"
      ]
     },
     "execution_count": 32,
     "metadata": {},
     "output_type": "execute_result"
    }
   ],
   "source": [
    "# Check the values in the pred array to see if we got vote AND non-vote predictions\n",
    "preds_test.pred.unique()"
   ]
  },
  {
   "cell_type": "code",
   "execution_count": 33,
   "metadata": {},
   "outputs": [
    {
     "data": {
      "text/plain": [
       "0.7175"
      ]
     },
     "execution_count": 33,
     "metadata": {},
     "output_type": "execute_result"
    }
   ],
   "source": [
    "accuracy_test = sum(test.vote == preds_test.pred)/test.shape[0]\n",
    "accuracy_test"
   ]
  },
  {
   "cell_type": "code",
   "execution_count": 34,
   "metadata": {},
   "outputs": [
    {
     "data": {
      "text/plain": [
       "327"
      ]
     },
     "execution_count": 34,
     "metadata": {},
     "output_type": "execute_result"
    }
   ],
   "source": [
    "sum(preds_test.pred)"
   ]
  },
  {
   "cell_type": "markdown",
   "metadata": {},
   "source": [
    "## Part 4: sklearn implementation and performance"
   ]
  },
  {
   "cell_type": "code",
   "execution_count": 35,
   "metadata": {},
   "outputs": [],
   "source": [
    "# Organize data to plug into sklearn API\n",
    "train_vote = train[\"vote\"]\n",
    "train_predvar = train[[\"white\",\"age\",\"educate\",\"income\"]]\n",
    "\n",
    "test_vote = test[\"vote\"]\n",
    "test_predvar = test[[\"white\",\"age\",\"educate\",\"income\"]]"
   ]
  },
  {
   "cell_type": "code",
   "execution_count": 36,
   "metadata": {},
   "outputs": [],
   "source": [
    "from sklearn.naive_bayes import GaussianNB # Classifier \n",
    "import sklearn.metrics as m # Metrics to determine the classification "
   ]
  },
  {
   "cell_type": "code",
   "execution_count": 37,
   "metadata": {},
   "outputs": [],
   "source": [
    "#Predict from Part 3 above\n",
    "vote_pred = preds_test.pred"
   ]
  },
  {
   "cell_type": "code",
   "execution_count": 38,
   "metadata": {},
   "outputs": [
    {
     "data": {
      "text/plain": [
       "0.7175"
      ]
     },
     "execution_count": 38,
     "metadata": {},
     "output_type": "execute_result"
    }
   ],
   "source": [
    "#Out-of-sample perfomance\n",
    "m.accuracy_score(test_vote,vote_pred)"
   ]
  },
  {
   "cell_type": "markdown",
   "metadata": {},
   "source": [
    "Our predict() model has an accuracy of 71.75%. \n",
    "\n",
    "Next, I will generate model predictors where 100%, 75%, 50%, 25%, and 0% of the 400 rows in the sample would vote, and test the accuracy of those predictors against the test data."
   ]
  },
  {
   "cell_type": "code",
   "execution_count": 39,
   "metadata": {},
   "outputs": [],
   "source": [
    "# Generate predictor where 100% of people votes\n",
    "all_votes_pred =  pd.Series([1]).repeat(400)"
   ]
  },
  {
   "cell_type": "code",
   "execution_count": 40,
   "metadata": {},
   "outputs": [
    {
     "data": {
      "text/plain": [
       "count    400.000000\n",
       "mean       0.790000\n",
       "std        0.407818\n",
       "min        0.000000\n",
       "25%        1.000000\n",
       "50%        1.000000\n",
       "75%        1.000000\n",
       "max        1.000000\n",
       "dtype: float64"
      ]
     },
     "execution_count": 40,
     "metadata": {},
     "output_type": "execute_result"
    }
   ],
   "source": [
    "# Generate np array of 400 random samples ranging from 0 to 1, where 25% are 0's and 75% are 1's\n",
    "quarter_no_vote_pred = np.random.choice([0, 1], size=400, p =[0.25,0.75])\n",
    "# Turn that into pd series\n",
    "quarter_no_vote_pred = pd.Series(quarter_no_vote_pred)\n",
    "quarter_no_vote_pred.describe()\n"
   ]
  },
  {
   "cell_type": "code",
   "execution_count": 41,
   "metadata": {},
   "outputs": [
    {
     "data": {
      "text/plain": [
       "count    400.000000\n",
       "mean       0.240000\n",
       "std        0.427618\n",
       "min        0.000000\n",
       "25%        0.000000\n",
       "50%        0.000000\n",
       "75%        0.000000\n",
       "max        1.000000\n",
       "dtype: float64"
      ]
     },
     "execution_count": 41,
     "metadata": {},
     "output_type": "execute_result"
    }
   ],
   "source": [
    "# Generate np array of 400 random samples ranging from 0 to 1, where 75% are 0's and 25% are 1's\n",
    "quarter_vote_pred = np.random.choice([0, 1], size=400, p =[0.75,0.25])\n",
    "# Turn that into pd series\n",
    "quarter_vote_pred = pd.Series(quarter_vote_pred)\n",
    "quarter_vote_pred.describe()"
   ]
  },
  {
   "cell_type": "code",
   "execution_count": 42,
   "metadata": {},
   "outputs": [
    {
     "data": {
      "text/plain": [
       "count    400.000000\n",
       "mean       0.505000\n",
       "std        0.500601\n",
       "min        0.000000\n",
       "25%        0.000000\n",
       "50%        1.000000\n",
       "75%        1.000000\n",
       "max        1.000000\n",
       "dtype: float64"
      ]
     },
     "execution_count": 42,
     "metadata": {},
     "output_type": "execute_result"
    }
   ],
   "source": [
    "# Generate np array of 400 random samples ranging from 0 to 1, where half is 0 and half is 1\n",
    "half_vote_pred = np.random.choice([0, 1], size=400, p =[0.5,0.5])\n",
    "# Turn that into pd series\n",
    "half_vote_pred = pd.Series(half_vote_pred)\n",
    "half_vote_pred.describe()"
   ]
  },
  {
   "cell_type": "code",
   "execution_count": 43,
   "metadata": {},
   "outputs": [
    {
     "data": {
      "text/plain": [
       "count    400.0\n",
       "mean       0.0\n",
       "std        0.0\n",
       "min        0.0\n",
       "25%        0.0\n",
       "50%        0.0\n",
       "75%        0.0\n",
       "max        0.0\n",
       "dtype: float64"
      ]
     },
     "execution_count": 43,
     "metadata": {},
     "output_type": "execute_result"
    }
   ],
   "source": [
    "# Generate predictor where everyone votes\n",
    "zero_votes_pred =  pd.Series([0]).repeat(400)\n",
    "zero_votes_pred.describe()"
   ]
  },
  {
   "cell_type": "code",
   "execution_count": 44,
   "metadata": {},
   "outputs": [
    {
     "name": "stdout",
     "output_type": "stream",
     "text": [
      "If we guess that 100% of the sample is voter, the accuracy score is: 0.7\n",
      "If we generate a model where 75% are voters, the accuracy score for that model is: 0.59\n",
      "And if I guessed that 50% of the test data are voters, the accuracy of this model would be: 0.495\n",
      "The accuracy score for the model where 25% are voters is: 0.39\n",
      "Finally, accuracy score for the model where 0% are voters is: 0.3\n"
     ]
    }
   ],
   "source": [
    "print(\"If we guess that 100% of the sample is voter, the accuracy score is:\",  m.accuracy_score(test_vote, all_votes_pred))\n",
    "print(\"If we generate a model where 75% are voters, the accuracy score for that model is:\", m.accuracy_score(test_vote, quarter_no_vote_pred))\n",
    "print(\"And if I guessed that 50% of the test data are voters, the accuracy of this model would be:\", m.accuracy_score(test_vote, half_vote_pred))\n",
    "print(\"The accuracy score for the model where 25% are voters is:\", m.accuracy_score(test_vote, quarter_vote_pred))\n",
    "print(\"Finally, accuracy score for the model where 0% are voters is:\", m.accuracy_score(test_vote, zero_votes_pred))"
   ]
  },
  {
   "cell_type": "markdown",
   "metadata": {},
   "source": [
    "Compare to the above, the 71.75% accuracy score we get from our Bayesian model is not bad, but it's not great either. We could have guessed that 100% of the sample are voters and still be accurate 70% of the time."
   ]
  },
  {
   "cell_type": "markdown",
   "metadata": {},
   "source": [
    "#### ROC Curve"
   ]
  },
  {
   "cell_type": "markdown",
   "metadata": {},
   "source": [
    "Next, we consider an alternative performance metrics - the area under the ROC curve."
   ]
  },
  {
   "cell_type": "code",
   "execution_count": 45,
   "metadata": {},
   "outputs": [
    {
     "data": {
      "text/plain": [
       "0.6077380952380953"
      ]
     },
     "execution_count": 45,
     "metadata": {},
     "output_type": "execute_result"
    }
   ],
   "source": [
    "#Calculate the area under the ROC curve\n",
    "roc_auc = m.roc_auc_score(test_vote, vote_pred)\n",
    "roc_auc"
   ]
  },
  {
   "cell_type": "markdown",
   "metadata": {},
   "source": [
    "The area under the ROC curve using our model is about 0.61."
   ]
  },
  {
   "cell_type": "code",
   "execution_count": 46,
   "metadata": {},
   "outputs": [
    {
     "name": "stdout",
     "output_type": "stream",
     "text": [
      "On the other hand, if we were to predict 100% people vote, the area under the ROC curve is 50.0\n",
      "If we use a random model to predict that 75% of the sample are voters, the AUC under the ROC curve is 47.0\n",
      "If we predict that 50% are voters, the area under the ROC is 49.0\n",
      "If we predict that 25% are voters, the area under the ROC is 49.0\n",
      "And finally, if we predict that 0% are voters, the area under the ROC is 50.0\n"
     ]
    }
   ],
   "source": [
    "print(\"On the other hand, if we were to predict 100% people vote, the area under the ROC curve is\", 100*m.roc_auc_score(test_vote, all_votes_pred).round(2))\n",
    "print(\"If we use a random model to predict that 75% of the sample are voters, the AUC under the ROC curve is\", 100*m.roc_auc_score(test_vote, quarter_no_vote_pred).round(2))\n",
    "print(\"If we predict that 50% are voters, the area under the ROC is\", 100*m.roc_auc_score(test_vote, half_vote_pred).round(2)) \n",
    "print(\"If we predict that 25% are voters, the area under the ROC is\", 100*m.roc_auc_score(test_vote, quarter_vote_pred).round(2)) \n",
    "print(\"And finally, if we predict that 0% are voters, the area under the ROC is\", 100*m.roc_auc_score(test_vote, zero_votes_pred).round(2)) "
   ]
  },
  {
   "cell_type": "markdown",
   "metadata": {},
   "source": [
    "#### Plot the ROC curve\n",
    "Finally, we will plot the ROC curve of our model, plus the trial models above."
   ]
  },
  {
   "cell_type": "code",
   "execution_count": 47,
   "metadata": {},
   "outputs": [],
   "source": [
    "# Get the probabilities from the prediction based on the test dataset\n",
    "probs = preds_test[[\"pr_0\",\"pr_1\"]]\n",
    "\n",
    "# Generate the False Positive Rate and True Positive Rate Given different thresholds\n",
    "fpr, tpr, thresholds = m.roc_curve(test_vote, probs[\"pr_1\"])\n"
   ]
  },
  {
   "cell_type": "code",
   "execution_count": 48,
   "metadata": {},
   "outputs": [],
   "source": [
    "# Generate the FPR and TPR for the all_votes_pred data\n",
    "fpr_all_votes, tpr_all_votes, thresolds_all_votes = m.roc_curve(test_vote, all_votes_pred)\n",
    "\n",
    "# Generate the FPR and TPR for the quarter_no_vote_pred data\n",
    "fpr_quarter_no_vote, tpr_quarter_no_vote, thresolds_quarter_no_vote = m.roc_curve(test_vote, quarter_no_vote_pred)\n",
    "\n",
    "# Generate the FPR and TPR for the quarter_vote_pred data\n",
    "fpr_quarter_vote, tpr_quarter_vote, thresolds_quarter_vote = m.roc_curve(test_vote, quarter_vote_pred)\n",
    "\n",
    "# Generate the FPR and TPR for the zero_votes_pred data\n",
    "fpr_zero_vote, tpr_zero_vote, thresolds_zero_vote = m.roc_curve(test_vote, zero_votes_pred)\n",
    "\n",
    "# Generate the FPR and TPR for the half_vote_pred data\n",
    "fpr_half_vote, tpr_half_vote, thresolds_half_vote = m.roc_curve(test_vote, half_vote_pred)\n"
   ]
  },
  {
   "cell_type": "code",
   "execution_count": 55,
   "metadata": {},
   "outputs": [
    {
     "data": {
      "text/plain": [
       "Text(0.5, 1.0, 'ROC Curve')"
      ]
     },
     "execution_count": 55,
     "metadata": {},
     "output_type": "execute_result"
    },
    {
     "data": {
      "image/png": "[encoded data removed]",
      "text/plain": [
       "<Figure size 720x576 with 1 Axes>"
      ]
     },
     "metadata": {
      "needs_background": "light"
     },
     "output_type": "display_data"
    }
   ],
   "source": [
    "#Plot the ROC Curve\n",
    "plt.figure(figsize=(10,8))\n",
    "plt.plot(fpr, tpr, label=\"My Naive Bayesian (AUC = {0:0.2f})\".format(roc_auc),\n",
    "    color='navy', linewidth=2)\n",
    "plt.fill_between(fpr, tpr,alpha =0.2)\n",
    "plt.plot(fpr_all_votes, tpr_all_votes, label=\"100% voters model (AUC = {0:0.2f})\".format(m.roc_auc_score(test_vote, all_votes_pred)), color='red', linestyle='--')\n",
    "plt.plot(fpr_quarter_no_vote, tpr_quarter_no_vote, label=\"75% voters model (AUC = {0:0.2f})\".format(m.roc_auc_score(test_vote, quarter_no_vote_pred)), color = \"purple\", linestyle=\":\",linewidth=2)\n",
    "plt.plot(fpr_half_vote, tpr_half_vote, label=\"50% voters model (AUC = {0:0.2f})\".format(m.roc_auc_score(test_vote, half_vote_pred)), color = \"orange\", linestyle=\"--\",linewidth=2)\n",
    "\n",
    "plt.plot(fpr_quarter_vote, tpr_quarter_vote, label=\"25% voters model (AUC = {0:0.2f})\".format(m.roc_auc_score(test_vote, quarter_vote_pred)), color = \"yellow\", linestyle=\":\",linewidth=2)\n",
    "plt.plot(fpr_zero_vote, tpr_zero_vote, label=\"0% voters model (AUC = {0:0.2f})\".format(m.roc_auc_score(test_vote, zero_votes_pred)), color = \"green\", linestyle=\"--\",linewidth=2)\n",
    "\n",
    "plt.legend(loc=\"lower right\")\n",
    "plt.xticks(np.arange(0.0, 1.1, step=0.1))\n",
    "plt.xlabel(\"False Positive Rate\", fontsize=15)\n",
    "plt.yticks(np.arange(0.0, 1.1, step=0.1))\n",
    "plt.ylabel(\"True Positive Rate\", fontsize=15)\n",
    "plt.title(\"ROC Curve\",fontsize=20)"
   ]
  },
  {
   "cell_type": "markdown",
   "metadata": {},
   "source": [
    "The plot shows how my Naive Bayesian model does compared to a model where I guess that everyone is a voter 100% of the time. The area under the ROC curve for my model is 0.61, is better than the area under the curve where I guess that all are voters. Interestingly, whether we guess that 100%, 75%, 50%, 25% or 0% of the data are voters, the AUC does not change much - the area under the ROC curve still around 50%, which is about as good as a random guess. \n",
    "\n",
    "This tells us that,  our Naive Bayesian model does better than random (and that it would be quite difficult for a model to do worse than random when predicting a binary outcome)."
   ]
  }
 ],
 "metadata": {
  "kernelspec": {
   "display_name": "Python 3",
   "language": "python",
   "name": "python3"
  },
  "language_info": {
   "codemirror_mode": {
    "name": "ipython",
    "version": 3
   },
   "file_extension": ".py",
   "mimetype": "text/x-python",
   "name": "python",
   "nbconvert_exporter": "python",
   "pygments_lexer": "ipython3",
   "version": "3.8.4"
  }
 },
 "nbformat": 4,
 "nbformat_minor": 1
}
