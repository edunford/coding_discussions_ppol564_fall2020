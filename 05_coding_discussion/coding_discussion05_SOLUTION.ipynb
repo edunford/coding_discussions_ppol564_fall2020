{
 "cells": [
  {
   "cell_type": "markdown",
   "metadata": {},
   "source": [
    "# <center> PPOL564: DS1 | Foundations <br><br> Coding Discussion 5 <br><br> Solution </center>"
   ]
  },
  {
   "cell_type": "code",
   "execution_count": 9,
   "metadata": {},
   "outputs": [],
   "source": [
    "import pandas as pd\n",
    "import sklearn.metrics as m\n",
    "from plotnine import *\n",
    "import warnings\n",
    "warnings.filterwarnings(\"ignore\")"
   ]
  },
  {
   "cell_type": "markdown",
   "metadata": {},
   "source": [
    "# Instructions\n",
    "\n",
    "**Can we predict whether someone will vote or not?**\n",
    "\n",
    "In the discussion folder, you'll find the `turnout.csv` data, which was drawn from the 2012 National Election Survey. The data records the age, eduction level (of total years in school), income, race (caucasian or not), and past voting record (i.e. whether or not the respondent voted in the 2012 Presidential election). The sample is composed of 2000 individual respondents. \n",
    "\n",
    "Please break the data up into a training (1600 entries, 80%) and test dataset (400 entries, 20%). \n",
    "\n",
    "Build a Naive Bayesian Classifier from scratch that tries to predict whether a respondent will vote in a presidential election or not, pr(Vote==1). The classifier must be built from scratch. Do not use a third party ML or statistical package. \n",
    "\n",
    "Run your algorithm and see how it predicts on the test data. Use the `sklearn.metrics` library to calculate the predictive accuracy and the area underneath the ROC curve. Finally, plot the ROC curve. \n",
    "\n",
    "When completing this answer, be sure to: \n",
    "\n",
    "- comment on all your code\n",
    "- provide a narrative for what you're doing\n",
    "- summarize your results and findings"
   ]
  },
  {
   "cell_type": "markdown",
   "metadata": {},
   "source": [
    "# Implementation"
   ]
  },
  {
   "cell_type": "code",
   "execution_count": 11,
   "metadata": {},
   "outputs": [
    {
     "data": {
      "text/html": [
       "<div>\n",
       "<style scoped>\n",
       "    .dataframe tbody tr th:only-of-type {\n",
       "        vertical-align: middle;\n",
       "    }\n",
       "\n",
       "    .dataframe tbody tr th {\n",
       "        vertical-align: top;\n",
       "    }\n",
       "\n",
       "    .dataframe thead th {\n",
       "        text-align: right;\n",
       "    }\n",
       "</style>\n",
       "<table border=\"1\" class=\"dataframe\">\n",
       "  <thead>\n",
       "    <tr style=\"text-align: right;\">\n",
       "      <th></th>\n",
       "      <th>id</th>\n",
       "      <th>age</th>\n",
       "      <th>educate</th>\n",
       "      <th>income</th>\n",
       "      <th>vote</th>\n",
       "      <th>white</th>\n",
       "    </tr>\n",
       "  </thead>\n",
       "  <tbody>\n",
       "    <tr>\n",
       "      <th>0</th>\n",
       "      <td>1353</td>\n",
       "      <td>46</td>\n",
       "      <td>9.0</td>\n",
       "      <td>1.8429</td>\n",
       "      <td>0</td>\n",
       "      <td>0</td>\n",
       "    </tr>\n",
       "    <tr>\n",
       "      <th>1</th>\n",
       "      <td>122</td>\n",
       "      <td>25</td>\n",
       "      <td>15.0</td>\n",
       "      <td>3.8606</td>\n",
       "      <td>1</td>\n",
       "      <td>1</td>\n",
       "    </tr>\n",
       "    <tr>\n",
       "      <th>2</th>\n",
       "      <td>1530</td>\n",
       "      <td>69</td>\n",
       "      <td>17.0</td>\n",
       "      <td>13.3041</td>\n",
       "      <td>1</td>\n",
       "      <td>1</td>\n",
       "    </tr>\n",
       "    <tr>\n",
       "      <th>3</th>\n",
       "      <td>162</td>\n",
       "      <td>53</td>\n",
       "      <td>10.0</td>\n",
       "      <td>3.5800</td>\n",
       "      <td>1</td>\n",
       "      <td>1</td>\n",
       "    </tr>\n",
       "    <tr>\n",
       "      <th>4</th>\n",
       "      <td>1807</td>\n",
       "      <td>34</td>\n",
       "      <td>16.0</td>\n",
       "      <td>5.4713</td>\n",
       "      <td>1</td>\n",
       "      <td>0</td>\n",
       "    </tr>\n",
       "  </tbody>\n",
       "</table>\n",
       "</div>"
      ],
      "text/plain": [
       "     id  age  educate   income  vote  white\n",
       "0  1353   46      9.0   1.8429     0      0\n",
       "1   122   25     15.0   3.8606     1      1\n",
       "2  1530   69     17.0  13.3041     1      1\n",
       "3   162   53     10.0   3.5800     1      1\n",
       "4  1807   34     16.0   5.4713     1      0"
      ]
     },
     "execution_count": 11,
     "metadata": {},
     "output_type": "execute_result"
    }
   ],
   "source": [
    "dat = pd.read_csv('turnout.csv')\n",
    "\n",
    "# Break data up into training and test data\n",
    "train=dat.sample(frac=0.8,random_state=323)\n",
    "test=dat.drop(train.index)\n",
    "\n",
    "# Reset the indices for both the train and test\n",
    "train.reset_index(drop=True,inplace=True)\n",
    "test.reset_index(drop=True,inplace=True)\n",
    "\n",
    "# Preview the training data \n",
    "train.head()"
   ]
  },
  {
   "cell_type": "markdown",
   "metadata": {},
   "source": [
    "### Answer"
   ]
  },
  {
   "cell_type": "code",
   "execution_count": 12,
   "metadata": {},
   "outputs": [],
   "source": [
    "import scipy.stats as st # for Normal PDF"
   ]
  },
  {
   "cell_type": "markdown",
   "metadata": {},
   "source": [
    "First, build out the base classification $Pr(class)$"
   ]
  },
  {
   "cell_type": "code",
   "execution_count": 13,
   "metadata": {},
   "outputs": [],
   "source": [
    "vote1 = train.query(\"vote == 1\")\n",
    "vote0 = train.query(\"vote == 0\")"
   ]
  },
  {
   "cell_type": "code",
   "execution_count": 14,
   "metadata": {},
   "outputs": [
    {
     "name": "stdout",
     "output_type": "stream",
     "text": [
      "\n",
      "pr(vote == 1) = 0.74\n",
      "pr(vote == 0) = 0.26\n",
      "\n"
     ]
    }
   ],
   "source": [
    "# Class probabilities.\n",
    "pr_vote1 = vote1.shape[0]/train.shape[0]\n",
    "pr_vote0 = vote0.shape[0]/train.shape[0]\n",
    "\n",
    "print(f\"\"\"\n",
    "pr(vote == 1) = {round(pr_vote1,2)}\n",
    "pr(vote == 0) = {round(pr_vote0,2)}\n",
    "\"\"\")"
   ]
  },
  {
   "cell_type": "markdown",
   "metadata": {},
   "source": [
    "Then build out the conditional probabilities. The tricky part here is that some of the variables are continuous (education, income, age) and others are dichotomous (white).\n",
    "\n",
    "There are two ways we could crack this nut. \n",
    "\n",
    "1. Collapse all the continuous variables into dichotomous variables and simplify the model.\n",
    "2. Build out the classifier so that it can deal with both types of values. \n",
    "\n",
    "Since Option 1 requires use to throw information away, I'll build out option 2. "
   ]
  },
  {
   "cell_type": "code",
   "execution_count": 15,
   "metadata": {},
   "outputs": [],
   "source": [
    "# Let's build up a dictionary with the relevant information \n",
    "pred_vals = {}\n",
    "\n",
    "# We'll supply it with a key that tells us\n",
    "# 1. The variable name\n",
    "# 2. The variable state: 0, 1, or -1 (if continuous varible)\n",
    "# 3. The state of vote (i.e. 0 or 1)"
   ]
  },
  {
   "cell_type": "markdown",
   "metadata": {},
   "source": [
    "First, calculate the conditional probabilities for the dichotomous variable (`white`)"
   ]
  },
  {
   "cell_type": "code",
   "execution_count": 16,
   "metadata": {},
   "outputs": [
    {
     "data": {
      "text/plain": [
       "{('white', 1, 1): 0.8761583824768323,\n",
       " ('white', 1, 0): 0.7796610169491526,\n",
       " ('white', 0, 1): 0.12384161752316765,\n",
       " ('white', 0, 0): 0.22033898305084745}"
      ]
     },
     "execution_count": 16,
     "metadata": {},
     "output_type": "execute_result"
    }
   ],
   "source": [
    "pred_vals[(\"white\",1,1)] = vote1.query(\"white==1\").shape[0]/vote1.shape[0]\n",
    "pred_vals[(\"white\",1,0)] = vote0.query(\"white==1\").shape[0]/vote0.shape[0]\n",
    "pred_vals[(\"white\",0,1)] = vote1.query(\"white==0\").shape[0]/vote1.shape[0]\n",
    "pred_vals[(\"white\",0,0)] = vote0.query(\"white==0\").shape[0]/vote0.shape[0]\n",
    "pred_vals"
   ]
  },
  {
   "cell_type": "markdown",
   "metadata": {},
   "source": [
    "Now, let's calculate the conditional PDFs for the continuous variables. Remember `-1` means it's a continuous variable. This way we can keep track of the value as we process the variables. "
   ]
  },
  {
   "cell_type": "code",
   "execution_count": 17,
   "metadata": {},
   "outputs": [
    {
     "data": {
      "text/plain": [
       "{('white', 1, 1): 0.8761583824768323,\n",
       " ('white', 1, 0): 0.7796610169491526,\n",
       " ('white', 0, 1): 0.12384161752316765,\n",
       " ('white', 0, 0): 0.22033898305084745,\n",
       " ('income', -1, 1): {'mean': 4.258665796124684, 'sd': 2.9009783277578696},\n",
       " ('income', -1, 0): {'mean': 2.8083740920096854, 'sd': 2.2222018360245834},\n",
       " ('educate', -1, 1): {'mean': 12.59519797809604, 'sd': 3.2493017317689734},\n",
       " ('educate', -1, 0): {'mean': 10.665859564164649, 'sd': 3.2326417027391328},\n",
       " ('age', -1, 1): {'mean': 46.14827295703454, 'sd': 16.76013458371937},\n",
       " ('age', -1, 0): {'mean': 42.653753026634384, 'sd': 19.127668078553697}}"
      ]
     },
     "execution_count": 17,
     "metadata": {},
     "output_type": "execute_result"
    }
   ],
   "source": [
    "pred_vals[('income',-1,1)] = {'mean':vote1.income.mean(),'sd':vote1.income.std()}\n",
    "pred_vals[('income',-1,0)] = {'mean':vote0.income.mean(),'sd':vote0.income.std()}\n",
    "pred_vals[('educate',-1,1)] = {'mean':vote1.educate.mean(),'sd':vote1.educate.std()}\n",
    "pred_vals[('educate',-1,0)] = {'mean':vote0.educate.mean(),'sd':vote0.educate.std()}\n",
    "pred_vals[('age',-1,1)] = {'mean':vote1.age.mean(),'sd':vote1.age.std()}\n",
    "pred_vals[('age',-1,0)] = {'mean':vote0.age.mean(),'sd':vote0.age.std()}\n",
    "pred_vals"
   ]
  },
  {
   "cell_type": "markdown",
   "metadata": {},
   "source": [
    "Now let's build a function where we loop through all the values of the data and make a prediction."
   ]
  },
  {
   "cell_type": "code",
   "execution_count": 18,
   "metadata": {},
   "outputs": [],
   "source": [
    "def predict(data,pred_vals):\n",
    "    '''\n",
    "    Build out a naive Bayesian classifier.\n",
    "    \n",
    "    The data input assumes the outcome is not contained within. \n",
    "    '''\n",
    "    store_preds = []\n",
    "    \n",
    "    for i,row in data.iterrows():\n",
    "        \n",
    "        pr_0 = 1; pr_1 = 1 # Starter values\n",
    "        \n",
    "        for j in range(0,len(row)):\n",
    "            \n",
    "            # If it's the outcome or id go to the next position in the index\n",
    "            if row.index[j] in [\"vote\",\"id\"]:\n",
    "                continue  \n",
    "            # If dichotomous, go here\n",
    "            elif row.index[j] == \"white\":\n",
    "                pr_0 *= pred_vals[(row.index[j],row.values[j],0)]\n",
    "                pr_1 *= pred_vals[(row.index[j],row.values[j],1)]   \n",
    "            # else it's continuous \n",
    "            else:  \n",
    "                pr_0 *= st.norm(pred_vals[(row.index[j],-1,0)]['mean'],\n",
    "                                pred_vals[(row.index[j],-1,0)]['sd']).pdf(row.values[j])\n",
    "                pr_1 *= st.norm(pred_vals[(row.index[j],-1,1)]['mean'], \n",
    "                                pred_vals[(row.index[j],-1,1)]['sd']).pdf(row.values[j])\n",
    "                \n",
    "            \n",
    "        # Multiply in the base class.\n",
    "        pr_0 *= pr_vote0\n",
    "        pr_1 *= pr_vote1\n",
    "        \n",
    "        # Assign the class designation to the highest probability\n",
    "        if pr_0 >= pr_1:\n",
    "            class_pred = 0\n",
    "        else:\n",
    "            class_pred = 1\n",
    "            \n",
    "        store_preds.append([pr_0,pr_1,class_pred])\n",
    "        \n",
    "    return pd.DataFrame(store_preds,columns=[\"pr_0\",\"pr_1\",\"pred\"])"
   ]
  },
  {
   "cell_type": "markdown",
   "metadata": {},
   "source": [
    "Run the algorithm"
   ]
  },
  {
   "cell_type": "code",
   "execution_count": 19,
   "metadata": {},
   "outputs": [],
   "source": [
    "preds_train = predict(train,pred_vals)"
   ]
  },
  {
   "cell_type": "markdown",
   "metadata": {},
   "source": [
    "Let's look at our in-sample performance."
   ]
  },
  {
   "cell_type": "code",
   "execution_count": 20,
   "metadata": {},
   "outputs": [
    {
     "data": {
      "text/plain": [
       "0.74"
      ]
     },
     "execution_count": 20,
     "metadata": {},
     "output_type": "execute_result"
    }
   ],
   "source": [
    "round(sum(train.vote == preds_train.pred)/train.shape[0],2)"
   ]
  },
  {
   "cell_type": "markdown",
   "metadata": {},
   "source": [
    "Let's now look at the out-of-sample performance."
   ]
  },
  {
   "cell_type": "code",
   "execution_count": 21,
   "metadata": {},
   "outputs": [],
   "source": [
    "preds_test = predict(test,pred_vals)"
   ]
  },
  {
   "cell_type": "markdown",
   "metadata": {},
   "source": [
    "Calculate the Accuracy and the ROC AUC."
   ]
  },
  {
   "cell_type": "code",
   "execution_count": 28,
   "metadata": {},
   "outputs": [
    {
     "data": {
      "text/plain": [
       "0.72"
      ]
     },
     "execution_count": 28,
     "metadata": {},
     "output_type": "execute_result"
    }
   ],
   "source": [
    "# Accuracy\n",
    "m.accuracy_score(test['vote'],preds_test.pred)"
   ]
  },
  {
   "cell_type": "code",
   "execution_count": 29,
   "metadata": {},
   "outputs": [
    {
     "data": {
      "text/plain": [
       "0.5301294219154443"
      ]
     },
     "execution_count": 29,
     "metadata": {},
     "output_type": "execute_result"
    }
   ],
   "source": [
    "m.roc_auc_score(test['vote'],preds_test.pr_1)"
   ]
  },
  {
   "cell_type": "markdown",
   "metadata": {},
   "source": [
    "Plot the ROC Curve"
   ]
  },
  {
   "cell_type": "code",
   "execution_count": 36,
   "metadata": {},
   "outputs": [
    {
     "data": {
      "image/png": "[encoded data removed]",
      "text/plain": [
       "<Figure size 640x480 with 1 Axes>"
      ]
     },
     "metadata": {},
     "output_type": "display_data"
    },
    {
     "data": {
      "text/plain": [
       "<ggplot: (-9223363269977197708)>"
      ]
     },
     "execution_count": 36,
     "metadata": {},
     "output_type": "execute_result"
    }
   ],
   "source": [
    "fpr,tpr,thres = m.roc_curve(test['vote'],preds_test.pr_1)\n",
    "\n",
    "(\n",
    "    ggplot(pd.DataFrame(dict(fpr=fpr,tpr=tpr)),\n",
    "           aes(x=\"fpr\",y=\"tpr\")) +\n",
    "    geom_path(color=\"darkred\") +\n",
    "    geom_abline(linetype=\"dashed\") +\n",
    "    theme_classic() +\n",
    "    labs(y=\"True Positive Rate\",x=\"False Positive Rate\")\n",
    ")"
   ]
  }
 ],
 "metadata": {
  "kernelspec": {
   "display_name": "Python 3",
   "language": "python",
   "name": "python3"
  },
  "language_info": {
   "codemirror_mode": {
    "name": "ipython",
    "version": 3
   },
   "file_extension": ".py",
   "mimetype": "text/x-python",
   "name": "python",
   "nbconvert_exporter": "python",
   "pygments_lexer": "ipython3",
   "version": "3.7.0"
  },
  "toc": {
   "base_numbering": 1,
   "nav_menu": {},
   "number_sections": false,
   "sideBar": false,
   "skip_h1_title": false,
   "title_cell": "Table of Contents",
   "title_sidebar": "Contents",
   "toc_cell": false,
   "toc_position": {},
   "toc_section_display": true,
   "toc_window_display": false
  }
 },
 "nbformat": 4,
 "nbformat_minor": 2
}
